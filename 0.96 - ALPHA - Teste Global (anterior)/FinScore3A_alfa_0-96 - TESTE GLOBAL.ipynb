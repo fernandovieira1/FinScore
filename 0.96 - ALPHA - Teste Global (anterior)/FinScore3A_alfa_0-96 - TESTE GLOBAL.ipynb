{
 "cells": [
  {
   "cell_type": "code",
   "execution_count": 7,
   "metadata": {},
   "outputs": [],
   "source": [
    "# Versão de testes\n",
    "# V. 095 - Nova classificação do Score, testes IA e Uso de GPU\n",
    "# Dados aproveitados v. 09x\n"
   ]
  },
  {
   "cell_type": "markdown",
   "metadata": {},
   "source": [
    "##### 0. CONFIGURAÇÃO DO AMBIENTE"
   ]
  },
  {
   "cell_type": "markdown",
   "metadata": {},
   "source": [
    "0.1 Configuração do ambiente"
   ]
  },
  {
   "cell_type": "code",
   "execution_count": 8,
   "metadata": {},
   "outputs": [],
   "source": [
    "## Criar ambiente (bash)\n",
    "# conda create -n tensorflow-env python=3.8xx   \n",
    "# conda activate tensorflow-env\n",
    "# conda install -c conda-forge tensorflow\n"
   ]
  },
  {
   "cell_type": "code",
   "execution_count": 9,
   "metadata": {},
   "outputs": [],
   "source": [
    "# !conda install -c conda-forge tensorflow"
   ]
  },
  {
   "cell_type": "code",
   "execution_count": 10,
   "metadata": {},
   "outputs": [],
   "source": [
    "import numpy as np\n",
    "import pandas as pd\n",
    "from sklearn.decomposition import PCA\n",
    "from sklearn.preprocessing import StandardScaler"
   ]
  },
  {
   "cell_type": "markdown",
   "metadata": {},
   "source": [
    "0.2 Criação de funções"
   ]
  },
  {
   "cell_type": "code",
   "execution_count": 11,
   "metadata": {},
   "outputs": [],
   "source": [
    "# Função para calcular os índices contábeis\n",
    "def calcular_indices_contabeis(df):\n",
    "    indices = {}\n",
    "    \n",
    "    indices['Liquidez Corrente'] = df['Ativo Circulante'] / df['Passivo Circulante']\n",
    "    # Ativo Circulante: BP\n",
    "    # Passivo Circulante: BP\n",
    "    # => A liquidez corrente mede a capacidade da empresa de pagar suas obrigações de curto prazo.\n",
    "\n",
    "    indices['Liquidez Seca'] = (df['Ativo Circulante'] - df['Estoques']) / df['Passivo Circulante']\n",
    "    # Ativo Circulante: BP\n",
    "    # Estoque: BP\n",
    "    # Passivo Circulante: BP\n",
    "    # => A liquidez seca é uma medida de liquidez que desconsidera o estoque da empresa.\n",
    "\n",
    "    indices['Margem Líquida'] = df['Lucro Líquido'] / df['Receita Total']\n",
    "    # Lucro Líquido: DRE\n",
    "    # Receita Total: DRE\n",
    "    # => A margem líquida mede a porcentagem de lucro líquido que a empresa gera para cada real de receita.\n",
    "\n",
    "    indices['ROA'] = df['Lucro Líquido'] / df['Ativo Total']\n",
    "    # Lucro Líquido: DRE\n",
    "    # Ativo Total: BP\n",
    "    # => O retorno sobre ativos (ROA) mede a eficiência da empresa em gerar lucro a partir de seus ativos.\n",
    "\n",
    "    indices['ROE'] = df['Lucro Líquido'] / df['Patrimônio Líquido']\n",
    "    # Lucro Líquido: DRE\n",
    "    # Patrimônio Líquido: BP\n",
    "    # => O retorno sobre o patrimônio líquido (ROE) mede a eficiência da empresa em gerar lucro a partir de seu patrimônio líquido.\n",
    "\n",
    "    indices['Endividamento'] = df['Passivo Total'] / df['Ativo Total']\n",
    "    # Passivo Total: BP\n",
    "    # Ativo Total: BP\n",
    "    # => O endividamento mede a proporção de dívidas da empresa em relação ao total de ativos.\n",
    "\n",
    "    indices['Cobertura de Juros'] = df['EBIT'] / df['Despesa de Juros']\n",
    "    # EBIT: DRE (Lucro antes de juros e impostos)\n",
    "    # Despesa de Juros: DRE\n",
    "    # => A cobertura de juros mede a capacidade da empresa de pagar seus juros com seu lucro antes de juros e impostos.\n",
    "    # => Reflete a capacidade de gerar resultados com suas atividades principais\n",
    "    \n",
    "    indices['Giro do Ativo'] = df['Receita Total'] / df['Ativo Total']\n",
    "    # Ativo Total: BP\n",
    "    # Receita Total: DRE\n",
    "    # => O giro do ativo mede a eficiência da empresa em gerar receita a partir de seus ativos.\n",
    "\n",
    "    indices['Período Médio de Recebimento'] = df['Contas a Receber'] / df['Receita Total'] * 365\n",
    "    # Contas a Receber: BP\n",
    "    # Receita Total: DRE\n",
    "    # => O período médio de recebimento mede o tempo médio que a empresa leva para receber suas vendas.\n",
    "\n",
    "    indices['Período Médio de Pagamento'] = df['Contas a Pagar'] / df['Custos'] * 365\n",
    "    # Contas a Pagar: BP\n",
    "    # Custos: DRE\n",
    "    # => O período médio de pagamento mede o tempo médio que a empresa leva para pagar seus custos.\n",
    "\n",
    "    return pd.DataFrame(indices)\n",
    "\n",
    "# Função para categorizar escores consolidados\n",
    "def categorizar_escores_consolidados(escores):\n",
    "    categorias = []\n",
    "    for escore in escores:\n",
    "        if escore > 2:\n",
    "            categorias.append(\"Muito Abaixo do Risco\")\n",
    "        elif 1 < escore <= 2:\n",
    "            categorias.append(\"Abaixo do Risco\")\n",
    "        elif -1 <= escore <= 1:\n",
    "            categorias.append(\"Neutro\")\n",
    "        elif -2 <= escore < -1:\n",
    "            categorias.append(\"Acima do Risco\")\n",
    "        else:\n",
    "            categorias.append(\"Muito Acima do Risco\")\n",
    "    return categorias"
   ]
  },
  {
   "cell_type": "markdown",
   "metadata": {},
   "source": [
    "**Passo 1**"
   ]
  },
  {
   "cell_type": "markdown",
   "metadata": {},
   "source": [
    "*Lançamento dos dados pelo funcionário (analista, economiário, escriturário)*"
   ]
  },
  {
   "cell_type": "markdown",
   "metadata": {},
   "source": [
    "##### 1. LANÇAMENTO DOS DADOS #####"
   ]
  },
  {
   "cell_type": "code",
   "execution_count": 12,
   "metadata": {},
   "outputs": [
    {
     "name": "stdout",
     "output_type": "stream",
     "text": [
      "Dados Contabeis Importados:\n",
      "   Ano  Ativo Circulante  Passivo Circulante   Estoques  Lucro Líquido  \\\n",
      "0    1        2593954.47           727602.60  383912.38       39546.67   \n",
      "1    2        2877244.94          1301079.74  148715.61      455923.83   \n",
      "2    3         492603.10           262306.70  152802.05      495703.34   \n",
      "\n",
      "   Receita Total  Ativo Total  Patrimônio Líquido  Passivo Total       EBIT  \\\n",
      "0    42985389.70   3741944.68            172180.0     3569764.68  -98569.70   \n",
      "1    57707592.41   4477462.29             30000.0     4447462.29  296881.49   \n",
      "2    72929552.94   2251497.29            672808.5     1578688.79  495639.94   \n",
      "\n",
      "   Despesa de Juros  Contas a Receber  Contas a Pagar       Custos  \n",
      "0         508100.66        1840099.99        58045.98  39808852.31  \n",
      "1         151309.73        1387919.34      1170010.10  54454968.68  \n",
      "2         178001.66              0.00        35619.86  68254032.67  \n"
     ]
    }
   ],
   "source": [
    "# Importar os dados do Excel\n",
    "# Do mais recente para o mais antigo\n",
    "df_dados_contabeis = pd.read_excel('dados_contabeis_global.xlsx')  # Insira o nome correto do arquivo\n",
    "print(\"Dados Contabeis Importados:\")\n",
    "print(df_dados_contabeis)"
   ]
  },
  {
   "cell_type": "markdown",
   "metadata": {},
   "source": [
    "**Passo 2**"
   ]
  },
  {
   "cell_type": "markdown",
   "metadata": {},
   "source": [
    "*Cálculo do modelo Finscore 5A*"
   ]
  },
  {
   "cell_type": "markdown",
   "metadata": {},
   "source": [
    "##### 2. PROCESSAMENTO DO MODELO #####"
   ]
  },
  {
   "cell_type": "markdown",
   "metadata": {},
   "source": [
    "2.1 Índices contábeis"
   ]
  },
  {
   "cell_type": "code",
   "execution_count": 13,
   "metadata": {},
   "outputs": [
    {
     "name": "stdout",
     "output_type": "stream",
     "text": [
      "\n",
      "Índices Contábeis Calculados:\n",
      "   Liquidez Corrente  Liquidez Seca  Margem Líquida       ROA        ROE  \\\n",
      "0           3.565070       3.037430        0.000920  0.010568   0.229682   \n",
      "1           2.211429       2.097127        0.007901  0.101826  15.197461   \n",
      "2           1.877966       1.295434        0.006797  0.220166   0.736767   \n",
      "\n",
      "   Endividamento  Cobertura de Juros  Giro do Ativo  \\\n",
      "0       0.953986           -0.193996      11.487447   \n",
      "1       0.993300            1.962078      12.888460   \n",
      "2       0.701173            2.784468      32.391579   \n",
      "\n",
      "   Período Médio de Recebimento  Período Médio de Pagamento  \n",
      "0                     15.624762                    0.532213  \n",
      "1                      8.778577                    7.842327  \n",
      "2                      0.000000                    0.190483  \n"
     ]
    }
   ],
   "source": [
    "# Calcular os índices contábeis\n",
    "df_indices = calcular_indices_contabeis(df_dados_contabeis)\n",
    "print(\"\\nÍndices Contábeis Calculados:\")\n",
    "print(df_indices)\n",
    "\n",
    "#relatório"
   ]
  },
  {
   "cell_type": "markdown",
   "metadata": {},
   "source": [
    "2.2 Padronização dos índices contábeis"
   ]
  },
  {
   "cell_type": "code",
   "execution_count": 14,
   "metadata": {},
   "outputs": [
    {
     "name": "stdout",
     "output_type": "stream",
     "text": [
      "\n",
      "Índices Escalados para PCA:\n",
      "[[ 1.38937204  1.25590459 -1.39884051 -1.16874825 -0.7433285   0.54979428\n",
      "  -1.36274591 -0.77925395  1.1712727  -0.65814125]\n",
      " [-0.46613845 -0.06490012  0.87951446 -0.10520593  1.41358414  0.85350646\n",
      "   0.35397002 -0.6324163   0.10072376  1.41310825]\n",
      " [-0.9232336  -1.19100447  0.51932605  1.27395418 -0.67025564 -1.40330074\n",
      "   1.00877589  1.41167025 -1.27199646 -0.754967  ]]\n"
     ]
    }
   ],
   "source": [
    "# Escalar os índices contábeis para o PCA\n",
    "scaler = StandardScaler()\n",
    "indices_scaled = scaler.fit_transform(df_indices)\n",
    "print(\"\\nÍndices Escalados para PCA:\")\n",
    "print(indices_scaled)"
   ]
  },
  {
   "cell_type": "markdown",
   "metadata": {},
   "source": [
    "2.3 Cálculo do PCA"
   ]
  },
  {
   "cell_type": "code",
   "execution_count": 15,
   "metadata": {},
   "outputs": [
    {
     "name": "stdout",
     "output_type": "stream",
     "text": [
      "\n",
      "Componentes Principais (PCA):\n",
      "[[ 3.23434967e+00 -1.22209421e+00  3.21742883e-16]\n",
      " [-4.98685598e-02  2.50251532e+00  3.21742883e-16]\n",
      " [-3.18448111e+00 -1.28042111e+00  3.21742883e-16]]\n"
     ]
    }
   ],
   "source": [
    "# Realizar o PCA\n",
    "pca = PCA()\n",
    "pca_result = pca.fit_transform(indices_scaled)\n",
    "print(\"\\nComponentes Principais (PCA):\")\n",
    "print(pca_result)\n",
    "\n",
    "#relatório\n"
   ]
  },
  {
   "cell_type": "markdown",
   "metadata": {},
   "source": [
    "2.4 Variância Explicada PCA"
   ]
  },
  {
   "cell_type": "code",
   "execution_count": 16,
   "metadata": {},
   "outputs": [
    {
     "name": "stdout",
     "output_type": "stream",
     "text": [
      "\n",
      "Variância Explicada por Componente:\n",
      "[6.86814153e-01 3.13185847e-01 1.03518483e-32]\n"
     ]
    }
   ],
   "source": [
    "# Variância explicada pelos componentes principais\n",
    "explained_variance_ratio = pca.explained_variance_ratio_\n",
    "print(\"\\nVariância Explicada por Componente:\")\n",
    "print(explained_variance_ratio)\n",
    "\n",
    "#relatório"
   ]
  },
  {
   "cell_type": "markdown",
   "metadata": {},
   "source": [
    "2.5 DataFrame PCA"
   ]
  },
  {
   "cell_type": "code",
   "execution_count": 17,
   "metadata": {},
   "outputs": [
    {
     "name": "stdout",
     "output_type": "stream",
     "text": [
      "\n",
      "Matriz de Componentes Principais:\n",
      "        PC1       PC2           PC3\n",
      "0  3.234350 -1.222094  3.217429e-16\n",
      "1 -0.049869  2.502515  3.217429e-16\n",
      "2 -3.184481 -1.280421  3.217429e-16\n"
     ]
    }
   ],
   "source": [
    "# DataFrame com os componentes principais\n",
    "pca_df = pd.DataFrame(pca_result, columns=[f\"PC{i+1}\" for i in range(pca_result.shape[1])])\n",
    "print(\"\\nMatriz de Componentes Principais:\")\n",
    "print(pca_df)\n",
    "\n",
    "#relatório"
   ]
  },
  {
   "cell_type": "markdown",
   "metadata": {},
   "source": [
    "2.6 Matriz de cargas"
   ]
  },
  {
   "cell_type": "code",
   "execution_count": 18,
   "metadata": {},
   "outputs": [
    {
     "name": "stdout",
     "output_type": "stream",
     "text": [
      "Matriz de Cargas dos Componentes Principais:\n",
      "     Liquidez Corrente  Liquidez Seca  Margem Líquida       ROA       ROE  \\\n",
      "PC1           0.361912       0.381375       -0.301973 -0.380102 -0.016514   \n",
      "PC2          -0.179056      -0.018334        0.345435 -0.049615  0.564536   \n",
      "PC3           0.614554      -0.535025        0.037186 -0.303627 -0.003115   \n",
      "\n",
      "     Endividamento  Cobertura de Juros  Giro do Ativo  \\\n",
      "PC1       0.301122           -0.370681      -0.338970   \n",
      "PC2       0.347060            0.134059      -0.259467   \n",
      "PC3       0.074172           -0.004897       0.400840   \n",
      "\n",
      "     Período Médio de Recebimento  Período Médio de Pagamento  \n",
      "PC1                      0.380206                    0.009952  \n",
      "PC2                      0.047826                    0.564873  \n",
      "PC3                     -0.035780                    0.273883  \n",
      "\n",
      "Índices mais significativos por componente:\n",
      "\n",
      "PC1:\n",
      "Liquidez Seca                   0.381375\n",
      "Período Médio de Recebimento    0.380206\n",
      "ROA                             0.380102\n",
      "Name: PC1, dtype: float64\n",
      "\n",
      "PC2:\n",
      "Período Médio de Pagamento    0.564873\n",
      "ROE                           0.564536\n",
      "Endividamento                 0.347060\n",
      "Name: PC2, dtype: float64\n",
      "\n",
      "PC3:\n",
      "Liquidez Corrente    0.614554\n",
      "Liquidez Seca        0.535025\n",
      "Giro do Ativo        0.400840\n",
      "Name: PC3, dtype: float64\n"
     ]
    }
   ],
   "source": [
    "# Obter a matriz de cargas\n",
    "loadings = pd.DataFrame(\n",
    "    pca.components_,\n",
    "    columns=df_indices.columns,\n",
    "    index=[f\"PC{i+1}\" for i in range(pca.components_.shape[0])]\n",
    ")\n",
    "\n",
    "print(\"Matriz de Cargas dos Componentes Principais:\")\n",
    "print(loadings)\n",
    "\n",
    "# Identificar os índices mais significativos para cada PC\n",
    "print(\"\\nÍndices mais significativos por componente:\")\n",
    "for pc in loadings.index:\n",
    "    print(f\"\\n{pc}:\")\n",
    "    print(loadings.loc[pc].abs().sort_values(ascending=False).head(3))  # Top 3 índices mais significativos\n",
    "\n",
    "#relatório"
   ]
  },
  {
   "cell_type": "markdown",
   "metadata": {},
   "source": [
    "2.6 Escore final"
   ]
  },
  {
   "cell_type": "code",
   "execution_count": 19,
   "metadata": {},
   "outputs": [
    {
     "data": {
      "text/plain": [
       "0    1.838655\n",
       "1    0.749502\n",
       "2   -2.588156\n",
       "dtype: float64"
      ]
     },
     "execution_count": 19,
     "metadata": {},
     "output_type": "execute_result"
    }
   ],
   "source": [
    "pca_df.dot(explained_variance_ratio)"
   ]
  },
  {
   "cell_type": "code",
   "execution_count": 20,
   "metadata": {},
   "outputs": [
    {
     "name": "stdout",
     "output_type": "stream",
     "text": [
      "   Ano  Ativo Circulante  Passivo Circulante   Estoques  Lucro Líquido  \\\n",
      "0    1        2593954.47           727602.60  383912.38       39546.67   \n",
      "1    2        2877244.94          1301079.74  148715.61      455923.83   \n",
      "2    3         492603.10           262306.70  152802.05      495703.34   \n",
      "\n",
      "   Receita Total  Ativo Total  Patrimônio Líquido  Passivo Total       EBIT  \\\n",
      "0    42985389.70   3741944.68            172180.0     3569764.68  -98569.70   \n",
      "1    57707592.41   4477462.29             30000.0     4447462.29  296881.49   \n",
      "2    72929552.94   2251497.29            672808.5     1578688.79  495639.94   \n",
      "\n",
      "   Despesa de Juros  Contas a Receber  Contas a Pagar       Custos  \n",
      "0         508100.66        1840099.99        58045.98  39808852.31  \n",
      "1         151309.73        1387919.34      1170010.10  54454968.68  \n",
      "2         178001.66              0.00        35619.86  68254032.67  \n"
     ]
    }
   ],
   "source": [
    "print(df_dados_contabeis)"
   ]
  },
  {
   "cell_type": "code",
   "execution_count": 21,
   "metadata": {},
   "outputs": [
    {
     "name": "stdout",
     "output_type": "stream",
     "text": [
      "\n",
      "Escore Consolidado:\n",
      "0.6265465505063744\n",
      "\n",
      "Categoria Final:\n",
      "['Neutro']\n"
     ]
    }
   ],
   "source": [
    "# Calcular o escore consolidado com penalização do último ano\n",
    "# Do mais recente para o mais antigo: 0.5, 0.3, 0.2\n",
    "pesos = [0.5, 0.3, 0.2]  # Pesos para os três anos\n",
    "escores_consolidados = (pca_df.dot(explained_variance_ratio) * pesos).sum()\n",
    "print(\"\\nEscore Consolidado:\")\n",
    "print(escores_consolidados)\n",
    "\n",
    "# Categorizar os escores consolidados\n",
    "categoria = categorizar_escores_consolidados([escores_consolidados])\n",
    "print(\"\\nCategoria Final:\")\n",
    "print(categoria)\n",
    "\n",
    "#relatório"
   ]
  }
 ],
 "metadata": {
  "kernelspec": {
   "display_name": "base",
   "language": "python",
   "name": "python3"
  },
  "language_info": {
   "codemirror_mode": {
    "name": "ipython",
    "version": 3
   },
   "file_extension": ".py",
   "mimetype": "text/x-python",
   "name": "python",
   "nbconvert_exporter": "python",
   "pygments_lexer": "ipython3",
   "version": "3.12.7"
  }
 },
 "nbformat": 4,
 "nbformat_minor": 2
}
