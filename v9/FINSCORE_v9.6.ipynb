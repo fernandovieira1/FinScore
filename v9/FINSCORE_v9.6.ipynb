{
  "cells": [
    {
      "cell_type": "markdown",
      "metadata": {
        "colab_type": "text",
        "id": "view-in-github"
      },
      "source": [
        "<a href='https://colab.research.google.com/github/fernandovieira1/FinScore/blob/main/FINSCORE.ipynb' target='_parent'><img src='https://colab.research.google.com/assets/colab-badge.svg' alt='Open In Colab'/></a>"
      ]
    },
    {
      "cell_type": "code",
      "execution_count": 1,
      "metadata": {},
      "outputs": [],
      "source": [
        "# Baseado em 'FINSCORE_v9.5.ipynb'"
      ]
    },
    {
      "cell_type": "markdown",
      "metadata": {
        "id": "BVq3lZyIpi39"
      },
      "source": [
        "**# INTRUÇÕES**"
      ]
    },
    {
      "cell_type": "markdown",
      "metadata": {
        "id": "euGOG_rppxHj"
      },
      "source": [
        "* Antes de iniciar, certifique-se de estar logado na sua conta Google.\n",
        "\n",
        "* Um botão azul 'Fazer login', localizado no canto superior direito da tela, aparecerá, se não.\n",
        "\n",
        "* Feito isto, basta inserir os dados nas seções abaixo descritas:\n",
        "    - 1.1 Cliente\n",
        "    - 1.2 Período\n",
        "    - 1.3 Score Serasa\n",
        "    - 1.4 Lançamento dos dados Contábeis (na planilha indicada no link)\n",
        "\n",
        "* Cada uma das seções mencionadas possui anotações sobre como proceder.\n",
        "\n",
        "* Logo após, clique no menu 'Ambiente de execução' e em 'Executar tudo' (ou CTR + F9), nesta ordem."
      ]
    },
    {
      "cell_type": "markdown",
      "metadata": {
        "id": "TosDurA7ruV-"
      },
      "source": [
        "#### 0. LANÇAMENTO DOS DADOS #####"
      ]
    },
    {
      "cell_type": "markdown",
      "metadata": {
        "id": "KyKo-splruV-"
      },
      "source": [
        "##### 0.1 Cliente"
      ]
    },
    {
      "cell_type": "markdown",
      "metadata": {
        "id": "NeLktENAUyKk"
      },
      "source": [
        "*--> Insira o nome do cliente/empresa*"
      ]
    },
    {
      "cell_type": "code",
      "execution_count": 2,
      "metadata": {
        "id": "tr245FSAruV-"
      },
      "outputs": [],
      "source": [
        "# Cliente\n",
        "cliente = 'CARGOBR TRANSPORTES'"
      ]
    },
    {
      "cell_type": "markdown",
      "metadata": {
        "id": "MzNBw_9sruV-"
      },
      "source": [
        "##### 0.2 Período"
      ]
    },
    {
      "cell_type": "markdown",
      "metadata": {
        "id": "s6AuejMzU5kI"
      },
      "source": [
        "*--> Insira os anos inicial (a primeira) e final (da última) das demonstrações contábeis que serviram de base para a análise*"
      ]
    },
    {
      "cell_type": "code",
      "execution_count": 3,
      "metadata": {
        "id": "RxizYtcNruV-"
      },
      "outputs": [],
      "source": [
        "# Ano Inicial\n",
        "ano_inicial = 2021"
      ]
    },
    {
      "cell_type": "code",
      "execution_count": 4,
      "metadata": {
        "id": "jwMbaC1YruV-"
      },
      "outputs": [],
      "source": [
        "# Ano Final\n",
        "ano_final = 2023"
      ]
    },
    {
      "cell_type": "markdown",
      "metadata": {},
      "source": [
        "##### 0.3 Score Serasa"
      ]
    },
    {
      "cell_type": "markdown",
      "metadata": {},
      "source": [
        "*--> Insira o score Serasa do cliente*"
      ]
    },
    {
      "cell_type": "code",
      "execution_count": 5,
      "metadata": {},
      "outputs": [],
      "source": [
        "# Serasa\n",
        "serasa = 550"
      ]
    },
    {
      "cell_type": "markdown",
      "metadata": {
        "id": "ltfWkSKBbXZW"
      },
      "source": [
        "##### 0.4 Lançamento dos dados Contábeis"
      ]
    },
    {
      "cell_type": "markdown",
      "metadata": {
        "id": "0H_oz1aijJdl"
      },
      "source": [
        "*--> Acesse a planilha abaixo (CTRL + click) e insira as informações nas linhas e colunas respectivas*"
      ]
    },
    {
      "cell_type": "code",
      "execution_count": 6,
      "metadata": {
        "colab": {
          "base_uri": "https://localhost:8080/",
          "height": 54
        },
        "id": "-U_sxpbibgzO",
        "outputId": "c1ea3dfa-c613-46a4-f27a-7944b798f37f"
      },
      "outputs": [
        {
          "data": {
            "text/plain": [
              "'https://docs.google.com/spreadsheets/d/1qx6nagvF8okAKvfO9BoHL2aZUZ8NOnz2/edit?gid=1575975872#gid=1575975872'"
            ]
          },
          "execution_count": 6,
          "metadata": {},
          "output_type": "execute_result"
        }
      ],
      "source": [
        "# Lance do ano mais recente para o mais antigo\n",
        "'https://docs.google.com/spreadsheets/d/1qx6nagvF8okAKvfO9BoHL2aZUZ8NOnz2/edit?gid=1575975872#gid=1575975872'"
      ]
    },
    {
      "cell_type": "markdown",
      "metadata": {
        "id": "Zq1LKEj8CaHh"
      },
      "source": [
        "*--> Agora basta clicar no menu 'Ambiente de execução' e em 'Executar tudo' (ou CTR + F9), nesta ordem.*"
      ]
    },
    {
      "cell_type": "markdown",
      "metadata": {
        "id": "cXq651E8ruV7"
      },
      "source": [
        "#### 1. CONFIGURAÇÃO DO AMBIENTE"
      ]
    },
    {
      "cell_type": "markdown",
      "metadata": {
        "id": "olzDXEN7ruV8"
      },
      "source": [
        "##### 1.1 Bibliotecas Python"
      ]
    },
    {
      "cell_type": "code",
      "execution_count": 7,
      "metadata": {
        "id": "ytzBO-d5ruV8"
      },
      "outputs": [],
      "source": [
        "import numpy as np\n",
        "import pandas as pd\n",
        "import matplotlib.pyplot as plt\n",
        "import seaborn as sns\n",
        "import sys\n",
        "import subprocess\n",
        "import importlib.util\n",
        "\n",
        "from sklearn.decomposition import PCA\n",
        "from sklearn.preprocessing import StandardScaler"
      ]
    },
    {
      "cell_type": "code",
      "execution_count": 8,
      "metadata": {
        "id": "hDDDDbUCmTaR"
      },
      "outputs": [],
      "source": [
        "%%capture\n",
        "# Lista de pacotes necessários\n",
        "required_packages = ['gspread', 'pandas', 'gspread_dataframe', 'openpyxl']\n",
        "\n",
        "# Verificar e instalar pacotes que não estão instalados\n",
        "def install_missing_packages(packages):\n",
        "    for package in packages:\n",
        "        if importlib.util.find_spec(package) is None:\n",
        "            print(f'⚠ Instalando {package}...')\n",
        "            subprocess.check_call([sys.executable, '-m', 'pip', 'install', '--upgrade', package])\n",
        "        else:\n",
        "            print(f'✔ {package} já está instalado')\n",
        "\n",
        "install_missing_packages(required_packages)"
      ]
    },
    {
      "cell_type": "markdown",
      "metadata": {},
      "source": [
        "##### 1.2 Fonte dos dados"
      ]
    },
    {
      "cell_type": "code",
      "execution_count": 9,
      "metadata": {},
      "outputs": [],
      "source": [
        "# Por ora, uma planilha xlsx no Google Drive (vide 0.4). Futuramente, vincular a um banco de dados, sistema ou API (definir)."
      ]
    },
    {
      "cell_type": "code",
      "execution_count": 10,
      "metadata": {
        "id": "ToAAKzWckBxH"
      },
      "outputs": [],
      "source": [
        "# Definir o ID da planilha e da aba (worksheet)\n",
        "sheet_id = '1qx6nagvF8okAKvfO9BoHL2aZUZ8NOnz2'\n",
        "gid = '1575975872'  # ID da aba específica\n",
        "\n",
        "# Construir a URL para baixar a planilha como um arquivo Excel (.xlsx)\n",
        "url = f'https://docs.google.com/spreadsheets/d/{sheet_id}/export?format=xlsx&id={sheet_id}&gid={gid}'\n",
        "\n",
        "# Ler a planilha diretamente no Pandas\n",
        "df_dados_contabeis = pd.read_excel(url, engine='openpyxl')"
      ]
    },
    {
      "cell_type": "markdown",
      "metadata": {},
      "source": [
        "##### 1.3 Função Índices e Contas Contábeis"
      ]
    },
    {
      "cell_type": "code",
      "execution_count": 11,
      "metadata": {
        "id": "5N9taplKruV9"
      },
      "outputs": [],
      "source": [
        "def calcular_indices_contabeis(df):\n",
        "    indices = {}\n",
        "\n",
        "    ### RENTABILIDADE\n",
        "    indices['Margem Líquida'] = df['r_Lucro_Liquido'] / df['r_Receita_Total']\n",
        "    # Percentual da receita que sobra como lucro líquido.\n",
        "\n",
        "    indices['ROA'] = df['r_Lucro_Liquido'] / df['p_Ativo_Total']\n",
        "    # Retorno sobre ativos: eficiência global da operação.\n",
        "\n",
        "    indices['ROE'] = df['r_Lucro_Liquido'] / df['p_Patrimonio_Liquido']\n",
        "    # Retorno sobre o patrimônio líquido: rentabilidade para o acionista.\n",
        "\n",
        "    ### EBITDA\n",
        "    ebit = df['r_Lucro_Liquido'] + df['r_Despesa_de_Juros'] + df['r_Despesa_de_Impostos']\n",
        "    amort = df.get('r_Amortizacao', 0).fillna(0)\n",
        "    depr = df.get('r_Depreciacao', 0).fillna(0)\n",
        "    ebitda = ebit + amort + depr\n",
        "    indices['EBITDA'] = ebitda\n",
        "    indices['Margem EBITDA'] = ebitda / df['r_Receita_Total']\n",
        "    # Percentual da receita que vira caixa operacional antes de juros, impostos e depreciação.\n",
        "\n",
        "    ### ALAVANCAGEM E ENDIVIDAMENTO\n",
        "    df['p_Divida_Bruta'] = df['p_Passivo_Total'] - df['p_Patrimonio_Liquido']\n",
        "    # Endividamento Bruto (passivo exigível)\n",
        "\n",
        "    df['p_Divida_Liquida'] = df['p_Divida_Bruta'] - df['p_Caixa']\n",
        "    # Dívida Líquida (ajustada pelo caixa disponível)\n",
        "\n",
        "    indices['Alavancagem'] = df['p_Divida_Liquida'] / ebitda\n",
        "    # Mede quantos anos de geração operacional (EBITDA) seriam necessários para quitar a dívida líquida.\n",
        "\n",
        "    indices['Endividamento'] = df['p_Divida_Bruta'] / df['p_Ativo_Total']\n",
        "    # Percentual dos ativos financiado exclusivamente por capital de terceiros.\n",
        "\n",
        "    ### ESTRUTURA DE CAPITAL\n",
        "    df['p_Imobilizado'] = df['p_Ativo_Total'] - df['p_Ativo_Circulante']\n",
        "    # Estimativa do Ativo Imobilizado\n",
        "\n",
        "    indices['Imobilizado/Ativo'] = df['p_Imobilizado'] / df['p_Ativo_Total']\n",
        "    # Percentual do ativo total que está imobilizado (capital fixo).\n",
        "\n",
        "    ### COBERTURA DE JUROS\n",
        "    indices['Cobertura de Juros'] = ebit / df['r_Despesa_de_Juros']\n",
        "    # Mede a capacidade da empresa de pagar seus juros com o lucro operacional (EBIT).\n",
        "\n",
        "    ### EFICIÊNCIA OPERACIONAL\n",
        "    indices['Giro do Ativo'] = df['r_Receita_Total'] / df['p_Ativo_Total']\n",
        "    # Mede quantas vezes os ativos se transformam em receita no período.\n",
        "\n",
        "    ### CICLO OPERACIONAL\n",
        "    indices['Período Médio de Recebimento'] = df['p_Contas_a_Receber'] / df['r_Receita_Total'] * 365\n",
        "    indices['Período Médio de Pagamento'] = df['p_Contas_a_Pagar'] / df['r_Custos'] * 365\n",
        "    # Dias médios para receber e pagar.\n",
        "\n",
        "    ### LIQUIDEZ\n",
        "    indices['Liquidez Corrente'] = df['p_Ativo_Circulante'] / df['p_Passivo_Circulante']\n",
        "    # Mede a capacidade de pagar obrigações de curto prazo.\n",
        "\n",
        "    indices['Liquidez Seca'] = (df['p_Ativo_Circulante'] - df['p_Estoques']) / df['p_Passivo_Circulante']\n",
        "    # Medida mais conservadora de liquidez, desconsidera estoques.\n",
        "\n",
        "    indices['CCL/Ativo Total'] = (df['p_Ativo_Circulante'] - df['p_Passivo_Circulante']) / df['p_Ativo_Total']\n",
        "    # Mede a folga de capital de giro em relação ao total de ativos da empresa.\n",
        "\n",
        "\n",
        "    ### Criar DataFrame\n",
        "    df_indices = pd.DataFrame(indices)\n",
        "\n",
        "    ### Tratar divisões por zero e valores infinitos\n",
        "    df_indices.replace([np.inf, -np.inf], np.nan, inplace=True)\n",
        "\n",
        "    return df_indices\n"
      ]
    },
    {
      "cell_type": "markdown",
      "metadata": {
        "id": "_p8hSremruV-"
      },
      "source": [
        "##### 1.4 Importação dos Dados Contábeis"
      ]
    },
    {
      "cell_type": "code",
      "execution_count": 12,
      "metadata": {
        "id": "Lhk9GqNfruV-"
      },
      "outputs": [],
      "source": [
        "## Importar os dados\n",
        "# - Do mais recente para o mais antigo\n",
        "\n",
        "# arquivo_dados_contabeis = '/content/dados_contabeis_global.xlsx'\n",
        "arquivo_dados_contabeis = df_dados_contabeis"
      ]
    },
    {
      "cell_type": "code",
      "execution_count": 13,
      "metadata": {
        "colab": {
          "base_uri": "https://localhost:8080/",
          "height": 198
        },
        "id": "JUFBrnuBnb1X",
        "outputId": "2689913e-012e-4a65-cb0c-aff53c304a09"
      },
      "outputs": [
        {
          "data": {
            "text/html": [
              "<div>\n",
              "<style scoped>\n",
              "    .dataframe tbody tr th:only-of-type {\n",
              "        vertical-align: middle;\n",
              "    }\n",
              "\n",
              "    .dataframe tbody tr th {\n",
              "        vertical-align: top;\n",
              "    }\n",
              "\n",
              "    .dataframe thead th {\n",
              "        text-align: right;\n",
              "    }\n",
              "</style>\n",
              "<table border=\"1\" class=\"dataframe\">\n",
              "  <thead>\n",
              "    <tr style=\"text-align: right;\">\n",
              "      <th></th>\n",
              "      <th>ano</th>\n",
              "      <th>p_Ativo_Circulante</th>\n",
              "      <th>p_Ativo_Total</th>\n",
              "      <th>p_Caixa</th>\n",
              "      <th>p_Estoques</th>\n",
              "      <th>p_Contas_a_Pagar</th>\n",
              "      <th>p_Contas_a_Receber</th>\n",
              "      <th>p_Passivo_Circulante</th>\n",
              "      <th>p_Passivo_Total</th>\n",
              "      <th>p_Patrimonio_Liquido</th>\n",
              "      <th>r_Amortizacao</th>\n",
              "      <th>r_Custos</th>\n",
              "      <th>r_Depreciacao</th>\n",
              "      <th>r_Despesa_de_Impostos</th>\n",
              "      <th>r_Despesa_de_Juros</th>\n",
              "      <th>r_Lucro_Liquido</th>\n",
              "      <th>r_Receita_Total</th>\n",
              "    </tr>\n",
              "  </thead>\n",
              "  <tbody>\n",
              "    <tr>\n",
              "      <th>0</th>\n",
              "      <td>0</td>\n",
              "      <td>29716613</td>\n",
              "      <td>58240254</td>\n",
              "      <td>0</td>\n",
              "      <td>0</td>\n",
              "      <td>6048227</td>\n",
              "      <td>8920741</td>\n",
              "      <td>6279752</td>\n",
              "      <td>58240254</td>\n",
              "      <td>12106709</td>\n",
              "      <td>0</td>\n",
              "      <td>67838821</td>\n",
              "      <td>0</td>\n",
              "      <td>0</td>\n",
              "      <td>31879</td>\n",
              "      <td>100893</td>\n",
              "      <td>73372438</td>\n",
              "    </tr>\n",
              "    <tr>\n",
              "      <th>1</th>\n",
              "      <td>1</td>\n",
              "      <td>35030579</td>\n",
              "      <td>67992387</td>\n",
              "      <td>0</td>\n",
              "      <td>0</td>\n",
              "      <td>16076322</td>\n",
              "      <td>10463734</td>\n",
              "      <td>16514038</td>\n",
              "      <td>67992387</td>\n",
              "      <td>10874130</td>\n",
              "      <td>0</td>\n",
              "      <td>33665834</td>\n",
              "      <td>0</td>\n",
              "      <td>0</td>\n",
              "      <td>334490</td>\n",
              "      <td>1496210</td>\n",
              "      <td>49372166</td>\n",
              "    </tr>\n",
              "    <tr>\n",
              "      <th>2</th>\n",
              "      <td>2</td>\n",
              "      <td>37531910</td>\n",
              "      <td>80987685</td>\n",
              "      <td>0</td>\n",
              "      <td>0</td>\n",
              "      <td>19191518</td>\n",
              "      <td>7861523</td>\n",
              "      <td>25235400</td>\n",
              "      <td>80987685</td>\n",
              "      <td>14031963</td>\n",
              "      <td>0</td>\n",
              "      <td>32800463</td>\n",
              "      <td>0</td>\n",
              "      <td>0</td>\n",
              "      <td>1144121</td>\n",
              "      <td>3748957</td>\n",
              "      <td>45676317</td>\n",
              "    </tr>\n",
              "  </tbody>\n",
              "</table>\n",
              "</div>"
            ],
            "text/plain": [
              "   ano  p_Ativo_Circulante  p_Ativo_Total  p_Caixa  p_Estoques  \\\n",
              "0    0            29716613       58240254        0           0   \n",
              "1    1            35030579       67992387        0           0   \n",
              "2    2            37531910       80987685        0           0   \n",
              "\n",
              "   p_Contas_a_Pagar  p_Contas_a_Receber  p_Passivo_Circulante  \\\n",
              "0           6048227             8920741               6279752   \n",
              "1          16076322            10463734              16514038   \n",
              "2          19191518             7861523              25235400   \n",
              "\n",
              "   p_Passivo_Total  p_Patrimonio_Liquido  r_Amortizacao  r_Custos  \\\n",
              "0         58240254              12106709              0  67838821   \n",
              "1         67992387              10874130              0  33665834   \n",
              "2         80987685              14031963              0  32800463   \n",
              "\n",
              "   r_Depreciacao  r_Despesa_de_Impostos  r_Despesa_de_Juros  r_Lucro_Liquido  \\\n",
              "0              0                      0               31879           100893   \n",
              "1              0                      0              334490          1496210   \n",
              "2              0                      0             1144121          3748957   \n",
              "\n",
              "   r_Receita_Total  \n",
              "0         73372438  \n",
              "1         49372166  \n",
              "2         45676317  "
            ]
          },
          "execution_count": 13,
          "metadata": {},
          "output_type": "execute_result"
        }
      ],
      "source": [
        "arquivo_dados_contabeis"
      ]
    },
    {
      "cell_type": "markdown",
      "metadata": {
        "id": "fHH5wcF4ruV_"
      },
      "source": [
        "##### 1.5 Leitura dos Dados Contábeis"
      ]
    },
    {
      "cell_type": "code",
      "execution_count": 14,
      "metadata": {
        "colab": {
          "base_uri": "https://localhost:8080/"
        },
        "id": "VjzcTmKLruV_",
        "outputId": "d28636c8-52a4-44a9-d6f6-1a0862eb4bd3"
      },
      "outputs": [
        {
          "name": "stdout",
          "output_type": "stream",
          "text": [
            "Dados Contabeis Importados:\n",
            "   ano  p_Ativo_Circulante  p_Ativo_Total  p_Caixa  p_Estoques  \\\n",
            "0    0            29716613       58240254        0           0   \n",
            "1    1            35030579       67992387        0           0   \n",
            "2    2            37531910       80987685        0           0   \n",
            "\n",
            "   p_Contas_a_Pagar  p_Contas_a_Receber  p_Passivo_Circulante  \\\n",
            "0           6048227             8920741               6279752   \n",
            "1          16076322            10463734              16514038   \n",
            "2          19191518             7861523              25235400   \n",
            "\n",
            "   p_Passivo_Total  p_Patrimonio_Liquido  r_Amortizacao  r_Custos  \\\n",
            "0         58240254              12106709              0  67838821   \n",
            "1         67992387              10874130              0  33665834   \n",
            "2         80987685              14031963              0  32800463   \n",
            "\n",
            "   r_Depreciacao  r_Despesa_de_Impostos  r_Despesa_de_Juros  r_Lucro_Liquido  \\\n",
            "0              0                      0               31879           100893   \n",
            "1              0                      0              334490          1496210   \n",
            "2              0                      0             1144121          3748957   \n",
            "\n",
            "   r_Receita_Total  \n",
            "0         73372438  \n",
            "1         49372166  \n",
            "2         45676317  \n"
          ]
        }
      ],
      "source": [
        "df_dados_contabeis = arquivo_dados_contabeis\n",
        "print('Dados Contabeis Importados:')\n",
        "print(df_dados_contabeis)"
      ]
    },
    {
      "cell_type": "markdown",
      "metadata": {
        "id": "KhQE3FG1ruV_"
      },
      "source": [
        "#### 2. PROCESSAMENTO DO MODELO #####"
      ]
    },
    {
      "cell_type": "markdown",
      "metadata": {
        "id": "wQKCxENhruV_"
      },
      "source": [
        "##### 2.1 Índices contábeis"
      ]
    },
    {
      "cell_type": "code",
      "execution_count": 15,
      "metadata": {},
      "outputs": [],
      "source": [
        "# Calculado com base nos dados contábeis"
      ]
    },
    {
      "cell_type": "code",
      "execution_count": 16,
      "metadata": {
        "colab": {
          "base_uri": "https://localhost:8080/"
        },
        "id": "vmq8UHOZruV_",
        "outputId": "cf6ff74b-034f-4ae7-ea82-66306ecd1da1"
      },
      "outputs": [
        {
          "name": "stdout",
          "output_type": "stream",
          "text": [
            "\n",
            "Índices Contábeis Calculados:\n"
          ]
        }
      ],
      "source": [
        "df_indices = calcular_indices_contabeis(df_dados_contabeis).round(2)\n",
        "print('\\nÍndices Contábeis Calculados:')"
      ]
    },
    {
      "cell_type": "code",
      "execution_count": 17,
      "metadata": {},
      "outputs": [],
      "source": [
        "if (df_dados_contabeis['p_Estoques'] == 0).all():\n",
        "        del df_indices['Liquidez Seca']"
      ]
    },
    {
      "cell_type": "code",
      "execution_count": 18,
      "metadata": {},
      "outputs": [
        {
          "name": "stdout",
          "output_type": "stream",
          "text": [
            "   Margem Líquida   ROA   ROE   EBITDA  Margem EBITDA  Alavancagem  \\\n",
            "0            0.00  0.00  0.01   132772           0.00       347.46   \n",
            "1            0.03  0.02  0.14  1830700           0.04        31.20   \n",
            "2            0.08  0.05  0.27  4893078           0.11        13.68   \n",
            "\n",
            "   Endividamento  Imobilizado/Ativo  Cobertura de Juros  Giro do Ativo  \\\n",
            "0           0.79               0.49                4.16           1.26   \n",
            "1           0.84               0.48                5.47           0.73   \n",
            "2           0.83               0.54                4.28           0.56   \n",
            "\n",
            "   Período Médio de Recebimento  Período Médio de Pagamento  \\\n",
            "0                         44.38                       32.54   \n",
            "1                         77.36                      174.30   \n",
            "2                         62.82                      213.56   \n",
            "\n",
            "   Liquidez Corrente  CCL/Ativo Total  \n",
            "0               4.73             0.40  \n",
            "1               2.12             0.27  \n",
            "2               1.49             0.15  \n"
          ]
        }
      ],
      "source": [
        "print(df_indices)"
      ]
    },
    {
      "cell_type": "markdown",
      "metadata": {
        "id": "eKbXhxBuruV_"
      },
      "source": [
        "##### 2.2 Padronização dos índices contábeis"
      ]
    },
    {
      "cell_type": "code",
      "execution_count": 19,
      "metadata": {
        "colab": {
          "base_uri": "https://localhost:8080/"
        },
        "id": "wPM-ryaKruWA",
        "outputId": "8ac2015b-15c1-4c0f-e181-73fc47d25a16"
      },
      "outputs": [
        {
          "name": "stdout",
          "output_type": "stream",
          "text": [
            "\n",
            "Índices Escalados para PCA:\n",
            "[[-1.1111678  -1.13554995 -1.22474487 -1.09286499 -1.09985336  1.41267511\n",
            "  -1.38873015 -0.50800051 -0.8061489   1.37535374 -1.27006502 -1.38383806\n",
            "   1.39023519  1.24074398]\n",
            " [-0.20203051 -0.16222142  0.         -0.23089278 -0.21997067 -0.64922553\n",
            "   0.9258201  -0.88900089  1.40935123 -0.40254256  1.1737357   0.43944297\n",
            "  -0.47054114 -0.03265116]\n",
            " [ 1.31319831  1.29777137  1.22474487  1.32375777  1.31982404 -0.76344958\n",
            "   0.46291005  1.3970014  -0.60320233 -0.97281118  0.09632932  0.94439509\n",
            "  -0.91969405 -1.20809282]]\n"
          ]
        }
      ],
      "source": [
        "# Escalar os índices contábeis para o PCA\n",
        "scaler = StandardScaler()\n",
        "indices_scaled = scaler.fit_transform(df_indices)\n",
        "print('\\nÍndices Escalados para PCA:')\n",
        "print(indices_scaled)"
      ]
    },
    {
      "cell_type": "markdown",
      "metadata": {
        "id": "pqUIqgEbruWA"
      },
      "source": [
        "##### 2.3 Cálculo do PCA"
      ]
    },
    {
      "cell_type": "code",
      "execution_count": 20,
      "metadata": {},
      "outputs": [],
      "source": [
        "# Calculado com base nos índices contábeis"
      ]
    },
    {
      "cell_type": "code",
      "execution_count": 21,
      "metadata": {
        "colab": {
          "base_uri": "https://localhost:8080/"
        },
        "id": "EfRGM1e7ruWA",
        "outputId": "175669c5-5c42-479f-d891-53a6f37aed3c"
      },
      "outputs": [
        {
          "name": "stdout",
          "output_type": "stream",
          "text": [
            "\n",
            "Componentes Principais (PCA):\n",
            "[[ 4.40713052e+00 -8.54068358e-01 -3.46049193e-16]\n",
            " [-7.50506373e-01  2.36982746e+00 -3.46049193e-16]\n",
            " [-3.65662415e+00 -1.51575910e+00 -3.46049193e-16]]\n"
          ]
        }
      ],
      "source": [
        "# Realizar o PCA\n",
        "pca = PCA()\n",
        "pca_result = pca.fit_transform(indices_scaled)\n",
        "print('\\nComponentes Principais (PCA):')\n",
        "print(pca_result)\n",
        "\n",
        "#relatório\n"
      ]
    },
    {
      "cell_type": "markdown",
      "metadata": {
        "id": "Yx75wxXcruWA"
      },
      "source": [
        "##### 2.4 Variância Explicada PCA"
      ]
    },
    {
      "cell_type": "code",
      "execution_count": 22,
      "metadata": {
        "colab": {
          "base_uri": "https://localhost:8080/"
        },
        "id": "bWReshMkruWA",
        "outputId": "984a1f9f-9f93-43f2-f258-548921d36771"
      },
      "outputs": [
        {
          "name": "stdout",
          "output_type": "stream",
          "text": [
            "\n",
            "Variância Explicada por Componente:\n",
            "[7.94213319e-01 2.05786681e-01 8.55357458e-33]\n"
          ]
        }
      ],
      "source": [
        "# Variância explicada pelos componentes principais\n",
        "explained_variance_ratio = pca.explained_variance_ratio_\n",
        "print('\\nVariância Explicada por Componente:')\n",
        "print(explained_variance_ratio)\n",
        "\n",
        "#relatório"
      ]
    },
    {
      "cell_type": "markdown",
      "metadata": {
        "id": "LawCVNrvruWA"
      },
      "source": [
        "##### 2.5 DataFrame PCA"
      ]
    },
    {
      "cell_type": "code",
      "execution_count": 23,
      "metadata": {
        "colab": {
          "base_uri": "https://localhost:8080/"
        },
        "id": "CrGTgCGeruWA",
        "outputId": "adbe94cc-a547-46df-80d1-a9c785de802e"
      },
      "outputs": [
        {
          "name": "stdout",
          "output_type": "stream",
          "text": [
            "\n",
            "Matriz de Componentes Principais:\n",
            "        PC1       PC2           PC3\n",
            "0  4.407131 -0.854068 -3.460492e-16\n",
            "1 -0.750506  2.369827 -3.460492e-16\n",
            "2 -3.656624 -1.515759 -3.460492e-16\n"
          ]
        }
      ],
      "source": [
        "# DataFrame com os componentes principais\n",
        "pca_df = pd.DataFrame(pca_result, columns=[f'PC{i+1}' for i in range(pca_result.shape[1])])\n",
        "print('\\nMatriz de Componentes Principais:')\n",
        "print(pca_df)\n",
        "\n",
        "#relatório"
      ]
    },
    {
      "cell_type": "markdown",
      "metadata": {
        "id": "7SoXw22MruWA"
      },
      "source": [
        "##### 2.6 Matriz de cargas"
      ]
    },
    {
      "cell_type": "code",
      "execution_count": 24,
      "metadata": {
        "colab": {
          "base_uri": "https://localhost:8080/"
        },
        "id": "EK1KERu9ruWA",
        "outputId": "bb6a7a86-966f-4e8d-a914-00d93f145232"
      },
      "outputs": [
        {
          "name": "stdout",
          "output_type": "stream",
          "text": [
            "Matriz de Cargas dos Componentes Principais:\n",
            "     Margem Líquida       ROA       ROE    EBITDA  Margem EBITDA  Alavancagem  \\\n",
            "PC1       -0.286216 -0.288642 -0.296071 -0.284306      -0.285044     0.284940   \n",
            "PC2       -0.175894 -0.159864 -0.093764 -0.187468      -0.183093    -0.183716   \n",
            "PC3        0.424988  0.690044 -0.043079 -0.190974      -0.192743    -0.012181   \n",
            "\n",
            "     Endividamento  Imobilizado/Ativo  Cobertura de Juros  Giro do Ativo  \\\n",
            "PC1      -0.255054          -0.200256           -0.072094       0.297410   \n",
            "PC2       0.309896          -0.438553            0.571875      -0.075674   \n",
            "PC3       0.157642          -0.157142            0.188303       0.254524   \n",
            "\n",
            "     Período Médio de Recebimento  Período Médio de Pagamento  \\\n",
            "PC1                     -0.204769                   -0.296246   \n",
            "PC2                      0.430434                    0.091614   \n",
            "PC3                     -0.235951                    0.005078   \n",
            "\n",
            "     Liquidez Corrente  CCL/Ativo Total  \n",
            "PC1           0.295083         0.297094  \n",
            "PC2          -0.105105         0.080310  \n",
            "PC3           0.135224         0.209356  \n",
            "\n",
            "Índices mais significativos por componente:\n",
            "\n",
            "PC1:\n",
            "Giro do Ativo                 0.297410\n",
            "CCL/Ativo Total               0.297094\n",
            "Período Médio de Pagamento    0.296246\n",
            "Name: PC1, dtype: float64\n",
            "\n",
            "PC2:\n",
            "Cobertura de Juros              0.571875\n",
            "Imobilizado/Ativo               0.438553\n",
            "Período Médio de Recebimento    0.430434\n",
            "Name: PC2, dtype: float64\n",
            "\n",
            "PC3:\n",
            "ROA               0.690044\n",
            "Margem Líquida    0.424988\n",
            "Giro do Ativo     0.254524\n",
            "Name: PC3, dtype: float64\n"
          ]
        }
      ],
      "source": [
        "# Obter a matriz de cargas\n",
        "loadings = pd.DataFrame(\n",
        "    pca.components_,\n",
        "    columns=df_indices.columns,\n",
        "    index=[f'PC{i+1}' for i in range(pca.components_.shape[0])]\n",
        ")\n",
        "\n",
        "print('Matriz de Cargas dos Componentes Principais:')\n",
        "print(loadings)\n",
        "\n",
        "# Identificar os índices mais significativos para cada PC\n",
        "print('\\nÍndices mais significativos por componente:')\n",
        "for pc in loadings.index:\n",
        "    print(f'\\n{pc}:')\n",
        "    print(loadings.loc[pc].abs().sort_values(ascending=False).head(3))  # Top 3 índices mais significativos\n",
        "\n",
        "#relatório"
      ]
    },
    {
      "cell_type": "code",
      "execution_count": 25,
      "metadata": {},
      "outputs": [
        {
          "name": "stdout",
          "output_type": "stream",
          "text": [
            "\n",
            "Top 3 Índices por Componente Principal:\n",
            "    PC            Indice 1  Peso 1           Indice 2  Peso 2  \\\n",
            "0  PC1       Giro do Ativo   0.297    CCL/Ativo Total   0.297   \n",
            "1  PC2  Cobertura de Juros   0.572  Imobilizado/Ativo   0.439   \n",
            "2  PC3                 ROA   0.690     Margem Líquida   0.425   \n",
            "\n",
            "                       Indice 3  Peso 3  \n",
            "0    Período Médio de Pagamento   0.296  \n",
            "1  Período Médio de Recebimento   0.430  \n",
            "2                 Giro do Ativo   0.255  \n"
          ]
        }
      ],
      "source": [
        "# Criar dicionário com top 3 índices por componente\n",
        "top_indices_por_pc = {\n",
        "    pc: loadings.loc[pc].abs().sort_values(ascending=False).head(3)\n",
        "    for pc in loadings.index\n",
        "}\n",
        "\n",
        "# Transformar em DataFrame\n",
        "top_indices_df = pd.DataFrame([\n",
        "    {\n",
        "        'PC': pc,\n",
        "        'Indice 1': top.index[0],\n",
        "        'Peso 1': round(top.values[0], 3),\n",
        "        'Indice 2': top.index[1],\n",
        "        'Peso 2': round(top.values[1], 3),\n",
        "        'Indice 3': top.index[2],\n",
        "        'Peso 3': round(top.values[2], 3)\n",
        "    }\n",
        "    for pc, top in top_indices_por_pc.items()\n",
        "])\n",
        "\n",
        "# Exibir ou salvar\n",
        "print('\\nTop 3 Índices por Componente Principal:')\n",
        "print(top_indices_df)\n"
      ]
    },
    {
      "cell_type": "markdown",
      "metadata": {
        "id": "e77SN51hruWB"
      },
      "source": [
        "##### 2.7 Score PCA final"
      ]
    },
    {
      "cell_type": "code",
      "execution_count": 26,
      "metadata": {
        "colab": {
          "base_uri": "https://localhost:8080/",
          "height": 178
        },
        "id": "KUoMhOd0ruWB",
        "outputId": "cceb0c9a-3844-4ff7-c64b-e55323f59a3a"
      },
      "outputs": [
        {
          "data": {
            "text/plain": [
              "0    3.324446\n",
              "1   -0.108383\n",
              "2   -3.216063\n",
              "dtype: float64"
            ]
          },
          "execution_count": 26,
          "metadata": {},
          "output_type": "execute_result"
        }
      ],
      "source": [
        "pca_df.dot(explained_variance_ratio)"
      ]
    },
    {
      "cell_type": "markdown",
      "metadata": {
        "id": "MOWTgmyaruWB"
      },
      "source": [
        "#### 3. RESULTADOS #####"
      ]
    },
    {
      "cell_type": "markdown",
      "metadata": {
        "id": "Te19Q490ruWB"
      },
      "source": [
        "##### 3.1A Função Finscore Bruto"
      ]
    },
    {
      "cell_type": "code",
      "execution_count": 27,
      "metadata": {},
      "outputs": [],
      "source": [
        "# Função para categorizar escores consolidados com mais granularidade\n",
        "def categorias_finscore_bruto(escores):\n",
        "    categorias = []\n",
        "    for escore in escores:\n",
        "        if escore > 1.5:\n",
        "            categorias.append('Muito Abaixo do Risco')\n",
        "        elif 1.0 < escore <= 1.5:\n",
        "            categorias.append('Levemente Abaixo do Risco')\n",
        "        elif -1.0 <= escore <= 1.0:\n",
        "            categorias.append('Neutro')\n",
        "        elif -1.5 < escore < -1.0:\n",
        "            categorias.append('Levemente Acima do Risco')\n",
        "        else:\n",
        "            categorias.append('Muito Acima do Risco')\n",
        "    return categorias\n",
        "\n",
        "# Tabela de Categorias:\n",
        "# -------------------------------------------------------\n",
        "# |   Intervalo do Escore   |      Categoria            |\n",
        "# -------------------------------------------------------\n",
        "# |  escore > 1.5           | Muito Abaixo do Risco     |\n",
        "# |  1.0 < escore ≤ 1.5     | Levemente Abaixo do Risco |\n",
        "# | -1.0 ≤ escore ≤ 1.0     | Neutro                    |\n",
        "# | -1.5 < escore < -1.0    | Levemente Acima do Risco  |\n",
        "# |  escore ≤ -1.5          | Muito Acima do Risco      |\n",
        "# -------------------------------------------------------"
      ]
    },
    {
      "cell_type": "markdown",
      "metadata": {},
      "source": [
        "##### 3.1B Calcular Finscore Bruto"
      ]
    },
    {
      "cell_type": "code",
      "execution_count": 28,
      "metadata": {
        "colab": {
          "base_uri": "https://localhost:8080/"
        },
        "id": "GvWTD2_bruWB",
        "outputId": "c25ab70a-2539-4bff-ae70-a3f183c3a6ec"
      },
      "outputs": [
        {
          "name": "stdout",
          "output_type": "stream",
          "text": [
            "\n",
            "FINSCORE BRUTO:\n",
            "1.49\n",
            "\n",
            "CLASSIFICAÇÃO FINSCORE BRUTO:\n",
            "Levemente Abaixo do Risco\n"
          ]
        }
      ],
      "source": [
        "# Calcular o escore consolidado com penalização do último ano\n",
        "# Do mais recente para o mais antigo: \n",
        "pesos = [0.6, 0.25, 0.15]  # Pesos para os três anos\n",
        "finscore_bruto = round((pca_df.dot(explained_variance_ratio) * pesos).sum(), 2)\n",
        "print('\\nFINSCORE BRUTO:')\n",
        "print(finscore_bruto)\n",
        "print('\\nCLASSIFICAÇÃO FINSCORE BRUTO:')\n",
        "print(categorias_finscore_bruto([finscore_bruto])[0])\n"
      ]
    },
    {
      "cell_type": "markdown",
      "metadata": {
        "id": "Qd0mMdVyruWE"
      },
      "source": [
        "##### 3.2A Função Finscore Ajustado"
      ]
    },
    {
      "cell_type": "code",
      "execution_count": 29,
      "metadata": {},
      "outputs": [],
      "source": [
        "# Este é o finscore que será considerado para o relatório."
      ]
    },
    {
      "cell_type": "code",
      "execution_count": 30,
      "metadata": {},
      "outputs": [],
      "source": [
        "# Função para categorizar escores consolidados com mais granularidade\n",
        "def categorias_finscore_ajustado(escore):\n",
        "    if escore > 875:\n",
        "        return 'Muito Abaixo do Risco'\n",
        "    elif 750 < escore <= 875:\n",
        "        return 'Levemente Abaixo do Risco'\n",
        "    elif 250 <= escore <= 750:\n",
        "        return 'Neutro'\n",
        "    elif 125 < escore < 250:\n",
        "        return 'Levemente Acima do Risco'\n",
        "    else:\n",
        "        return 'Muito Acima do Risco'\n",
        "\n",
        "\n",
        "# Tabela de Categorias:\n",
        "# -------------------------------------------------------\n",
        "# |   Intervalo do Escore  |      Categoria            |\n",
        "# -------------------------------------------------------\n",
        "# |  escore > 750          | Muito Abaixo do Risco     |\n",
        "# |  500 < escore ≤ 750    | Levemente Abaixo do Risco |\n",
        "# | 250 ≤ escore ≤ 500     | Neutro                    |\n",
        "# | 100 < escore < 250     | Levemente Acima do Risco  |\n",
        "# |  escore ≤ 100          | Muito Acima do Risco      |\n",
        "# -------------------------------------------------------"
      ]
    },
    {
      "cell_type": "markdown",
      "metadata": {},
      "source": [
        "##### 3.2B Calcular Finscore Ajustado"
      ]
    },
    {
      "cell_type": "code",
      "execution_count": 31,
      "metadata": {},
      "outputs": [],
      "source": [
        "# Traduz a tendência em um escore de risco ajustado ao ponto de referência atual do cliente.\n",
        "finscore_ajustado = round(min(((finscore_bruto + 2)/4)*1000, 1000), 2)\n",
        "\n",
        "# Converte escore bruto (-2 a +2) para uma escala de 0 a 1000, truncando em 1000.\n"
      ]
    },
    {
      "cell_type": "code",
      "execution_count": 32,
      "metadata": {
        "colab": {
          "base_uri": "https://localhost:8080/"
        },
        "id": "6FfhV8HtruWE",
        "outputId": "31196038-090e-496d-ad08-8fd00c51d23e"
      },
      "outputs": [
        {
          "name": "stdout",
          "output_type": "stream",
          "text": [
            "\n",
            "FINSCORE AJUSTADO:\n",
            "872.5\n",
            "\n",
            "CLASSIFICAÇÃO FINSCORE AJUSTADO:\n",
            "Levemente Abaixo do Risco\n"
          ]
        }
      ],
      "source": [
        "print('\\nFINSCORE AJUSTADO:')\n",
        "print(finscore_ajustado)\n",
        "print('\\nCLASSIFICAÇÃO FINSCORE AJUSTADO:')\n",
        "print(categorias_finscore_ajustado(finscore_ajustado))"
      ]
    },
    {
      "cell_type": "markdown",
      "metadata": {},
      "source": [
        "##### 3.3A Função Serasa"
      ]
    },
    {
      "cell_type": "code",
      "execution_count": 33,
      "metadata": {},
      "outputs": [],
      "source": [
        "# Função para categorizar escores conforme a classificação do Serasa\n",
        "def categorias_serasa(score):\n",
        "    if score > 700:\n",
        "        return 'Excelente'\n",
        "    elif score > 500:\n",
        "        return 'Bom'\n",
        "    elif score > 300:\n",
        "        return 'Baixo'\n",
        "    else:\n",
        "        return 'Muito Baixo'\n",
        "\n",
        "# Tabela de Categorias:\n",
        "# --------------------------------------\n",
        "# |   Intervalo do Escore  | Categoria |\n",
        "# --------------------------------------\n",
        "# |  701 a 1.000          | Excelente  |\n",
        "# |  501 a 700            | Bom        |\n",
        "# |  301 a 500            | Baixo      |\n",
        "# |  0 a 300              | Muito Baixo|\n",
        "# --------------------------------------"
      ]
    },
    {
      "cell_type": "markdown",
      "metadata": {},
      "source": [
        "##### 3.3B Calcular Serasa"
      ]
    },
    {
      "cell_type": "code",
      "execution_count": 34,
      "metadata": {},
      "outputs": [
        {
          "name": "stdout",
          "output_type": "stream",
          "text": [
            "\n",
            "SERASA:\n",
            "550\n",
            "\n",
            "CLASSIFICAÇÃO SERASA:\n",
            "Bom\n"
          ]
        }
      ],
      "source": [
        "print('\\nSERASA:')\n",
        "print(serasa)\n",
        "print('\\nCLASSIFICAÇÃO SERASA:')\n",
        "print(categorias_serasa(serasa))"
      ]
    },
    {
      "cell_type": "markdown",
      "metadata": {
        "id": "n0VaQrgOruWE"
      },
      "source": [
        "##### 3.4 Valores e Contas Contábeis"
      ]
    },
    {
      "cell_type": "code",
      "execution_count": 35,
      "metadata": {},
      "outputs": [],
      "source": [
        "# Apenas para revisão"
      ]
    },
    {
      "cell_type": "code",
      "execution_count": 36,
      "metadata": {
        "colab": {
          "base_uri": "https://localhost:8080/",
          "height": 198
        },
        "id": "mGlnSUpwruWF",
        "outputId": "d1e083f1-2133-4911-d1fd-6443f2380963"
      },
      "outputs": [
        {
          "data": {
            "text/html": [
              "<div>\n",
              "<style scoped>\n",
              "    .dataframe tbody tr th:only-of-type {\n",
              "        vertical-align: middle;\n",
              "    }\n",
              "\n",
              "    .dataframe tbody tr th {\n",
              "        vertical-align: top;\n",
              "    }\n",
              "\n",
              "    .dataframe thead th {\n",
              "        text-align: right;\n",
              "    }\n",
              "</style>\n",
              "<table border=\"1\" class=\"dataframe\">\n",
              "  <thead>\n",
              "    <tr style=\"text-align: right;\">\n",
              "      <th></th>\n",
              "      <th>ano</th>\n",
              "      <th>p_Ativo_Circulante</th>\n",
              "      <th>p_Ativo_Total</th>\n",
              "      <th>p_Caixa</th>\n",
              "      <th>p_Estoques</th>\n",
              "      <th>p_Contas_a_Pagar</th>\n",
              "      <th>p_Contas_a_Receber</th>\n",
              "      <th>p_Passivo_Circulante</th>\n",
              "      <th>p_Passivo_Total</th>\n",
              "      <th>p_Patrimonio_Liquido</th>\n",
              "      <th>r_Amortizacao</th>\n",
              "      <th>r_Custos</th>\n",
              "      <th>r_Depreciacao</th>\n",
              "      <th>r_Despesa_de_Impostos</th>\n",
              "      <th>r_Despesa_de_Juros</th>\n",
              "      <th>r_Lucro_Liquido</th>\n",
              "      <th>r_Receita_Total</th>\n",
              "      <th>p_Divida_Bruta</th>\n",
              "      <th>p_Divida_Liquida</th>\n",
              "      <th>p_Imobilizado</th>\n",
              "    </tr>\n",
              "  </thead>\n",
              "  <tbody>\n",
              "    <tr>\n",
              "      <th>0</th>\n",
              "      <td>0</td>\n",
              "      <td>29716613</td>\n",
              "      <td>58240254</td>\n",
              "      <td>0</td>\n",
              "      <td>0</td>\n",
              "      <td>6048227</td>\n",
              "      <td>8920741</td>\n",
              "      <td>6279752</td>\n",
              "      <td>58240254</td>\n",
              "      <td>12106709</td>\n",
              "      <td>0</td>\n",
              "      <td>67838821</td>\n",
              "      <td>0</td>\n",
              "      <td>0</td>\n",
              "      <td>31879</td>\n",
              "      <td>100893</td>\n",
              "      <td>73372438</td>\n",
              "      <td>46133545</td>\n",
              "      <td>46133545</td>\n",
              "      <td>28523641</td>\n",
              "    </tr>\n",
              "    <tr>\n",
              "      <th>1</th>\n",
              "      <td>1</td>\n",
              "      <td>35030579</td>\n",
              "      <td>67992387</td>\n",
              "      <td>0</td>\n",
              "      <td>0</td>\n",
              "      <td>16076322</td>\n",
              "      <td>10463734</td>\n",
              "      <td>16514038</td>\n",
              "      <td>67992387</td>\n",
              "      <td>10874130</td>\n",
              "      <td>0</td>\n",
              "      <td>33665834</td>\n",
              "      <td>0</td>\n",
              "      <td>0</td>\n",
              "      <td>334490</td>\n",
              "      <td>1496210</td>\n",
              "      <td>49372166</td>\n",
              "      <td>57118257</td>\n",
              "      <td>57118257</td>\n",
              "      <td>32961808</td>\n",
              "    </tr>\n",
              "    <tr>\n",
              "      <th>2</th>\n",
              "      <td>2</td>\n",
              "      <td>37531910</td>\n",
              "      <td>80987685</td>\n",
              "      <td>0</td>\n",
              "      <td>0</td>\n",
              "      <td>19191518</td>\n",
              "      <td>7861523</td>\n",
              "      <td>25235400</td>\n",
              "      <td>80987685</td>\n",
              "      <td>14031963</td>\n",
              "      <td>0</td>\n",
              "      <td>32800463</td>\n",
              "      <td>0</td>\n",
              "      <td>0</td>\n",
              "      <td>1144121</td>\n",
              "      <td>3748957</td>\n",
              "      <td>45676317</td>\n",
              "      <td>66955722</td>\n",
              "      <td>66955722</td>\n",
              "      <td>43455775</td>\n",
              "    </tr>\n",
              "  </tbody>\n",
              "</table>\n",
              "</div>"
            ],
            "text/plain": [
              "   ano  p_Ativo_Circulante  p_Ativo_Total  p_Caixa  p_Estoques  \\\n",
              "0    0            29716613       58240254        0           0   \n",
              "1    1            35030579       67992387        0           0   \n",
              "2    2            37531910       80987685        0           0   \n",
              "\n",
              "   p_Contas_a_Pagar  p_Contas_a_Receber  p_Passivo_Circulante  \\\n",
              "0           6048227             8920741               6279752   \n",
              "1          16076322            10463734              16514038   \n",
              "2          19191518             7861523              25235400   \n",
              "\n",
              "   p_Passivo_Total  p_Patrimonio_Liquido  r_Amortizacao  r_Custos  \\\n",
              "0         58240254              12106709              0  67838821   \n",
              "1         67992387              10874130              0  33665834   \n",
              "2         80987685              14031963              0  32800463   \n",
              "\n",
              "   r_Depreciacao  r_Despesa_de_Impostos  r_Despesa_de_Juros  r_Lucro_Liquido  \\\n",
              "0              0                      0               31879           100893   \n",
              "1              0                      0              334490          1496210   \n",
              "2              0                      0             1144121          3748957   \n",
              "\n",
              "   r_Receita_Total  p_Divida_Bruta  p_Divida_Liquida  p_Imobilizado  \n",
              "0         73372438        46133545          46133545       28523641  \n",
              "1         49372166        57118257          57118257       32961808  \n",
              "2         45676317        66955722          66955722       43455775  "
            ]
          },
          "execution_count": 36,
          "metadata": {},
          "output_type": "execute_result"
        }
      ],
      "source": [
        "df_dados_contabeis\n",
        "# Sendo 0 o mais recente e 2 o mais antigo"
      ]
    },
    {
      "cell_type": "markdown",
      "metadata": {
        "id": "OggCqRbIruWF"
      },
      "source": [
        "##### 3.5 Índices contábeis"
      ]
    },
    {
      "cell_type": "code",
      "execution_count": 37,
      "metadata": {},
      "outputs": [],
      "source": [
        "# Apenas para revisão"
      ]
    },
    {
      "cell_type": "code",
      "execution_count": 38,
      "metadata": {
        "colab": {
          "base_uri": "https://localhost:8080/"
        },
        "id": "VRwxA5mRruWF",
        "outputId": "40a07120-840b-4b59-d44e-a95cf4e2da84"
      },
      "outputs": [
        {
          "name": "stdout",
          "output_type": "stream",
          "text": [
            "   Margem Líquida   ROA   ROE   EBITDA  Margem EBITDA  Alavancagem  \\\n",
            "0            0.00  0.00  0.01   132772           0.00       347.46   \n",
            "1            0.03  0.02  0.14  1830700           0.04        31.20   \n",
            "2            0.08  0.05  0.27  4893078           0.11        13.68   \n",
            "\n",
            "   Endividamento  Imobilizado/Ativo  Cobertura de Juros  Giro do Ativo  \\\n",
            "0           0.79               0.49                4.16           1.26   \n",
            "1           0.84               0.48                5.47           0.73   \n",
            "2           0.83               0.54                4.28           0.56   \n",
            "\n",
            "   Período Médio de Recebimento  Período Médio de Pagamento  \\\n",
            "0                         44.38                       32.54   \n",
            "1                         77.36                      174.30   \n",
            "2                         62.82                      213.56   \n",
            "\n",
            "   Liquidez Corrente  CCL/Ativo Total  \n",
            "0               4.73             0.40  \n",
            "1               2.12             0.27  \n",
            "2               1.49             0.15  \n"
          ]
        }
      ],
      "source": [
        "print(df_indices)\n",
        "# Sendo 0 o mais recente e 2 o mais antigo\n"
      ]
    },
    {
      "cell_type": "markdown",
      "metadata": {
        "id": "Y97BrJOiruWF"
      },
      "source": [
        "#### 4. PREPARAÇÃO IA"
      ]
    },
    {
      "cell_type": "code",
      "execution_count": 39,
      "metadata": {},
      "outputs": [],
      "source": [
        "# Prompts e funções para o ChatGPT e LangChain"
      ]
    },
    {
      "cell_type": "markdown",
      "metadata": {},
      "source": [
        "##### 4.1 Dicionário IA"
      ]
    },
    {
      "cell_type": "code",
      "execution_count": 40,
      "metadata": {},
      "outputs": [],
      "source": [
        "# Criar o DataFrame com os resultados principais para IA\n",
        "resultados_df_final = pd.DataFrame({\n",
        "    'Métrica': ['Finscore', 'Serasa'],\n",
        "    'Valor': [finscore_ajustado, serasa],\n",
        "    'Categoria': [\n",
        "        categorias_finscore_ajustado(finscore_ajustado),\n",
        "        categorias_serasa(serasa)\n",
        "    ]\n",
        "})\n"
      ]
    },
    {
      "cell_type": "code",
      "execution_count": 41,
      "metadata": {},
      "outputs": [],
      "source": [
        "# Função para preparar os dados em formato de dicionário para a IA\n",
        "def preparar_para_llm(df_indices, resultados_df_final, top_indices_df, df_dados_contabeis):\n",
        "    return {\n",
        "        'cliente': cliente,\n",
        "        'periodo_analise': f'{ano_inicial}–{ano_final}',\n",
        "        'indices_financeiros': df_indices.to_dict(orient='records'),\n",
        "        'finScore_resultado': resultados_df_final.to_dict(orient='records'),\n",
        "        'pca_destaques': top_indices_df.to_dict(orient='records'),\n",
        "        'dados_contabeis': df_dados_contabeis.to_dict(orient='records')\n",
        "    }\n"
      ]
    },
    {
      "cell_type": "markdown",
      "metadata": {},
      "source": [
        "##### 4.2 Chamar dados IA"
      ]
    },
    {
      "cell_type": "code",
      "execution_count": 42,
      "metadata": {},
      "outputs": [],
      "source": [
        "# Chamada da função com os dados disponíveis\n",
        "contexto_ia = preparar_para_llm(\n",
        "    df_indices=df_indices,\n",
        "    resultados_df_final=resultados_df_final,\n",
        "    top_indices_df=top_indices_df,\n",
        "    df_dados_contabeis=df_dados_contabeis\n",
        ")"
      ]
    },
    {
      "cell_type": "markdown",
      "metadata": {},
      "source": [
        "##### 4.3 Visualizar Dados IA"
      ]
    },
    {
      "cell_type": "code",
      "execution_count": 43,
      "metadata": {},
      "outputs": [
        {
          "name": "stdout",
          "output_type": "stream",
          "text": [
            "\n",
            "📦 DADOS PREPARADOS PARA IA (formato .json simplificado):\n",
            "{\n",
            "  \"cliente\": \"CARGOBR TRANSPORTES\",\n",
            "  \"periodo_analise\": \"2021–2023\",\n",
            "  \"indices_financeiros\": [\n",
            "    {\n",
            "      \"Margem Líquida\": 0.0,\n",
            "      \"ROA\": 0.0,\n",
            "      \"ROE\": 0.01,\n",
            "      \"EBITDA\": 132772,\n",
            "      \"Margem EBITDA\": 0.0,\n",
            "      \"Alavancagem\": 347.46,\n",
            "      \"Endividamento\": 0.79,\n",
            "      \"Imobilizado/Ativo\": 0.49,\n",
            "      \"Cobertura de Juros\": 4.16,\n",
            "      \"Giro do Ativo\": 1.26,\n",
            "      \"Período Médio de Recebimento\": 44.38,\n",
            "      \"Período Médio de Pagamento\": 32.54,\n",
            "      \"Liquidez Corrente\": 4.73,\n",
            "      \"CCL/Ativo Total\": 0.4\n",
            "    },\n",
            "    {\n",
            "      \"Margem Líquida\": 0.03,\n",
            "      \"ROA\": 0.02,\n",
            "      \"ROE\": 0.14,\n",
            "      \"EBITDA\": 1830700,\n",
            "      \"Margem EBITDA\": 0.04,\n",
            "      \"Alavancagem\": 31.2,\n",
            "      \"Endividamento\": 0.84,\n",
            "      \"Imobilizado/Ativo\": 0.48,\n",
            "      \"Cobertura de Juros\": 5.47,\n",
            "      \"Giro do Ativo\": 0.73,\n",
            "      \"Período Médio de Recebimento\": 77.36,\n",
            "      \"Período Médio de Pagamento\": 174.3,\n",
            "      \"Liquidez Corrente\": 2.12,\n",
            "      \"CCL/Ativo Total\": 0.27\n",
            "    },\n",
            "    {\n",
            "      \"Margem Líquida\": 0.08,\n",
            "      \"ROA\": 0.05,\n",
            "      \"ROE\": 0.27,\n",
            "      \"EBITDA\": 4893078,\n",
            "      \"Margem EBITDA\": 0.11,\n",
            "      \"Alavancagem\": 13.68,\n",
            "      \"Endividamento\": 0.83,\n",
            "      \"Imobilizado/Ativo\": 0.54,\n",
            "      \"Cobertura de Juros\": 4.28,\n",
            "      \"Giro do Ativo\": 0.56,\n",
            "      \"Período Médio de Recebimento\": 62.82,\n",
            "      \"Período Médio de Pagamento\": 213.56,\n",
            "      \"Liquidez Corrente\": 1.49,\n",
            "      \"CCL/Ativo Total\": 0.15\n",
            "    }\n",
            "  ],\n",
            "  \"finScore_resultado\": [\n",
            "    {\n",
            "      \"Métrica\": \"Finscore\",\n",
            "      \"Valor\": 872.5,\n",
            "      \"Categoria\": \"Levemente Abaixo do Risco\"\n",
            "    },\n",
            "    {\n",
            "      \"Métrica\": \"Serasa\",\n",
            "      \"Valor\": 550.0,\n",
            "      \"Categoria\": \"Bom\"\n",
            "    }\n",
            "  ],\n",
            "  \"pca_destaques\": [\n",
            "    {\n",
            "      \"PC\": \"PC1\",\n",
            "      \"Indice 1\": \"Giro do Ativo\",\n",
            "      \"Peso 1\": 0.297,\n",
            "      \"Indice 2\": \"CCL/Ativo Total\",\n",
            "      \"Peso 2\": 0.297,\n",
            "      \"Indice 3\": \"Período Médio de Pagamento\",\n",
            "      \"Peso 3\": 0.296\n",
            "    },\n",
            "    {\n",
            "      \"PC\": \"PC2\",\n",
            "      \"Indice 1\": \"Cobertura de Juros\",\n",
            "      \"Peso 1\": 0.572,\n",
            "      \"Indice 2\": \"Imobilizado/Ativo\",\n",
            "      \"Peso 2\": 0.439,\n",
            "      \"Indice 3\": \"Período Médio de Recebimento\",\n",
            "      \"Peso 3\": 0.43\n",
            "    },\n",
            "    {\n",
            "      \"PC\": \"PC3\",\n",
            "      \"Indice 1\": \"ROA\",\n",
            "      \"Peso 1\": 0.69,\n",
            "      \"Indice 2\": \"Margem Líquida\",\n",
            "      \"Peso 2\": 0.425,\n",
            "      \"Indice 3\": \"Giro do Ativo\",\n",
            "      \"Peso 3\": 0.255\n",
            "    }\n",
            "  ],\n",
            "  \"dados_contabeis\": [\n",
            "    {\n",
            "      \"ano\": 0,\n",
            "      \"p_Ativo_Circulante\": 29716613,\n",
            "      \"p_Ativo_Total\": 58240254,\n",
            "      \"p_Caixa\": 0,\n",
            "      \"p_Estoques\": 0,\n",
            "      \"p_Contas_a_Pagar\": 6048227,\n",
            "      \"p_Contas_a_Receber\": 8920741,\n",
            "      \"p_Passivo_Circulante\": 6279752,\n",
            "      \"p_Passivo_Total\": 58240254,\n",
            "      \"p_Patrimonio_Liquido\": 12106709,\n",
            "      \"r_Amortizacao\": 0,\n",
            "      \"r_Custos\": 67838821,\n",
            "      \"r_Depreciacao\": 0,\n",
            "      \"r_Despesa_de_Impostos\": 0,\n",
            "      \"r_Despesa_de_Juros\": 31879,\n",
            "      \"r_Lucro_Liquido\": 100893,\n",
            "      \"r_Receita_Total\": 73372438,\n",
            "      \"p_Divida_Bruta\": 46133545,\n",
            "      \"p_Divida_Liquida\": 46133545,\n",
            "      \"p_Imobilizado\": 28523641\n",
            "    },\n",
            "    {\n",
            "      \"ano\"\n"
          ]
        }
      ],
      "source": [
        "# Visualização opcional do dicionário gerado (útil para debug ou checagem)\n",
        "import json\n",
        "print('\\n📦 DADOS PREPARADOS PARA IA (formato .json simplificado):')\n",
        "print(json.dumps(contexto_ia, indent=2, ensure_ascii=False)[:3000])  # mostra só os primeiros 3000 caracteres"
      ]
    },
    {
      "cell_type": "code",
      "execution_count": 44,
      "metadata": {},
      "outputs": [],
      "source": [
        "# A versão com llm.invoke é ótima para validar o texto direto.\n",
        "\n",
        "# A versão com LLMChain vai te preparar para expandir depois (ex: exportar para Word, gerar resumo técnico, enviar via API."
      ]
    },
    {
      "cell_type": "markdown",
      "metadata": {},
      "source": [
        "#### 5. PARECER IA"
      ]
    },
    {
      "cell_type": "code",
      "execution_count": 45,
      "metadata": {},
      "outputs": [],
      "source": [
        "# https://platform.openai.com/docs/overview\n",
        "# https://platform.openai.com/settings/organization/billing/history\n",
        "# https://platform.openai.com/settings/organization/usage"
      ]
    },
    {
      "cell_type": "markdown",
      "metadata": {},
      "source": [
        "##### 5.1 Promp Finscore"
      ]
    },
    {
      "cell_type": "code",
      "execution_count": 46,
      "metadata": {},
      "outputs": [],
      "source": [
        "from langchain.prompts import PromptTemplate\n",
        "\n",
        "prompt_template = \"\"\"\n",
        "Você é um analista de crédito sênior de um banco de desenvolvimento. Recebeu os dados financeiros consolidados de uma empresa, contendo contas contábeis, índices financeiros, componentes principais (PCA) e os escores de risco FinScore e Serasa.\n",
        "\n",
        "Com base nesses dados, elabore um **parecer técnico completo** com os seguintes critérios:\n",
        "\n",
        "1. **INTRODUÇÃO**\n",
        "- Apresente o objetivo do parecer.\n",
        "- Identifique o cliente, o período da análise e o escopo da avaliação (contábil, econômico-financeira e de risco).\n",
        "\n",
        "2. **METODOLOGIA**\n",
        "- Explique o que é o FinScore, como é calculado (PCA + índices contábeis) e sua utilidade para análise de crédito.\n",
        "- Explique o Serasa Score como índice complementar e relacione ambos no contexto do diagnóstico de risco.\n",
        "- Diga que os índices foram padronizados e ponderados no tempo, destacando os principais vetores do PCA.\n",
        "\n",
        "3. **ANÁLISE DAS CONTAS CONTÁBEIS**\n",
        "- Apresente uma **tabela com os valores principais** (ativos, passivos, lucro, receitas, caixa etc.).\n",
        "- Comente **criticamente a evolução** desses valores ao longo do tempo, apontando **pontos fortes, riscos ou deteriorações**.\n",
        "\n",
        "4. **ANÁLISE DOS ÍNDICES FINANCEIROS**\n",
        "- Mostre uma **tabela com todos os índices calculados**.\n",
        "- Comente um a um: liquidez, rentabilidade, alavancagem, giro, cobertura de juros, prazos médios etc.\n",
        "- Destaque **os três mais relevantes** segundo o PCA e interprete **por que eles se destacam** e o que indicam.\n",
        "\n",
        "5. **FINSCORE E SERASA SCORE**\n",
        "- Apresente os dois scores obtidos, em formato **tabela com classificação**.\n",
        "- Comente **as classificações e coerência entre os escores**.\n",
        "- Relacione os escores com os dados contábeis e com a saúde financeira geral da empresa.\n",
        "\n",
        "6. **CONCLUSÃO E VEREDICTO FINAL**\n",
        "- Diga se recomenda a concessão de crédito (sim, não, sim com ressalvas).\n",
        "- Fundamente a decisão com base em dados objetivos e análises anteriores.\n",
        "- Seja **criterioso e técnico**, considerando o risco vs. retorno para a instituição.\n",
        "\n",
        "7. **RECOMENDAÇÕES PARA MITIGAÇÃO DE RISCOS**\n",
        "- Sugira garantias, limites prudenciais, cláusulas contratuais, acompanhamento contínuo do FinScore e envio trimestral de dados financeiros.\n",
        "- Se necessário, proponha exigência de avalistas ou reforço de capital.\n",
        "\n",
        "**IMPORTANTE:**  \n",
        "- Escreva com clareza, formalidade e linguagem técnica.\n",
        "- Insira as **tabelas e gráficos onde for pertinente** (mesmo que simbólicos, como: [Tabela: Índices Financeiros], [Gráfico: Evolução do Endividamento]).\n",
        "- Evite redundâncias. Destaque **o que os números revelam**.\n",
        "- Apresente **insights concretos** para o tomador de decisão.\n",
        "\n",
        "DADOS DISPONÍVEIS:\n",
        "- Cliente: {cliente}\n",
        "- Período da análise: {periodo_analise}\n",
        "- Contas contábeis: {dados_contabeis}\n",
        "- Índices financeiros: {indices_financeiros}\n",
        "- FinScore e Serasa: {finScore_resultado}\n",
        "- PCA (destaques): {pca_destaques}\n",
        "\"\"\"\n",
        "\n",
        "# Criar o PromptTemplate\n",
        "prompt = PromptTemplate.from_template(prompt_template)\n"
      ]
    },
    {
      "cell_type": "markdown",
      "metadata": {},
      "source": [
        "##### 5.2 Chave OpenAI"
      ]
    },
    {
      "cell_type": "code",
      "execution_count": 49,
      "metadata": {},
      "outputs": [
        {
          "name": "stdout",
          "output_type": "stream",
          "text": [
            "API_KEY carregada: False\n",
            "OPENAI_API_KEY não encontrada. Verifique seu arquivo .env.\n"
          ]
        }
      ],
      "source": [
        "from langchain.chat_models import ChatOpenAI\n",
        "from langchain.prompts import PromptTemplate\n",
        "from dotenv import load_dotenv\n",
        "import os\n",
        "\n",
        "# Carregar variáveis do .env\n",
        "load_dotenv()\n",
        "api_key = os.getenv('OPENAI_API_KEY')\n",
        "print(f'API_KEY carregada: {api_key is not None}')\n",
        "\n",
        "# Verificar se a chave foi carregada corretamente\n",
        "if api_key:\n",
        "    print('OPENAI_API_KEY carregada com sucesso.')\n",
        "else:\n",
        "    print('OPENAI_API_KEY não encontrada. Verifique seu arquivo .env.')"
      ]
    },
    {
      "cell_type": "code",
      "execution_count": 53,
      "metadata": {},
      "outputs": [
        {
          "name": "stdout",
          "output_type": "stream",
          "text": [
            "Diretório atual: C:\\Users\\ferna\\AppData\\Local\\Programs\\Microsoft VS Code\n"
          ]
        }
      ],
      "source": [
        "print(\"Diretório atual:\", os.getcwd())"
      ]
    },
    {
      "cell_type": "markdown",
      "metadata": {},
      "source": [
        "##### 5.3 Configurar modelo OpenAI com LangChain"
      ]
    },
    {
      "cell_type": "code",
      "execution_count": 48,
      "metadata": {},
      "outputs": [
        {
          "name": "stderr",
          "output_type": "stream",
          "text": [
            "C:\\Users\\ferna\\AppData\\Local\\Temp\\ipykernel_31316\\1921679759.py:15: LangChainDeprecationWarning: The class `ChatOpenAI` was deprecated in LangChain 0.0.10 and will be removed in 1.0. An updated version of the class exists in the :class:`~langchain-openai package and should be used instead. To use it run `pip install -U :class:`~langchain-openai` and import as `from :class:`~langchain_openai import ChatOpenAI``.\n",
            "  llm = ChatOpenAI(\n"
          ]
        },
        {
          "ename": "ValidationError",
          "evalue": "1 validation error for ChatOpenAI\n  Value error, Did not find openai_api_key, please add an environment variable `OPENAI_API_KEY` which contains it, or pass `openai_api_key` as a named parameter. [type=value_error, input_value={'temperature': 0.2, 'ope...ne, 'http_client': None}, input_type=dict]\n    For further information visit https://errors.pydantic.dev/2.10/v/value_error",
          "output_type": "error",
          "traceback": [
            "\u001b[1;31m---------------------------------------------------------------------------\u001b[0m",
            "\u001b[1;31mValidationError\u001b[0m                           Traceback (most recent call last)",
            "\u001b[1;32m~\\AppData\\Local\\Temp\\ipykernel_31316\\1921679759.py\u001b[0m in \u001b[0;36m<cell line: 0>\u001b[1;34m()\u001b[0m\n\u001b[0;32m     13\u001b[0m \u001b[1;33m\u001b[0m\u001b[0m\n\u001b[0;32m     14\u001b[0m \u001b[1;31m# Cria uma instância do modelo ChatGPT da OpenAI\u001b[0m\u001b[1;33m\u001b[0m\u001b[1;33m\u001b[0m\u001b[0m\n\u001b[1;32m---> 15\u001b[1;33m llm = ChatOpenAI(\n\u001b[0m\u001b[0;32m     16\u001b[0m     \u001b[0mtemperature\u001b[0m\u001b[1;33m=\u001b[0m\u001b[1;36m0.2\u001b[0m\u001b[1;33m,\u001b[0m       \u001b[1;31m# Baixa temperatura → respostas mais objetivas e determinísticas\u001b[0m\u001b[1;33m\u001b[0m\u001b[1;33m\u001b[0m\u001b[0m\n\u001b[0;32m     17\u001b[0m     \u001b[0mmodel\u001b[0m\u001b[1;33m=\u001b[0m\u001b[0mmodel\u001b[0m\u001b[1;33m,\u001b[0m           \u001b[1;31m# Usando o modelo definido acima\u001b[0m\u001b[1;33m\u001b[0m\u001b[1;33m\u001b[0m\u001b[0m\n",
            "\u001b[1;32mc:\\Users\\ferna\\.conda\\envs\\finscorev7\\Lib\\site-packages\\langchain_core\\_api\\deprecation.py\u001b[0m in \u001b[0;36mwarn_if_direct_instance\u001b[1;34m(self, *args, **kwargs)\u001b[0m\n\u001b[0;32m    219\u001b[0m                         \u001b[0mwarned\u001b[0m \u001b[1;33m=\u001b[0m \u001b[1;32mTrue\u001b[0m\u001b[1;33m\u001b[0m\u001b[1;33m\u001b[0m\u001b[0m\n\u001b[0;32m    220\u001b[0m                         \u001b[0memit_warning\u001b[0m\u001b[1;33m(\u001b[0m\u001b[1;33m)\u001b[0m\u001b[1;33m\u001b[0m\u001b[1;33m\u001b[0m\u001b[0m\n\u001b[1;32m--> 221\u001b[1;33m                     \u001b[1;32mreturn\u001b[0m \u001b[0mwrapped\u001b[0m\u001b[1;33m(\u001b[0m\u001b[0mself\u001b[0m\u001b[1;33m,\u001b[0m \u001b[1;33m*\u001b[0m\u001b[0margs\u001b[0m\u001b[1;33m,\u001b[0m \u001b[1;33m**\u001b[0m\u001b[0mkwargs\u001b[0m\u001b[1;33m)\u001b[0m\u001b[1;33m\u001b[0m\u001b[1;33m\u001b[0m\u001b[0m\n\u001b[0m\u001b[0;32m    222\u001b[0m \u001b[1;33m\u001b[0m\u001b[0m\n\u001b[0;32m    223\u001b[0m                 obj.__init__ = functools.wraps(obj.__init__)(  # type: ignore[misc]\n",
            "\u001b[1;32mc:\\Users\\ferna\\.conda\\envs\\finscorev7\\Lib\\site-packages\\langchain_core\\load\\serializable.py\u001b[0m in \u001b[0;36m__init__\u001b[1;34m(self, *args, **kwargs)\u001b[0m\n\u001b[0;32m    128\u001b[0m     \u001b[1;32mdef\u001b[0m \u001b[0m__init__\u001b[0m\u001b[1;33m(\u001b[0m\u001b[0mself\u001b[0m\u001b[1;33m,\u001b[0m \u001b[1;33m*\u001b[0m\u001b[0margs\u001b[0m\u001b[1;33m:\u001b[0m \u001b[0mAny\u001b[0m\u001b[1;33m,\u001b[0m \u001b[1;33m**\u001b[0m\u001b[0mkwargs\u001b[0m\u001b[1;33m:\u001b[0m \u001b[0mAny\u001b[0m\u001b[1;33m)\u001b[0m \u001b[1;33m->\u001b[0m \u001b[1;32mNone\u001b[0m\u001b[1;33m:\u001b[0m\u001b[1;33m\u001b[0m\u001b[1;33m\u001b[0m\u001b[0m\n\u001b[0;32m    129\u001b[0m         \u001b[1;34m\"\"\"\"\"\"\u001b[0m  \u001b[1;31m# noqa: D419\u001b[0m\u001b[1;33m\u001b[0m\u001b[1;33m\u001b[0m\u001b[0m\n\u001b[1;32m--> 130\u001b[1;33m         \u001b[0msuper\u001b[0m\u001b[1;33m(\u001b[0m\u001b[1;33m)\u001b[0m\u001b[1;33m.\u001b[0m\u001b[0m__init__\u001b[0m\u001b[1;33m(\u001b[0m\u001b[1;33m*\u001b[0m\u001b[0margs\u001b[0m\u001b[1;33m,\u001b[0m \u001b[1;33m**\u001b[0m\u001b[0mkwargs\u001b[0m\u001b[1;33m)\u001b[0m\u001b[1;33m\u001b[0m\u001b[1;33m\u001b[0m\u001b[0m\n\u001b[0m\u001b[0;32m    131\u001b[0m \u001b[1;33m\u001b[0m\u001b[0m\n\u001b[0;32m    132\u001b[0m     \u001b[1;33m@\u001b[0m\u001b[0mclassmethod\u001b[0m\u001b[1;33m\u001b[0m\u001b[1;33m\u001b[0m\u001b[0m\n",
            "\u001b[1;32mc:\\Users\\ferna\\.conda\\envs\\finscorev7\\Lib\\site-packages\\pydantic\\main.py\u001b[0m in \u001b[0;36m__init__\u001b[1;34m(self, **data)\u001b[0m\n\u001b[0;32m    212\u001b[0m         \u001b[1;31m# `__tracebackhide__` tells pytest and some other tools to omit this function from tracebacks\u001b[0m\u001b[1;33m\u001b[0m\u001b[1;33m\u001b[0m\u001b[0m\n\u001b[0;32m    213\u001b[0m         \u001b[0m__tracebackhide__\u001b[0m \u001b[1;33m=\u001b[0m \u001b[1;32mTrue\u001b[0m\u001b[1;33m\u001b[0m\u001b[1;33m\u001b[0m\u001b[0m\n\u001b[1;32m--> 214\u001b[1;33m         \u001b[0mvalidated_self\u001b[0m \u001b[1;33m=\u001b[0m \u001b[0mself\u001b[0m\u001b[1;33m.\u001b[0m\u001b[0m__pydantic_validator__\u001b[0m\u001b[1;33m.\u001b[0m\u001b[0mvalidate_python\u001b[0m\u001b[1;33m(\u001b[0m\u001b[0mdata\u001b[0m\u001b[1;33m,\u001b[0m \u001b[0mself_instance\u001b[0m\u001b[1;33m=\u001b[0m\u001b[0mself\u001b[0m\u001b[1;33m)\u001b[0m\u001b[1;33m\u001b[0m\u001b[1;33m\u001b[0m\u001b[0m\n\u001b[0m\u001b[0;32m    215\u001b[0m         \u001b[1;32mif\u001b[0m \u001b[0mself\u001b[0m \u001b[1;32mis\u001b[0m \u001b[1;32mnot\u001b[0m \u001b[0mvalidated_self\u001b[0m\u001b[1;33m:\u001b[0m\u001b[1;33m\u001b[0m\u001b[1;33m\u001b[0m\u001b[0m\n\u001b[0;32m    216\u001b[0m             warnings.warn(\n",
            "\u001b[1;31mValidationError\u001b[0m: 1 validation error for ChatOpenAI\n  Value error, Did not find openai_api_key, please add an environment variable `OPENAI_API_KEY` which contains it, or pass `openai_api_key` as a named parameter. [type=value_error, input_value={'temperature': 0.2, 'ope...ne, 'http_client': None}, input_type=dict]\n    For further information visit https://errors.pydantic.dev/2.10/v/value_error"
          ]
        }
      ],
      "source": [
        "from langchain_community.chat_models import ChatOpenAI\n",
        "\n",
        "# Escolher o modelo a ser utilizado\n",
        "modelo = 4 # '3.5' ou '4'\n",
        "\n",
        "# ifelse modelo gpt-3.5 ou gpt-4\n",
        "if modelo == 3.5:\n",
        "    model = 'gpt-3.5-turbo'\n",
        "elif modelo == 4:\n",
        "    model = 'gpt-4'\n",
        "else:\n",
        "    raise ValueError('Modelo inválido. Escolha entre 3.5 ou 4.')\n",
        "\n",
        "# Cria uma instância do modelo ChatGPT da OpenAI\n",
        "llm = ChatOpenAI(\n",
        "    temperature=0.2,       # Baixa temperatura → respostas mais objetivas e determinísticas\n",
        "    model=model,           # Usando o modelo definido acima\n",
        "    openai_api_key=api_key\n",
        ")\n",
        "\n",
        "print('Modelo ChatOpenAI configurado com sucesso.')\n"
      ]
    },
    {
      "cell_type": "markdown",
      "metadata": {},
      "source": [
        "##### 5.4 Gerar o relatório"
      ]
    },
    {
      "cell_type": "code",
      "execution_count": null,
      "metadata": {},
      "outputs": [
        {
          "name": "stdout",
          "output_type": "stream",
          "text": [
            "**PARECER TÉCNICO DE ANÁLISE DE CRÉDITO**\n",
            "\n",
            "**1. INTRODUÇÃO**\n",
            "\n",
            "Este parecer tem como objetivo avaliar a concessão de crédito para a empresa CARGOBR TRANSPORTES. A análise abrange o período de 2021 a 2023 e contempla a avaliação contábil, econômico-financeira e de risco.\n",
            "\n",
            "**2. METODOLOGIA**\n",
            "\n",
            "O FinScore é um índice de risco de crédito que combina a análise de componentes principais (PCA) com índices contábeis. Ele é útil para avaliar a capacidade de uma empresa em honrar suas obrigações financeiras. O Serasa Score é um índice complementar que avalia o histórico de crédito da empresa. Ambos os índices são relevantes para o diagnóstico de risco.\n",
            "\n",
            "Os índices foram padronizados e ponderados no tempo, com destaque para os principais vetores do PCA: Giro do Ativo, CCL/Ativo Total e Período Médio de Pagamento.\n",
            "\n",
            "**3. ANÁLISE DAS CONTAS CONTÁBEIS**\n",
            "\n",
            "[Tabela: Contas Contábeis]\n",
            "\n",
            "A empresa apresentou um aumento progressivo do Ativo Total e do Passivo Total ao longo do período analisado. O Lucro Líquido também apresentou crescimento, indicando uma melhora na performance operacional. No entanto, a Dívida Bruta e a Dívida Líquida também aumentaram, o que pode representar um risco de endividamento.\n",
            "\n",
            "**4. ANÁLISE DOS ÍNDICES FINANCEIROS**\n",
            "\n",
            "[Tabela: Índices Financeiros]\n",
            "\n",
            "Os índices de liquidez e rentabilidade apresentaram melhoras ao longo do período. No entanto, a alavancagem e o endividamento aumentaram, indicando um maior risco financeiro. O Giro do Ativo, CCL/Ativo Total e Período Médio de Pagamento se destacaram no PCA, indicando que a gestão do capital de giro e o prazo de pagamento são pontos críticos para a empresa.\n",
            "\n",
            "**5. FINSCORE E SERASA SCORE**\n",
            "\n",
            "[Tabela: FinScore e Serasa Score]\n",
            "\n",
            "O FinScore da empresa está levemente abaixo do risco, enquanto o Serasa Score classifica a empresa como boa. Há uma discrepância entre os dois escores, o que pode indicar uma diferença na avaliação do risco de crédito. Os escores estão relacionados com o aumento do endividamento e a gestão do capital de giro da empresa.\n",
            "\n",
            "**6. CONCLUSÃO E VEREDICTO FINAL**\n",
            "\n",
            "Recomenda-se a concessão de crédito com ressalvas. Apesar da melhora na performance operacional, a empresa apresenta um aumento do endividamento e desafios na gestão do capital de giro. É necessário considerar o risco versus retorno para a instituição.\n",
            "\n",
            "**7. RECOMENDAÇÕES PARA MITIGAÇÃO DE RISCOS**\n",
            "\n",
            "Sugere-se a exigência de garantias, limites prudenciais, cláusulas contratuais, acompanhamento contínuo do FinScore e envio trimestral de dados financeiros. Também pode ser necessário a exigência de avalistas ou reforço de capital.\n"
          ]
        }
      ],
      "source": [
        "prompt_final = prompt.format(**contexto_ia)\n",
        "resposta = llm.invoke(prompt_final)\n",
        "print(resposta.content) \n"
      ]
    },
    {
      "cell_type": "code",
      "execution_count": null,
      "metadata": {},
      "outputs": [],
      "source": [
        "# Fazer exportação word"
      ]
    }
  ],
  "metadata": {
    "colab": {
      "include_colab_link": true,
      "provenance": [],
      "toc_visible": true
    },
    "kernelspec": {
      "display_name": "finscorev7",
      "language": "python",
      "name": "python3"
    },
    "language_info": {
      "codemirror_mode": {
        "name": "ipython",
        "version": 3
      },
      "file_extension": ".py",
      "mimetype": "text/x-python",
      "name": "python",
      "nbconvert_exporter": "python",
      "pygments_lexer": "ipython3",
      "version": "3.11.11"
    }
  },
  "nbformat": 4,
  "nbformat_minor": 0
}
