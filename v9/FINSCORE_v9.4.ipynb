{
  "cells": [
    {
      "cell_type": "markdown",
      "metadata": {
        "colab_type": "text",
        "id": "view-in-github"
      },
      "source": [
        "<a href='https://colab.research.google.com/github/fernandovieira1/FinScore/blob/main/FINSCORE.ipynb' target='_parent'><img src='https://colab.research.google.com/assets/colab-badge.svg' alt='Open In Colab'/></a>"
      ]
    },
    {
      "cell_type": "code",
      "execution_count": null,
      "metadata": {},
      "outputs": [],
      "source": [
        "# Baseado em 'FINSCORE_v9.2.ipynb'"
      ]
    },
    {
      "cell_type": "markdown",
      "metadata": {
        "id": "BVq3lZyIpi39"
      },
      "source": [
        "**# INTRUÇÕES**"
      ]
    },
    {
      "cell_type": "markdown",
      "metadata": {
        "id": "euGOG_rppxHj"
      },
      "source": [
        "* Antes de iniciar, certifique-se de estar logado na sua conta Google.\n",
        "\n",
        "* Um botão azul 'Fazer login', localizado no canto superior direito da tela, aparecerá, se não.\n",
        "\n",
        "* Feito isto, basta inserir os dados nas seções abaixo descritas:\n",
        "    - 1.1 Cliente\n",
        "    - 1.2 Período\n",
        "    - 1.3 Score Serasa\n",
        "    - 1.4 Lançamento dos dados Contábeis (na planilha indicada no link)\n",
        "\n",
        "* Cada uma das seções mencionadas possui anotações sobre como proceder.\n",
        "\n",
        "* Logo após, clique no menu 'Ambiente de execução' e em 'Executar tudo' (ou CTR + F9), nesta ordem."
      ]
    },
    {
      "cell_type": "markdown",
      "metadata": {
        "id": "TosDurA7ruV-"
      },
      "source": [
        "##### 0. LANÇAMENTO DOS DADOS #####"
      ]
    },
    {
      "cell_type": "markdown",
      "metadata": {
        "id": "KyKo-splruV-"
      },
      "source": [
        "##### 0.1 Cliente"
      ]
    },
    {
      "cell_type": "markdown",
      "metadata": {
        "id": "NeLktENAUyKk"
      },
      "source": [
        "*--> Insira o nome do cliente/empresa*"
      ]
    },
    {
      "cell_type": "code",
      "execution_count": 45,
      "metadata": {
        "id": "tr245FSAruV-"
      },
      "outputs": [],
      "source": [
        "# Cliente\n",
        "cliente = 'CARGOBR TRANSPORTES'"
      ]
    },
    {
      "cell_type": "markdown",
      "metadata": {
        "id": "MzNBw_9sruV-"
      },
      "source": [
        "##### 0.2 Período"
      ]
    },
    {
      "cell_type": "markdown",
      "metadata": {
        "id": "s6AuejMzU5kI"
      },
      "source": [
        "*--> Insira os anos inicial (a primeira) e final (da última) das demonstrações contábeis que serviram de base para a análise*"
      ]
    },
    {
      "cell_type": "code",
      "execution_count": 46,
      "metadata": {
        "id": "RxizYtcNruV-"
      },
      "outputs": [],
      "source": [
        "# Ano Inicial\n",
        "ano_inicial = 2021"
      ]
    },
    {
      "cell_type": "code",
      "execution_count": 47,
      "metadata": {
        "id": "jwMbaC1YruV-"
      },
      "outputs": [],
      "source": [
        "# Ano Final\n",
        "ano_final = 2023"
      ]
    },
    {
      "cell_type": "markdown",
      "metadata": {},
      "source": [
        "##### 0.3 Score Serasa"
      ]
    },
    {
      "cell_type": "markdown",
      "metadata": {},
      "source": [
        "*--> Insira o score Serasa do cliente*"
      ]
    },
    {
      "cell_type": "code",
      "execution_count": 48,
      "metadata": {},
      "outputs": [],
      "source": [
        "# Serasa\n",
        "serasa = 550"
      ]
    },
    {
      "cell_type": "markdown",
      "metadata": {
        "id": "ltfWkSKBbXZW"
      },
      "source": [
        "##### 0.4 Lançamento dos dados Contábeis"
      ]
    },
    {
      "cell_type": "markdown",
      "metadata": {
        "id": "0H_oz1aijJdl"
      },
      "source": [
        "*--> Acesse a planilha abaixo (CTRL + click) e insira as informações nas linhas e colunas respectivas*"
      ]
    },
    {
      "cell_type": "code",
      "execution_count": 49,
      "metadata": {
        "colab": {
          "base_uri": "https://localhost:8080/",
          "height": 54
        },
        "id": "-U_sxpbibgzO",
        "outputId": "c1ea3dfa-c613-46a4-f27a-7944b798f37f"
      },
      "outputs": [
        {
          "data": {
            "text/plain": [
              "'https://docs.google.com/spreadsheets/d/1-BCv3gjwJ34HZqjWpOQxqXU1q_3s3r33/edit?gid=1575975872#gid=1575975872'"
            ]
          },
          "execution_count": 49,
          "metadata": {},
          "output_type": "execute_result"
        }
      ],
      "source": [
        "# Lance do ano mais recente para o mais antigo\n",
        "'https://docs.google.com/spreadsheets/d/1-BCv3gjwJ34HZqjWpOQxqXU1q_3s3r33/edit?gid=1575975872#gid=1575975872'"
      ]
    },
    {
      "cell_type": "markdown",
      "metadata": {
        "id": "Zq1LKEj8CaHh"
      },
      "source": [
        "*--> Agora basta clicar no menu 'Ambiente de execução' e em 'Executar tudo' (ou CTR + F9), nesta ordem.*"
      ]
    },
    {
      "cell_type": "markdown",
      "metadata": {
        "id": "cXq651E8ruV7"
      },
      "source": [
        "##### 1. CONFIGURAÇÃO DO AMBIENTE"
      ]
    },
    {
      "cell_type": "markdown",
      "metadata": {
        "id": "olzDXEN7ruV8"
      },
      "source": [
        "##### 1.1 Configuração do ambiente"
      ]
    },
    {
      "cell_type": "code",
      "execution_count": 50,
      "metadata": {
        "id": "ytzBO-d5ruV8"
      },
      "outputs": [],
      "source": [
        "import numpy as np\n",
        "import pandas as pd\n",
        "from sklearn.decomposition import PCA\n",
        "from sklearn.preprocessing import StandardScaler\n",
        "\n",
        "import pandas as pd\n",
        "import matplotlib.pyplot as plt\n",
        "import seaborn as sns\n",
        "\n",
        "import sys\n",
        "import subprocess\n",
        "import importlib.util\n"
      ]
    },
    {
      "cell_type": "code",
      "execution_count": 51,
      "metadata": {
        "id": "hDDDDbUCmTaR"
      },
      "outputs": [],
      "source": [
        "%%capture\n",
        "# Lista de pacotes necessários\n",
        "required_packages = ['gspread', 'pandas', 'gspread_dataframe', 'openpyxl']\n",
        "\n",
        "# Verificar e instalar pacotes que não estão instalados\n",
        "def install_missing_packages(packages):\n",
        "    for package in packages:\n",
        "        if importlib.util.find_spec(package) is None:\n",
        "            print(f'⚠ Instalando {package}...')\n",
        "            subprocess.check_call([sys.executable, '-m', 'pip', 'install', '--upgrade', package])\n",
        "        else:\n",
        "            print(f'✔ {package} já está instalado')\n",
        "\n",
        "install_missing_packages(required_packages)"
      ]
    },
    {
      "cell_type": "code",
      "execution_count": 52,
      "metadata": {
        "id": "ToAAKzWckBxH"
      },
      "outputs": [],
      "source": [
        "# Definir o ID da planilha e da aba (worksheet)\n",
        "sheet_id = '1-BCv3gjwJ34HZqjWpOQxqXU1q_3s3r33'\n",
        "gid = '1575975872'  # ID da aba específica\n",
        "\n",
        "# Construir a URL para baixar a planilha como um arquivo Excel (.xlsx)\n",
        "url = f'https://docs.google.com/spreadsheets/d/{sheet_id}/export?format=xlsx&id={sheet_id}&gid={gid}'\n",
        "\n",
        "# Ler a planilha diretamente no Pandas\n",
        "df_dados_contabeis = pd.read_excel(url, engine='openpyxl')"
      ]
    },
    {
      "cell_type": "code",
      "execution_count": 53,
      "metadata": {
        "id": "5N9taplKruV9"
      },
      "outputs": [],
      "source": [
        "# Função para calcular os índices contábeis\n",
        "def calcular_indices_contabeis(df):\n",
        "    indices = {}\n",
        "\n",
        "    indices['Liquidez Corrente'] = df['Ativo Circulante'] / df['Passivo Circulante']\n",
        "    # Ativo Circulante: BP\n",
        "    # Passivo Circulante: BP\n",
        "    # => A liquidez corrente mede a capacidade da empresa de pagar suas obrigações de curto prazo.\n",
        "\n",
        "    indices['Liquidez Seca'] = (df['Ativo Circulante'] - df['Estoques']) / df['Passivo Circulante']\n",
        "    # Ativo Circulante: BP\n",
        "    # Estoque: BP\n",
        "    # Passivo Circulante: BP\n",
        "    # => A liquidez seca é uma medida de liquidez que desconsidera o estoque da empresa.\n",
        "\n",
        "    indices['Margem Líquida'] = df['Lucro Líquido'] / df['Receita Total']\n",
        "    # Lucro Líquido: DRE\n",
        "    # Receita Total: DRE\n",
        "    # => A margem líquida mede a porcentagem de lucro líquido que a empresa gera para cada real de receita.\n",
        "\n",
        "    indices['ROA'] = df['Lucro Líquido'] / df['Ativo Total']\n",
        "    # Lucro Líquido: DRE\n",
        "    # Ativo Total: BP\n",
        "    # => O retorno sobre ativos (ROA) mede a eficiência da empresa em gerar lucro a partir de seus ativos.\n",
        "\n",
        "    indices['ROE'] = df['Lucro Líquido'] / df['Patrimônio Líquido']\n",
        "    # Lucro Líquido: DRE\n",
        "    # Patrimônio Líquido: BP\n",
        "    # => O retorno sobre o patrimônio líquido (ROE) mede a eficiência da empresa em gerar lucro a partir de seu patrimônio líquido.\n",
        "\n",
        "    indices['Endividamento'] = df['Passivo Total'] / df['Ativo Total']\n",
        "    # Passivo Total: BP\n",
        "    # Ativo Total: BP\n",
        "    # => O endividamento mede a proporção de dívidas da empresa em relação ao total de ativos.\n",
        "\n",
        "    indices['Cobertura de Juros'] = df['EBIT'] / df['Despesa de Juros']\n",
        "    # EBIT: DRE (Lucro antes de juros e impostos)\n",
        "    # Despesa de Juros: DRE\n",
        "    # => A cobertura de juros mede a capacidade da empresa de pagar seus juros com seu lucro antes de juros e impostos.\n",
        "    # => Reflete a capacidade de gerar resultados com suas atividades principais\n",
        "\n",
        "    indices['Giro do Ativo'] = df['Receita Total'] / df['Ativo Total']\n",
        "    # Ativo Total: BP\n",
        "    # Receita Total: DRE\n",
        "    # => O giro do ativo mede a eficiência da empresa em gerar receita a partir de seus ativos.\n",
        "\n",
        "    indices['Período Médio de Recebimento'] = df['Contas a Receber'] / df['Receita Total'] * 365\n",
        "    # Contas a Receber: BP\n",
        "    # Receita Total: DRE\n",
        "    # => O período médio de recebimento mede o tempo médio que a empresa leva para receber suas vendas.\n",
        "\n",
        "    indices['Período Médio de Pagamento'] = df['Contas a Pagar'] / df['Custos'] * 365\n",
        "    # Contas a Pagar: BP\n",
        "    # Custos: DRE\n",
        "    # => O período médio de pagamento mede o tempo médio que a empresa leva para pagar seus custos.\n",
        "\n",
        "    return pd.DataFrame(indices)\n",
        "\n"
      ]
    },
    {
      "cell_type": "markdown",
      "metadata": {
        "id": "_p8hSremruV-"
      },
      "source": [
        "##### 1.2 Importação dos Dados Contábeis"
      ]
    },
    {
      "cell_type": "code",
      "execution_count": 54,
      "metadata": {
        "id": "Lhk9GqNfruV-"
      },
      "outputs": [],
      "source": [
        "## Importar os dados\n",
        "# - Do mais recente para o mais antigo\n",
        "\n",
        "# arquivo_dados_contabeis = '/content/dados_contabeis_global.xlsx'\n",
        "arquivo_dados_contabeis = df_dados_contabeis"
      ]
    },
    {
      "cell_type": "code",
      "execution_count": 55,
      "metadata": {
        "colab": {
          "base_uri": "https://localhost:8080/",
          "height": 198
        },
        "id": "JUFBrnuBnb1X",
        "outputId": "2689913e-012e-4a65-cb0c-aff53c304a09"
      },
      "outputs": [
        {
          "data": {
            "text/html": [
              "<div>\n",
              "<style scoped>\n",
              "    .dataframe tbody tr th:only-of-type {\n",
              "        vertical-align: middle;\n",
              "    }\n",
              "\n",
              "    .dataframe tbody tr th {\n",
              "        vertical-align: top;\n",
              "    }\n",
              "\n",
              "    .dataframe thead th {\n",
              "        text-align: right;\n",
              "    }\n",
              "</style>\n",
              "<table border=\"1\" class=\"dataframe\">\n",
              "  <thead>\n",
              "    <tr style=\"text-align: right;\">\n",
              "      <th></th>\n",
              "      <th>Ano</th>\n",
              "      <th>Ativo Circulante</th>\n",
              "      <th>Passivo Circulante</th>\n",
              "      <th>Estoques</th>\n",
              "      <th>Lucro Líquido</th>\n",
              "      <th>Receita Total</th>\n",
              "      <th>Ativo Total</th>\n",
              "      <th>Patrimônio Líquido</th>\n",
              "      <th>Passivo Total</th>\n",
              "      <th>EBIT</th>\n",
              "      <th>Despesa de Juros</th>\n",
              "      <th>Contas a Receber</th>\n",
              "      <th>Contas a Pagar</th>\n",
              "      <th>Custos</th>\n",
              "    </tr>\n",
              "  </thead>\n",
              "  <tbody>\n",
              "    <tr>\n",
              "      <th>0</th>\n",
              "      <td>0</td>\n",
              "      <td>29716613</td>\n",
              "      <td>6279752</td>\n",
              "      <td>6006118</td>\n",
              "      <td>100893</td>\n",
              "      <td>73372438</td>\n",
              "      <td>58240254</td>\n",
              "      <td>12106709</td>\n",
              "      <td>58240254</td>\n",
              "      <td>-862968</td>\n",
              "      <td>31879</td>\n",
              "      <td>8920741</td>\n",
              "      <td>6048227</td>\n",
              "      <td>67838821</td>\n",
              "    </tr>\n",
              "    <tr>\n",
              "      <th>1</th>\n",
              "      <td>1</td>\n",
              "      <td>35030579</td>\n",
              "      <td>16514038</td>\n",
              "      <td>16237310</td>\n",
              "      <td>1496210</td>\n",
              "      <td>49372166</td>\n",
              "      <td>67992387</td>\n",
              "      <td>10874130</td>\n",
              "      <td>67992387</td>\n",
              "      <td>434788</td>\n",
              "      <td>334490</td>\n",
              "      <td>10463734</td>\n",
              "      <td>16076322</td>\n",
              "      <td>33665834</td>\n",
              "    </tr>\n",
              "    <tr>\n",
              "      <th>2</th>\n",
              "      <td>2</td>\n",
              "      <td>37531910</td>\n",
              "      <td>25235400</td>\n",
              "      <td>26218915</td>\n",
              "      <td>3748957</td>\n",
              "      <td>45676317</td>\n",
              "      <td>80987685</td>\n",
              "      <td>14031963</td>\n",
              "      <td>80987685</td>\n",
              "      <td>1126033</td>\n",
              "      <td>1144121</td>\n",
              "      <td>7861523</td>\n",
              "      <td>19191518</td>\n",
              "      <td>32800463</td>\n",
              "    </tr>\n",
              "  </tbody>\n",
              "</table>\n",
              "</div>"
            ],
            "text/plain": [
              "   Ano  Ativo Circulante  Passivo Circulante  Estoques  Lucro Líquido  \\\n",
              "0    0          29716613             6279752   6006118         100893   \n",
              "1    1          35030579            16514038  16237310        1496210   \n",
              "2    2          37531910            25235400  26218915        3748957   \n",
              "\n",
              "   Receita Total  Ativo Total  Patrimônio Líquido  Passivo Total     EBIT  \\\n",
              "0       73372438     58240254            12106709       58240254  -862968   \n",
              "1       49372166     67992387            10874130       67992387   434788   \n",
              "2       45676317     80987685            14031963       80987685  1126033   \n",
              "\n",
              "   Despesa de Juros  Contas a Receber  Contas a Pagar    Custos  \n",
              "0             31879           8920741         6048227  67838821  \n",
              "1            334490          10463734        16076322  33665834  \n",
              "2           1144121           7861523        19191518  32800463  "
            ]
          },
          "execution_count": 55,
          "metadata": {},
          "output_type": "execute_result"
        }
      ],
      "source": [
        "arquivo_dados_contabeis"
      ]
    },
    {
      "cell_type": "markdown",
      "metadata": {
        "id": "fHH5wcF4ruV_"
      },
      "source": [
        "##### 1.3 Leitura dos Dados Contábeis"
      ]
    },
    {
      "cell_type": "code",
      "execution_count": 56,
      "metadata": {
        "colab": {
          "base_uri": "https://localhost:8080/"
        },
        "id": "VjzcTmKLruV_",
        "outputId": "d28636c8-52a4-44a9-d6f6-1a0862eb4bd3"
      },
      "outputs": [
        {
          "name": "stdout",
          "output_type": "stream",
          "text": [
            "Dados Contabeis Importados:\n",
            "   Ano  Ativo Circulante  Passivo Circulante  Estoques  Lucro Líquido  \\\n",
            "0    0          29716613             6279752   6006118         100893   \n",
            "1    1          35030579            16514038  16237310        1496210   \n",
            "2    2          37531910            25235400  26218915        3748957   \n",
            "\n",
            "   Receita Total  Ativo Total  Patrimônio Líquido  Passivo Total     EBIT  \\\n",
            "0       73372438     58240254            12106709       58240254  -862968   \n",
            "1       49372166     67992387            10874130       67992387   434788   \n",
            "2       45676317     80987685            14031963       80987685  1126033   \n",
            "\n",
            "   Despesa de Juros  Contas a Receber  Contas a Pagar    Custos  \n",
            "0             31879           8920741         6048227  67838821  \n",
            "1            334490          10463734        16076322  33665834  \n",
            "2           1144121           7861523        19191518  32800463  \n"
          ]
        }
      ],
      "source": [
        "df_dados_contabeis = arquivo_dados_contabeis\n",
        "print('Dados Contabeis Importados:')\n",
        "print(df_dados_contabeis)"
      ]
    },
    {
      "cell_type": "markdown",
      "metadata": {
        "id": "KhQE3FG1ruV_"
      },
      "source": [
        "##### 2. PROCESSAMENTO DO MODELO #####"
      ]
    },
    {
      "cell_type": "markdown",
      "metadata": {
        "id": "wQKCxENhruV_"
      },
      "source": [
        "##### 2.1 Índices contábeis"
      ]
    },
    {
      "cell_type": "code",
      "execution_count": 57,
      "metadata": {
        "colab": {
          "base_uri": "https://localhost:8080/"
        },
        "id": "vmq8UHOZruV_",
        "outputId": "cf6ff74b-034f-4ae7-ea82-66306ecd1da1"
      },
      "outputs": [
        {
          "name": "stdout",
          "output_type": "stream",
          "text": [
            "\n",
            "Índices Contábeis Calculados:\n"
          ]
        }
      ],
      "source": [
        "df_indices = calcular_indices_contabeis(df_dados_contabeis).round(2)\n",
        "print('\\nÍndices Contábeis Calculados:')"
      ]
    },
    {
      "cell_type": "code",
      "execution_count": 58,
      "metadata": {},
      "outputs": [],
      "source": [
        "if (df_dados_contabeis['Estoques'] == 0).all():\n",
        "        del df_indices['Liquidez Seca']"
      ]
    },
    {
      "cell_type": "code",
      "execution_count": 59,
      "metadata": {},
      "outputs": [
        {
          "name": "stdout",
          "output_type": "stream",
          "text": [
            "   Liquidez Corrente  Liquidez Seca  Margem Líquida   ROA   ROE  \\\n",
            "0               4.73           3.78            0.00  0.00  0.01   \n",
            "1               2.12           1.14            0.03  0.02  0.14   \n",
            "2               1.49           0.45            0.08  0.05  0.27   \n",
            "\n",
            "   Endividamento  Cobertura de Juros  Giro do Ativo  \\\n",
            "0            1.0              -27.07           1.26   \n",
            "1            1.0                1.30           0.73   \n",
            "2            1.0                0.98           0.56   \n",
            "\n",
            "   Período Médio de Recebimento  Período Médio de Pagamento  \n",
            "0                         44.38                       32.54  \n",
            "1                         77.36                      174.30  \n",
            "2                         62.82                      213.56  \n"
          ]
        }
      ],
      "source": [
        "print(df_indices)"
      ]
    },
    {
      "cell_type": "markdown",
      "metadata": {
        "id": "eKbXhxBuruV_"
      },
      "source": [
        "##### 2.2 Padronização dos índices contábeis"
      ]
    },
    {
      "cell_type": "code",
      "execution_count": 60,
      "metadata": {
        "colab": {
          "base_uri": "https://localhost:8080/"
        },
        "id": "wPM-ryaKruWA",
        "outputId": "8ac2015b-15c1-4c0f-e181-73fc47d25a16"
      },
      "outputs": [
        {
          "name": "stdout",
          "output_type": "stream",
          "text": [
            "\n",
            "Índices Escalados para PCA:\n",
            "[[ 1.39023519  1.38670066 -1.1111678  -1.13554995 -1.22474487  0.\n",
            "  -1.41414533  1.37535374 -1.27006502 -1.38383806]\n",
            " [-0.47054114 -0.45294243 -0.20203051 -0.16222142  0.          0.\n",
            "   0.71910368 -0.40254256  1.1737357   0.43944297]\n",
            " [-0.91969405 -0.93375823  1.31319831  1.29777137  1.22474487  0.\n",
            "   0.69504165 -0.97281118  0.09632932  0.94439509]]\n"
          ]
        }
      ],
      "source": [
        "# Escalar os índices contábeis para o PCA\n",
        "scaler = StandardScaler()\n",
        "indices_scaled = scaler.fit_transform(df_indices)\n",
        "print('\\nÍndices Escalados para PCA:')\n",
        "print(indices_scaled)"
      ]
    },
    {
      "cell_type": "markdown",
      "metadata": {
        "id": "pqUIqgEbruWA"
      },
      "source": [
        "##### 2.3 Cálculo do PCA"
      ]
    },
    {
      "cell_type": "code",
      "execution_count": 61,
      "metadata": {
        "colab": {
          "base_uri": "https://localhost:8080/"
        },
        "id": "EfRGM1e7ruWA",
        "outputId": "175669c5-5c42-479f-d891-53a6f37aed3c"
      },
      "outputs": [
        {
          "name": "stdout",
          "output_type": "stream",
          "text": [
            "\n",
            "Componentes Principais (PCA):\n",
            "[[ 3.89674676e+00 -3.38677875e-01  1.07504658e-16]\n",
            " [-1.05483722e+00  1.27707971e+00  1.07504658e-16]\n",
            " [-2.84190954e+00 -9.38401836e-01  1.07504658e-16]]\n"
          ]
        }
      ],
      "source": [
        "# Realizar o PCA\n",
        "pca = PCA()\n",
        "pca_result = pca.fit_transform(indices_scaled)\n",
        "print('\\nComponentes Principais (PCA):')\n",
        "print(pca_result)\n",
        "\n",
        "#relatório\n"
      ]
    },
    {
      "cell_type": "markdown",
      "metadata": {
        "id": "Yx75wxXcruWA"
      },
      "source": [
        "##### 2.4 Variância Explicada PCA"
      ]
    },
    {
      "cell_type": "code",
      "execution_count": 62,
      "metadata": {
        "colab": {
          "base_uri": "https://localhost:8080/"
        },
        "id": "bWReshMkruWA",
        "outputId": "984a1f9f-9f93-43f2-f258-548921d36771"
      },
      "outputs": [
        {
          "name": "stdout",
          "output_type": "stream",
          "text": [
            "\n",
            "Variância Explicada por Componente:\n",
            "[9.02732100e-01 9.72678999e-02 1.28413905e-33]\n"
          ]
        }
      ],
      "source": [
        "# Variância explicada pelos componentes principais\n",
        "explained_variance_ratio = pca.explained_variance_ratio_\n",
        "print('\\nVariância Explicada por Componente:')\n",
        "print(explained_variance_ratio)\n",
        "\n",
        "#relatório"
      ]
    },
    {
      "cell_type": "markdown",
      "metadata": {
        "id": "LawCVNrvruWA"
      },
      "source": [
        "##### 2.5 DataFrame PCA"
      ]
    },
    {
      "cell_type": "code",
      "execution_count": 63,
      "metadata": {
        "colab": {
          "base_uri": "https://localhost:8080/"
        },
        "id": "CrGTgCGeruWA",
        "outputId": "adbe94cc-a547-46df-80d1-a9c785de802e"
      },
      "outputs": [
        {
          "name": "stdout",
          "output_type": "stream",
          "text": [
            "\n",
            "Matriz de Componentes Principais:\n",
            "        PC1       PC2           PC3\n",
            "0  3.896747 -0.338678  1.075047e-16\n",
            "1 -1.054837  1.277080  1.075047e-16\n",
            "2 -2.841910 -0.938402  1.075047e-16\n"
          ]
        }
      ],
      "source": [
        "# DataFrame com os componentes principais\n",
        "pca_df = pd.DataFrame(pca_result, columns=[f'PC{i+1}' for i in range(pca_result.shape[1])])\n",
        "print('\\nMatriz de Componentes Principais:')\n",
        "print(pca_df)\n",
        "\n",
        "#relatório"
      ]
    },
    {
      "cell_type": "markdown",
      "metadata": {
        "id": "7SoXw22MruWA"
      },
      "source": [
        "##### 2.6 Matriz de cargas"
      ]
    },
    {
      "cell_type": "code",
      "execution_count": 64,
      "metadata": {
        "colab": {
          "base_uri": "https://localhost:8080/"
        },
        "id": "EK1KERu9ruWA",
        "outputId": "bb6a7a86-966f-4e8d-a914-00d93f145232"
      },
      "outputs": [
        {
          "name": "stdout",
          "output_type": "stream",
          "text": [
            "Matriz de Cargas dos Componentes Principais:\n",
            "     Liquidez Corrente  Liquidez Seca  Margem Líquida       ROA       ROE  \\\n",
            "PC1           0.349861       0.350174       -0.322019 -0.325841 -0.338607   \n",
            "PC2          -0.079474      -0.065435       -0.424177 -0.396162 -0.279681   \n",
            "PC3          -0.542705       0.687730        0.143489 -0.220460  0.040277   \n",
            "\n",
            "     Endividamento  Cobertura de Juros  Giro do Ativo  \\\n",
            "PC1           -0.0           -0.338247       0.350732   \n",
            "PC2           -0.0            0.283701      -0.025509   \n",
            "PC3            0.0            0.121808      -0.316467   \n",
            "\n",
            "     Período Médio de Recebimento  Período Médio de Pagamento  \n",
            "PC1                     -0.265079                   -0.350372  \n",
            "PC2                      0.700129                    0.054701  \n",
            "PC3                     -0.063809                   -0.206458  \n",
            "\n",
            "Índices mais significativos por componente:\n",
            "\n",
            "PC1:\n",
            "Giro do Ativo                 0.350732\n",
            "Período Médio de Pagamento    0.350372\n",
            "Liquidez Seca                 0.350174\n",
            "Name: PC1, dtype: float64\n",
            "\n",
            "PC2:\n",
            "Período Médio de Recebimento    0.700129\n",
            "Margem Líquida                  0.424177\n",
            "ROA                             0.396162\n",
            "Name: PC2, dtype: float64\n",
            "\n",
            "PC3:\n",
            "Liquidez Seca        0.687730\n",
            "Liquidez Corrente    0.542705\n",
            "Giro do Ativo        0.316467\n",
            "Name: PC3, dtype: float64\n"
          ]
        }
      ],
      "source": [
        "# Obter a matriz de cargas\n",
        "loadings = pd.DataFrame(\n",
        "    pca.components_,\n",
        "    columns=df_indices.columns,\n",
        "    index=[f'PC{i+1}' for i in range(pca.components_.shape[0])]\n",
        ")\n",
        "\n",
        "print('Matriz de Cargas dos Componentes Principais:')\n",
        "print(loadings)\n",
        "\n",
        "# Identificar os índices mais significativos para cada PC\n",
        "print('\\nÍndices mais significativos por componente:')\n",
        "for pc in loadings.index:\n",
        "    print(f'\\n{pc}:')\n",
        "    print(loadings.loc[pc].abs().sort_values(ascending=False).head(3))  # Top 3 índices mais significativos\n",
        "\n",
        "#relatório"
      ]
    },
    {
      "cell_type": "markdown",
      "metadata": {
        "id": "e77SN51hruWB"
      },
      "source": [
        "##### 2.7 Escore final"
      ]
    },
    {
      "cell_type": "code",
      "execution_count": 65,
      "metadata": {
        "colab": {
          "base_uri": "https://localhost:8080/",
          "height": 178
        },
        "id": "KUoMhOd0ruWB",
        "outputId": "cceb0c9a-3844-4ff7-c64b-e55323f59a3a"
      },
      "outputs": [
        {
          "data": {
            "text/plain": [
              "0    3.484776\n",
              "1   -0.828017\n",
              "2   -2.656759\n",
              "dtype: float64"
            ]
          },
          "execution_count": 65,
          "metadata": {},
          "output_type": "execute_result"
        }
      ],
      "source": [
        "pca_df.dot(explained_variance_ratio)"
      ]
    },
    {
      "cell_type": "markdown",
      "metadata": {
        "id": "MOWTgmyaruWB"
      },
      "source": [
        "##### 3. RESULTADOS #####"
      ]
    },
    {
      "cell_type": "markdown",
      "metadata": {
        "id": "Te19Q490ruWB"
      },
      "source": [
        "##### 3.1A Finscore Bruto"
      ]
    },
    {
      "cell_type": "code",
      "execution_count": 66,
      "metadata": {},
      "outputs": [],
      "source": [
        "# Função para categorizar escores consolidados com mais granularidade\n",
        "def categorias_finscore_bruto(escores):\n",
        "    categorias = []\n",
        "    for escore in escores:\n",
        "        if escore > 1.5:\n",
        "            categorias.append('Muito Abaixo do Risco')\n",
        "        elif 1.0 < escore <= 1.5:\n",
        "            categorias.append('Levemente Abaixo do Risco')\n",
        "        elif -1.0 <= escore <= 1.0:\n",
        "            categorias.append('Neutro')\n",
        "        elif -1.5 < escore < -1.0:\n",
        "            categorias.append('Levemente Acima do Risco')\n",
        "        else:\n",
        "            categorias.append('Muito Acima do Risco')\n",
        "    return categorias\n",
        "\n",
        "# Tabela de Categorias:\n",
        "# -------------------------------------------------------\n",
        "# |   Intervalo do Escore   |      Categoria            |\n",
        "# -------------------------------------------------------\n",
        "# |  escore > 1.5           | Muito Abaixo do Risco     |\n",
        "# |  1.0 < escore ≤ 1.5     | Levemente Abaixo do Risco |\n",
        "# | -1.0 ≤ escore ≤ 1.0     | Neutro                    |\n",
        "# | -1.5 < escore < -1.0    | Levemente Acima do Risco  |\n",
        "# |  escore ≤ -1.5          | Muito Acima do Risco      |\n",
        "# -------------------------------------------------------"
      ]
    },
    {
      "cell_type": "code",
      "execution_count": 67,
      "metadata": {
        "colab": {
          "base_uri": "https://localhost:8080/"
        },
        "id": "GvWTD2_bruWB",
        "outputId": "c25ab70a-2539-4bff-ae70-a3f183c3a6ec"
      },
      "outputs": [
        {
          "name": "stdout",
          "output_type": "stream",
          "text": [
            "\n",
            "FINSCORE BRUTO:\n",
            "1.49\n",
            "\n",
            "CLASSIFICAÇÃO FINSCORE BRUTO:\n",
            "Levemente Abaixo do Risco\n"
          ]
        }
      ],
      "source": [
        "# Calcular o escore consolidado com penalização do último ano\n",
        "# Do mais recente para o mais antigo: 0.5, 0.3, 0.2\n",
        "pesos = [0.6, 0.25, 0.15]  # Pesos para os três anos\n",
        "finscore_bruto = round((pca_df.dot(explained_variance_ratio) * pesos).sum(), 2)\n",
        "print('\\nFINSCORE BRUTO:')\n",
        "print(finscore_bruto)\n",
        "print('\\nCLASSIFICAÇÃO FINSCORE BRUTO:')\n",
        "print(categorias_finscore_bruto([finscore_bruto])[0])\n"
      ]
    },
    {
      "cell_type": "markdown",
      "metadata": {
        "id": "Qd0mMdVyruWE"
      },
      "source": [
        "##### 3.1B Finscore Ajustado"
      ]
    },
    {
      "cell_type": "code",
      "execution_count": 68,
      "metadata": {},
      "outputs": [],
      "source": [
        "# Este é o finscore que será considerado para o relatório."
      ]
    },
    {
      "cell_type": "code",
      "execution_count": 69,
      "metadata": {},
      "outputs": [],
      "source": [
        "# Função para categorizar escores consolidados com mais granularidade\n",
        "def categorias_finscore_ajustado(escore):\n",
        "    if escore > 750:\n",
        "        return 'Muito Abaixo do Risco'\n",
        "    elif 500 < escore <= 750:\n",
        "        return 'Levemente Abaixo do Risco'\n",
        "    elif 250 <= escore <= 500:\n",
        "        return 'Neutro'\n",
        "    elif 100 < escore < 250:\n",
        "        return 'Levemente Acima do Risco'\n",
        "    else:\n",
        "        return 'Muito Acima do Risco'\n",
        "\n",
        "\n",
        "# Tabela de Categorias:\n",
        "# -------------------------------------------------------\n",
        "# |   Intervalo do Escore  |      Categoria            |\n",
        "# -------------------------------------------------------\n",
        "# |  escore > 750          | Muito Abaixo do Risco     |\n",
        "# |  500 < escore ≤ 750    | Levemente Abaixo do Risco |\n",
        "# | 250 ≤ escore ≤ 500     | Neutro                    |\n",
        "# | 100 < escore < 250     | Levemente Acima do Risco  |\n",
        "# |  escore ≤ 250          | Muito Acima do Risco      |\n",
        "# -------------------------------------------------------"
      ]
    },
    {
      "cell_type": "code",
      "execution_count": 70,
      "metadata": {},
      "outputs": [],
      "source": [
        "# Traduz a tendência em um escore de risco ajustado ao ponto de referência atual do cliente.\n",
        "finscore_ajustado = round(min(((finscore_bruto + 2)/4)*1000, 1000), 2)\n",
        "\n",
        "# Converte escore bruto (-2 a +2) para uma escala de 0 a 1000, truncando em 1000.\n"
      ]
    },
    {
      "cell_type": "code",
      "execution_count": 71,
      "metadata": {
        "colab": {
          "base_uri": "https://localhost:8080/"
        },
        "id": "6FfhV8HtruWE",
        "outputId": "31196038-090e-496d-ad08-8fd00c51d23e"
      },
      "outputs": [
        {
          "name": "stdout",
          "output_type": "stream",
          "text": [
            "\n",
            "FINSCORE AJUSTADO:\n",
            "872.5\n",
            "\n",
            "CLASSIFICAÇÃO FINSCORE AJUSTADO:\n",
            "Muito Abaixo do Risco\n"
          ]
        }
      ],
      "source": [
        "print('\\nFINSCORE AJUSTADO:')\n",
        "print(finscore_ajustado)\n",
        "print('\\nCLASSIFICAÇÃO FINSCORE AJUSTADO:')\n",
        "print(categorias_finscore_ajustado(finscore_ajustado))"
      ]
    },
    {
      "cell_type": "markdown",
      "metadata": {},
      "source": [
        "##### 3.2 Serasa"
      ]
    },
    {
      "cell_type": "code",
      "execution_count": 72,
      "metadata": {},
      "outputs": [],
      "source": [
        "# Função para categorizar escores conforme a classificação do Serasa\n",
        "def categorias_serasa(score):\n",
        "    if score > 700:\n",
        "        return 'Excelente'\n",
        "    elif score > 500:\n",
        "        return 'Bom'\n",
        "    elif score > 300:\n",
        "        return 'Baixo'\n",
        "    else:\n",
        "        return 'Muito Baixo'\n",
        "\n",
        "\n",
        "\n",
        "# Tabela de Categorias:\n",
        "# ---------------------------------\n",
        "# |   Intervalo do Escore  | Categoria  |\n",
        "# ---------------------------------\n",
        "# |  701 a 1.000          | Excelente  |\n",
        "# |  501 a 700            | Bom        |\n",
        "# |  301 a 500            | Baixo      |\n",
        "# |  0 a 300              | Muito Baixo|\n",
        "# ---------------------------------"
      ]
    },
    {
      "cell_type": "code",
      "execution_count": 73,
      "metadata": {},
      "outputs": [
        {
          "name": "stdout",
          "output_type": "stream",
          "text": [
            "\n",
            "SERASA:\n",
            "550\n",
            "\n",
            "CLASSIFICAÇÃO SERASA:\n",
            "Bom\n"
          ]
        }
      ],
      "source": [
        "print('\\nSERASA:')\n",
        "print(serasa)\n",
        "print('\\nCLASSIFICAÇÃO SERASA:')\n",
        "print(categorias_serasa(serasa))"
      ]
    },
    {
      "cell_type": "markdown",
      "metadata": {
        "id": "n0VaQrgOruWE"
      },
      "source": [
        "##### 3.3 Valores e Contas Contábeis"
      ]
    },
    {
      "cell_type": "code",
      "execution_count": 74,
      "metadata": {
        "colab": {
          "base_uri": "https://localhost:8080/",
          "height": 198
        },
        "id": "mGlnSUpwruWF",
        "outputId": "d1e083f1-2133-4911-d1fd-6443f2380963"
      },
      "outputs": [
        {
          "data": {
            "text/html": [
              "<div>\n",
              "<style scoped>\n",
              "    .dataframe tbody tr th:only-of-type {\n",
              "        vertical-align: middle;\n",
              "    }\n",
              "\n",
              "    .dataframe tbody tr th {\n",
              "        vertical-align: top;\n",
              "    }\n",
              "\n",
              "    .dataframe thead th {\n",
              "        text-align: right;\n",
              "    }\n",
              "</style>\n",
              "<table border=\"1\" class=\"dataframe\">\n",
              "  <thead>\n",
              "    <tr style=\"text-align: right;\">\n",
              "      <th></th>\n",
              "      <th>Ano</th>\n",
              "      <th>Ativo Circulante</th>\n",
              "      <th>Passivo Circulante</th>\n",
              "      <th>Estoques</th>\n",
              "      <th>Lucro Líquido</th>\n",
              "      <th>Receita Total</th>\n",
              "      <th>Ativo Total</th>\n",
              "      <th>Patrimônio Líquido</th>\n",
              "      <th>Passivo Total</th>\n",
              "      <th>EBIT</th>\n",
              "      <th>Despesa de Juros</th>\n",
              "      <th>Contas a Receber</th>\n",
              "      <th>Contas a Pagar</th>\n",
              "      <th>Custos</th>\n",
              "    </tr>\n",
              "  </thead>\n",
              "  <tbody>\n",
              "    <tr>\n",
              "      <th>0</th>\n",
              "      <td>0</td>\n",
              "      <td>29716613</td>\n",
              "      <td>6279752</td>\n",
              "      <td>6006118</td>\n",
              "      <td>100893</td>\n",
              "      <td>73372438</td>\n",
              "      <td>58240254</td>\n",
              "      <td>12106709</td>\n",
              "      <td>58240254</td>\n",
              "      <td>-862968</td>\n",
              "      <td>31879</td>\n",
              "      <td>8920741</td>\n",
              "      <td>6048227</td>\n",
              "      <td>67838821</td>\n",
              "    </tr>\n",
              "    <tr>\n",
              "      <th>1</th>\n",
              "      <td>1</td>\n",
              "      <td>35030579</td>\n",
              "      <td>16514038</td>\n",
              "      <td>16237310</td>\n",
              "      <td>1496210</td>\n",
              "      <td>49372166</td>\n",
              "      <td>67992387</td>\n",
              "      <td>10874130</td>\n",
              "      <td>67992387</td>\n",
              "      <td>434788</td>\n",
              "      <td>334490</td>\n",
              "      <td>10463734</td>\n",
              "      <td>16076322</td>\n",
              "      <td>33665834</td>\n",
              "    </tr>\n",
              "    <tr>\n",
              "      <th>2</th>\n",
              "      <td>2</td>\n",
              "      <td>37531910</td>\n",
              "      <td>25235400</td>\n",
              "      <td>26218915</td>\n",
              "      <td>3748957</td>\n",
              "      <td>45676317</td>\n",
              "      <td>80987685</td>\n",
              "      <td>14031963</td>\n",
              "      <td>80987685</td>\n",
              "      <td>1126033</td>\n",
              "      <td>1144121</td>\n",
              "      <td>7861523</td>\n",
              "      <td>19191518</td>\n",
              "      <td>32800463</td>\n",
              "    </tr>\n",
              "  </tbody>\n",
              "</table>\n",
              "</div>"
            ],
            "text/plain": [
              "   Ano  Ativo Circulante  Passivo Circulante  Estoques  Lucro Líquido  \\\n",
              "0    0          29716613             6279752   6006118         100893   \n",
              "1    1          35030579            16514038  16237310        1496210   \n",
              "2    2          37531910            25235400  26218915        3748957   \n",
              "\n",
              "   Receita Total  Ativo Total  Patrimônio Líquido  Passivo Total     EBIT  \\\n",
              "0       73372438     58240254            12106709       58240254  -862968   \n",
              "1       49372166     67992387            10874130       67992387   434788   \n",
              "2       45676317     80987685            14031963       80987685  1126033   \n",
              "\n",
              "   Despesa de Juros  Contas a Receber  Contas a Pagar    Custos  \n",
              "0             31879           8920741         6048227  67838821  \n",
              "1            334490          10463734        16076322  33665834  \n",
              "2           1144121           7861523        19191518  32800463  "
            ]
          },
          "execution_count": 74,
          "metadata": {},
          "output_type": "execute_result"
        }
      ],
      "source": [
        "df_dados_contabeis\n",
        "# Sendo 0 o mais recente e 2 o mais antigo"
      ]
    },
    {
      "cell_type": "markdown",
      "metadata": {
        "id": "OggCqRbIruWF"
      },
      "source": [
        "##### 3.4 Índices contábeis"
      ]
    },
    {
      "cell_type": "code",
      "execution_count": 75,
      "metadata": {
        "colab": {
          "base_uri": "https://localhost:8080/"
        },
        "id": "VRwxA5mRruWF",
        "outputId": "40a07120-840b-4b59-d44e-a95cf4e2da84"
      },
      "outputs": [
        {
          "name": "stdout",
          "output_type": "stream",
          "text": [
            "   Liquidez Corrente  Liquidez Seca  Margem Líquida   ROA   ROE  \\\n",
            "0               4.73           3.78            0.00  0.00  0.01   \n",
            "1               2.12           1.14            0.03  0.02  0.14   \n",
            "2               1.49           0.45            0.08  0.05  0.27   \n",
            "\n",
            "   Endividamento  Cobertura de Juros  Giro do Ativo  \\\n",
            "0            1.0              -27.07           1.26   \n",
            "1            1.0                1.30           0.73   \n",
            "2            1.0                0.98           0.56   \n",
            "\n",
            "   Período Médio de Recebimento  Período Médio de Pagamento  \n",
            "0                         44.38                       32.54  \n",
            "1                         77.36                      174.30  \n",
            "2                         62.82                      213.56  \n"
          ]
        }
      ],
      "source": [
        "print(df_indices)\n",
        "# Sendo 0 o mais recente e 2 o mais antigo\n"
      ]
    },
    {
      "cell_type": "markdown",
      "metadata": {
        "id": "Y97BrJOiruWF"
      },
      "source": [
        "##### 4. APRESENTAÇÃO #####"
      ]
    },
    {
      "cell_type": "markdown",
      "metadata": {
        "id": "lRFYtoiYruWF"
      },
      "source": [
        "##### 4.1 Criação dos dfs"
      ]
    },
    {
      "cell_type": "code",
      "execution_count": 76,
      "metadata": {},
      "outputs": [
        {
          "name": "stdout",
          "output_type": "stream",
          "text": [
            "Bom\n"
          ]
        }
      ],
      "source": [
        "print(categorias_serasa(serasa))"
      ]
    },
    {
      "cell_type": "code",
      "execution_count": 77,
      "metadata": {},
      "outputs": [
        {
          "data": {
            "text/html": [
              "<div>\n",
              "<style scoped>\n",
              "    .dataframe tbody tr th:only-of-type {\n",
              "        vertical-align: middle;\n",
              "    }\n",
              "\n",
              "    .dataframe tbody tr th {\n",
              "        vertical-align: top;\n",
              "    }\n",
              "\n",
              "    .dataframe thead th {\n",
              "        text-align: right;\n",
              "    }\n",
              "</style>\n",
              "<table border=\"1\" class=\"dataframe\">\n",
              "  <thead>\n",
              "    <tr style=\"text-align: right;\">\n",
              "      <th></th>\n",
              "      <th>Métrica</th>\n",
              "      <th>Valor</th>\n",
              "      <th>Categoria</th>\n",
              "    </tr>\n",
              "  </thead>\n",
              "  <tbody>\n",
              "    <tr>\n",
              "      <th>0</th>\n",
              "      <td>Finscore Ajustado</td>\n",
              "      <td>872.5</td>\n",
              "      <td>Muito Abaixo do Risco</td>\n",
              "    </tr>\n",
              "    <tr>\n",
              "      <th>1</th>\n",
              "      <td>Serasa</td>\n",
              "      <td>550.0</td>\n",
              "      <td>Bom</td>\n",
              "    </tr>\n",
              "  </tbody>\n",
              "</table>\n",
              "</div>"
            ],
            "text/plain": [
              "             Métrica  Valor              Categoria\n",
              "0  Finscore Ajustado  872.5  Muito Abaixo do Risco\n",
              "1             Serasa  550.0                    Bom"
            ]
          },
          "execution_count": 77,
          "metadata": {},
          "output_type": "execute_result"
        }
      ],
      "source": [
        "# Df resultados principais\n",
        "resultados_df = pd.DataFrame({\n",
        "    'Métrica': ['Finscore Ajustado', 'Serasa'],\n",
        "    'Valor': [finscore_ajustado, serasa],\n",
        "    'Categoria': [\n",
        "        categorias_finscore_ajustado(finscore_ajustado),\n",
        "        categorias_serasa(serasa)\n",
        "    ]\n",
        "})\n",
        "resultados_df"
      ]
    },
    {
      "cell_type": "markdown",
      "metadata": {
        "id": "cqIfVy3FruWF"
      },
      "source": [
        "##### 4.2 Tabela Resumo"
      ]
    },
    {
      "cell_type": "code",
      "execution_count": 78,
      "metadata": {},
      "outputs": [
        {
          "data": {
            "text/plain": [
              "872.5"
            ]
          },
          "execution_count": 78,
          "metadata": {},
          "output_type": "execute_result"
        }
      ],
      "source": [
        "finscore_ajustado"
      ]
    },
    {
      "cell_type": "code",
      "execution_count": 79,
      "metadata": {},
      "outputs": [
        {
          "name": "stdout",
          "output_type": "stream",
          "text": [
            "Muito Abaixo do Risco\n"
          ]
        }
      ],
      "source": [
        "print(categorias_finscore_ajustado(finscore_ajustado))"
      ]
    },
    {
      "cell_type": "code",
      "execution_count": 80,
      "metadata": {},
      "outputs": [
        {
          "name": "stdout",
          "output_type": "stream",
          "text": [
            "Bom\n"
          ]
        }
      ],
      "source": [
        "print(categorias_serasa(serasa))"
      ]
    },
    {
      "cell_type": "code",
      "execution_count": 81,
      "metadata": {},
      "outputs": [
        {
          "data": {
            "image/png": "[encoded data removed]",
            "text/plain": [
              "<Figure size 1400x1200 with 3 Axes>"
            ]
          },
          "metadata": {},
          "output_type": "display_data"
        }
      ],
      "source": [
        "\n",
        "# --- Ajuste principal: inverter a ordem do df_indices se necessário ---\n",
        "df_indices = df_indices.iloc[::-1].reset_index(drop=True)\n",
        "\n",
        "## FORMATAR PADRÃO BR\n",
        "# Cópia do df original\n",
        "df_dados_contabeis_milhoes = df_dados_contabeis.copy()\n",
        "\n",
        "# Excluindo a coluna 'Ano' antes de realizar as transformações\n",
        "df_dados_contabeis_milhoes = df_dados_contabeis_milhoes.drop(columns=['Ano'])\n",
        "\n",
        "# Dividindo os valores das colunas numéricas por 1.000.000\n",
        "for col in df_dados_contabeis_milhoes.select_dtypes(include=['float64', 'int64']).columns:\n",
        "    df_dados_contabeis_milhoes[col] = df_dados_contabeis_milhoes[col] / 1_000_000\n",
        "\n",
        "# Formatando os valores para o padrão brasileiro (R$ 1.000.000,00)\n",
        "df_dados_contabeis_milhoes = df_dados_contabeis_milhoes.map(\n",
        "    lambda x: f'R$ {x:,.2f}'.replace(',', 'X').replace('.', ',').replace('X', '.')\n",
        "    if isinstance(x, (int, float)) else x\n",
        ")\n",
        "\n",
        "## INSERIR A COLUNA 'ANO' NAS TABELAS 'Dados Contábeis' e 'Índices Financeiros'\n",
        "anos = list(map(str, range(ano_inicial, ano_final + 1)))  # Criando lista correta de anos\n",
        "\n",
        "# Ajustando tamanho das listas de anos conforme o número de linhas nos DataFrames\n",
        "df_dados_contabeis_milhoes.insert(0, 'Ano', anos[:len(df_dados_contabeis_milhoes)])\n",
        "df_indices.insert(0, 'Ano', anos[:len(df_indices)])\n",
        "\n",
        "## DF RESULTADOS PRINCIPAIS\n",
        "resultados_df = pd.DataFrame({\n",
        "    'Métrica': ['Finscore', 'Serasa'],\n",
        "    'Valor': [finscore_ajustado, serasa],\n",
        "    'Categoria': [\n",
        "        categorias_finscore_ajustado(finscore_ajustado),\n",
        "        categorias_serasa(serasa)\n",
        "    ]\n",
        "})\n",
        "\n",
        "## INSERINDO QUEBRA DE LINHA NOS CABEÇALHOS\n",
        "df_dados_contabeis_milhoes.columns = [col.replace(' ', '\\n') for col in df_dados_contabeis_milhoes.columns]\n",
        "df_indices.columns = [col.replace(' ', '\\n') for col in df_indices.columns]\n",
        "resultados_df.columns = [col.replace(' ', '\\n') for col in resultados_df.columns]\n",
        "\n",
        "## CABEÇALHO\n",
        "fig, axs = plt.subplots(nrows=3, figsize=(14, 12))\n",
        "\n",
        "# Ajustando o espaçamento entre os subplots\n",
        "plt.subplots_adjust(hspace=1.2)  # Aumentando a separação entre as tabelas\n",
        "\n",
        "fig.suptitle(\n",
        "    f'CÁLCULO FINSCORE - {cliente} - Período base {ano_inicial} - {ano_final}',\n",
        "    fontsize=14, fontweight='bold'\n",
        ")\n",
        "\n",
        "## TABELAS\n",
        "def add_table(ax, df, title, top_padding=0.5):\n",
        "    ax.axis('tight')\n",
        "    ax.axis('off')\n",
        "\n",
        "    # Ajuste dinâmico da largura das colunas\n",
        "    num_cols = len(df.columns)\n",
        "    col_widths = [0.15] * num_cols  # Largura padrão\n",
        "    if 'Categoria' in df.columns:\n",
        "        col_widths[-1] = 0.5  # Maior largura para 'Categoria'\n",
        "\n",
        "    table = ax.table(\n",
        "        cellText=df.values,\n",
        "        colLabels=df.columns,\n",
        "        cellLoc='center', loc='center',\n",
        "        colWidths=col_widths\n",
        "    )\n",
        "    \n",
        "    table.auto_set_font_size(False)\n",
        "    table.set_fontsize(10)\n",
        "    table.scale(1.3, 1.3)  # Ajustando escala para melhor legibilidade\n",
        "    \n",
        "    # Aumentando a altura da linha do cabeçalho\n",
        "    for col in range(len(df.columns)):\n",
        "        table[(0, col)].set_height(0.3)\n",
        "    \n",
        "    # Destacando o cabeçalho com negrito\n",
        "    for key, cell in table._cells.items():\n",
        "        if key[0] == 0:  # Se for a primeira linha (cabeçalho)\n",
        "            cell.set_fontsize(10)\n",
        "            cell.set_text_props(weight='bold')\n",
        "        else:\n",
        "            cell.set_text_props(ha='center', va='center', wrap=True)  # Ajuste para quebras de linha\n",
        "            cell.set_height(0.2)  # Aumentando altura para melhor ajuste de texto\n",
        "\n",
        "    # Ajustar a posição do título para ficar mais centralizado\n",
        "    ax.set_title(title, fontsize=12, fontweight='bold', pad=top_padding)\n",
        "    ax.title.set_y(1.1)  # Levando o título um pouco para cima\n",
        "\n",
        "# Adicionando cada tabela com ajuste fino do título\n",
        "add_table(axs[0], resultados_df, 'FinScore Calculado', top_padding=1.0)\n",
        "add_table(axs[1], df_dados_contabeis_milhoes, 'Dados Contábeis\\n(Em Milhões de R$)', top_padding=1.5)\n",
        "add_table(axs[2], df_indices, 'Índices Financeiros', top_padding=1.5)\n",
        "\n",
        "plt.show()\n"
      ]
    },
    {
      "cell_type": "markdown",
      "metadata": {
        "id": "sG94dL8tyCBR"
      },
      "source": [
        "#### 5. MODELO IA"
      ]
    },
    {
      "cell_type": "code",
      "execution_count": 82,
      "metadata": {},
      "outputs": [],
      "source": [
        "# Etapas a seguir:\n",
        "# [PASSO 1] Instalar e importar os pacotes do LangChain necessários (langchain, openai etc).\n",
        "\n",
        "# [PASSO 2] Instanciar a LLM ChatOpenAI (modelo da OpenAI via LangChain) usando a chave OPENAI_API_KEY.\n",
        "\n",
        "# [PASSO 3] Criar o PromptTemplate do LangChain com variáveis nomeadas, substituindo o f-string por placeholders seguros.\n",
        "\n",
        "# [PASSO 4] Preencher e formatar o template com os dados do seu script (cliente, ano_inicial, dados_contabeis_str, etc).\n",
        "\n",
        "# [PASSO 5] Chamar a LLM (llm.invoke(...)) e receber a resposta da IA com a análise.\n",
        "\n",
        "# [PASSO 6] (Opcional, mas recomendado) Salvar a resposta em um arquivo Word (.docx) com formatação simples e clara.\n",
        "\n",
        "# [PASSO 7] (Futuro) Tornar o sistema mais robusto com controle de erros, logs e possibilidade de escolher o modelo (GPT-4, GPT-3.5 etc)."
      ]
    },
    {
      "cell_type": "markdown",
      "metadata": {},
      "source": [
        "##### 5.1 Promp Finscore"
      ]
    },
    {
      "cell_type": "code",
      "execution_count": 83,
      "metadata": {},
      "outputs": [],
      "source": [
        "from langchain.prompts import PromptTemplate\n",
        "\n",
        "# Converte os DataFrames para string legível (markdown é mais claro para LLMs)\n",
        "dados_contabeis_str = df_dados_contabeis.to_markdown(index=False)\n",
        "indices_financeiros_str = df_indices.to_markdown(index=False)\n",
        "\n",
        "# Avaliações categóricas\n",
        "categoria_finscore = categorias_finscore_ajustado(finscore_ajustado)\n",
        "categoria_serasa = categorias_serasa(serasa)\n",
        "\n",
        "# Template para IA\n",
        "prompt_template = f'''\n",
        "Gere um relatório detalhado de análise de crédito para o cliente abaixo, considerando sua situação financeira com base nos dados contábeis, índices financeiros e classificação final do FinScore.\n",
        "\n",
        "========================== INÍCIO ==========================\n",
        "\n",
        "1. INTRODUÇÃO:\n",
        "--------------------------------------\n",
        "Este parecer tem como objetivo fornecer uma análise detalhada da situação financeira da empresa analisada, com base em seus demonstrativos contábeis.  \n",
        "**Nome da empresa:** {cliente}  \n",
        "**Período da análise:** {ano_inicial} a {ano_final}  \n",
        "\n",
        "Serão avaliados os dados contábeis, os principais índices financeiros e os escores de risco, com o intuito de apresentar um veredito técnico sobre a viabilidade da concessão de crédito à empresa.\n",
        "\n",
        "2. CAPACIDADE DE PAGAMENTO:\n",
        "--------------------------------------\n",
        "A análise financeira da empresa segue as diretrizes metodológicas do FinScore, conforme descrito no documento de referência.\n",
        "\n",
        "**O que é o FinScore e como ele é calculado?**  \n",
        "O FinScore é um indicador consolidado que avalia a saúde financeira da empresa com base em diversos índices financeiros, processados por meio de técnicas estatísticas avançadas como o PCA (Análise de Componentes Principais).\n",
        "\n",
        "3. ANÁLISE DOS ÍNDICES FINANCEIROS:\n",
        "--------------------------------------\n",
        "A seguir estão os dados contábeis extraídos para a análise financeira:\n",
        "\n",
        "{dados_contabeis_str}\n",
        "\n",
        "Monte a tabela com todos os valores listados em 'df_dados_contabeis' e critique cada uma das contas abaixo, relacionando-as aos objetivos deste trabalho:\n",
        "- Ativo Circulante\n",
        "- Passivo Circulante\n",
        "- Estoques\n",
        "- Lucro Líquido\n",
        "- Receita Total\n",
        "- Ativo Total\n",
        "- Patrimônio Líquido\n",
        "- Passivo Total\n",
        "- EBIT\n",
        "- Despesa de Juros\n",
        "- Contas a Receber\n",
        "- Contas a Pagar\n",
        "- Custos\n",
        "\n",
        "**Interprete sobretudo os valores a seguir:**\n",
        "- A relação entre Ativo Circulante e Passivo Circulante indica liquidez suficiente?\n",
        "- O Lucro Líquido está positivo ou negativo? Quais as implicações financeiras?\n",
        "- O Endividamento sugere dependência excessiva de capital de terceiros?\n",
        "\n",
        "Os índices financeiros a seguir são fundamentais para avaliar a liquidez, a rentabilidade e a estrutura de capital da empresa:\n",
        "\n",
        "{indices_financeiros_str}\n",
        "\n",
        "Monte a tabela com os valores listados em 'df_indices' e critique, um por um, os seguintes indicadores:\n",
        "- Liquidez Corrente\n",
        "- Liquidez Seca\n",
        "- Margem Líquida\n",
        "- ROA\n",
        "- ROE\n",
        "- Endividamento\n",
        "- Cobertura de Juros\n",
        "- Giro do Ativo\n",
        "- Período Médio de Recebimento\n",
        "- Período Médio de Pagamento\n",
        "\n",
        "**Interprete com atenção os seguintes pontos:**\n",
        "- Índices de liquidez abaixo de 1 podem indicar risco de iliquidez.\n",
        "- Margem Líquida muito baixa compromete a rentabilidade.\n",
        "- ROA e ROE negativos sugerem que os ativos ou o patrimônio não estão gerando retorno adequado.\n",
        "- Alto Endividamento aliado a baixa Cobertura de Juros sinaliza risco elevado de crédito.\n",
        "\n",
        "4. ANÁLISE DA CAPACIDADE DE PAGAMENTO, FINSCORE E SERASA:\n",
        "--------------------------------------\n",
        "- **FinScore Ajustado:** {finscore_ajustado:.2f} | **Categoria:** {categoria_finscore}\n",
        "- **Serasa Score:** {serasa:.2f} | **Categoria:** {categoria_serasa}\n",
        "\n",
        "Com base na convergência (ou divergência) entre o FinScore e o Serasa Score, qual é sua avaliação sobre a capacidade de pagamento da empresa?  \n",
        "Reflita com base nos conceitos metodológicos, nas informações extraídas e nos objetivos da análise.\n",
        "\n",
        "5. VEREDICTO FINAL:\n",
        "--------------------------------------\n",
        "O FinScore Final deve ser interpretado como o parâmetro sintético da análise, reunindo os principais elementos financeiros e estatísticos disponíveis.\n",
        "\n",
        "Com base nos resultados e evidências apresentadas, qual é sua conclusão sobre a concessão de crédito à empresa?  \n",
        "Fundamente sua resposta com base nos dados e critérios técnicos utilizados.\n",
        "\n",
        "6. RECOMENDAÇÕES PARA MITIGAÇÃO DE RISCOS:\n",
        "--------------------------------------\n",
        "- Caso a empresa possua garantias reais (como recebíveis ou ativos fixos), recomenda-se sua vinculação para mitigar riscos.\n",
        "- Se não for viável, considerar alternativas como seguro de crédito, fiança ou retenção de parcelas.\n",
        "- Estabelecer limite de crédito compatível com a capacidade de pagamento evidenciada.\n",
        "- Implementar o monitoramento contínuo dos indicadores financeiros da empresa.\n",
        "\n",
        "========================== FIM ==========================\n",
        "'''\n"
      ]
    },
    {
      "cell_type": "markdown",
      "metadata": {},
      "source": [
        "##### 5.2 Chave OpenAI"
      ]
    },
    {
      "cell_type": "code",
      "execution_count": 84,
      "metadata": {},
      "outputs": [],
      "source": [
        "# https://platform.openai.com/docs/overview"
      ]
    },
    {
      "cell_type": "code",
      "execution_count": 85,
      "metadata": {},
      "outputs": [],
      "source": [
        "from langchain.chat_models import ChatOpenAI\n",
        "from langchain.prompts import PromptTemplate\n",
        "from dotenv import load_dotenv\n",
        "import os\n",
        "\n"
      ]
    },
    {
      "cell_type": "code",
      "execution_count": 86,
      "metadata": {},
      "outputs": [
        {
          "name": "stdout",
          "output_type": "stream",
          "text": [
            "OPENAI_API_KEY carregada com sucesso.\n"
          ]
        }
      ],
      "source": [
        "# Carregar variáveis do .env\n",
        "load_dotenv()\n",
        "api_key = os.getenv('OPENAI_API_KEY')\n",
        "\n",
        "# Verificar se a chave foi carregada corretamente\n",
        "if api_key:\n",
        "    print('OPENAI_API_KEY carregada com sucesso.')\n",
        "else:\n",
        "    print('OPENAI_API_KEY não encontrada. Verifique seu arquivo .env.')\n"
      ]
    },
    {
      "cell_type": "markdown",
      "metadata": {},
      "source": [
        "##### 5.3 Configurar modelo OpenAI com LangChain"
      ]
    },
    {
      "cell_type": "code",
      "execution_count": 87,
      "metadata": {},
      "outputs": [
        {
          "name": "stdout",
          "output_type": "stream",
          "text": [
            "Modelo ChatOpenAI configurado com sucesso.\n"
          ]
        }
      ],
      "source": [
        "from langchain_community.chat_models import ChatOpenAI\n",
        "\n",
        "# Escolher o modelo a ser utilizado\n",
        "modelo = 3.5 # '3.5' ou '4'\n",
        "\n",
        "# ifelse modelo gpt-3.5 ou gpt-4\n",
        "model = 'gpt-3.5-turbo' if modelo == 3.5 else ('gpt-4' if modelo == 4 else \n",
        "    exec(\"raise ValueError('Modelo inválido. Escolha entre 3.5 ou 4.')\"))\n",
        "\n",
        "# Cria uma instância do modelo ChatGPT da OpenAI\n",
        "llm = ChatOpenAI(\n",
        "    temperature=0.2,       # Baixa temperatura → respostas mais objetivas e determinísticas\n",
        "    model=model,           # Usando o modelo definido acima\n",
        "    openai_api_key=api_key\n",
        ")\n",
        "\n",
        "print('Modelo ChatOpenAI configurado com sucesso.')\n"
      ]
    },
    {
      "cell_type": "markdown",
      "metadata": {},
      "source": []
    },
    {
      "cell_type": "markdown",
      "metadata": {},
      "source": [
        "##### 5.4 Gerar o relatório"
      ]
    },
    {
      "cell_type": "code",
      "execution_count": 88,
      "metadata": {},
      "outputs": [
        {
          "name": "stdout",
          "output_type": "stream",
          "text": [
            "\n",
            "========== RELATÓRIO GERADO ==========\n",
            "\n",
            "**RELATÓRIO DE ANÁLISE DE CRÉDITO**\n",
            "\n",
            "1. INTRODUÇÃO:\n",
            "--------------------------------------\n",
            "**Nome da empresa:** CARGOBR TRANSPORTES  \n",
            "**Período da análise:** 2021 a 2023  \n",
            "\n",
            "2. CAPACIDADE DE PAGAMENTO:\n",
            "--------------------------------------\n",
            "O FinScore é um indicador consolidado que avalia a saúde financeira da empresa com base em diversos índices financeiros.  \n",
            "**FinScore Ajustado:** 872.50 | **Categoria:** Muito Abaixo do Risco  \n",
            "**Serasa Score:** 550.00 | **Categoria:** Bom  \n",
            "\n",
            "3. ANÁLISE DOS ÍNDICES FINANCEIROS:\n",
            "--------------------------------------\n",
            "**Dados Contábeis:**\n",
            "|   Ano |   Ativo Circulante |   Passivo Circulante |    Estoques |    Lucro Líquido |   Receita Total |   Ativo Total |   Patrimônio Líquido |   Passivo Total |              EBIT |   Despesa de Juros |   Contas a Receber |   Contas a Pagar |      Custos |\n",
            "|------:|-------------------:|---------------------:|------------:|-----------------:|----------------:|--------------:|---------------------:|----------------:|------------------:|-------------------:|-------------------:|-----------------:|------------:|\n",
            "|     0 |        2.97166e+07 |          6.27975e+06 | 6.00612e+06 | 100893           |     7.33724e+07 |   5.82403e+07 |          1.21067e+07 |     5.82403e+07 | -862968           |    31879           |        8.92074e+06 |      6.04823e+06 | 6.78388e+07 |\n",
            "|     1 |        3.50306e+07 |          1.6514e+07  | 1.62373e+07 |      1.49621e+06 |     4.93722e+07 |   6.79924e+07 |          1.08741e+07 |     6.79924e+07 |  434788           |   334490           |        1.04637e+07 |      1.60763e+07 | 3.36658e+07 |\n",
            "|     2 |        3.75319e+07 |          2.52354e+07 | 2.62189e+07 |      3.74896e+06 |     4.56763e+07 |   8.09877e+07 |          1.4032e+07  |     8.09877e+07 |       1.12603e+06 |        1.14412e+06 |        7.86152e+06 |      1.91915e+07 | 3.28005e+07 |\n",
            "\n",
            "**Índices Financeiros:**\n",
            "|   Ano |   Liquidez |   Liquidez |    Margem |   ROA |   ROE |   Endividamento |   Cobertura |    Giro |       Período |     Período |\n",
            "|       |   Corrente |       Seca |   Líquida |       |       |                 |          de |      do |         Médio |       Médio |\n",
            "|       |            |            |           |       |       |                 |       Juros |   Ativo |            de |          de |\n",
            "|       |            |            |           |       |       |                 |             |         |   Recebimento |   Pagamento |\n",
            "|------:|-----------:|-----------:|----------:|------:|------:|----------------:|------------:|--------:|--------------:|------------:|\n",
            "|  2021 |       1.49 |       0.45 |      0.08 |  0.05 |  0.27 |               1 |        0.98 |    0.56 |         62.82 |      213.56 |\n",
            "|  2022 |       2.12 |       1.14 |      0.03 |  0.02 |  0.14 |               1 |        1.3  |    0.73 |         77.36 |      174.3  |\n",
            "|  2023 |       4.73 |       3.78 |      0    |  0    |  0.01 |               1 |      -27.07 |    1.26 |         44.38 |       32.54 |\n",
            "\n",
            "4. ANÁLISE DA CAPACIDADE DE PAGAMENTO, FINSCORE E SERASA:\n",
            "--------------------------------------\n",
            "Com base na convergência (ou divergência) entre o FinScore e o Serasa Score, a empresa apresenta uma avaliação de risco muito baixo de acordo com o FinScore, porém o Serasa Score indica uma categoria de risco bom. É importante considerar essas divergências na avaliação da capacidade de pagamento.\n",
            "\n",
            "5. VEREDICTO FINAL:\n",
            "--------------------------------------\n",
            "Com base nos resultados apresentados, a concessão de crédito à empresa CARGOBR TRANSPORTES parece viável, porém é necessário considerar as divergências entre os scores de crédito e os índices financeiros apresentados. Recomenda-se uma análise mais aprofundada antes de tomar uma decisão final.\n",
            "\n",
            "6. RECOMENDAÇÕES PARA MITIGAÇÃO DE RISCOS:\n",
            "--------------------------------------\n",
            "- Vinculação de garantias reais para mitigar riscos.\n",
            "- Considerar alternativas como seguro de crédito, fiança ou retenção de parcelas.\n",
            "- Estabelecer limite de crédito compatível com a capacidade de pagamento evidenciada.\n",
            "- Monitoramento contínuo dos indicadores financeiros da empresa.\n",
            "\n",
            "Este relatório fornece uma visão abrangente da situação financeira da empresa e serve como base para a tomada de decisão sobre a concessão de crédito. É fundamental considerar todos os aspectos apresentados antes de finalizar a análise.\n"
          ]
        }
      ],
      "source": [
        "from langchain.prompts import PromptTemplate\n",
        "\n",
        "# 1. Cria o template do prompt\n",
        "template = PromptTemplate.from_template(prompt_template)\n",
        "\n",
        "# 2. Formata o prompt com os dados dinâmicos\n",
        "prompt_final = template.format(\n",
        "    cliente=cliente,\n",
        "    ano_inicial=ano_inicial,\n",
        "    ano_final=ano_final,\n",
        "    dados_contabeis_str=dados_contabeis_str,\n",
        "    indices_financeiros_str=indices_financeiros_str,\n",
        "    finscore_ajustado=finscore_ajustado,\n",
        "    serasa=serasa,\n",
        "    categoria_finscore=categoria_finscore,\n",
        "    categoria_serasa=categoria_serasa\n",
        ")\n",
        "\n",
        "# 3. Chama a LLM com o prompt formatado\n",
        "resposta = llm.invoke(prompt_final)\n",
        "\n",
        "# 4. Exibe o relatório gerado\n",
        "print(\"\\n========== RELATÓRIO GERADO ==========\\n\")\n",
        "print(resposta.content)\n"
      ]
    }
  ],
  "metadata": {
    "colab": {
      "include_colab_link": true,
      "provenance": [],
      "toc_visible": true
    },
    "kernelspec": {
      "display_name": "finscorev7",
      "language": "python",
      "name": "python3"
    },
    "language_info": {
      "codemirror_mode": {
        "name": "ipython",
        "version": 3
      },
      "file_extension": ".py",
      "mimetype": "text/x-python",
      "name": "python",
      "nbconvert_exporter": "python",
      "pygments_lexer": "ipython3",
      "version": "3.11.11"
    }
  },
  "nbformat": 4,
  "nbformat_minor": 0
}
