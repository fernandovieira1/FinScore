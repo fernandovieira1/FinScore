{
 "cells": [
  {
   "cell_type": "code",
   "execution_count": 3,
   "id": "914c75e6",
   "metadata": {},
   "outputs": [],
   "source": [
    "import matplotlib.pyplot as plt\n",
    "import numpy as np\n",
    "\n",
    "# Classificador (opcional, caso você queira mostrar o rótulo em outro lugar)\n",
    "def classificar_serasa(score: int) -> str:\n",
    "    if score > 700:\n",
    "        return 'Excelente'\n",
    "    elif score > 500:\n",
    "        return 'Bom'\n",
    "    elif score > 300:\n",
    "        return 'Baixo'\n",
    "    else:\n",
    "        return 'Muito Baixo'\n",
    "\n",
    "def plot_serasa_score(score: float, save_path: str | None = None):\n",
    "    \"\"\"\n",
    "    Gera o gráfico no estilo 'faixas por classe' com barra tocando o eixo x\n",
    "    e uma linha horizontal no valor observado do Serasa Score.\n",
    "\n",
    "    Parâmetros:\n",
    "        score: valor do Serasa (0–1000)\n",
    "        save_path: caminho opcional para salvar a figura (PNG)\n",
    "    \"\"\"\n",
    "    # Classes (eixo x) e faixas (eixo y)\n",
    "    classes = [\"Muito Baixo\", \"Baixo\", \"Bom\", \"Excelente\"]\n",
    "    ranges = [(0, 300), (300, 500), (500, 700), (700, 1000)]\n",
    "\n",
    "    x = np.arange(len(classes))\n",
    "    tops = [hi for _, hi in ranges]  # barras sobem de 0 até o limite superior\n",
    "\n",
    "    plt.figure(figsize=(9.5, 4))\n",
    "    plt.bar(x, tops, width=0.6)\n",
    "    plt.axhline(y=score, linewidth=2)  # linha do valor observado\n",
    "    plt.text(len(classes) - 0.1, score, f\"  valor = {score:.2f}\", va=\"center\")\n",
    "\n",
    "    plt.xticks(x, classes)\n",
    "    plt.ylim(0, 1000)\n",
    "    plt.ylabel(\"Escala (0 a 1000)\")\n",
    "    plt.title(\"Serasa Score — Faixas de Classificação\", loc=\"left\")\n",
    "    plt.tight_layout()\n",
    "\n",
    "    if save_path:\n",
    "        plt.savefig(save_path, dpi=160, bbox_inches=\"tight\")\n",
    "    plt.show()\n",
    "\n",
    "# Exemplo de uso:\n",
    "# plot_serasa_score(550, save_path=\"serasa_score.png\")\n"
   ]
  }
 ],
 "metadata": {
  "kernelspec": {
   "display_name": ".venv",
   "language": "python",
   "name": "python3"
  },
  "language_info": {
   "codemirror_mode": {
    "name": "ipython",
    "version": 3
   },
   "file_extension": ".py",
   "mimetype": "text/x-python",
   "name": "python",
   "nbconvert_exporter": "python",
   "pygments_lexer": "ipython3",
   "version": "3.11.1"
  }
 },
 "nbformat": 4,
 "nbformat_minor": 5
}
