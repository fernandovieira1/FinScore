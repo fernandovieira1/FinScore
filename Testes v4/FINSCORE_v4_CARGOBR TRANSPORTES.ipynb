{
  "cells": [
    {
      "cell_type": "markdown",
      "metadata": {
        "colab_type": "text",
        "id": "view-in-github"
      },
      "source": [
        "<a href=\"https://colab.research.google.com/github/fernandovieira1/FinScore/blob/main/FINSCORE.ipynb\" target=\"_parent\"><img src=\"https://colab.research.google.com/assets/colab-badge.svg\" alt=\"Open In Colab\"/></a>"
      ]
    },
    {
      "cell_type": "markdown",
      "metadata": {
        "id": "BVq3lZyIpi39"
      },
      "source": [
        "**# INTRUÇÕES**"
      ]
    },
    {
      "cell_type": "markdown",
      "metadata": {
        "id": "euGOG_rppxHj"
      },
      "source": [
        "* Antes de iniciar, certifique-se de estar logado na sua conta Google.\n",
        "\n",
        "* Um botão azul 'Fazer login', localizado no canto superior direito da tela, aparecerá, se não.\n",
        "\n",
        "* Feito isto, basta inserir os dados nas seções abaixo descritas:\n",
        "    - 1.1 Cliente\n",
        "    - 1.2 Período\n",
        "    - 1.3 Lançamento dos dados Contábeis\n",
        "\n",
        "* Cada uma das seções mencionadas possui anotações sobre como proceder.\n",
        "\n",
        "* Logo após, clique no menu \"Ambiente de execução\" e em \"Executar tudo\" (ou CTR + F9), nesta ordem."
      ]
    },
    {
      "cell_type": "markdown",
      "metadata": {
        "id": "TosDurA7ruV-"
      },
      "source": [
        "##### 1. LANÇAMENTO DOS DADOS #####"
      ]
    },
    {
      "cell_type": "markdown",
      "metadata": {
        "id": "KyKo-splruV-"
      },
      "source": [
        "##### 1.1 Cliente"
      ]
    },
    {
      "cell_type": "markdown",
      "metadata": {
        "id": "NeLktENAUyKk"
      },
      "source": [
        "*--> Insira o nome do cliente/empresa*"
      ]
    },
    {
      "cell_type": "code",
      "execution_count": 1,
      "metadata": {
        "id": "tr245FSAruV-"
      },
      "outputs": [],
      "source": [
        "# Cliente\n",
        "cliente = 'CARGOBR TRANSPORTES'"
      ]
    },
    {
      "cell_type": "markdown",
      "metadata": {
        "id": "MzNBw_9sruV-"
      },
      "source": [
        "##### 1.2 Período"
      ]
    },
    {
      "cell_type": "markdown",
      "metadata": {
        "id": "s6AuejMzU5kI"
      },
      "source": [
        "*--> Insira os anos inicial (a primeira) e final (da última) das demonstrações contábeis que serviram de base para a análise*"
      ]
    },
    {
      "cell_type": "code",
      "execution_count": 2,
      "metadata": {
        "id": "RxizYtcNruV-"
      },
      "outputs": [],
      "source": [
        "# Ano Inicial\n",
        "ano_inicial = 2021"
      ]
    },
    {
      "cell_type": "code",
      "execution_count": 3,
      "metadata": {
        "id": "jwMbaC1YruV-"
      },
      "outputs": [],
      "source": [
        "# Ano Final\n",
        "ano_final = 2023"
      ]
    },
    {
      "cell_type": "markdown",
      "metadata": {
        "id": "ltfWkSKBbXZW"
      },
      "source": [
        "##### 1.3 Lançamento dos dados Contábeis"
      ]
    },
    {
      "cell_type": "markdown",
      "metadata": {
        "id": "0H_oz1aijJdl"
      },
      "source": [
        "*--> Acesse a planilha abaixo (CTRL + click) e insira as informações nas linhas e colunas respectivas*"
      ]
    },
    {
      "cell_type": "code",
      "execution_count": 4,
      "metadata": {
        "colab": {
          "base_uri": "https://localhost:8080/",
          "height": 54
        },
        "id": "-U_sxpbibgzO",
        "outputId": "c1ea3dfa-c613-46a4-f27a-7944b798f37f"
      },
      "outputs": [
        {
          "data": {
            "text/plain": [
              "'https://docs.google.com/spreadsheets/d/1-BCv3gjwJ34HZqjWpOQxqXU1q_3s3r33/edit?gid=1575975872#gid=1575975872'"
            ]
          },
          "execution_count": 4,
          "metadata": {},
          "output_type": "execute_result"
        }
      ],
      "source": [
        "# Lance do ano mais recente para o mais antigo\n",
        "'https://docs.google.com/spreadsheets/d/1-BCv3gjwJ34HZqjWpOQxqXU1q_3s3r33/edit?gid=1575975872#gid=1575975872'"
      ]
    },
    {
      "cell_type": "markdown",
      "metadata": {
        "id": "Zq1LKEj8CaHh"
      },
      "source": [
        "*--> Agora basta clicar no menu \"Ambiente de execução\" e em \"Executar tudo\" (ou CTR + F9), nesta ordem.*"
      ]
    },
    {
      "cell_type": "markdown",
      "metadata": {
        "id": "cXq651E8ruV7"
      },
      "source": [
        "##### CONFIGURAÇÃO DO AMBIENTE"
      ]
    },
    {
      "cell_type": "markdown",
      "metadata": {
        "id": "olzDXEN7ruV8"
      },
      "source": [
        "##### Configuração do ambiente"
      ]
    },
    {
      "cell_type": "code",
      "execution_count": 5,
      "metadata": {
        "id": "ytzBO-d5ruV8"
      },
      "outputs": [],
      "source": [
        "import numpy as np\n",
        "import pandas as pd\n",
        "from sklearn.decomposition import PCA\n",
        "from sklearn.preprocessing import StandardScaler\n",
        "\n",
        "import pandas as pd\n",
        "import matplotlib.pyplot as plt\n",
        "import seaborn as sns\n",
        "\n",
        "import sys\n",
        "import subprocess\n",
        "import importlib.util\n"
      ]
    },
    {
      "cell_type": "code",
      "execution_count": 6,
      "metadata": {
        "id": "hDDDDbUCmTaR"
      },
      "outputs": [],
      "source": [
        "%%capture\n",
        "# Lista de pacotes necessários\n",
        "required_packages = [\"gspread\", \"pandas\", \"gspread_dataframe\", \"openpyxl\"]\n",
        "\n",
        "# Verificar e instalar pacotes que não estão instalados\n",
        "def install_missing_packages(packages):\n",
        "    for package in packages:\n",
        "        if importlib.util.find_spec(package) is None:\n",
        "            print(f\"⚠ Instalando {package}...\")\n",
        "            subprocess.check_call([sys.executable, \"-m\", \"pip\", \"install\", \"--upgrade\", package])\n",
        "        else:\n",
        "            print(f\"✔ {package} já está instalado\")\n",
        "\n",
        "install_missing_packages(required_packages)"
      ]
    },
    {
      "cell_type": "code",
      "execution_count": 7,
      "metadata": {
        "id": "ToAAKzWckBxH"
      },
      "outputs": [],
      "source": [
        "# Definir o ID da planilha e da aba (worksheet)\n",
        "sheet_id = \"1-BCv3gjwJ34HZqjWpOQxqXU1q_3s3r33\"\n",
        "gid = \"1575975872\"  # ID da aba específica\n",
        "\n",
        "# Construir a URL para baixar a planilha como um arquivo Excel (.xlsx)\n",
        "url = f\"https://docs.google.com/spreadsheets/d/{sheet_id}/export?format=xlsx&id={sheet_id}&gid={gid}\"\n",
        "\n",
        "# Ler a planilha diretamente no Pandas\n",
        "df_dados_contabeis = pd.read_excel(url, engine=\"openpyxl\")"
      ]
    },
    {
      "cell_type": "code",
      "execution_count": 8,
      "metadata": {
        "id": "5N9taplKruV9"
      },
      "outputs": [],
      "source": [
        "# Função para calcular os índices contábeis\n",
        "def calcular_indices_contabeis(df):\n",
        "    indices = {}\n",
        "\n",
        "    indices['Liquidez Corrente'] = df['Ativo Circulante'] / df['Passivo Circulante']\n",
        "    # Ativo Circulante: BP\n",
        "    # Passivo Circulante: BP\n",
        "    # => A liquidez corrente mede a capacidade da empresa de pagar suas obrigações de curto prazo.\n",
        "\n",
        "    indices['Liquidez Seca'] = (df['Ativo Circulante'] - df['Estoques']) / df['Passivo Circulante']\n",
        "    # Ativo Circulante: BP\n",
        "    # Estoque: BP\n",
        "    # Passivo Circulante: BP\n",
        "    # => A liquidez seca é uma medida de liquidez que desconsidera o estoque da empresa.\n",
        "\n",
        "    indices['Margem Líquida'] = df['Lucro Líquido'] / df['Receita Total']\n",
        "    # Lucro Líquido: DRE\n",
        "    # Receita Total: DRE\n",
        "    # => A margem líquida mede a porcentagem de lucro líquido que a empresa gera para cada real de receita.\n",
        "\n",
        "    indices['ROA'] = df['Lucro Líquido'] / df['Ativo Total']\n",
        "    # Lucro Líquido: DRE\n",
        "    # Ativo Total: BP\n",
        "    # => O retorno sobre ativos (ROA) mede a eficiência da empresa em gerar lucro a partir de seus ativos.\n",
        "\n",
        "    indices['ROE'] = df['Lucro Líquido'] / df['Patrimônio Líquido']\n",
        "    # Lucro Líquido: DRE\n",
        "    # Patrimônio Líquido: BP\n",
        "    # => O retorno sobre o patrimônio líquido (ROE) mede a eficiência da empresa em gerar lucro a partir de seu patrimônio líquido.\n",
        "\n",
        "    indices['Endividamento'] = df['Passivo Total'] / df['Ativo Total']\n",
        "    # Passivo Total: BP\n",
        "    # Ativo Total: BP\n",
        "    # => O endividamento mede a proporção de dívidas da empresa em relação ao total de ativos.\n",
        "\n",
        "    indices['Cobertura de Juros'] = df['EBIT'] / df['Despesa de Juros']\n",
        "    # EBIT: DRE (Lucro antes de juros e impostos)\n",
        "    # Despesa de Juros: DRE\n",
        "    # => A cobertura de juros mede a capacidade da empresa de pagar seus juros com seu lucro antes de juros e impostos.\n",
        "    # => Reflete a capacidade de gerar resultados com suas atividades principais\n",
        "\n",
        "    indices['Giro do Ativo'] = df['Receita Total'] / df['Ativo Total']\n",
        "    # Ativo Total: BP\n",
        "    # Receita Total: DRE\n",
        "    # => O giro do ativo mede a eficiência da empresa em gerar receita a partir de seus ativos.\n",
        "\n",
        "    indices['Período Médio de Recebimento'] = df['Contas a Receber'] / df['Receita Total'] * 365\n",
        "    # Contas a Receber: BP\n",
        "    # Receita Total: DRE\n",
        "    # => O período médio de recebimento mede o tempo médio que a empresa leva para receber suas vendas.\n",
        "\n",
        "    indices['Período Médio de Pagamento'] = df['Contas a Pagar'] / df['Custos'] * 365\n",
        "    # Contas a Pagar: BP\n",
        "    # Custos: DRE\n",
        "    # => O período médio de pagamento mede o tempo médio que a empresa leva para pagar seus custos.\n",
        "\n",
        "    return pd.DataFrame(indices)\n",
        "\n"
      ]
    },
    {
      "cell_type": "markdown",
      "metadata": {
        "id": "EPemo1vZruV9"
      },
      "source": [
        "##### Criação de funções"
      ]
    },
    {
      "cell_type": "code",
      "execution_count": 9,
      "metadata": {
        "id": "PO-ChhqTruV9"
      },
      "outputs": [],
      "source": [
        "# Função para categorizar escores consolidados com mais granularidade\n",
        "def categorizar_escores_consolidados(escores):\n",
        "    categorias = []\n",
        "    for escore in escores:\n",
        "        if escore > 1.5:\n",
        "            categorias.append('Muito Abaixo do Risco')\n",
        "        elif 1.0 < escore <= 1.5:\n",
        "            categorias.append('Levemente Abaixo do Risco')\n",
        "        elif -1.0 <= escore <= 1.0:\n",
        "            categorias.append('Neutro')\n",
        "        elif -1.5 < escore < -1.0:\n",
        "            categorias.append('Levemente Acima do Risco')\n",
        "        else:\n",
        "            categorias.append('Muito Acima do Risco')\n",
        "    return categorias\n",
        "\n",
        "# Tabela de Categorias:\n",
        "# -------------------------------------------------------\n",
        "# |   Intervalo do Escore   |      Categoria            |\n",
        "# -------------------------------------------------------\n",
        "# |  escore > 1.5           | Muito Abaixo do Risco     |\n",
        "# |  1.0 < escore ≤ 1.5     | Levemente Abaixo do Risco |\n",
        "# | -1.0 ≤ escore ≤ 1.0     | Neutro                    |\n",
        "# | -1.5 < escore < -1.0    | Levemente Acima do Risco  |\n",
        "# |  escore ≤ -1.5          | Muito Acima do Risco      |\n",
        "# -------------------------------------------------------"
      ]
    },
    {
      "cell_type": "markdown",
      "metadata": {
        "id": "_p8hSremruV-"
      },
      "source": [
        "##### Importação dos Dados Contábeis"
      ]
    },
    {
      "cell_type": "code",
      "execution_count": 10,
      "metadata": {
        "id": "Lhk9GqNfruV-"
      },
      "outputs": [],
      "source": [
        "## Importar os dados\n",
        "# - Do mais recente para o mais antigo\n",
        "\n",
        "# arquivo_dados_contabeis = '/content/dados_contabeis_global.xlsx'\n",
        "arquivo_dados_contabeis = df_dados_contabeis"
      ]
    },
    {
      "cell_type": "code",
      "execution_count": 11,
      "metadata": {
        "colab": {
          "base_uri": "https://localhost:8080/",
          "height": 198
        },
        "id": "JUFBrnuBnb1X",
        "outputId": "2689913e-012e-4a65-cb0c-aff53c304a09"
      },
      "outputs": [
        {
          "data": {
            "text/html": [
              "<div>\n",
              "<style scoped>\n",
              "    .dataframe tbody tr th:only-of-type {\n",
              "        vertical-align: middle;\n",
              "    }\n",
              "\n",
              "    .dataframe tbody tr th {\n",
              "        vertical-align: top;\n",
              "    }\n",
              "\n",
              "    .dataframe thead th {\n",
              "        text-align: right;\n",
              "    }\n",
              "</style>\n",
              "<table border=\"1\" class=\"dataframe\">\n",
              "  <thead>\n",
              "    <tr style=\"text-align: right;\">\n",
              "      <th></th>\n",
              "      <th>Ano</th>\n",
              "      <th>Ativo Circulante</th>\n",
              "      <th>Passivo Circulante</th>\n",
              "      <th>Estoques</th>\n",
              "      <th>Lucro Líquido</th>\n",
              "      <th>Receita Total</th>\n",
              "      <th>Ativo Total</th>\n",
              "      <th>Patrimônio Líquido</th>\n",
              "      <th>Passivo Total</th>\n",
              "      <th>EBIT</th>\n",
              "      <th>Despesa de Juros</th>\n",
              "      <th>Contas a Receber</th>\n",
              "      <th>Contas a Pagar</th>\n",
              "      <th>Custos</th>\n",
              "    </tr>\n",
              "  </thead>\n",
              "  <tbody>\n",
              "    <tr>\n",
              "      <th>0</th>\n",
              "      <td>1</td>\n",
              "      <td>7285475.34</td>\n",
              "      <td>54559483.22</td>\n",
              "      <td>0</td>\n",
              "      <td>-571441.32</td>\n",
              "      <td>8.057296e+07</td>\n",
              "      <td>25346696.09</td>\n",
              "      <td>-42886164.95</td>\n",
              "      <td>68232861.04</td>\n",
              "      <td>927667.93</td>\n",
              "      <td>1499109.25</td>\n",
              "      <td>-649902.23</td>\n",
              "      <td>10658341.99</td>\n",
              "      <td>5.438481e+07</td>\n",
              "    </tr>\n",
              "    <tr>\n",
              "      <th>1</th>\n",
              "      <td>2</td>\n",
              "      <td>19291452.44</td>\n",
              "      <td>57383223.87</td>\n",
              "      <td>0</td>\n",
              "      <td>-11518730.97</td>\n",
              "      <td>1.323595e+08</td>\n",
              "      <td>27268069.47</td>\n",
              "      <td>-43314723.63</td>\n",
              "      <td>70582793.10</td>\n",
              "      <td>-10089092.61</td>\n",
              "      <td>1429638.36</td>\n",
              "      <td>16680207.53</td>\n",
              "      <td>10128070.74</td>\n",
              "      <td>1.141796e+08</td>\n",
              "    </tr>\n",
              "    <tr>\n",
              "      <th>2</th>\n",
              "      <td>3</td>\n",
              "      <td>37083837.78</td>\n",
              "      <td>53527346.56</td>\n",
              "      <td>0</td>\n",
              "      <td>-23069680.30</td>\n",
              "      <td>2.175741e+08</td>\n",
              "      <td>38085440.30</td>\n",
              "      <td>-38464111.72</td>\n",
              "      <td>76549552.02</td>\n",
              "      <td>-22174630.56</td>\n",
              "      <td>895049.74</td>\n",
              "      <td>34556084.72</td>\n",
              "      <td>15700962.93</td>\n",
              "      <td>1.850595e+08</td>\n",
              "    </tr>\n",
              "  </tbody>\n",
              "</table>\n",
              "</div>"
            ],
            "text/plain": [
              "   Ano  Ativo Circulante  Passivo Circulante  Estoques  Lucro Líquido  \\\n",
              "0    1        7285475.34         54559483.22         0     -571441.32   \n",
              "1    2       19291452.44         57383223.87         0   -11518730.97   \n",
              "2    3       37083837.78         53527346.56         0   -23069680.30   \n",
              "\n",
              "   Receita Total  Ativo Total  Patrimônio Líquido  Passivo Total         EBIT  \\\n",
              "0   8.057296e+07  25346696.09        -42886164.95    68232861.04    927667.93   \n",
              "1   1.323595e+08  27268069.47        -43314723.63    70582793.10 -10089092.61   \n",
              "2   2.175741e+08  38085440.30        -38464111.72    76549552.02 -22174630.56   \n",
              "\n",
              "   Despesa de Juros  Contas a Receber  Contas a Pagar        Custos  \n",
              "0        1499109.25        -649902.23     10658341.99  5.438481e+07  \n",
              "1        1429638.36       16680207.53     10128070.74  1.141796e+08  \n",
              "2         895049.74       34556084.72     15700962.93  1.850595e+08  "
            ]
          },
          "execution_count": 11,
          "metadata": {},
          "output_type": "execute_result"
        }
      ],
      "source": [
        "arquivo_dados_contabeis"
      ]
    },
    {
      "cell_type": "markdown",
      "metadata": {
        "id": "fHH5wcF4ruV_"
      },
      "source": [
        "##### Leitura dos Dados Contábeis"
      ]
    },
    {
      "cell_type": "code",
      "execution_count": 12,
      "metadata": {
        "colab": {
          "base_uri": "https://localhost:8080/"
        },
        "id": "VjzcTmKLruV_",
        "outputId": "d28636c8-52a4-44a9-d6f6-1a0862eb4bd3"
      },
      "outputs": [
        {
          "name": "stdout",
          "output_type": "stream",
          "text": [
            "Dados Contabeis Importados:\n",
            "   Ano  Ativo Circulante  Passivo Circulante  Estoques  Lucro Líquido  \\\n",
            "0    1        7285475.34         54559483.22         0     -571441.32   \n",
            "1    2       19291452.44         57383223.87         0   -11518730.97   \n",
            "2    3       37083837.78         53527346.56         0   -23069680.30   \n",
            "\n",
            "   Receita Total  Ativo Total  Patrimônio Líquido  Passivo Total         EBIT  \\\n",
            "0   8.057296e+07  25346696.09        -42886164.95    68232861.04    927667.93   \n",
            "1   1.323595e+08  27268069.47        -43314723.63    70582793.10 -10089092.61   \n",
            "2   2.175741e+08  38085440.30        -38464111.72    76549552.02 -22174630.56   \n",
            "\n",
            "   Despesa de Juros  Contas a Receber  Contas a Pagar        Custos  \n",
            "0        1499109.25        -649902.23     10658341.99  5.438481e+07  \n",
            "1        1429638.36       16680207.53     10128070.74  1.141796e+08  \n",
            "2         895049.74       34556084.72     15700962.93  1.850595e+08  \n"
          ]
        }
      ],
      "source": [
        "df_dados_contabeis = arquivo_dados_contabeis\n",
        "print('Dados Contabeis Importados:')\n",
        "print(df_dados_contabeis)"
      ]
    },
    {
      "cell_type": "markdown",
      "metadata": {
        "id": "KhQE3FG1ruV_"
      },
      "source": [
        "##### 2. PROCESSAMENTO DO MODELO #####"
      ]
    },
    {
      "cell_type": "markdown",
      "metadata": {
        "id": "wQKCxENhruV_"
      },
      "source": [
        "##### 2.1 Índices contábeis"
      ]
    },
    {
      "cell_type": "code",
      "execution_count": 13,
      "metadata": {
        "colab": {
          "base_uri": "https://localhost:8080/"
        },
        "id": "vmq8UHOZruV_",
        "outputId": "cf6ff74b-034f-4ae7-ea82-66306ecd1da1"
      },
      "outputs": [
        {
          "name": "stdout",
          "output_type": "stream",
          "text": [
            "\n",
            "Índices Contábeis Calculados:\n"
          ]
        }
      ],
      "source": [
        "df_indices = calcular_indices_contabeis(df_dados_contabeis).round(2)\n",
        "print('\\nÍndices Contábeis Calculados:')"
      ]
    },
    {
      "cell_type": "code",
      "execution_count": 14,
      "metadata": {},
      "outputs": [],
      "source": [
        "if (df_dados_contabeis['Estoques'] == 0).all():\n",
        "        del df_indices['Liquidez Seca']"
      ]
    },
    {
      "cell_type": "code",
      "execution_count": 15,
      "metadata": {},
      "outputs": [
        {
          "name": "stdout",
          "output_type": "stream",
          "text": [
            "   Liquidez Corrente  Margem Líquida   ROA   ROE  Endividamento  \\\n",
            "0               0.13           -0.01 -0.02  0.01           2.69   \n",
            "1               0.34           -0.09 -0.42  0.27           2.59   \n",
            "2               0.69           -0.11 -0.61  0.60           2.01   \n",
            "\n",
            "   Cobertura de Juros  Giro do Ativo  Período Médio de Recebimento  \\\n",
            "0                0.62           3.18                         -2.94   \n",
            "1               -7.06           4.85                         46.00   \n",
            "2              -24.77           5.71                         57.97   \n",
            "\n",
            "   Período Médio de Pagamento  \n",
            "0                       71.53  \n",
            "1                       32.38  \n",
            "2                       30.97  \n"
          ]
        }
      ],
      "source": [
        "print(df_indices)"
      ]
    },
    {
      "cell_type": "markdown",
      "metadata": {
        "id": "eKbXhxBuruV_"
      },
      "source": [
        "##### 2.2 Padronização dos índices contábeis"
      ]
    },
    {
      "cell_type": "code",
      "execution_count": 16,
      "metadata": {
        "colab": {
          "base_uri": "https://localhost:8080/"
        },
        "id": "wPM-ryaKruWA",
        "outputId": "8ac2015b-15c1-4c0f-e181-73fc47d25a16"
      },
      "outputs": [
        {
          "name": "stdout",
          "output_type": "stream",
          "text": [
            "\n",
            "Índices Escalados para PCA:\n",
            "[[-1.1111678   1.38873015  1.34201054 -1.17355861  0.86730936  1.03684596\n",
            "  -1.33286998 -1.38967907  1.41355026]\n",
            " [-0.20203051 -0.46291005 -0.2846689  -0.096646    0.53372883  0.31447127\n",
            "   0.2570535   0.46769627 -0.66926843]\n",
            " [ 1.31319831 -0.9258201  -1.05734164  1.27020461 -1.40103819 -1.35131723\n",
            "   1.07581649  0.9219828  -0.74428183]]\n"
          ]
        }
      ],
      "source": [
        "# Escalar os índices contábeis para o PCA\n",
        "scaler = StandardScaler()\n",
        "indices_scaled = scaler.fit_transform(df_indices)\n",
        "print('\\nÍndices Escalados para PCA:')\n",
        "print(indices_scaled)"
      ]
    },
    {
      "cell_type": "markdown",
      "metadata": {
        "id": "pqUIqgEbruWA"
      },
      "source": [
        "##### 2.3 Cálculo do PCA"
      ]
    },
    {
      "cell_type": "code",
      "execution_count": 17,
      "metadata": {
        "colab": {
          "base_uri": "https://localhost:8080/"
        },
        "id": "EfRGM1e7ruWA",
        "outputId": "175669c5-5c42-479f-d891-53a6f37aed3c"
      },
      "outputs": [
        {
          "name": "stdout",
          "output_type": "stream",
          "text": [
            "\n",
            "Componentes Principais (PCA):\n",
            "[[-3.69177261e+00 -4.95441342e-01  2.45830665e-16]\n",
            " [ 3.41844590e-01  1.15979151e+00  2.45830665e-16]\n",
            " [ 3.34992802e+00 -6.64350164e-01  2.45830665e-16]]\n"
          ]
        }
      ],
      "source": [
        "# Realizar o PCA\n",
        "pca = PCA()\n",
        "pca_result = pca.fit_transform(indices_scaled)\n",
        "print('\\nComponentes Principais (PCA):')\n",
        "print(pca_result)\n",
        "\n",
        "#relatório\n"
      ]
    },
    {
      "cell_type": "markdown",
      "metadata": {
        "id": "Yx75wxXcruWA"
      },
      "source": [
        "##### 2.4 Variância Explicada PCA"
      ]
    },
    {
      "cell_type": "code",
      "execution_count": 18,
      "metadata": {
        "colab": {
          "base_uri": "https://localhost:8080/"
        },
        "id": "bWReshMkruWA",
        "outputId": "984a1f9f-9f93-43f2-f258-548921d36771"
      },
      "outputs": [
        {
          "name": "stdout",
          "output_type": "stream",
          "text": [
            "\n",
            "Variância Explicada por Componente:\n",
            "[9.24742978e-01 7.52570222e-02 6.71474618e-33]\n"
          ]
        }
      ],
      "source": [
        "# Variância explicada pelos componentes principais\n",
        "explained_variance_ratio = pca.explained_variance_ratio_\n",
        "print('\\nVariância Explicada por Componente:')\n",
        "print(explained_variance_ratio)\n",
        "\n",
        "#relatório"
      ]
    },
    {
      "cell_type": "markdown",
      "metadata": {
        "id": "LawCVNrvruWA"
      },
      "source": [
        "##### 2.5 DataFrame PCA"
      ]
    },
    {
      "cell_type": "code",
      "execution_count": 19,
      "metadata": {
        "colab": {
          "base_uri": "https://localhost:8080/"
        },
        "id": "CrGTgCGeruWA",
        "outputId": "adbe94cc-a547-46df-80d1-a9c785de802e"
      },
      "outputs": [
        {
          "name": "stdout",
          "output_type": "stream",
          "text": [
            "\n",
            "Matriz de Componentes Principais:\n",
            "        PC1       PC2           PC3\n",
            "0 -3.691773 -0.495441  2.458307e-16\n",
            "1  0.341845  1.159792  2.458307e-16\n",
            "2  3.349928 -0.664350  2.458307e-16\n"
          ]
        }
      ],
      "source": [
        "# DataFrame com os componentes principais\n",
        "pca_df = pd.DataFrame(pca_result, columns=[f'PC{i+1}' for i in range(pca_result.shape[1])])\n",
        "print('\\nMatriz de Componentes Principais:')\n",
        "print(pca_df)\n",
        "\n",
        "#relatório"
      ]
    },
    {
      "cell_type": "markdown",
      "metadata": {
        "id": "7SoXw22MruWA"
      },
      "source": [
        "##### 2.6 Matriz de cargas"
      ]
    },
    {
      "cell_type": "code",
      "execution_count": 20,
      "metadata": {
        "colab": {
          "base_uri": "https://localhost:8080/"
        },
        "id": "EK1KERu9ruWA",
        "outputId": "bb6a7a86-966f-4e8d-a914-00d93f145232"
      },
      "outputs": [
        {
          "name": "stdout",
          "output_type": "stream",
          "text": [
            "Matriz de Cargas dos Componentes Principais:\n",
            "     Liquidez Corrente  Margem Líquida       ROA       ROE  Endividamento  \\\n",
            "PC1           0.337721       -0.335891 -0.344189  0.342620      -0.308908   \n",
            "PC2          -0.273738       -0.300129 -0.144000 -0.184317       0.551243   \n",
            "PC3           0.801946       -0.076643  0.239975 -0.387104       0.173826   \n",
            "\n",
            "     Cobertura de Juros  Giro do Ativo  Período Médio de Recebimento  \\\n",
            "PC1           -0.330307       0.344938                      0.335582   \n",
            "PC2            0.368501       0.119968                      0.304347   \n",
            "PC3            0.041253      -0.270216                      0.190665   \n",
            "\n",
            "     Período Médio de Pagamento  \n",
            "PC1                   -0.318030  \n",
            "PC2                   -0.483321  \n",
            "PC3                   -0.047780  \n",
            "\n",
            "Índices mais significativos por componente:\n",
            "\n",
            "PC1:\n",
            "Giro do Ativo    0.344938\n",
            "ROA              0.344189\n",
            "ROE              0.342620\n",
            "Name: PC1, dtype: float64\n",
            "\n",
            "PC2:\n",
            "Endividamento                 0.551243\n",
            "Período Médio de Pagamento    0.483321\n",
            "Cobertura de Juros            0.368501\n",
            "Name: PC2, dtype: float64\n",
            "\n",
            "PC3:\n",
            "Liquidez Corrente    0.801946\n",
            "ROE                  0.387104\n",
            "Giro do Ativo        0.270216\n",
            "Name: PC3, dtype: float64\n"
          ]
        }
      ],
      "source": [
        "# Obter a matriz de cargas\n",
        "loadings = pd.DataFrame(\n",
        "    pca.components_,\n",
        "    columns=df_indices.columns,\n",
        "    index=[f'PC{i+1}' for i in range(pca.components_.shape[0])]\n",
        ")\n",
        "\n",
        "print('Matriz de Cargas dos Componentes Principais:')\n",
        "print(loadings)\n",
        "\n",
        "# Identificar os índices mais significativos para cada PC\n",
        "print('\\nÍndices mais significativos por componente:')\n",
        "for pc in loadings.index:\n",
        "    print(f'\\n{pc}:')\n",
        "    print(loadings.loc[pc].abs().sort_values(ascending=False).head(3))  # Top 3 índices mais significativos\n",
        "\n",
        "#relatório"
      ]
    },
    {
      "cell_type": "markdown",
      "metadata": {
        "id": "e77SN51hruWB"
      },
      "source": [
        "##### 2.7 Escore final"
      ]
    },
    {
      "cell_type": "code",
      "execution_count": 21,
      "metadata": {
        "colab": {
          "base_uri": "https://localhost:8080/",
          "height": 178
        },
        "id": "KUoMhOd0ruWB",
        "outputId": "cceb0c9a-3844-4ff7-c64b-e55323f59a3a"
      },
      "outputs": [
        {
          "data": {
            "text/plain": [
              "0   -3.451226\n",
              "1    0.403401\n",
              "2    3.047825\n",
              "dtype: float64"
            ]
          },
          "execution_count": 21,
          "metadata": {},
          "output_type": "execute_result"
        }
      ],
      "source": [
        "pca_df.dot(explained_variance_ratio)"
      ]
    },
    {
      "cell_type": "markdown",
      "metadata": {
        "id": "MOWTgmyaruWB"
      },
      "source": [
        "##### 3. RESULTADOS #####"
      ]
    },
    {
      "cell_type": "markdown",
      "metadata": {
        "id": "Te19Q490ruWB"
      },
      "source": [
        "##### 3.1 Valor do Escore Calculado"
      ]
    },
    {
      "cell_type": "code",
      "execution_count": 22,
      "metadata": {
        "colab": {
          "base_uri": "https://localhost:8080/"
        },
        "id": "GvWTD2_bruWB",
        "outputId": "c25ab70a-2539-4bff-ae70-a3f183c3a6ec"
      },
      "outputs": [
        {
          "name": "stdout",
          "output_type": "stream",
          "text": [
            "\n",
            "Finscore:\n",
            "-1.51\n"
          ]
        }
      ],
      "source": [
        "# Calcular o escore consolidado com penalização do último ano\n",
        "# Do mais recente para o mais antigo: 0.5, 0.3, 0.2\n",
        "pesos = [0.6, 0.25, 0.15]  # Pesos para os três anos\n",
        "escores_consolidados = round((pca_df.dot(explained_variance_ratio) * pesos).sum(), 2)\n",
        "print('\\nFinscore:')\n",
        "print(escores_consolidados)"
      ]
    },
    {
      "cell_type": "markdown",
      "metadata": {
        "id": "Qd0mMdVyruWE"
      },
      "source": [
        "##### 3.2 Classificação do Escore"
      ]
    },
    {
      "cell_type": "code",
      "execution_count": 23,
      "metadata": {
        "colab": {
          "base_uri": "https://localhost:8080/"
        },
        "id": "6FfhV8HtruWE",
        "outputId": "31196038-090e-496d-ad08-8fd00c51d23e"
      },
      "outputs": [
        {
          "name": "stdout",
          "output_type": "stream",
          "text": [
            "\n",
            "Categoria Final:\n",
            "['Muito Acima do Risco']\n"
          ]
        }
      ],
      "source": [
        "# Categorizar os escores consolidados\n",
        "categoria = categorizar_escores_consolidados([escores_consolidados])\n",
        "print('\\nCategoria Final:')\n",
        "print(categoria)"
      ]
    },
    {
      "cell_type": "markdown",
      "metadata": {
        "id": "n0VaQrgOruWE"
      },
      "source": [
        "##### 3.3 Valores e Contas Contábeis"
      ]
    },
    {
      "cell_type": "code",
      "execution_count": 24,
      "metadata": {
        "colab": {
          "base_uri": "https://localhost:8080/",
          "height": 198
        },
        "id": "mGlnSUpwruWF",
        "outputId": "d1e083f1-2133-4911-d1fd-6443f2380963"
      },
      "outputs": [
        {
          "data": {
            "text/html": [
              "<div>\n",
              "<style scoped>\n",
              "    .dataframe tbody tr th:only-of-type {\n",
              "        vertical-align: middle;\n",
              "    }\n",
              "\n",
              "    .dataframe tbody tr th {\n",
              "        vertical-align: top;\n",
              "    }\n",
              "\n",
              "    .dataframe thead th {\n",
              "        text-align: right;\n",
              "    }\n",
              "</style>\n",
              "<table border=\"1\" class=\"dataframe\">\n",
              "  <thead>\n",
              "    <tr style=\"text-align: right;\">\n",
              "      <th></th>\n",
              "      <th>Ano</th>\n",
              "      <th>Ativo Circulante</th>\n",
              "      <th>Passivo Circulante</th>\n",
              "      <th>Estoques</th>\n",
              "      <th>Lucro Líquido</th>\n",
              "      <th>Receita Total</th>\n",
              "      <th>Ativo Total</th>\n",
              "      <th>Patrimônio Líquido</th>\n",
              "      <th>Passivo Total</th>\n",
              "      <th>EBIT</th>\n",
              "      <th>Despesa de Juros</th>\n",
              "      <th>Contas a Receber</th>\n",
              "      <th>Contas a Pagar</th>\n",
              "      <th>Custos</th>\n",
              "    </tr>\n",
              "  </thead>\n",
              "  <tbody>\n",
              "    <tr>\n",
              "      <th>0</th>\n",
              "      <td>1</td>\n",
              "      <td>7285475.34</td>\n",
              "      <td>54559483.22</td>\n",
              "      <td>0</td>\n",
              "      <td>-571441.32</td>\n",
              "      <td>8.057296e+07</td>\n",
              "      <td>25346696.09</td>\n",
              "      <td>-42886164.95</td>\n",
              "      <td>68232861.04</td>\n",
              "      <td>927667.93</td>\n",
              "      <td>1499109.25</td>\n",
              "      <td>-649902.23</td>\n",
              "      <td>10658341.99</td>\n",
              "      <td>5.438481e+07</td>\n",
              "    </tr>\n",
              "    <tr>\n",
              "      <th>1</th>\n",
              "      <td>2</td>\n",
              "      <td>19291452.44</td>\n",
              "      <td>57383223.87</td>\n",
              "      <td>0</td>\n",
              "      <td>-11518730.97</td>\n",
              "      <td>1.323595e+08</td>\n",
              "      <td>27268069.47</td>\n",
              "      <td>-43314723.63</td>\n",
              "      <td>70582793.10</td>\n",
              "      <td>-10089092.61</td>\n",
              "      <td>1429638.36</td>\n",
              "      <td>16680207.53</td>\n",
              "      <td>10128070.74</td>\n",
              "      <td>1.141796e+08</td>\n",
              "    </tr>\n",
              "    <tr>\n",
              "      <th>2</th>\n",
              "      <td>3</td>\n",
              "      <td>37083837.78</td>\n",
              "      <td>53527346.56</td>\n",
              "      <td>0</td>\n",
              "      <td>-23069680.30</td>\n",
              "      <td>2.175741e+08</td>\n",
              "      <td>38085440.30</td>\n",
              "      <td>-38464111.72</td>\n",
              "      <td>76549552.02</td>\n",
              "      <td>-22174630.56</td>\n",
              "      <td>895049.74</td>\n",
              "      <td>34556084.72</td>\n",
              "      <td>15700962.93</td>\n",
              "      <td>1.850595e+08</td>\n",
              "    </tr>\n",
              "  </tbody>\n",
              "</table>\n",
              "</div>"
            ],
            "text/plain": [
              "   Ano  Ativo Circulante  Passivo Circulante  Estoques  Lucro Líquido  \\\n",
              "0    1        7285475.34         54559483.22         0     -571441.32   \n",
              "1    2       19291452.44         57383223.87         0   -11518730.97   \n",
              "2    3       37083837.78         53527346.56         0   -23069680.30   \n",
              "\n",
              "   Receita Total  Ativo Total  Patrimônio Líquido  Passivo Total         EBIT  \\\n",
              "0   8.057296e+07  25346696.09        -42886164.95    68232861.04    927667.93   \n",
              "1   1.323595e+08  27268069.47        -43314723.63    70582793.10 -10089092.61   \n",
              "2   2.175741e+08  38085440.30        -38464111.72    76549552.02 -22174630.56   \n",
              "\n",
              "   Despesa de Juros  Contas a Receber  Contas a Pagar        Custos  \n",
              "0        1499109.25        -649902.23     10658341.99  5.438481e+07  \n",
              "1        1429638.36       16680207.53     10128070.74  1.141796e+08  \n",
              "2         895049.74       34556084.72     15700962.93  1.850595e+08  "
            ]
          },
          "execution_count": 24,
          "metadata": {},
          "output_type": "execute_result"
        }
      ],
      "source": [
        "df_dados_contabeis\n",
        "# Sendo 0 o mais recente e 2 o mais antigo"
      ]
    },
    {
      "cell_type": "markdown",
      "metadata": {
        "id": "OggCqRbIruWF"
      },
      "source": [
        "##### 3.4 Índices contábeis"
      ]
    },
    {
      "cell_type": "code",
      "execution_count": 25,
      "metadata": {
        "colab": {
          "base_uri": "https://localhost:8080/"
        },
        "id": "VRwxA5mRruWF",
        "outputId": "40a07120-840b-4b59-d44e-a95cf4e2da84"
      },
      "outputs": [
        {
          "name": "stdout",
          "output_type": "stream",
          "text": [
            "   Liquidez Corrente  Margem Líquida   ROA   ROE  Endividamento  \\\n",
            "0               0.13           -0.01 -0.02  0.01           2.69   \n",
            "1               0.34           -0.09 -0.42  0.27           2.59   \n",
            "2               0.69           -0.11 -0.61  0.60           2.01   \n",
            "\n",
            "   Cobertura de Juros  Giro do Ativo  Período Médio de Recebimento  \\\n",
            "0                0.62           3.18                         -2.94   \n",
            "1               -7.06           4.85                         46.00   \n",
            "2              -24.77           5.71                         57.97   \n",
            "\n",
            "   Período Médio de Pagamento  \n",
            "0                       71.53  \n",
            "1                       32.38  \n",
            "2                       30.97  \n"
          ]
        }
      ],
      "source": [
        "print(df_indices)\n",
        "# Sendo 0 o mais recente e 2 o mais antigo\n"
      ]
    },
    {
      "cell_type": "markdown",
      "metadata": {
        "id": "Y97BrJOiruWF"
      },
      "source": [
        "##### 4. APRESENTAÇÃO #####"
      ]
    },
    {
      "cell_type": "markdown",
      "metadata": {
        "id": "lRFYtoiYruWF"
      },
      "source": [
        "##### 4.1 Criação dos dfs"
      ]
    },
    {
      "cell_type": "code",
      "execution_count": 26,
      "metadata": {
        "colab": {
          "base_uri": "https://localhost:8080/",
          "height": 125
        },
        "id": "YnzoQ9MhruWF",
        "outputId": "e89e16a0-3497-4f86-c350-58a28db24a57"
      },
      "outputs": [
        {
          "data": {
            "text/html": [
              "<div>\n",
              "<style scoped>\n",
              "    .dataframe tbody tr th:only-of-type {\n",
              "        vertical-align: middle;\n",
              "    }\n",
              "\n",
              "    .dataframe tbody tr th {\n",
              "        vertical-align: top;\n",
              "    }\n",
              "\n",
              "    .dataframe thead th {\n",
              "        text-align: right;\n",
              "    }\n",
              "</style>\n",
              "<table border=\"1\" class=\"dataframe\">\n",
              "  <thead>\n",
              "    <tr style=\"text-align: right;\">\n",
              "      <th></th>\n",
              "      <th>Métrica</th>\n",
              "      <th>Valor</th>\n",
              "    </tr>\n",
              "  </thead>\n",
              "  <tbody>\n",
              "    <tr>\n",
              "      <th>0</th>\n",
              "      <td>Escore Consolidado</td>\n",
              "      <td>-1.51</td>\n",
              "    </tr>\n",
              "    <tr>\n",
              "      <th>1</th>\n",
              "      <td>Categoria Final</td>\n",
              "      <td>Muito Acima do Risco</td>\n",
              "    </tr>\n",
              "  </tbody>\n",
              "</table>\n",
              "</div>"
            ],
            "text/plain": [
              "              Métrica                 Valor\n",
              "0  Escore Consolidado                 -1.51\n",
              "1     Categoria Final  Muito Acima do Risco"
            ]
          },
          "execution_count": 26,
          "metadata": {},
          "output_type": "execute_result"
        }
      ],
      "source": [
        "# Df resultados principais\n",
        "resultados_df = pd.DataFrame({\n",
        "    'Métrica': ['Escore Consolidado', 'Categoria Final'],\n",
        "    'Valor': [escores_consolidados, categoria[0]]\n",
        "})\n",
        "resultados_df"
      ]
    },
    {
      "cell_type": "code",
      "execution_count": 27,
      "metadata": {
        "colab": {
          "base_uri": "https://localhost:8080/"
        },
        "id": "78QLbNG_B8MR",
        "outputId": "ff668b80-8c47-46fe-a2bd-88f1ff8035b2"
      },
      "outputs": [
        {
          "data": {
            "text/plain": [
              "-1.51"
            ]
          },
          "execution_count": 27,
          "metadata": {},
          "output_type": "execute_result"
        }
      ],
      "source": [
        "resultados_df.iloc[0, 1]"
      ]
    },
    {
      "cell_type": "markdown",
      "metadata": {
        "id": "cqIfVy3FruWF"
      },
      "source": [
        "##### 4.2 Tabela Resumo"
      ]
    },
    {
      "cell_type": "code",
      "execution_count": 28,
      "metadata": {
        "colab": {
          "base_uri": "https://localhost:8080/",
          "height": 394
        },
        "id": "a47AdyuGruWF",
        "outputId": "55b603ab-8d6e-4287-c3d7-c598fb610be9"
      },
      "outputs": [
        {
          "name": "stderr",
          "output_type": "stream",
          "text": [
            "C:\\Users\\ferna\\AppData\\Local\\Temp\\ipykernel_30476\\435080285.py:21: FutureWarning: DataFrame.applymap has been deprecated. Use DataFrame.map instead.\n",
            "  df_dados_contabeis_milhoes = df_dados_contabeis_milhoes.applymap(\n"
          ]
        },
        {
          "data": {
            "image/png": "[encoded data removed]",
            "text/plain": [
              "<Figure size 1400x1200 with 3 Axes>"
            ]
          },
          "metadata": {},
          "output_type": "display_data"
        }
      ],
      "source": [
        "import pandas as pd\n",
        "import matplotlib.pyplot as plt\n",
        "\n",
        "# --- Ajuste principal: inverter a ordem do df_indices se necessário ---\n",
        "# Se seu df_indices estiver 2024, 2023, 2022, por exemplo,\n",
        "# esta linha garante a ordem 2022, 2023, 2024.\n",
        "df_indices = df_indices.iloc[::-1].reset_index(drop=True)\n",
        "\n",
        "## FORMATAR PADRÃO BR\n",
        "# Cópia do df original\n",
        "df_dados_contabeis_milhoes = df_dados_contabeis.copy()\n",
        "\n",
        "# Excluindo a coluna 'Ano' antes de realizar as transformações\n",
        "df_dados_contabeis_milhoes = df_dados_contabeis_milhoes.drop(columns=['Ano'])\n",
        "\n",
        "# Dividindo os valores das colunas numéricas por 1.000.000\n",
        "for col in df_dados_contabeis_milhoes.columns:\n",
        "    df_dados_contabeis_milhoes[col] = df_dados_contabeis_milhoes[col] / 1_000_000\n",
        "\n",
        "# Formatando os valores para o padrão brasileiro (R$ 1.000.000,00)\n",
        "df_dados_contabeis_milhoes = df_dados_contabeis_milhoes.applymap(\n",
        "    lambda x: f\"R$ {x:,.2f}\".replace(\",\", \"X\").replace(\".\", \",\").replace(\"X\", \".\")\n",
        "    if isinstance(x, (int, float)) else x\n",
        ")\n",
        "\n",
        "## INSERIR A COLUNA \"ANO\" NAS TABELAS \"Dados Contábeis\" e \"Índices Financeiros\"\n",
        "anos = [str(ano_inicial), str(ano_inicial + 1), str(ano_final)]  # Convertendo anos para string\n",
        "\n",
        "# Inserindo a coluna \"Ano\" como a primeira coluna\n",
        "df_dados_contabeis_milhoes.insert(0, \"Ano\", anos)\n",
        "df_indices.insert(0, \"Ano\", anos)\n",
        "\n",
        "## FINSCORE\n",
        "resultados_df = pd.DataFrame({\n",
        "    \"FINSCORE\": [\"Valor\", \"Classificação\"],\n",
        "    \"RESULTADO\": [resultados_df.iloc[0, 1], resultados_df.iloc[1, 1]]\n",
        "})\n",
        "\n",
        "## INSERINDO QUEBRA DE LINHA NOS CABEÇALHOS\n",
        "df_dados_contabeis_milhoes.columns = [col.replace(\" \", \"\\n\") for col in df_dados_contabeis_milhoes.columns]\n",
        "df_indices.columns = [col.replace(\" \", \"\\n\") for col in df_indices.columns]\n",
        "resultados_df.columns = [col.replace(\" \", \"\\n\") for col in resultados_df.columns]\n",
        "\n",
        "## CABEÇALHO\n",
        "fig, axs = plt.subplots(nrows=3, figsize=(14, 12))\n",
        "fig.suptitle(\n",
        "    f\"CÁLCULO FINSCORE - {cliente} - Período base {ano_inicial} - {ano_final}\",\n",
        "    fontsize=14, fontweight=\"bold\"\n",
        ")\n",
        "\n",
        "## TABELAS\n",
        "def add_table(ax, df, title):\n",
        "    ax.axis(\"tight\")\n",
        "    ax.axis(\"off\")\n",
        "    table = ax.table(\n",
        "        cellText=df.values,\n",
        "        colLabels=df.columns,\n",
        "        cellLoc=\"center\", loc=\"center\",\n",
        "        colWidths=[0.12] * len(df.columns)  # Ajustando largura das colunas\n",
        "    )\n",
        "\n",
        "    table.auto_set_font_size(False)\n",
        "    table.set_fontsize(10)\n",
        "    table.scale(1.2, 1.2)  # Ajustando escala para melhor legibilidade\n",
        "\n",
        "    # Aumentando a altura da linha do cabeçalho\n",
        "    for col in range(len(df.columns)):\n",
        "        table[(0, col)].set_height(0.3)\n",
        "\n",
        "    # Destacando o cabeçalho com negrito\n",
        "    for key, cell in table._cells.items():\n",
        "        if key[0] == 0:  # Se for a primeira linha (cabeçalho)\n",
        "            cell.set_fontsize(10)\n",
        "            cell.set_text_props(weight='bold')\n",
        "\n",
        "    ax.set_title(title, fontsize=12, fontweight=\"bold\", pad=2)\n",
        "    ax.title.set_y(0.9)\n",
        "\n",
        "# Adicionando cada tabela\n",
        "add_table(axs[0], resultados_df, \"FinScore Calculado\")\n",
        "add_table(axs[1], df_dados_contabeis_milhoes, \"Dados Contábeis\\n(Em Milhões de R$)\")\n",
        "add_table(axs[2], df_indices, \"Índices Financeiros\")\n",
        "\n",
        "plt.show()\n"
      ]
    },
    {
      "cell_type": "markdown",
      "metadata": {
        "id": "sG94dL8tyCBR"
      },
      "source": [
        "#### 5. Prompt IA"
      ]
    },
    {
      "cell_type": "code",
      "execution_count": 29,
      "metadata": {
        "colab": {
          "base_uri": "https://localhost:8080/"
        },
        "id": "McvSTkDi0Hzo",
        "outputId": "ad5be230-d841-4797-d97c-691b4df33e09"
      },
      "outputs": [
        {
          "name": "stdout",
          "output_type": "stream",
          "text": [
            "\n",
            " INÍCIO\n",
            "=====================================\n",
            "- Crie um relatório interpretando os resultados dos cálculos feitos neste notebook, utilizando os valores das seguintes variáveis:\n",
            "\n",
            "* Cliente:\n",
            "-------------------------------\n",
            "CARGOBR TRANSPORTES\n",
            "\n",
            " * Período da analise:\n",
            "-------------------------------\n",
            "2021 - 2023\n",
            "\n",
            " * Dados contábeis:\n",
            "-------------------------------\n",
            "   Ano  Ativo Circulante  Passivo Circulante  Estoques  Lucro Líquido  \\\n",
            "0    1        7285475.34         54559483.22         0     -571441.32   \n",
            "1    2       19291452.44         57383223.87         0   -11518730.97   \n",
            "2    3       37083837.78         53527346.56         0   -23069680.30   \n",
            "\n",
            "   Receita Total  Ativo Total  Patrimônio Líquido  Passivo Total         EBIT  \\\n",
            "0   8.057296e+07  25346696.09        -42886164.95    68232861.04    927667.93   \n",
            "1   1.323595e+08  27268069.47        -43314723.63    70582793.10 -10089092.61   \n",
            "2   2.175741e+08  38085440.30        -38464111.72    76549552.02 -22174630.56   \n",
            "\n",
            "   Despesa de Juros  Contas a Receber  Contas a Pagar        Custos  \n",
            "0        1499109.25        -649902.23     10658341.99  5.438481e+07  \n",
            "1        1429638.36       16680207.53     10128070.74  1.141796e+08  \n",
            "2         895049.74       34556084.72     15700962.93  1.850595e+08  \n",
            "\n",
            " * Índices Contábeis:\n",
            "-------------------------------\n",
            "    Ano  Liquidez\\nCorrente  Margem\\nLíquida   ROA   ROE  Endividamento  \\\n",
            "0  2021                0.69            -0.11 -0.61  0.60           2.01   \n",
            "1  2022                0.34            -0.09 -0.42  0.27           2.59   \n",
            "2  2023                0.13            -0.01 -0.02  0.01           2.69   \n",
            "\n",
            "   Cobertura\\nde\\nJuros  Giro\\ndo\\nAtivo  Período\\nMédio\\nde\\nRecebimento  \\\n",
            "0                -24.77             5.71                            57.97   \n",
            "1                 -7.06             4.85                            46.00   \n",
            "2                  0.62             3.18                            -2.94   \n",
            "\n",
            "   Período\\nMédio\\nde\\nPagamento  \n",
            "0                          30.97  \n",
            "1                          32.38  \n",
            "2                          71.53  \n",
            "\n",
            " - Analise o Cliente com base nos dfs abaixo. Interprete as saídas à vista dos dados contábeis e dos índices contábeis supracitados, contextualizando em termos de capacidade de pagamento, liquidez e resultados operacionais o que os resultados indicam.\n",
            "\n",
            " RESULTADOS PCA\n",
            "=====================================\n",
            "\n",
            " DF: indices_scaled:\n",
            "-------------------------------\n",
            "[[-1.1111678   1.38873015  1.34201054 -1.17355861  0.86730936  1.03684596\n",
            "  -1.33286998 -1.38967907  1.41355026]\n",
            " [-0.20203051 -0.46291005 -0.2846689  -0.096646    0.53372883  0.31447127\n",
            "   0.2570535   0.46769627 -0.66926843]\n",
            " [ 1.31319831 -0.9258201  -1.05734164  1.27020461 -1.40103819 -1.35131723\n",
            "   1.07581649  0.9219828  -0.74428183]]\n",
            "\n",
            " DF: pca_result:\n",
            "-------------------------------\n",
            "[[-3.69177261e+00 -4.95441342e-01  2.45830665e-16]\n",
            " [ 3.41844590e-01  1.15979151e+00  2.45830665e-16]\n",
            " [ 3.34992802e+00 -6.64350164e-01  2.45830665e-16]]\n",
            "\n",
            " DF: explained_variance_ratio:\n",
            "-------------------------------\n",
            "[9.24742978e-01 7.52570222e-02 6.71474618e-33]\n",
            "\n",
            " DF: pca_df:\n",
            "-------------------------------\n",
            "        PC1       PC2           PC3\n",
            "0 -3.691773 -0.495441  2.458307e-16\n",
            "1  0.341845  1.159792  2.458307e-16\n",
            "2  3.349928 -0.664350  2.458307e-16\n",
            "\n",
            " DF: loadings:\n",
            "-------------------------------\n",
            "     Liquidez Corrente  Margem Líquida       ROA       ROE  Endividamento  \\\n",
            "PC1           0.337721       -0.335891 -0.344189  0.342620      -0.308908   \n",
            "PC2          -0.273738       -0.300129 -0.144000 -0.184317       0.551243   \n",
            "PC3           0.801946       -0.076643  0.239975 -0.387104       0.173826   \n",
            "\n",
            "     Cobertura de Juros  Giro do Ativo  Período Médio de Recebimento  \\\n",
            "PC1           -0.330307       0.344938                      0.335582   \n",
            "PC2            0.368501       0.119968                      0.304347   \n",
            "PC3            0.041253      -0.270216                      0.190665   \n",
            "\n",
            "     Período Médio de Pagamento  \n",
            "PC1                   -0.318030  \n",
            "PC2                   -0.483321  \n",
            "PC3                   -0.047780  \n",
            "\n",
            " Finscore Final\n",
            "-------------------------------\n",
            "-1.51\n",
            "O Finscore Final é classificado segundo os seguintes critérios\n",
            "def categorizar_escores_consolidados(escores):\n",
            "    categorias = []\n",
            "    for escore in escores:\n",
            "        if escore > 2:\n",
            "            categorias.append('Muito Abaixo do Risco')\n",
            "        elif 1 < escore <= 2:\n",
            "            categorias.append('Abaixo do Risco')\n",
            "        elif -1 <= escore <= 1:\n",
            "            categorias.append('Neutro')\n",
            "        elif -2 <= escore < -1:\n",
            "            categorias.append('Acima do Risco')\n",
            "        else:\n",
            "            categorias.append('Muito Acima do Risco')\n",
            "    return categorias\n",
            "\n",
            "\n",
            " Evite termos estatísticos e técnicos, sequer é necessário apresentar os valores relacionados ao PCA, mas cite os valores e contas dos dataframes df_dados_contabeis e df_indices, com a devida explicação (o que a conta ou índice significa), implicação em relação aos resultados e valores citados.\n",
            "\n",
            " Após esta contextualização, com base nos resultados do PCA (RESULTADOS PCA), apresente a tabela resumo citada em 4.2:\n",
            "\n",
            " O importante é você fechar com os valores da variável \"escores_consolidados\" e \"categoria\", com a devida interpretação final.\n",
            "\n",
            " FIM\n",
            "=====================================\n"
          ]
        }
      ],
      "source": [
        "print('\\n INÍCIO')\n",
        "print('=====================================')\n",
        "\n",
        "print('- Crie um relatório interpretando os resultados dos cálculos feitos neste notebook, utilizando os valores das seguintes variáveis:\\n')\n",
        "\n",
        "print('* Cliente:')\n",
        "print('-------------------------------')\n",
        "print(cliente)\n",
        "\n",
        "print('\\n * Período da analise:')\n",
        "print('-------------------------------')\n",
        "print(ano_inicial, '-', ano_final)\n",
        "\n",
        "print('\\n * Dados contábeis:')\n",
        "print('-------------------------------')\n",
        "print(df_dados_contabeis)\n",
        "\n",
        "print('\\n * Índices Contábeis:')\n",
        "print('-------------------------------')\n",
        "print(df_indices)\n",
        "\n",
        "print('\\n - Analise o Cliente com base nos dfs abaixo. Interprete as saídas à vista dos dados contábeis e dos índices contábeis supracitados, contextualizando em termos de capacidade de pagamento, liquidez e resultados operacionais o que os resultados indicam.')\n",
        "\n",
        "print('\\n RESULTADOS PCA')\n",
        "print('=====================================')\n",
        "\n",
        "print('\\n DF: indices_scaled:')\n",
        "print('-------------------------------')\n",
        "print(indices_scaled)\n",
        "\n",
        "print('\\n DF: pca_result:')\n",
        "print('-------------------------------')\n",
        "print(pca_result)\n",
        "\n",
        "print('\\n DF: explained_variance_ratio:')\n",
        "print('-------------------------------')\n",
        "print(explained_variance_ratio)\n",
        "\n",
        "print('\\n DF: pca_df:')\n",
        "print('-------------------------------')\n",
        "print(pca_df)\n",
        "\n",
        "print('\\n DF: loadings:')\n",
        "print('-------------------------------')\n",
        "print(loadings)\n",
        "\n",
        "print('\\n Finscore Final')\n",
        "print('-------------------------------')\n",
        "print(resultados_df.iloc[0, 1])\n",
        "\n",
        "print('O Finscore Final é classificado segundo os seguintes critérios')\n",
        "\n",
        "criterios_escore = \"\"\"def categorizar_escores_consolidados(escores):\n",
        "    categorias = []\n",
        "    for escore in escores:\n",
        "        if escore > 2:\n",
        "            categorias.append('Muito Abaixo do Risco')\n",
        "        elif 1 < escore <= 2:\n",
        "            categorias.append('Abaixo do Risco')\n",
        "        elif -1 <= escore <= 1:\n",
        "            categorias.append('Neutro')\n",
        "        elif -2 <= escore < -1:\n",
        "            categorias.append('Acima do Risco')\n",
        "        else:\n",
        "            categorias.append('Muito Acima do Risco')\n",
        "    return categorias\n",
        "\"\"\"\n",
        "\n",
        "print(criterios_escore)\n",
        "\n",
        "print('\\n Evite termos estatísticos e técnicos, sequer é necessário apresentar os valores relacionados ao PCA, mas cite os valores e contas dos dataframes df_dados_contabeis e df_indices, com a devida explicação (o que a conta ou índice significa), implicação em relação aos resultados e valores citados.')\n",
        "\n",
        "print('\\n Após esta contextualização, com base nos resultados do PCA (RESULTADOS PCA), apresente a tabela resumo citada em 4.2:')\n",
        "\n",
        "print('\\n O importante é você fechar com os valores da variável \"escores_consolidados\" e \"categoria\", com a devida interpretação final.')\n",
        "\n",
        "print('\\n FIM')\n",
        "print('=====================================')\n"
      ]
    }
  ],
  "metadata": {
    "colab": {
      "include_colab_link": true,
      "provenance": [],
      "toc_visible": true
    },
    "kernelspec": {
      "display_name": "base",
      "language": "python",
      "name": "python3"
    },
    "language_info": {
      "codemirror_mode": {
        "name": "ipython",
        "version": 3
      },
      "file_extension": ".py",
      "mimetype": "text/x-python",
      "name": "python",
      "nbconvert_exporter": "python",
      "pygments_lexer": "ipython3",
      "version": "3.12.7"
    }
  },
  "nbformat": 4,
  "nbformat_minor": 0
}
