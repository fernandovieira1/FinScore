{
  "cells": [
    {
      "cell_type": "markdown",
      "metadata": {
        "colab_type": "text",
        "id": "view-in-github"
      },
      "source": [
        "<a href='https://colab.research.google.com/github/fernandovieira1/FinScore/blob/main/FINSCORE.ipynb' target='_parent'><img src='https://colab.research.google.com/assets/colab-badge.svg' alt='Open In Colab'/></a>"
      ]
    },
    {
      "cell_type": "markdown",
      "metadata": {
        "id": "BVq3lZyIpi39"
      },
      "source": [
        "**# INTRUÇÕES**"
      ]
    },
    {
      "cell_type": "markdown",
      "metadata": {
        "id": "euGOG_rppxHj"
      },
      "source": [
        "* Antes de iniciar, certifique-se de estar logado na sua conta Google.\n",
        "\n",
        "* Um botão azul 'Fazer login', localizado no canto superior direito da tela, aparecerá, se não.\n",
        "\n",
        "* Feito isto, basta inserir os dados nas seções abaixo descritas:\n",
        "    - 1.1 Cliente\n",
        "    - 1.2 Período\n",
        "    - 1.3 Score Serasa\n",
        "    - 1.4 Lançamento dos dados Contábeis (na planilha indicada no link)\n",
        "\n",
        "* Cada uma das seções mencionadas possui anotações sobre como proceder.\n",
        "\n",
        "* Logo após, clique no menu 'Ambiente de execução' e em 'Executar tudo' (ou CTR + F9), nesta ordem."
      ]
    },
    {
      "cell_type": "markdown",
      "metadata": {
        "id": "TosDurA7ruV-"
      },
      "source": [
        "##### 1. LANÇAMENTO DOS DADOS #####"
      ]
    },
    {
      "cell_type": "markdown",
      "metadata": {
        "id": "KyKo-splruV-"
      },
      "source": [
        "##### 1.1 Cliente"
      ]
    },
    {
      "cell_type": "markdown",
      "metadata": {
        "id": "NeLktENAUyKk"
      },
      "source": [
        "*--> Insira o nome do cliente/empresa*"
      ]
    },
    {
      "cell_type": "code",
      "execution_count": 75,
      "metadata": {
        "id": "tr245FSAruV-"
      },
      "outputs": [],
      "source": [
        "# Cliente\n",
        "cliente = 'NOME DA EMPRESA'"
      ]
    },
    {
      "cell_type": "markdown",
      "metadata": {
        "id": "MzNBw_9sruV-"
      },
      "source": [
        "##### 1.2 Período"
      ]
    },
    {
      "cell_type": "markdown",
      "metadata": {
        "id": "s6AuejMzU5kI"
      },
      "source": [
        "*--> Insira os anos inicial (a primeira) e final (da última) das demonstrações contábeis que serviram de base para a análise*"
      ]
    },
    {
      "cell_type": "code",
      "execution_count": 76,
      "metadata": {
        "id": "RxizYtcNruV-"
      },
      "outputs": [],
      "source": [
        "# Ano Inicial\n",
        "ano_inicial = 2021"
      ]
    },
    {
      "cell_type": "code",
      "execution_count": 77,
      "metadata": {
        "id": "jwMbaC1YruV-"
      },
      "outputs": [],
      "source": [
        "# Ano Final\n",
        "ano_final = 2023"
      ]
    },
    {
      "cell_type": "markdown",
      "metadata": {},
      "source": [
        "##### 1.3 Score Serasa"
      ]
    },
    {
      "cell_type": "markdown",
      "metadata": {},
      "source": [
        "*--> Insira o score Serasa do cliente*"
      ]
    },
    {
      "cell_type": "code",
      "execution_count": 78,
      "metadata": {},
      "outputs": [],
      "source": [
        "# Serasa\n",
        "serasa = 550"
      ]
    },
    {
      "cell_type": "markdown",
      "metadata": {
        "id": "ltfWkSKBbXZW"
      },
      "source": [
        "##### 1.4 Lançamento dos dados Contábeis"
      ]
    },
    {
      "cell_type": "markdown",
      "metadata": {
        "id": "0H_oz1aijJdl"
      },
      "source": [
        "*--> Acesse a planilha abaixo (CTRL + click) e insira as informações nas linhas e colunas respectivas*"
      ]
    },
    {
      "cell_type": "code",
      "execution_count": 79,
      "metadata": {
        "colab": {
          "base_uri": "https://localhost:8080/",
          "height": 54
        },
        "id": "-U_sxpbibgzO",
        "outputId": "c1ea3dfa-c613-46a4-f27a-7944b798f37f"
      },
      "outputs": [
        {
          "data": {
            "text/plain": [
              "'https://docs.google.com/spreadsheets/d/1qx6nagvF8okAKvfO9BoHL2aZUZ8NOnz2/edit?gid=1575975872#gid=1575975872'"
            ]
          },
          "execution_count": 79,
          "metadata": {},
          "output_type": "execute_result"
        }
      ],
      "source": [
        "# Lance do ano mais recente para o mais antigo\n",
        "'https://docs.google.com/spreadsheets/d/1qx6nagvF8okAKvfO9BoHL2aZUZ8NOnz2/edit?gid=1575975872#gid=1575975872'"
      ]
    },
    {
      "cell_type": "markdown",
      "metadata": {
        "id": "Zq1LKEj8CaHh"
      },
      "source": [
        "*--> Agora basta clicar no menu 'Ambiente de execução' e em 'Executar tudo' (ou CTR + F9), nesta ordem.*"
      ]
    },
    {
      "cell_type": "markdown",
      "metadata": {
        "id": "cXq651E8ruV7"
      },
      "source": [
        "##### CONFIGURAÇÃO DO AMBIENTE"
      ]
    },
    {
      "cell_type": "markdown",
      "metadata": {
        "id": "olzDXEN7ruV8"
      },
      "source": [
        "##### Configuração do ambiente"
      ]
    },
    {
      "cell_type": "code",
      "execution_count": 80,
      "metadata": {
        "id": "ytzBO-d5ruV8"
      },
      "outputs": [],
      "source": [
        "import numpy as np\n",
        "import pandas as pd\n",
        "from sklearn.decomposition import PCA\n",
        "from sklearn.preprocessing import StandardScaler\n",
        "\n",
        "import pandas as pd\n",
        "import matplotlib.pyplot as plt\n",
        "import seaborn as sns\n",
        "import matplotlib.pyplot as plt\n",
        "\n",
        "import sys\n",
        "import subprocess\n",
        "import importlib.util\n"
      ]
    },
    {
      "cell_type": "code",
      "execution_count": 81,
      "metadata": {
        "id": "hDDDDbUCmTaR"
      },
      "outputs": [],
      "source": [
        "%%capture\n",
        "# Lista de pacotes necessários\n",
        "required_packages = ['gspread', 'pandas', 'gspread_dataframe', 'openpyxl']\n",
        "\n",
        "# Verificar e instalar pacotes que não estão instalados\n",
        "def install_missing_packages(packages):\n",
        "    for package in packages:\n",
        "        if importlib.util.find_spec(package) is None:\n",
        "            print(f'⚠ Instalando {package}...')\n",
        "            subprocess.check_call([sys.executable, '-m', 'pip', 'install', '--upgrade', package])\n",
        "        else:\n",
        "            print(f'✔ {package} já está instalado')\n",
        "\n",
        "install_missing_packages(required_packages)"
      ]
    },
    {
      "cell_type": "code",
      "execution_count": 82,
      "metadata": {
        "id": "ToAAKzWckBxH"
      },
      "outputs": [],
      "source": [
        "# Definir o ID da planilha e da aba (worksheet)\n",
        "sheet_id = '1qx6nagvF8okAKvfO9BoHL2aZUZ8NOnz2'\n",
        "gid = '1575975872'  # ID da aba específica\n",
        "\n",
        "# Construir a URL para baixar a planilha como um arquivo Excel (.xlsx)\n",
        "url = f'https://docs.google.com/spreadsheets/d/{sheet_id}/export?format=xlsx&id={sheet_id}&gid={gid}'\n",
        "\n",
        "# Ler a planilha diretamente no Pandas\n",
        "df_dados_contabeis = pd.read_excel(url, engine='openpyxl')"
      ]
    },
    {
      "cell_type": "code",
      "execution_count": 83,
      "metadata": {
        "id": "5N9taplKruV9"
      },
      "outputs": [],
      "source": [
        "def calcular_indices_contabeis(df):\n",
        "    indices = {}\n",
        "\n",
        "    ### RENTABILIDADE\n",
        "    indices['Margem Líquida'] = df['r_Lucro_Liquido'] / df['r_Receita_Total']\n",
        "    # Percentual da receita que sobra como lucro líquido.\n",
        "\n",
        "    indices['ROA'] = df['r_Lucro_Liquido'] / df['p_Ativo_Total']\n",
        "    # Retorno sobre ativos: eficiência global da operação.\n",
        "\n",
        "    indices['ROE'] = df['r_Lucro_Liquido'] / df['p_Patrimonio_Liquido']\n",
        "    # Retorno sobre o patrimônio líquido: rentabilidade para o acionista.\n",
        "\n",
        "    ### EBITDA\n",
        "    ebit = df['r_Lucro_Liquido'] + df['r_Despesa_de_Juros'] + df['r_Despesa_de_Impostos']\n",
        "    amort = df.get('r_Amortizacao', 0).fillna(0)\n",
        "    depr = df.get('r_Depreciacao', 0).fillna(0)\n",
        "    ebitda = ebit + amort + depr\n",
        "    indices['EBITDA'] = ebitda\n",
        "    indices['Margem EBITDA'] = ebitda / df['r_Receita_Total']\n",
        "    # Percentual da receita que vira caixa operacional antes de juros, impostos e depreciação.\n",
        "\n",
        "    ### ALAVANCAGEM E ENDIVIDAMENTO\n",
        "    df['p_Divida_Bruta'] = df['p_Passivo_Total'] - df['p_Patrimonio_Liquido']\n",
        "    # Endividamento Bruto (passivo exigível)\n",
        "\n",
        "    df['p_Divida_Liquida'] = df['p_Divida_Bruta'] - df['p_Caixa']\n",
        "    # Dívida Líquida (ajustada pelo caixa disponível)\n",
        "\n",
        "    indices['Alavancagem'] = df['p_Divida_Liquida'] / ebitda\n",
        "    # Mede quantos anos de geração operacional (EBITDA) seriam necessários para quitar a dívida líquida.\n",
        "\n",
        "    indices['Endividamento'] = df['p_Divida_Bruta'] / df['p_Ativo_Total']\n",
        "    # Percentual dos ativos financiado exclusivamente por capital de terceiros.\n",
        "\n",
        "    ### ESTRUTURA DE CAPITAL\n",
        "    df['p_Imobilizado'] = df['p_Ativo_Total'] - df['p_Ativo_Circulante']\n",
        "    # Estimativa do Ativo Imobilizado\n",
        "\n",
        "    indices['Imobilizado/Ativo'] = df['p_Imobilizado'] / df['p_Ativo_Total']\n",
        "    # Percentual do ativo total que está imobilizado (capital fixo).\n",
        "\n",
        "    ### COBERTURA DE JUROS\n",
        "    indices['Cobertura de Juros'] = ebit / df['r_Despesa_de_Juros']\n",
        "    # Mede a capacidade da empresa de pagar seus juros com o lucro operacional (EBIT).\n",
        "\n",
        "    ### EFICIÊNCIA OPERACIONAL\n",
        "    indices['Giro do Ativo'] = df['r_Receita_Total'] / df['p_Ativo_Total']\n",
        "    # Mede quantas vezes os ativos se transformam em receita no período.\n",
        "\n",
        "    ### CICLO OPERACIONAL\n",
        "    indices['Período Médio de Recebimento'] = df['p_Contas_a_Receber'] / df['r_Receita_Total'] * 365\n",
        "    indices['Período Médio de Pagamento'] = df['p_Contas_a_Pagar'] / df['r_Custos'] * 365\n",
        "    # Dias médios para receber e pagar.\n",
        "\n",
        "    ### LIQUIDEZ\n",
        "    indices['Liquidez Corrente'] = df['p_Ativo_Circulante'] / df['p_Passivo_Circulante']\n",
        "    # Mede a capacidade de pagar obrigações de curto prazo.\n",
        "\n",
        "    indices['Liquidez Seca'] = (df['p_Ativo_Circulante'] - df['p_Estoques']) / df['p_Passivo_Circulante']\n",
        "    # Medida mais conservadora de liquidez, desconsidera estoques.\n",
        "\n",
        "    indices['CCL/Ativo Total'] = (df['p_Ativo_Circulante'] - df['p_Passivo_Circulante']) / df['p_Ativo_Total']\n",
        "    # Mede a folga de capital de giro em relação ao total de ativos da empresa.\n",
        "\n",
        "\n",
        "    ### Criar DataFrame\n",
        "    df_indices = pd.DataFrame(indices)\n",
        "\n",
        "    ### Tratar divisões por zero e valores infinitos\n",
        "    df_indices.replace([np.inf, -np.inf], np.nan, inplace=True)\n",
        "\n",
        "    return df_indices\n"
      ]
    },
    {
      "cell_type": "markdown",
      "metadata": {
        "id": "_p8hSremruV-"
      },
      "source": [
        "##### Importação dos Dados Contábeis"
      ]
    },
    {
      "cell_type": "code",
      "execution_count": 84,
      "metadata": {
        "id": "Lhk9GqNfruV-"
      },
      "outputs": [],
      "source": [
        "## Importar os dados\n",
        "# - Do mais recente para o mais antigo\n",
        "\n",
        "# arquivo_dados_contabeis = '/content/dados_contabeis_global.xlsx'\n",
        "arquivo_dados_contabeis = df_dados_contabeis"
      ]
    },
    {
      "cell_type": "code",
      "execution_count": 85,
      "metadata": {
        "colab": {
          "base_uri": "https://localhost:8080/",
          "height": 198
        },
        "id": "JUFBrnuBnb1X",
        "outputId": "2689913e-012e-4a65-cb0c-aff53c304a09"
      },
      "outputs": [
        {
          "data": {
            "text/html": [
              "<div>\n",
              "<style scoped>\n",
              "    .dataframe tbody tr th:only-of-type {\n",
              "        vertical-align: middle;\n",
              "    }\n",
              "\n",
              "    .dataframe tbody tr th {\n",
              "        vertical-align: top;\n",
              "    }\n",
              "\n",
              "    .dataframe thead th {\n",
              "        text-align: right;\n",
              "    }\n",
              "</style>\n",
              "<table border=\"1\" class=\"dataframe\">\n",
              "  <thead>\n",
              "    <tr style=\"text-align: right;\">\n",
              "      <th></th>\n",
              "      <th>ano</th>\n",
              "      <th>p_Ativo_Circulante</th>\n",
              "      <th>p_Ativo_Total</th>\n",
              "      <th>p_Caixa</th>\n",
              "      <th>p_Estoques</th>\n",
              "      <th>p_Contas_a_Pagar</th>\n",
              "      <th>p_Contas_a_Receber</th>\n",
              "      <th>p_Passivo_Circulante</th>\n",
              "      <th>p_Passivo_Total</th>\n",
              "      <th>p_Patrimonio_Liquido</th>\n",
              "      <th>r_Amortizacao</th>\n",
              "      <th>r_Custos</th>\n",
              "      <th>r_Depreciacao</th>\n",
              "      <th>r_Despesa_de_Impostos</th>\n",
              "      <th>r_Despesa_de_Juros</th>\n",
              "      <th>r_Lucro_Liquido</th>\n",
              "      <th>r_Receita_Total</th>\n",
              "    </tr>\n",
              "  </thead>\n",
              "  <tbody>\n",
              "    <tr>\n",
              "      <th>0</th>\n",
              "      <td>0</td>\n",
              "      <td>29716613</td>\n",
              "      <td>58240254</td>\n",
              "      <td>0</td>\n",
              "      <td>0</td>\n",
              "      <td>6048227</td>\n",
              "      <td>8920741</td>\n",
              "      <td>6279752</td>\n",
              "      <td>58240254</td>\n",
              "      <td>12106709</td>\n",
              "      <td>0</td>\n",
              "      <td>67838821</td>\n",
              "      <td>0</td>\n",
              "      <td>0</td>\n",
              "      <td>31879</td>\n",
              "      <td>100893</td>\n",
              "      <td>73372438</td>\n",
              "    </tr>\n",
              "    <tr>\n",
              "      <th>1</th>\n",
              "      <td>1</td>\n",
              "      <td>35030579</td>\n",
              "      <td>67992387</td>\n",
              "      <td>0</td>\n",
              "      <td>0</td>\n",
              "      <td>16076322</td>\n",
              "      <td>10463734</td>\n",
              "      <td>16514038</td>\n",
              "      <td>67992387</td>\n",
              "      <td>10874130</td>\n",
              "      <td>0</td>\n",
              "      <td>33665834</td>\n",
              "      <td>0</td>\n",
              "      <td>0</td>\n",
              "      <td>334490</td>\n",
              "      <td>1496210</td>\n",
              "      <td>49372166</td>\n",
              "    </tr>\n",
              "    <tr>\n",
              "      <th>2</th>\n",
              "      <td>2</td>\n",
              "      <td>37531910</td>\n",
              "      <td>80987685</td>\n",
              "      <td>0</td>\n",
              "      <td>0</td>\n",
              "      <td>19191518</td>\n",
              "      <td>7861523</td>\n",
              "      <td>25235400</td>\n",
              "      <td>80987685</td>\n",
              "      <td>14031963</td>\n",
              "      <td>0</td>\n",
              "      <td>32800463</td>\n",
              "      <td>0</td>\n",
              "      <td>0</td>\n",
              "      <td>1144121</td>\n",
              "      <td>3748957</td>\n",
              "      <td>45676317</td>\n",
              "    </tr>\n",
              "  </tbody>\n",
              "</table>\n",
              "</div>"
            ],
            "text/plain": [
              "   ano  p_Ativo_Circulante  p_Ativo_Total  p_Caixa  p_Estoques  \\\n",
              "0    0            29716613       58240254        0           0   \n",
              "1    1            35030579       67992387        0           0   \n",
              "2    2            37531910       80987685        0           0   \n",
              "\n",
              "   p_Contas_a_Pagar  p_Contas_a_Receber  p_Passivo_Circulante  \\\n",
              "0           6048227             8920741               6279752   \n",
              "1          16076322            10463734              16514038   \n",
              "2          19191518             7861523              25235400   \n",
              "\n",
              "   p_Passivo_Total  p_Patrimonio_Liquido  r_Amortizacao  r_Custos  \\\n",
              "0         58240254              12106709              0  67838821   \n",
              "1         67992387              10874130              0  33665834   \n",
              "2         80987685              14031963              0  32800463   \n",
              "\n",
              "   r_Depreciacao  r_Despesa_de_Impostos  r_Despesa_de_Juros  r_Lucro_Liquido  \\\n",
              "0              0                      0               31879           100893   \n",
              "1              0                      0              334490          1496210   \n",
              "2              0                      0             1144121          3748957   \n",
              "\n",
              "   r_Receita_Total  \n",
              "0         73372438  \n",
              "1         49372166  \n",
              "2         45676317  "
            ]
          },
          "execution_count": 85,
          "metadata": {},
          "output_type": "execute_result"
        }
      ],
      "source": [
        "arquivo_dados_contabeis"
      ]
    },
    {
      "cell_type": "markdown",
      "metadata": {
        "id": "fHH5wcF4ruV_"
      },
      "source": [
        "##### Leitura dos Dados Contábeis"
      ]
    },
    {
      "cell_type": "code",
      "execution_count": 86,
      "metadata": {
        "colab": {
          "base_uri": "https://localhost:8080/"
        },
        "id": "VjzcTmKLruV_",
        "outputId": "d28636c8-52a4-44a9-d6f6-1a0862eb4bd3"
      },
      "outputs": [
        {
          "name": "stdout",
          "output_type": "stream",
          "text": [
            "Dados Contabeis Importados:\n",
            "   ano  p_Ativo_Circulante  p_Ativo_Total  p_Caixa  p_Estoques  \\\n",
            "0    0            29716613       58240254        0           0   \n",
            "1    1            35030579       67992387        0           0   \n",
            "2    2            37531910       80987685        0           0   \n",
            "\n",
            "   p_Contas_a_Pagar  p_Contas_a_Receber  p_Passivo_Circulante  \\\n",
            "0           6048227             8920741               6279752   \n",
            "1          16076322            10463734              16514038   \n",
            "2          19191518             7861523              25235400   \n",
            "\n",
            "   p_Passivo_Total  p_Patrimonio_Liquido  r_Amortizacao  r_Custos  \\\n",
            "0         58240254              12106709              0  67838821   \n",
            "1         67992387              10874130              0  33665834   \n",
            "2         80987685              14031963              0  32800463   \n",
            "\n",
            "   r_Depreciacao  r_Despesa_de_Impostos  r_Despesa_de_Juros  r_Lucro_Liquido  \\\n",
            "0              0                      0               31879           100893   \n",
            "1              0                      0              334490          1496210   \n",
            "2              0                      0             1144121          3748957   \n",
            "\n",
            "   r_Receita_Total  \n",
            "0         73372438  \n",
            "1         49372166  \n",
            "2         45676317  \n"
          ]
        }
      ],
      "source": [
        "df_dados_contabeis = arquivo_dados_contabeis\n",
        "print('Dados Contabeis Importados:')\n",
        "print(df_dados_contabeis)"
      ]
    },
    {
      "cell_type": "markdown",
      "metadata": {
        "id": "KhQE3FG1ruV_"
      },
      "source": [
        "##### 2. PROCESSAMENTO DO MODELO #####"
      ]
    },
    {
      "cell_type": "markdown",
      "metadata": {
        "id": "wQKCxENhruV_"
      },
      "source": [
        "##### 2.1 Índices contábeis"
      ]
    },
    {
      "cell_type": "code",
      "execution_count": 87,
      "metadata": {
        "colab": {
          "base_uri": "https://localhost:8080/"
        },
        "id": "vmq8UHOZruV_",
        "outputId": "cf6ff74b-034f-4ae7-ea82-66306ecd1da1"
      },
      "outputs": [
        {
          "name": "stdout",
          "output_type": "stream",
          "text": [
            "\n",
            "Índices Contábeis Calculados:\n"
          ]
        }
      ],
      "source": [
        "df_indices = calcular_indices_contabeis(df_dados_contabeis).round(2)\n",
        "print('\\nÍndices Contábeis Calculados:')"
      ]
    },
    {
      "cell_type": "code",
      "execution_count": 88,
      "metadata": {},
      "outputs": [],
      "source": [
        "if (df_dados_contabeis['p_Estoques'] == 0).all():\n",
        "        del df_indices['Liquidez Seca']"
      ]
    },
    {
      "cell_type": "code",
      "execution_count": 89,
      "metadata": {},
      "outputs": [
        {
          "name": "stdout",
          "output_type": "stream",
          "text": [
            "   Margem Líquida   ROA   ROE   EBITDA  Margem EBITDA  Alavancagem  \\\n",
            "0            0.00  0.00  0.01   132772           0.00       347.46   \n",
            "1            0.03  0.02  0.14  1830700           0.04        31.20   \n",
            "2            0.08  0.05  0.27  4893078           0.11        13.68   \n",
            "\n",
            "   Endividamento  Imobilizado/Ativo  Cobertura de Juros  Giro do Ativo  \\\n",
            "0           0.79               0.49                4.16           1.26   \n",
            "1           0.84               0.48                5.47           0.73   \n",
            "2           0.83               0.54                4.28           0.56   \n",
            "\n",
            "   Período Médio de Recebimento  Período Médio de Pagamento  \\\n",
            "0                         44.38                       32.54   \n",
            "1                         77.36                      174.30   \n",
            "2                         62.82                      213.56   \n",
            "\n",
            "   Liquidez Corrente  CCL/Ativo Total  \n",
            "0               4.73             0.40  \n",
            "1               2.12             0.27  \n",
            "2               1.49             0.15  \n"
          ]
        }
      ],
      "source": [
        "print(df_indices)"
      ]
    },
    {
      "cell_type": "markdown",
      "metadata": {
        "id": "eKbXhxBuruV_"
      },
      "source": [
        "##### 2.2 Padronização dos índices contábeis"
      ]
    },
    {
      "cell_type": "code",
      "execution_count": 90,
      "metadata": {
        "colab": {
          "base_uri": "https://localhost:8080/"
        },
        "id": "wPM-ryaKruWA",
        "outputId": "8ac2015b-15c1-4c0f-e181-73fc47d25a16"
      },
      "outputs": [
        {
          "name": "stdout",
          "output_type": "stream",
          "text": [
            "\n",
            "Índices Escalados para PCA:\n",
            "[[-1.1111678  -1.13554995 -1.22474487 -1.09286499 -1.09985336  1.41267511\n",
            "  -1.38873015 -0.50800051 -0.8061489   1.37535374 -1.27006502 -1.38383806\n",
            "   1.39023519  1.24074398]\n",
            " [-0.20203051 -0.16222142  0.         -0.23089278 -0.21997067 -0.64922553\n",
            "   0.9258201  -0.88900089  1.40935123 -0.40254256  1.1737357   0.43944297\n",
            "  -0.47054114 -0.03265116]\n",
            " [ 1.31319831  1.29777137  1.22474487  1.32375777  1.31982404 -0.76344958\n",
            "   0.46291005  1.3970014  -0.60320233 -0.97281118  0.09632932  0.94439509\n",
            "  -0.91969405 -1.20809282]]\n"
          ]
        }
      ],
      "source": [
        "# Escalar os índices contábeis para o PCA\n",
        "scaler = StandardScaler()\n",
        "indices_scaled = scaler.fit_transform(df_indices)\n",
        "print('\\nÍndices Escalados para PCA:')\n",
        "print(indices_scaled)"
      ]
    },
    {
      "cell_type": "markdown",
      "metadata": {
        "id": "pqUIqgEbruWA"
      },
      "source": [
        "##### 2.3 Cálculo do PCA"
      ]
    },
    {
      "cell_type": "code",
      "execution_count": 91,
      "metadata": {
        "colab": {
          "base_uri": "https://localhost:8080/"
        },
        "id": "EfRGM1e7ruWA",
        "outputId": "175669c5-5c42-479f-d891-53a6f37aed3c"
      },
      "outputs": [
        {
          "name": "stdout",
          "output_type": "stream",
          "text": [
            "\n",
            "Componentes Principais (PCA):\n",
            "[[ 4.40713052e+00 -8.54068358e-01 -3.46049193e-16]\n",
            " [-7.50506373e-01  2.36982746e+00 -3.46049193e-16]\n",
            " [-3.65662415e+00 -1.51575910e+00 -3.46049193e-16]]\n"
          ]
        }
      ],
      "source": [
        "# Realizar o PCA\n",
        "pca = PCA()\n",
        "pca_result = pca.fit_transform(indices_scaled)\n",
        "print('\\nComponentes Principais (PCA):')\n",
        "print(pca_result)\n",
        "\n",
        "#relatório\n"
      ]
    },
    {
      "cell_type": "markdown",
      "metadata": {
        "id": "Yx75wxXcruWA"
      },
      "source": [
        "##### 2.4 Variância Explicada PCA"
      ]
    },
    {
      "cell_type": "code",
      "execution_count": 92,
      "metadata": {
        "colab": {
          "base_uri": "https://localhost:8080/"
        },
        "id": "bWReshMkruWA",
        "outputId": "984a1f9f-9f93-43f2-f258-548921d36771"
      },
      "outputs": [
        {
          "name": "stdout",
          "output_type": "stream",
          "text": [
            "\n",
            "Variância Explicada por Componente:\n",
            "[7.94213319e-01 2.05786681e-01 8.55357458e-33]\n"
          ]
        }
      ],
      "source": [
        "# Variância explicada pelos componentes principais\n",
        "explained_variance_ratio = pca.explained_variance_ratio_\n",
        "print('\\nVariância Explicada por Componente:')\n",
        "print(explained_variance_ratio)\n",
        "\n",
        "#relatório"
      ]
    },
    {
      "cell_type": "markdown",
      "metadata": {
        "id": "LawCVNrvruWA"
      },
      "source": [
        "##### 2.5 DataFrame PCA"
      ]
    },
    {
      "cell_type": "code",
      "execution_count": 93,
      "metadata": {
        "colab": {
          "base_uri": "https://localhost:8080/"
        },
        "id": "CrGTgCGeruWA",
        "outputId": "adbe94cc-a547-46df-80d1-a9c785de802e"
      },
      "outputs": [
        {
          "name": "stdout",
          "output_type": "stream",
          "text": [
            "\n",
            "Matriz de Componentes Principais:\n",
            "        PC1       PC2           PC3\n",
            "0  4.407131 -0.854068 -3.460492e-16\n",
            "1 -0.750506  2.369827 -3.460492e-16\n",
            "2 -3.656624 -1.515759 -3.460492e-16\n"
          ]
        }
      ],
      "source": [
        "# DataFrame com os componentes principais\n",
        "pca_df = pd.DataFrame(pca_result, columns=[f'PC{i+1}' for i in range(pca_result.shape[1])])\n",
        "print('\\nMatriz de Componentes Principais:')\n",
        "print(pca_df)\n",
        "\n",
        "#relatório"
      ]
    },
    {
      "cell_type": "markdown",
      "metadata": {
        "id": "7SoXw22MruWA"
      },
      "source": [
        "##### 2.6 Matriz de cargas"
      ]
    },
    {
      "cell_type": "code",
      "execution_count": 94,
      "metadata": {
        "colab": {
          "base_uri": "https://localhost:8080/"
        },
        "id": "EK1KERu9ruWA",
        "outputId": "bb6a7a86-966f-4e8d-a914-00d93f145232"
      },
      "outputs": [
        {
          "name": "stdout",
          "output_type": "stream",
          "text": [
            "Matriz de Cargas dos Componentes Principais:\n",
            "     Margem Líquida       ROA       ROE    EBITDA  Margem EBITDA  Alavancagem  \\\n",
            "PC1       -0.286216 -0.288642 -0.296071 -0.284306      -0.285044     0.284940   \n",
            "PC2       -0.175894 -0.159864 -0.093764 -0.187468      -0.183093    -0.183716   \n",
            "PC3        0.424988  0.690044 -0.043079 -0.190974      -0.192743    -0.012181   \n",
            "\n",
            "     Endividamento  Imobilizado/Ativo  Cobertura de Juros  Giro do Ativo  \\\n",
            "PC1      -0.255054          -0.200256           -0.072094       0.297410   \n",
            "PC2       0.309896          -0.438553            0.571875      -0.075674   \n",
            "PC3       0.157642          -0.157142            0.188303       0.254524   \n",
            "\n",
            "     Período Médio de Recebimento  Período Médio de Pagamento  \\\n",
            "PC1                     -0.204769                   -0.296246   \n",
            "PC2                      0.430434                    0.091614   \n",
            "PC3                     -0.235951                    0.005078   \n",
            "\n",
            "     Liquidez Corrente  CCL/Ativo Total  \n",
            "PC1           0.295083         0.297094  \n",
            "PC2          -0.105105         0.080310  \n",
            "PC3           0.135224         0.209356  \n",
            "\n",
            "Índices mais significativos por componente:\n",
            "\n",
            "PC1:\n",
            "Giro do Ativo                 0.297410\n",
            "CCL/Ativo Total               0.297094\n",
            "Período Médio de Pagamento    0.296246\n",
            "Name: PC1, dtype: float64\n",
            "\n",
            "PC2:\n",
            "Cobertura de Juros              0.571875\n",
            "Imobilizado/Ativo               0.438553\n",
            "Período Médio de Recebimento    0.430434\n",
            "Name: PC2, dtype: float64\n",
            "\n",
            "PC3:\n",
            "ROA               0.690044\n",
            "Margem Líquida    0.424988\n",
            "Giro do Ativo     0.254524\n",
            "Name: PC3, dtype: float64\n"
          ]
        }
      ],
      "source": [
        "# Obter a matriz de cargas\n",
        "loadings = pd.DataFrame(\n",
        "    pca.components_,\n",
        "    columns=df_indices.columns,\n",
        "    index=[f'PC{i+1}' for i in range(pca.components_.shape[0])]\n",
        ")\n",
        "\n",
        "print('Matriz de Cargas dos Componentes Principais:')\n",
        "print(loadings)\n",
        "\n",
        "# Identificar os índices mais significativos para cada PC\n",
        "print('\\nÍndices mais significativos por componente:')\n",
        "for pc in loadings.index:\n",
        "    print(f'\\n{pc}:')\n",
        "    print(loadings.loc[pc].abs().sort_values(ascending=False).head(3))  # Top 3 índices mais significativos\n",
        "\n",
        "#relatório"
      ]
    },
    {
      "cell_type": "markdown",
      "metadata": {
        "id": "e77SN51hruWB"
      },
      "source": [
        "##### 2.7 Escore final"
      ]
    },
    {
      "cell_type": "code",
      "execution_count": 95,
      "metadata": {
        "colab": {
          "base_uri": "https://localhost:8080/",
          "height": 178
        },
        "id": "KUoMhOd0ruWB",
        "outputId": "cceb0c9a-3844-4ff7-c64b-e55323f59a3a"
      },
      "outputs": [
        {
          "data": {
            "text/plain": [
              "0    3.324446\n",
              "1   -0.108383\n",
              "2   -3.216063\n",
              "dtype: float64"
            ]
          },
          "execution_count": 95,
          "metadata": {},
          "output_type": "execute_result"
        }
      ],
      "source": [
        "pca_df.dot(explained_variance_ratio)"
      ]
    },
    {
      "cell_type": "markdown",
      "metadata": {
        "id": "MOWTgmyaruWB"
      },
      "source": [
        "##### 3. RESULTADOS #####"
      ]
    },
    {
      "cell_type": "markdown",
      "metadata": {
        "id": "Te19Q490ruWB"
      },
      "source": [
        "##### 3.1A FINSCORE BRUTO"
      ]
    },
    {
      "cell_type": "code",
      "execution_count": 96,
      "metadata": {},
      "outputs": [],
      "source": [
        "# Função para categorizar escores consolidados com mais granularidade\n",
        "def categorias_finscore_bruto(escores):\n",
        "    categorias = []\n",
        "    for escore in escores:\n",
        "        if finscore_bruto > 1.5:\n",
        "            categorias.append('Muito Abaixo do Risco')\n",
        "        elif 1.0 < escore <= 1.5:\n",
        "            categorias.append('Levemente Abaixo do Risco')\n",
        "        elif -1.0 <= escore <= 1.0:\n",
        "            categorias.append('Neutro')\n",
        "        elif -1.5 < escore < -1.0:\n",
        "            categorias.append('Levemente Acima do Risco')\n",
        "        else:\n",
        "            categorias.append('Muito Acima do Risco')\n",
        "    return categorias\n",
        "\n",
        "# Tabela de Categorias:\n",
        "# -------------------------------------------------------\n",
        "# |   Intervalo do Escore   |      Categoria            |\n",
        "# -------------------------------------------------------\n",
        "# |  escore > 1.5           | Muito Abaixo do Risco     |\n",
        "# |  1.0 < escore ≤ 1.5     | Levemente Abaixo do Risco |\n",
        "# | -1.0 ≤ escore ≤ 1.0     | Neutro                    |\n",
        "# | -1.5 < escore < -1.0    | Levemente Acima do Risco  |\n",
        "# |  escore ≤ -1.5          | Muito Acima do Risco      |\n",
        "# -------------------------------------------------------"
      ]
    },
    {
      "cell_type": "code",
      "execution_count": 97,
      "metadata": {
        "colab": {
          "base_uri": "https://localhost:8080/"
        },
        "id": "GvWTD2_bruWB",
        "outputId": "c25ab70a-2539-4bff-ae70-a3f183c3a6ec"
      },
      "outputs": [
        {
          "name": "stdout",
          "output_type": "stream",
          "text": [
            "\n",
            "FINSCORE BRUTO:\n",
            "1.49\n",
            "\n",
            "CLASSIFICAÇÃO FINSCORE BRUTO:\n",
            "Levemente Abaixo do Risco\n"
          ]
        }
      ],
      "source": [
        "# Calcular o escore consolidado com penalização do último ano\n",
        "# Do mais recente para o mais antigo: 0.5, 0.3, 0.2\n",
        "pesos = [0.6, 0.25, 0.15]  # Pesos para os três anos\n",
        "finscore_bruto = round((pca_df.dot(explained_variance_ratio) * pesos).sum(), 2)\n",
        "print('\\nFINSCORE BRUTO:')\n",
        "print(finscore_bruto)\n",
        "print('\\nCLASSIFICAÇÃO FINSCORE BRUTO:')\n",
        "print(categorias_finscore_bruto([finscore_bruto])[0])\n"
      ]
    },
    {
      "cell_type": "markdown",
      "metadata": {
        "id": "Qd0mMdVyruWE"
      },
      "source": [
        "##### 3.1B FINSCORE AJUSTADO"
      ]
    },
    {
      "cell_type": "code",
      "execution_count": 98,
      "metadata": {},
      "outputs": [],
      "source": [
        "# Função para categorizar escores consolidados com mais granularidade\n",
        "def categorias_finscore_ajustado(escores):\n",
        "    categorias = []\n",
        "    for escore in escores:\n",
        "        if escore > 750:\n",
        "            categorias.append('Muito Abaixo do Risco')\n",
        "        elif 500 < escore <= 750:\n",
        "            categorias.append('Levemente Abaixo do Risco')\n",
        "        elif 250 <= escore <= 500:\n",
        "            categorias.append('Neutro')\n",
        "        elif 100 < escore < 250:\n",
        "            categorias.append('Levemente Acima do Risco')\n",
        "        else:\n",
        "            categorias.append('Muito Acima do Risco')\n",
        "    return categorias\n",
        "\n",
        "# Tabela de Categorias:\n",
        "# -------------------------------------------------------\n",
        "# |   Intervalo do Escore  |      Categoria            |\n",
        "# -------------------------------------------------------\n",
        "# |  escore > 750          | Muito Abaixo do Risco     |\n",
        "# |  500 < escore ≤ 750    | Levemente Abaixo do Risco |\n",
        "# | 250 ≤ escore ≤ 500     | Neutro                    |\n",
        "# | 100 < escore < 250     | Levemente Acima do Risco  |\n",
        "# |  escore ≤ 250          | Muito Acima do Risco      |\n",
        "# -------------------------------------------------------"
      ]
    },
    {
      "cell_type": "code",
      "execution_count": 99,
      "metadata": {},
      "outputs": [],
      "source": [
        "# Traduz a tendência em um escore de risco ajustado ao ponto de referência atual do cliente.\n",
        "finscore_ajustado = round(min(((finscore_bruto + 2)/4)*1000, 1000), 2)"
      ]
    },
    {
      "cell_type": "code",
      "execution_count": 100,
      "metadata": {
        "colab": {
          "base_uri": "https://localhost:8080/"
        },
        "id": "6FfhV8HtruWE",
        "outputId": "31196038-090e-496d-ad08-8fd00c51d23e"
      },
      "outputs": [
        {
          "name": "stdout",
          "output_type": "stream",
          "text": [
            "\n",
            "FINSCORE AJUSTADO:\n",
            "872.5\n",
            "\n",
            "CLASSIFICAÇÃO FINSCORE AJUSTADO:\n",
            "Muito Abaixo do Risco\n"
          ]
        }
      ],
      "source": [
        "print('\\nFINSCORE AJUSTADO:')\n",
        "print(finscore_ajustado)\n",
        "print('\\nCLASSIFICAÇÃO FINSCORE AJUSTADO:')\n",
        "print(categorias_finscore_ajustado([finscore_ajustado])[0])"
      ]
    },
    {
      "cell_type": "markdown",
      "metadata": {},
      "source": [
        "##### 3.1C FINSCORE FINAL"
      ]
    },
    {
      "cell_type": "code",
      "execution_count": 101,
      "metadata": {},
      "outputs": [],
      "source": [
        "# Função para categorizar escores consolidados com mais granularidade\n",
        "def categorias_finscore_final(escores):\n",
        "    categorias = []\n",
        "    for escore in escores:\n",
        "        if escore > 750:\n",
        "            categorias.append('Muito Abaixo do Risco')\n",
        "        elif 500 < escore <= 750:\n",
        "            categorias.append('Levemente Abaixo do Risco')\n",
        "        elif 250 <= escore <= 500:\n",
        "            categorias.append('Neutro')\n",
        "        elif 100 < escore < 250:\n",
        "            categorias.append('Levemente Acima do Risco')\n",
        "        else:\n",
        "            categorias.append('Muito Acima do Risco')\n",
        "    return categorias\n",
        "\n",
        "# Tabela de Categorias:\n",
        "# -------------------------------------------------------\n",
        "# |   Intervalo do Escore  |      Categoria            |\n",
        "# -------------------------------------------------------\n",
        "# |  escore > 750          | Muito Abaixo do Risco     |\n",
        "# |  500 < escore ≤ 750    | Levemente Abaixo do Risco |\n",
        "# | 250 ≤ escore ≤ 500     | Neutro                    |\n",
        "# | 100 < escore < 250     | Levemente Acima do Risco  |\n",
        "# |  escore ≤ 250          | Muito Acima do Risco      |\n",
        "# -------------------------------------------------------"
      ]
    },
    {
      "cell_type": "code",
      "execution_count": 102,
      "metadata": {},
      "outputs": [],
      "source": [
        "finscore_final = min(round(((serasa + finscore_ajustado) / 2) + ((serasa * finscore_ajustado)/1000), 2), 1000)\n"
      ]
    },
    {
      "cell_type": "code",
      "execution_count": 103,
      "metadata": {},
      "outputs": [
        {
          "name": "stdout",
          "output_type": "stream",
          "text": [
            "\n",
            "FINSCORE FINAL:\n",
            "1000\n",
            "\n",
            "CLASSIFICAÇÃO FINSCORE FINAL:\n",
            "Muito Abaixo do Risco\n"
          ]
        }
      ],
      "source": [
        "print('\\nFINSCORE FINAL:')\n",
        "print(finscore_final)\n",
        "print('\\nCLASSIFICAÇÃO FINSCORE FINAL:')\n",
        "print(categorias_finscore_final([finscore_final])[0])\n"
      ]
    },
    {
      "cell_type": "markdown",
      "metadata": {},
      "source": [
        "##### 3.2 SERASA"
      ]
    },
    {
      "cell_type": "code",
      "execution_count": 104,
      "metadata": {},
      "outputs": [],
      "source": [
        "# Função para categorizar escores conforme a classificação do Serasa\n",
        "def categorias_serasa(escores):\n",
        "    categorias = []\n",
        "    for escore in escores:\n",
        "        if escore >= 701:\n",
        "            categorias.append('Excelente')\n",
        "        elif 501 <= escore <= 700:\n",
        "            categorias.append('Bom')\n",
        "        elif 301 <= escore <= 500:\n",
        "            categorias.append('Baixa')\n",
        "        else:\n",
        "            categorias.append('Muito Baixa')\n",
        "    return categorias\n",
        "\n",
        "# Tabela de Categorias:\n",
        "# ---------------------------------\n",
        "# |   Intervalo do Escore  | Categoria  |\n",
        "# ---------------------------------\n",
        "# |  701 a 1.000          | Excelente  |\n",
        "# |  501 a 700            | Bom        |\n",
        "# |  301 a 500            | Baixo      |\n",
        "# |  0 a 300              | Muito Baixo|\n",
        "# ---------------------------------"
      ]
    },
    {
      "cell_type": "code",
      "execution_count": 105,
      "metadata": {},
      "outputs": [
        {
          "name": "stdout",
          "output_type": "stream",
          "text": [
            "\n",
            "SERASA:\n",
            "550\n",
            "\n",
            "CLASSIFICAÇÃO SERASA:\n",
            "Bom\n"
          ]
        }
      ],
      "source": [
        "print('\\nSERASA:')\n",
        "print(serasa)\n",
        "print('\\nCLASSIFICAÇÃO SERASA:')\n",
        "print(categorias_serasa([serasa])[0])"
      ]
    },
    {
      "cell_type": "markdown",
      "metadata": {
        "id": "n0VaQrgOruWE"
      },
      "source": [
        "##### 3.3 Valores e Contas Contábeis"
      ]
    },
    {
      "cell_type": "code",
      "execution_count": 106,
      "metadata": {
        "colab": {
          "base_uri": "https://localhost:8080/",
          "height": 198
        },
        "id": "mGlnSUpwruWF",
        "outputId": "d1e083f1-2133-4911-d1fd-6443f2380963"
      },
      "outputs": [
        {
          "data": {
            "text/html": [
              "<div>\n",
              "<style scoped>\n",
              "    .dataframe tbody tr th:only-of-type {\n",
              "        vertical-align: middle;\n",
              "    }\n",
              "\n",
              "    .dataframe tbody tr th {\n",
              "        vertical-align: top;\n",
              "    }\n",
              "\n",
              "    .dataframe thead th {\n",
              "        text-align: right;\n",
              "    }\n",
              "</style>\n",
              "<table border=\"1\" class=\"dataframe\">\n",
              "  <thead>\n",
              "    <tr style=\"text-align: right;\">\n",
              "      <th></th>\n",
              "      <th>ano</th>\n",
              "      <th>p_Ativo_Circulante</th>\n",
              "      <th>p_Ativo_Total</th>\n",
              "      <th>p_Caixa</th>\n",
              "      <th>p_Estoques</th>\n",
              "      <th>p_Contas_a_Pagar</th>\n",
              "      <th>p_Contas_a_Receber</th>\n",
              "      <th>p_Passivo_Circulante</th>\n",
              "      <th>p_Passivo_Total</th>\n",
              "      <th>p_Patrimonio_Liquido</th>\n",
              "      <th>r_Amortizacao</th>\n",
              "      <th>r_Custos</th>\n",
              "      <th>r_Depreciacao</th>\n",
              "      <th>r_Despesa_de_Impostos</th>\n",
              "      <th>r_Despesa_de_Juros</th>\n",
              "      <th>r_Lucro_Liquido</th>\n",
              "      <th>r_Receita_Total</th>\n",
              "      <th>p_Divida_Bruta</th>\n",
              "      <th>p_Divida_Liquida</th>\n",
              "      <th>p_Imobilizado</th>\n",
              "    </tr>\n",
              "  </thead>\n",
              "  <tbody>\n",
              "    <tr>\n",
              "      <th>0</th>\n",
              "      <td>0</td>\n",
              "      <td>29716613</td>\n",
              "      <td>58240254</td>\n",
              "      <td>0</td>\n",
              "      <td>0</td>\n",
              "      <td>6048227</td>\n",
              "      <td>8920741</td>\n",
              "      <td>6279752</td>\n",
              "      <td>58240254</td>\n",
              "      <td>12106709</td>\n",
              "      <td>0</td>\n",
              "      <td>67838821</td>\n",
              "      <td>0</td>\n",
              "      <td>0</td>\n",
              "      <td>31879</td>\n",
              "      <td>100893</td>\n",
              "      <td>73372438</td>\n",
              "      <td>46133545</td>\n",
              "      <td>46133545</td>\n",
              "      <td>28523641</td>\n",
              "    </tr>\n",
              "    <tr>\n",
              "      <th>1</th>\n",
              "      <td>1</td>\n",
              "      <td>35030579</td>\n",
              "      <td>67992387</td>\n",
              "      <td>0</td>\n",
              "      <td>0</td>\n",
              "      <td>16076322</td>\n",
              "      <td>10463734</td>\n",
              "      <td>16514038</td>\n",
              "      <td>67992387</td>\n",
              "      <td>10874130</td>\n",
              "      <td>0</td>\n",
              "      <td>33665834</td>\n",
              "      <td>0</td>\n",
              "      <td>0</td>\n",
              "      <td>334490</td>\n",
              "      <td>1496210</td>\n",
              "      <td>49372166</td>\n",
              "      <td>57118257</td>\n",
              "      <td>57118257</td>\n",
              "      <td>32961808</td>\n",
              "    </tr>\n",
              "    <tr>\n",
              "      <th>2</th>\n",
              "      <td>2</td>\n",
              "      <td>37531910</td>\n",
              "      <td>80987685</td>\n",
              "      <td>0</td>\n",
              "      <td>0</td>\n",
              "      <td>19191518</td>\n",
              "      <td>7861523</td>\n",
              "      <td>25235400</td>\n",
              "      <td>80987685</td>\n",
              "      <td>14031963</td>\n",
              "      <td>0</td>\n",
              "      <td>32800463</td>\n",
              "      <td>0</td>\n",
              "      <td>0</td>\n",
              "      <td>1144121</td>\n",
              "      <td>3748957</td>\n",
              "      <td>45676317</td>\n",
              "      <td>66955722</td>\n",
              "      <td>66955722</td>\n",
              "      <td>43455775</td>\n",
              "    </tr>\n",
              "  </tbody>\n",
              "</table>\n",
              "</div>"
            ],
            "text/plain": [
              "   ano  p_Ativo_Circulante  p_Ativo_Total  p_Caixa  p_Estoques  \\\n",
              "0    0            29716613       58240254        0           0   \n",
              "1    1            35030579       67992387        0           0   \n",
              "2    2            37531910       80987685        0           0   \n",
              "\n",
              "   p_Contas_a_Pagar  p_Contas_a_Receber  p_Passivo_Circulante  \\\n",
              "0           6048227             8920741               6279752   \n",
              "1          16076322            10463734              16514038   \n",
              "2          19191518             7861523              25235400   \n",
              "\n",
              "   p_Passivo_Total  p_Patrimonio_Liquido  r_Amortizacao  r_Custos  \\\n",
              "0         58240254              12106709              0  67838821   \n",
              "1         67992387              10874130              0  33665834   \n",
              "2         80987685              14031963              0  32800463   \n",
              "\n",
              "   r_Depreciacao  r_Despesa_de_Impostos  r_Despesa_de_Juros  r_Lucro_Liquido  \\\n",
              "0              0                      0               31879           100893   \n",
              "1              0                      0              334490          1496210   \n",
              "2              0                      0             1144121          3748957   \n",
              "\n",
              "   r_Receita_Total  p_Divida_Bruta  p_Divida_Liquida  p_Imobilizado  \n",
              "0         73372438        46133545          46133545       28523641  \n",
              "1         49372166        57118257          57118257       32961808  \n",
              "2         45676317        66955722          66955722       43455775  "
            ]
          },
          "execution_count": 106,
          "metadata": {},
          "output_type": "execute_result"
        }
      ],
      "source": [
        "df_dados_contabeis\n",
        "# Sendo 0 o mais recente e 2 o mais antigo"
      ]
    },
    {
      "cell_type": "markdown",
      "metadata": {
        "id": "OggCqRbIruWF"
      },
      "source": [
        "##### 3.4 Índices contábeis"
      ]
    },
    {
      "cell_type": "code",
      "execution_count": 107,
      "metadata": {
        "colab": {
          "base_uri": "https://localhost:8080/"
        },
        "id": "VRwxA5mRruWF",
        "outputId": "40a07120-840b-4b59-d44e-a95cf4e2da84"
      },
      "outputs": [
        {
          "name": "stdout",
          "output_type": "stream",
          "text": [
            "   Margem Líquida   ROA   ROE   EBITDA  Margem EBITDA  Alavancagem  \\\n",
            "0            0.00  0.00  0.01   132772           0.00       347.46   \n",
            "1            0.03  0.02  0.14  1830700           0.04        31.20   \n",
            "2            0.08  0.05  0.27  4893078           0.11        13.68   \n",
            "\n",
            "   Endividamento  Imobilizado/Ativo  Cobertura de Juros  Giro do Ativo  \\\n",
            "0           0.79               0.49                4.16           1.26   \n",
            "1           0.84               0.48                5.47           0.73   \n",
            "2           0.83               0.54                4.28           0.56   \n",
            "\n",
            "   Período Médio de Recebimento  Período Médio de Pagamento  \\\n",
            "0                         44.38                       32.54   \n",
            "1                         77.36                      174.30   \n",
            "2                         62.82                      213.56   \n",
            "\n",
            "   Liquidez Corrente  CCL/Ativo Total  \n",
            "0               4.73             0.40  \n",
            "1               2.12             0.27  \n",
            "2               1.49             0.15  \n"
          ]
        }
      ],
      "source": [
        "print(df_indices)\n",
        "# Sendo 0 o mais recente e 2 o mais antigo\n"
      ]
    },
    {
      "cell_type": "markdown",
      "metadata": {
        "id": "Y97BrJOiruWF"
      },
      "source": [
        "##### 4. APRESENTAÇÃO #####"
      ]
    },
    {
      "cell_type": "markdown",
      "metadata": {
        "id": "lRFYtoiYruWF"
      },
      "source": [
        "##### 4.1 Criação dos dfs"
      ]
    },
    {
      "cell_type": "code",
      "execution_count": 108,
      "metadata": {},
      "outputs": [
        {
          "data": {
            "text/plain": [
              "'Bom'"
            ]
          },
          "execution_count": 108,
          "metadata": {},
          "output_type": "execute_result"
        }
      ],
      "source": [
        " categorias_serasa([serasa])[0]"
      ]
    },
    {
      "cell_type": "code",
      "execution_count": 109,
      "metadata": {
        "colab": {
          "base_uri": "https://localhost:8080/",
          "height": 125
        },
        "id": "YnzoQ9MhruWF",
        "outputId": "e89e16a0-3497-4f86-c350-58a28db24a57"
      },
      "outputs": [
        {
          "data": {
            "text/html": [
              "<div>\n",
              "<style scoped>\n",
              "    .dataframe tbody tr th:only-of-type {\n",
              "        vertical-align: middle;\n",
              "    }\n",
              "\n",
              "    .dataframe tbody tr th {\n",
              "        vertical-align: top;\n",
              "    }\n",
              "\n",
              "    .dataframe thead th {\n",
              "        text-align: right;\n",
              "    }\n",
              "</style>\n",
              "<table border=\"1\" class=\"dataframe\">\n",
              "  <thead>\n",
              "    <tr style=\"text-align: right;\">\n",
              "      <th></th>\n",
              "      <th>Métrica</th>\n",
              "      <th>Valor</th>\n",
              "      <th>Cateegoria</th>\n",
              "    </tr>\n",
              "  </thead>\n",
              "  <tbody>\n",
              "    <tr>\n",
              "      <th>0</th>\n",
              "      <td>Finscore Bruto</td>\n",
              "      <td>1.49</td>\n",
              "      <td>Levemente Abaixo do Risco</td>\n",
              "    </tr>\n",
              "    <tr>\n",
              "      <th>1</th>\n",
              "      <td>Finscore Ajustado</td>\n",
              "      <td>872.50</td>\n",
              "      <td>Muito Abaixo do Risco</td>\n",
              "    </tr>\n",
              "    <tr>\n",
              "      <th>2</th>\n",
              "      <td>Finscore</td>\n",
              "      <td>1000.00</td>\n",
              "      <td>Muito Abaixo do Risco</td>\n",
              "    </tr>\n",
              "    <tr>\n",
              "      <th>3</th>\n",
              "      <td>Serasa</td>\n",
              "      <td>550.00</td>\n",
              "      <td>Bom</td>\n",
              "    </tr>\n",
              "  </tbody>\n",
              "</table>\n",
              "</div>"
            ],
            "text/plain": [
              "             Métrica    Valor                 Cateegoria\n",
              "0     Finscore Bruto     1.49  Levemente Abaixo do Risco\n",
              "1  Finscore Ajustado   872.50      Muito Abaixo do Risco\n",
              "2           Finscore  1000.00      Muito Abaixo do Risco\n",
              "3             Serasa   550.00                        Bom"
            ]
          },
          "execution_count": 109,
          "metadata": {},
          "output_type": "execute_result"
        }
      ],
      "source": [
        "# Df resultados principais\n",
        "resultados_df = pd.DataFrame({\n",
        "    'Métrica': ['Finscore Bruto', 'Finscore Ajustado', 'Finscore', 'Serasa'],\n",
        "    'Valor': [finscore_bruto, finscore_ajustado, finscore_final, serasa],\n",
        "    'Cateegoria': [categorias_finscore_bruto([finscore_bruto])[0], \n",
        "                   categorias_finscore_ajustado([finscore_ajustado])[0], \n",
        "                   categorias_finscore_final([finscore_final])[0],\n",
        "                   categorias_serasa([serasa])[0]]\n",
        "                   \n",
        "})\n",
        "resultados_df"
      ]
    },
    {
      "cell_type": "markdown",
      "metadata": {
        "id": "cqIfVy3FruWF"
      },
      "source": [
        "##### 4.2 Tabela Resumo"
      ]
    },
    {
      "cell_type": "code",
      "execution_count": 110,
      "metadata": {},
      "outputs": [
        {
          "data": {
            "image/png": "[encoded data removed]",
            "text/plain": [
              "<Figure size 1400x1200 with 3 Axes>"
            ]
          },
          "metadata": {},
          "output_type": "display_data"
        }
      ],
      "source": [
        "\n",
        "# --- Ajuste principal: inverter a ordem do df_indices se necessário ---\n",
        "df_indices = df_indices.iloc[::-1].reset_index(drop=True)\n",
        "\n",
        "## FORMATAR PADRÃO BR\n",
        "# Cópia do df original\n",
        "df_dados_contabeis_milhoes = df_dados_contabeis.copy()\n",
        "\n",
        "# Excluindo a coluna 'Ano' antes de realizar as transformações\n",
        "df_dados_contabeis_milhoes = df_dados_contabeis_milhoes.drop(columns=['ano'])\n",
        "\n",
        "# Dividindo os valores das colunas numéricas por 1.000.000\n",
        "for col in df_dados_contabeis_milhoes.select_dtypes(include=['float64', 'int64']).columns:\n",
        "    df_dados_contabeis_milhoes[col] = df_dados_contabeis_milhoes[col] / 1_000_000\n",
        "\n",
        "# Formatando os valores para o padrão brasileiro (R$ 1.000.000,00)\n",
        "df_dados_contabeis_milhoes = df_dados_contabeis_milhoes.map(\n",
        "    lambda x: f'R$ {x:,.2f}'.replace(',', 'X').replace('.', ',').replace('X', '.')\n",
        "    if isinstance(x, (int, float)) else x\n",
        ")\n",
        "\n",
        "## INSERIR A COLUNA 'ANO' NAS TABELAS 'Dados Contábeis' e 'Índices Financeiros'\n",
        "anos = list(map(str, range(ano_inicial, ano_final + 1)))  # Criando lista correta de anos\n",
        "\n",
        "# Ajustando tamanho das listas de anos conforme o número de linhas nos DataFrames\n",
        "df_dados_contabeis_milhoes.insert(0, 'Ano', anos[:len(df_dados_contabeis_milhoes)])\n",
        "df_indices.insert(0, 'ano', anos[:len(df_indices)])\n",
        "\n",
        "## DF RESULTADOS PRINCIPAIS\n",
        "resultados_df = pd.DataFrame({\n",
        "    'Métrica': ['Finscore Bruto', 'Finscore Ajustado', 'Finscore', 'Serasa'],\n",
        "    'Valor': [finscore_bruto, finscore_ajustado, finscore_final, serasa],\n",
        "    'Categoria': [\n",
        "        categorias_finscore_bruto([finscore_bruto])[0],\n",
        "        categorias_finscore_ajustado([finscore_ajustado])[0],\n",
        "        categorias_finscore_final([finscore_final])[0],\n",
        "        categorias_serasa([serasa])[0]\n",
        "    ]\n",
        "})\n",
        "\n",
        "## INSERINDO QUEBRA DE LINHA NOS CABEÇALHOS\n",
        "df_dados_contabeis_milhoes.columns = [col.replace(' ', '\\n') for col in df_dados_contabeis_milhoes.columns]\n",
        "df_indices.columns = [col.replace(' ', '\\n') for col in df_indices.columns]\n",
        "resultados_df.columns = [col.replace(' ', '\\n') for col in resultados_df.columns]\n",
        "\n",
        "## CABEÇALHO\n",
        "fig, axs = plt.subplots(nrows=3, figsize=(14, 12))\n",
        "\n",
        "# Ajustando o espaçamento entre os subplots\n",
        "plt.subplots_adjust(hspace=1.2)  # Aumentando a separação entre as tabelas\n",
        "\n",
        "fig.suptitle(\n",
        "    f'CÁLCULO FINSCORE - {cliente} - Período base {ano_inicial} - {ano_final}',\n",
        "    fontsize=14, fontweight='bold'\n",
        ")\n",
        "\n",
        "## TABELAS\n",
        "def add_table(ax, df, title, top_padding=0.5):\n",
        "    ax.axis('tight')\n",
        "    ax.axis('off')\n",
        "\n",
        "    # Ajuste dinâmico da largura das colunas\n",
        "    num_cols = len(df.columns)\n",
        "    col_widths = [0.15] * num_cols  # Largura padrão\n",
        "    if 'Categoria' in df.columns:\n",
        "        col_widths[-1] = 0.5  # Maior largura para 'Categoria'\n",
        "\n",
        "    table = ax.table(\n",
        "        cellText=df.values,\n",
        "        colLabels=df.columns,\n",
        "        cellLoc='center', loc='center',\n",
        "        colWidths=col_widths\n",
        "    )\n",
        "    \n",
        "    table.auto_set_font_size(False)\n",
        "    table.set_fontsize(10)\n",
        "    table.scale(1.3, 1.3)  # Ajustando escala para melhor legibilidade\n",
        "    \n",
        "    # Aumentando a altura da linha do cabeçalho\n",
        "    for col in range(len(df.columns)):\n",
        "        table[(0, col)].set_height(0.3)\n",
        "    \n",
        "    # Destacando o cabeçalho com negrito\n",
        "    for key, cell in table._cells.items():\n",
        "        if key[0] == 0:  # Se for a primeira linha (cabeçalho)\n",
        "            cell.set_fontsize(10)\n",
        "            cell.set_text_props(weight='bold')\n",
        "        else:\n",
        "            cell.set_text_props(ha='center', va='center', wrap=True)  # Ajuste para quebras de linha\n",
        "            cell.set_height(0.2)  # Aumentando altura para melhor ajuste de texto\n",
        "\n",
        "    # Ajustar a posição do título para ficar mais centralizado\n",
        "    ax.set_title(title, fontsize=12, fontweight='bold', pad=top_padding)\n",
        "    ax.title.set_y(1.1)  # Levando o título um pouco para cima\n",
        "\n",
        "# Adicionando cada tabela com ajuste fino do título\n",
        "add_table(axs[0], resultados_df, 'FinScore Calculado', top_padding=1.0)\n",
        "add_table(axs[1], df_dados_contabeis_milhoes, 'Dados Contábeis\\n(Em Milhões de R$)', top_padding=1.5)\n",
        "add_table(axs[2], df_indices, 'Índices Financeiros', top_padding=1.5)\n",
        "\n",
        "plt.show()\n"
      ]
    },
    {
      "cell_type": "markdown",
      "metadata": {
        "id": "sG94dL8tyCBR"
      },
      "source": [
        "#### 5. Prompt IA"
      ]
    },
    {
      "cell_type": "code",
      "execution_count": 111,
      "metadata": {},
      "outputs": [
        {
          "name": "stdout",
          "output_type": "stream",
          "text": [
            "Faça um parecer em língua portuguesa com base no prompt abaixo, pronto para ser copiado e colado em um processador de texto (word, libreoffice ou google docs):\n",
            "\n",
            "========================== INÍCIO ==========================\n",
            "- Gere um relatório detalhado de análise de crédito para o cliente abaixo, considerando sua situação financeira com base nos dados contábeis, índices financeiros e classificação final do FinScore.\n",
            "\n",
            "1️⃣ INTRODUÇÃO:\n",
            "--------------------------------------\n",
            "Este parecer tem como objetivo fornecer uma análise detalhada da situação financeira da empresa analisada, utilizando os demonstrativos financeiros disponíveis.\n",
            "Nome da Empresa: NOME DA EMPRESA\n",
            "Período da Análise: 2021 - 2023\n",
            "Serão avaliados os dados contábeis, índices financeiros e scores de risco para apresentar um veredito sobre a viabilidade da concessão de crédito à empresa.\n",
            "\n",
            "2️⃣ METODOLOGIA:\n",
            "--------------------------------------\n",
            "A análise financeira desta empresa segue as diretrizes metodológicas do FinScore, conforme descrito no documento de referência.\n",
            "\n",
            "🔹 **O que é o FinScore e como ele é calculado?**\n",
            "O FinScore é um indicador consolidado que avalia a saúde financeira da empresa com base em índices financeiros e técnicas estatísticas avançadas. Ele pode ser apresentado em três versões:\n",
            "- **FinScore Bruto:** Obtido diretamente a partir da soma ponderada dos componentes principais do PCA (Análise de Componentes Principais). Seu valor original está na faixa de -2 a +2.\n",
            "- **FinScore Ajustado:** Transformação do FinScore Bruto para uma escala mais intuitiva de 0 a 1000.\n",
            "- **FinScore Final:** Combinação do FinScore Ajustado com o Serasa Score, aplicando uma ponderação específica para refletir tanto a análise contábil quanto o risco de crédito do mercado.\n",
            "\n",
            "🔹 **Classificação do FinScore Bruto**\n",
            "-------------------------------------------------------\n",
            "|   Intervalo do Escore   |      Categoria            |\n",
            "-------------------------------------------------------\n",
            "|  escore > 1.5           | Muito Abaixo do Risco     |\n",
            "|  1.0 < escore ≤ 1.5     | Levemente Abaixo do Risco |\n",
            "| -1.0 ≤ escore ≤ 1.0     | Neutro                    |\n",
            "| -1.5 < escore < -1.0    | Levemente Acima do Risco  |\n",
            "|  escore ≤ -1.5          | Muito Acima do Risco      |\n",
            "-------------------------------------------------------\n",
            "\n",
            "🔹 **Classificação do FinScore Ajustado**\n",
            "-------------------------------------------------------\n",
            "|   Intervalo do Escore  |      Categoria            |\n",
            "-------------------------------------------------------\n",
            "|  escore > 750          | Muito Abaixo do Risco     |\n",
            "|  500 < escore ≤ 750    | Levemente Abaixo do Risco |\n",
            "| 250 ≤ escore ≤ 500     | Neutro                    |\n",
            "| 100 < escore < 250     | Levemente Acima do Risco  |\n",
            "|  escore ≤ 100          | Muito Acima do Risco      |\n",
            "-------------------------------------------------------\n",
            "\n",
            "🔹 **Classificação do FinScore Final**\n",
            "-------------------------------------------------------\n",
            "|   Intervalo do Escore  |      Categoria            |\n",
            "-------------------------------------------------------\n",
            "|  escore > 750          | Muito Abaixo do Risco     |\n",
            "|  500 < escore ≤ 750    | Levemente Abaixo do Risco |\n",
            "| 250 ≤ escore ≤ 500     | Neutro                    |\n",
            "| 100 < escore < 250     | Levemente Acima do Risco  |\n",
            "|  escore ≤ 100          | Muito Acima do Risco      |\n",
            "-------------------------------------------------------\n",
            "\n",
            "🔹 **Papel do Serasa Score na Análise**\n",
            "O Serasa Score é um indicador de crédito baseado no histórico financeiro da empresa. Ele complementa o FinScore, permitindo avaliar não apenas a estrutura financeira, mas também o comportamento de pagamento no mercado.\n",
            "\n",
            "3️⃣ ANÁLISE DOS DADOS CONTÁBEIS:\n",
            "--------------------------------------\n",
            "Os seguintes dados contábeis foram extraídos para a análise financeira:\n",
            "   ano  p_Ativo_Circulante  p_Ativo_Total  p_Caixa  p_Estoques  \\\n",
            "0    0            29716613       58240254        0           0   \n",
            "1    1            35030579       67992387        0           0   \n",
            "2    2            37531910       80987685        0           0   \n",
            "\n",
            "   p_Contas_a_Pagar  p_Contas_a_Receber  p_Passivo_Circulante  \\\n",
            "0           6048227             8920741               6279752   \n",
            "1          16076322            10463734              16514038   \n",
            "2          19191518             7861523              25235400   \n",
            "\n",
            "   p_Passivo_Total  p_Patrimonio_Liquido  r_Amortizacao  r_Custos  \\\n",
            "0         58240254              12106709              0  67838821   \n",
            "1         67992387              10874130              0  33665834   \n",
            "2         80987685              14031963              0  32800463   \n",
            "\n",
            "   r_Depreciacao  r_Despesa_de_Impostos  r_Despesa_de_Juros  r_Lucro_Liquido  \\\n",
            "0              0                      0               31879           100893   \n",
            "1              0                      0              334490          1496210   \n",
            "2              0                      0             1144121          3748957   \n",
            "\n",
            "   r_Receita_Total  p_Divida_Bruta  p_Divida_Liquida  p_Imobilizado  \n",
            "0         73372438        46133545          46133545       28523641  \n",
            "1         49372166        57118257          57118257       32961808  \n",
            "2         45676317        66955722          66955722       43455775  \n",
            "\n",
            "Monte a tabela com todos os valores listados em 'df_dados_contabeis' e critique cada uma das contas a seguir de forma contextualizada \n",
            "em relação aos objetivos deste trabalho: Ativo Circulante, Passivo Circulante, Estoques, Lucro Líquido, Receita Total, Ativo Total, \n",
            "Patrimônio Líquido, Passivo Total, EBIT, Despesa de Juros, Contas a Receber, Contas a Pagar, Custos\n",
            "\n",
            "🔎 **Interprete sobretudo os valores apresentados a seguir e critique-os:**\n",
            "- Como está a relação entre **Ativo Circulante** e **Passivo Circulante**? A empresa tem liquidez suficiente?\n",
            "- O **Lucro Líquido** está positivo ou negativo? Se negativo, quais são os impactos financeiros?\n",
            "- A empresa está altamente alavancada? O **Endividamento** indica que a empresa depende muito de capital de terceiros?\n",
            "\n",
            "4️⃣ ANÁLISE DOS ÍNDICES FINANCEIROS:\n",
            "--------------------------------------\n",
            "Os índices financeiros são fundamentais para avaliar a liquidez, rentabilidade e estrutura de capital da empresa.\n",
            "    ano  Margem\\nLíquida   ROA   ROE   EBITDA  Margem\\nEBITDA  Alavancagem  \\\n",
            "0  2021             0.08  0.05  0.27  4893078            0.11        13.68   \n",
            "1  2022             0.03  0.02  0.14  1830700            0.04        31.20   \n",
            "2  2023             0.00  0.00  0.01   132772            0.00       347.46   \n",
            "\n",
            "   Endividamento  Imobilizado/Ativo  Cobertura\\nde\\nJuros  Giro\\ndo\\nAtivo  \\\n",
            "0           0.83               0.54                  4.28             0.56   \n",
            "1           0.84               0.48                  5.47             0.73   \n",
            "2           0.79               0.49                  4.16             1.26   \n",
            "\n",
            "   Período\\nMédio\\nde\\nRecebimento  Período\\nMédio\\nde\\nPagamento  \\\n",
            "0                            62.82                         213.56   \n",
            "1                            77.36                         174.30   \n",
            "2                            44.38                          32.54   \n",
            "\n",
            "   Liquidez\\nCorrente  CCL/Ativo\\nTotal  \n",
            "0                1.49              0.15  \n",
            "1                2.12              0.27  \n",
            "2                4.73              0.40  \n",
            "\n",
            "Monte a tabela com todos os valores listados em 'df_indices' e critique ums por um dos valores a seguir de forma \n",
            "contextualizada em relação aos objetivos deste trabalho: Liquidez Corrente, Liquidez Seca, Margem Líquida, ROA, ROE, Endividamento,\n",
            "Cobertura de Juros, Giro do Ativo, Período Médio de Recebimento, Período Médio de Pagamento\n",
            "\n",
            "🔎 **Critique e interprete sobretudo estes índices:**\n",
            "- **Liquidez Corrente e Seca:** Índices abaixo de 1 podem indicar risco de liquidez.\n",
            "- **Margem Líquida:** Se for muito baixa, pode comprometer a rentabilidade no longo prazo.\n",
            "- **ROA e ROE:** Retornos negativos sugerem que os ativos ou o patrimônio não estão gerando lucro suficiente.\n",
            "- **Endividamento e Cobertura de Juros:** Alto endividamento com baixa cobertura de juros pode indicar risco elevado.\n",
            "\n",
            "5️⃣ ANÁLISE DOS FINSCORES E SERASA SCORE:\n",
            "--------------------------------------\n",
            "- **Finscore Bruto:** 1.49 | **Categoria:** <function categorias_finscore_bruto at 0x000001C237223600>\n",
            "- **Finscore Ajustado:** 872.50 | **Categoria:** <function categorias_finscore_ajustado at 0x000001C27E64B380>\n",
            "- **Finscore Final:** 1000.00 | **Categoria:** <function categorias_finscore_final at 0x000001C27E080AE0>\n",
            "- **Serasa Score:** 550.00 | **Categoria:** <function categorias_serasa at 0x000001C27E081260>\n",
            "Com base nos conceito de cada um dos finscores e do serasa score, qual a sua avaliação sobre a situação financeira da empresa?\n",
            "Reflita com parcimômia e acurácia técnica com base em todos os conceitos, informações auferidas e nos objetivos e propósitos desta metodologia.\n",
            "\n",
            "6️⃣ VEREDICTO FINAL:\n",
            "--------------------------------------\n",
            "O **FinScore Final** é o parâmetro definitivo da análise, pois sintetiza todos os índices e informações disponíveis.\n",
            "baseado em tudo o que foi registrado e analisado, qual a sua opinião final para a concessão de crédito a esta empresa? Com base em quais informações você chegou a essa conclusão?\n",
            "\n",
            "7️⃣ RECOMENDAÇÕES PARA MITIGAÇÃO DE RISCOS:\n",
            "--------------------------------------\n",
            "- Implementação de garantias reais, como recebíveis ou bens ativos.\n",
            "- Estabelecimento de um limite de crédito condizente com a capacidade de pagamento.\n",
            "- Monitoramento contínuo dos indicadores financeiros da empresa.\n",
            "\n",
            "========================== FIM ==========================\n"
          ]
        }
      ],
      "source": [
        "print('Faça um parecer em língua portuguesa com base no prompt abaixo, pronto para ser copiado e colado em um processador de texto (word, libreoffice ou google docs):')\n",
        "\n",
        "print('\\n========================== INÍCIO ==========================')\n",
        "\n",
        "print('- Gere um relatório detalhado de análise de crédito para o cliente abaixo, considerando sua situação financeira com base nos dados contábeis, índices financeiros e classificação final do FinScore.')\n",
        "\n",
        "# **1️⃣ Introdução**\n",
        "print('\\n1️⃣ INTRODUÇÃO:')\n",
        "print('--------------------------------------')\n",
        "print('Este parecer tem como objetivo fornecer uma análise detalhada da situação financeira da empresa analisada, utilizando os demonstrativos financeiros disponíveis.')\n",
        "print(f'Nome da Empresa: {cliente}')\n",
        "print(f'Período da Análise: {ano_inicial} - {ano_final}')\n",
        "print('Serão avaliados os dados contábeis, índices financeiros e scores de risco para apresentar um veredito sobre a viabilidade da concessão de crédito à empresa.')\n",
        "\n",
        "# **2️⃣ Metodologia**\n",
        "print('\\n2️⃣ METODOLOGIA:')\n",
        "print('--------------------------------------')\n",
        "print('A análise financeira desta empresa segue as diretrizes metodológicas do FinScore, conforme descrito no documento de referência.')\n",
        "\n",
        "print('\\n🔹 **O que é o FinScore e como ele é calculado?**')\n",
        "print('O FinScore é um indicador consolidado que avalia a saúde financeira da empresa com base em índices financeiros e técnicas estatísticas avançadas. Ele pode ser apresentado em três versões:')\n",
        "\n",
        "print('- **FinScore Bruto:** Obtido diretamente a partir da soma ponderada dos componentes principais do PCA (Análise de Componentes Principais). Seu valor original está na faixa de -2 a +2.')\n",
        "print('- **FinScore Ajustado:** Transformação do FinScore Bruto para uma escala mais intuitiva de 0 a 1000.')\n",
        "print('- **FinScore Final:** Combinação do FinScore Ajustado com o Serasa Score, aplicando uma ponderação específica para refletir tanto a análise contábil quanto o risco de crédito do mercado.')\n",
        "\n",
        "# **Tabelas de Classificação do FinScore**\n",
        "print('\\n🔹 **Classificação do FinScore Bruto**')\n",
        "print('-------------------------------------------------------')\n",
        "print('|   Intervalo do Escore   |      Categoria            |')\n",
        "print('-------------------------------------------------------')\n",
        "print('|  escore > 1.5           | Muito Abaixo do Risco     |')\n",
        "print('|  1.0 < escore ≤ 1.5     | Levemente Abaixo do Risco |')\n",
        "print('| -1.0 ≤ escore ≤ 1.0     | Neutro                    |')\n",
        "print('| -1.5 < escore < -1.0    | Levemente Acima do Risco  |')\n",
        "print('|  escore ≤ -1.5          | Muito Acima do Risco      |')\n",
        "print('-------------------------------------------------------')\n",
        "\n",
        "print('\\n🔹 **Classificação do FinScore Ajustado**')\n",
        "print('-------------------------------------------------------')\n",
        "print('|   Intervalo do Escore  |      Categoria            |')\n",
        "print('-------------------------------------------------------')\n",
        "print('|  escore > 750          | Muito Abaixo do Risco     |')\n",
        "print('|  500 < escore ≤ 750    | Levemente Abaixo do Risco |')\n",
        "print('| 250 ≤ escore ≤ 500     | Neutro                    |')\n",
        "print('| 100 < escore < 250     | Levemente Acima do Risco  |')\n",
        "print('|  escore ≤ 100          | Muito Acima do Risco      |')\n",
        "print('-------------------------------------------------------')\n",
        "\n",
        "print('\\n🔹 **Classificação do FinScore Final**')\n",
        "print('-------------------------------------------------------')\n",
        "print('|   Intervalo do Escore  |      Categoria            |')\n",
        "print('-------------------------------------------------------')\n",
        "print('|  escore > 750          | Muito Abaixo do Risco     |')\n",
        "print('|  500 < escore ≤ 750    | Levemente Abaixo do Risco |')\n",
        "print('| 250 ≤ escore ≤ 500     | Neutro                    |')\n",
        "print('| 100 < escore < 250     | Levemente Acima do Risco  |')\n",
        "print('|  escore ≤ 100          | Muito Acima do Risco      |')\n",
        "print('-------------------------------------------------------')\n",
        "\n",
        "print('\\n🔹 **Papel do Serasa Score na Análise**')\n",
        "print('O Serasa Score é um indicador de crédito baseado no histórico financeiro da empresa. Ele complementa o FinScore, permitindo avaliar não apenas a estrutura financeira, mas também o comportamento de pagamento no mercado.')\n",
        "\n",
        "# **3️⃣ Análise dos Dados Contábeis**\n",
        "print('\\n3️⃣ ANÁLISE DOS DADOS CONTÁBEIS:')\n",
        "print('--------------------------------------')\n",
        "print('Os seguintes dados contábeis foram extraídos para a análise financeira:')\n",
        "print(df_dados_contabeis)\n",
        "print(\"\"\"\n",
        "Monte a tabela com todos os valores listados em 'df_dados_contabeis' e critique cada uma das contas a seguir de forma contextualizada \n",
        "em relação aos objetivos deste trabalho: Ativo Circulante, Passivo Circulante, Estoques, Lucro Líquido, Receita Total, Ativo Total, \n",
        "Patrimônio Líquido, Passivo Total, EBIT, Despesa de Juros, Contas a Receber, Contas a Pagar, Custos\"\"\")\n",
        "\n",
        "print('\\n🔎 **Interprete sobretudo os valores apresentados a seguir e critique-os:**')\n",
        "print('- Como está a relação entre **Ativo Circulante** e **Passivo Circulante**? A empresa tem liquidez suficiente?')\n",
        "print('- O **Lucro Líquido** está positivo ou negativo? Se negativo, quais são os impactos financeiros?')\n",
        "print('- A empresa está altamente alavancada? O **Endividamento** indica que a empresa depende muito de capital de terceiros?')\n",
        "\n",
        "# **4️⃣ Análise dos Índices Financeiros**\n",
        "print('\\n4️⃣ ANÁLISE DOS ÍNDICES FINANCEIROS:')\n",
        "print('--------------------------------------')\n",
        "print('Os índices financeiros são fundamentais para avaliar a liquidez, rentabilidade e estrutura de capital da empresa.')\n",
        "print(df_indices)\n",
        "print(\"\"\"\n",
        "Monte a tabela com todos os valores listados em 'df_indices' e critique ums por um dos valores a seguir de forma \n",
        "contextualizada em relação aos objetivos deste trabalho: Liquidez Corrente, Liquidez Seca, Margem Líquida, ROA, ROE, Endividamento,\n",
        "Cobertura de Juros, Giro do Ativo, Período Médio de Recebimento, Período Médio de Pagamento\"\"\")\n",
        "\n",
        "print('\\n🔎 **Critique e interprete sobretudo estes índices:**')\n",
        "print('- **Liquidez Corrente e Seca:** Índices abaixo de 1 podem indicar risco de liquidez.')\n",
        "print('- **Margem Líquida:** Se for muito baixa, pode comprometer a rentabilidade no longo prazo.')\n",
        "print('- **ROA e ROE:** Retornos negativos sugerem que os ativos ou o patrimônio não estão gerando lucro suficiente.')\n",
        "print('- **Endividamento e Cobertura de Juros:** Alto endividamento com baixa cobertura de juros pode indicar risco elevado.')\n",
        "\n",
        "# **5️⃣ Análise dos FinScores e Serasa Score**\n",
        "print('\\n5️⃣ ANÁLISE DOS FINSCORES E SERASA SCORE:')\n",
        "print('--------------------------------------')\n",
        "print(f'- **Finscore Bruto:** {finscore_bruto:.2f} | **Categoria:** {categorias_finscore_bruto}')\n",
        "print(f'- **Finscore Ajustado:** {finscore_ajustado:.2f} | **Categoria:** {categorias_finscore_ajustado}')\n",
        "print(f'- **Finscore Final:** {finscore_final:.2f} | **Categoria:** {categorias_finscore_final}')\n",
        "print(f'- **Serasa Score:** {serasa:.2f} | **Categoria:** {categorias_serasa}')\n",
        "print('Com base nos conceito de cada um dos finscores e do serasa score, qual a sua avaliação sobre a situação financeira da empresa?')\n",
        "print('Reflita com parcimômia e acurácia técnica com base em todos os conceitos, informações auferidas e nos objetivos e propósitos desta metodologia.')\n",
        "\n",
        "# **6️⃣ Veredicto Final**\n",
        "print('\\n6️⃣ VEREDICTO FINAL:')\n",
        "print('--------------------------------------')\n",
        "print('O **FinScore Final** é o parâmetro definitivo da análise, pois sintetiza todos os índices e informações disponíveis.')\n",
        "print('baseado em tudo o que foi registrado e analisado, qual a sua opinião final para a concessão de crédito a esta empresa? Com base em quais informações você chegou a essa conclusão?')\n",
        "\n",
        "# **7️⃣ Recomendações para Mitigação de Riscos**\n",
        "print('\\n7️⃣ RECOMENDAÇÕES PARA MITIGAÇÃO DE RISCOS:')\n",
        "print('--------------------------------------')\n",
        "print('- Implementação de garantias reais, como recebíveis ou bens ativos.')\n",
        "print('- Estabelecimento de um limite de crédito condizente com a capacidade de pagamento.')\n",
        "print('- Monitoramento contínuo dos indicadores financeiros da empresa.')\n",
        "\n",
        "print('\\n========================== FIM ==========================')\n"
      ]
    }
  ],
  "metadata": {
    "colab": {
      "include_colab_link": true,
      "provenance": [],
      "toc_visible": true
    },
    "kernelspec": {
      "display_name": "finscorev7",
      "language": "python",
      "name": "python3"
    },
    "language_info": {
      "codemirror_mode": {
        "name": "ipython",
        "version": 3
      },
      "file_extension": ".py",
      "mimetype": "text/x-python",
      "name": "python",
      "nbconvert_exporter": "python",
      "pygments_lexer": "ipython3",
      "version": "3.11.11"
    }
  },
  "nbformat": 4,
  "nbformat_minor": 0
}
