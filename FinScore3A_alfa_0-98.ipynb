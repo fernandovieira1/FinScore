{
 "cells": [
  {
   "cell_type": "markdown",
   "metadata": {},
   "source": [
    "##### 0. CONFIGURAÇÃO DO AMBIENTE"
   ]
  },
  {
   "cell_type": "markdown",
   "metadata": {},
   "source": [
    "  * Não é preciso fazer nada aqui*"
   ]
  },
  {
   "cell_type": "markdown",
   "metadata": {},
   "source": [
    "##### 0.1 Configuração do ambiente"
   ]
  },
  {
   "cell_type": "code",
   "execution_count": 1,
   "metadata": {},
   "outputs": [],
   "source": [
    "import numpy as np\n",
    "import pandas as pd\n",
    "from sklearn.decomposition import PCA\n",
    "from sklearn.preprocessing import StandardScaler\n",
    "\n",
    "import pandas as pd\n",
    "import matplotlib.pyplot as plt\n",
    "import seaborn as sns\n"
   ]
  },
  {
   "cell_type": "markdown",
   "metadata": {},
   "source": [
    "##### 0.2 Criação de funções"
   ]
  },
  {
   "cell_type": "code",
   "execution_count": 2,
   "metadata": {},
   "outputs": [],
   "source": [
    "# Função para calcular os índices contábeis\n",
    "def calcular_indices_contabeis(df):\n",
    "    indices = {}\n",
    "    \n",
    "    indices['Liquidez Corrente'] = df['Ativo Circulante'] / df['Passivo Circulante']\n",
    "    # Ativo Circulante: BP\n",
    "    # Passivo Circulante: BP\n",
    "    # => A liquidez corrente mede a capacidade da empresa de pagar suas obrigações de curto prazo.\n",
    "\n",
    "    indices['Liquidez Seca'] = (df['Ativo Circulante'] - df['Estoques']) / df['Passivo Circulante']\n",
    "    # Ativo Circulante: BP\n",
    "    # Estoque: BP\n",
    "    # Passivo Circulante: BP\n",
    "    # => A liquidez seca é uma medida de liquidez que desconsidera o estoque da empresa.\n",
    "\n",
    "    indices['Margem Líquida'] = df['Lucro Líquido'] / df['Receita Total']\n",
    "    # Lucro Líquido: DRE\n",
    "    # Receita Total: DRE\n",
    "    # => A margem líquida mede a porcentagem de lucro líquido que a empresa gera para cada real de receita.\n",
    "\n",
    "    indices['ROA'] = df['Lucro Líquido'] / df['Ativo Total']\n",
    "    # Lucro Líquido: DRE\n",
    "    # Ativo Total: BP\n",
    "    # => O retorno sobre ativos (ROA) mede a eficiência da empresa em gerar lucro a partir de seus ativos.\n",
    "\n",
    "    indices['ROE'] = df['Lucro Líquido'] / df['Patrimônio Líquido']\n",
    "    # Lucro Líquido: DRE\n",
    "    # Patrimônio Líquido: BP\n",
    "    # => O retorno sobre o patrimônio líquido (ROE) mede a eficiência da empresa em gerar lucro a partir de seu patrimônio líquido.\n",
    "\n",
    "    indices['Endividamento'] = df['Passivo Total'] / df['Ativo Total']\n",
    "    # Passivo Total: BP\n",
    "    # Ativo Total: BP\n",
    "    # => O endividamento mede a proporção de dívidas da empresa em relação ao total de ativos.\n",
    "\n",
    "    indices['Cobertura de Juros'] = df['EBIT'] / df['Despesa de Juros']\n",
    "    # EBIT: DRE (Lucro antes de juros e impostos)\n",
    "    # Despesa de Juros: DRE\n",
    "    # => A cobertura de juros mede a capacidade da empresa de pagar seus juros com seu lucro antes de juros e impostos.\n",
    "    # => Reflete a capacidade de gerar resultados com suas atividades principais\n",
    "    \n",
    "    indices['Giro do Ativo'] = df['Receita Total'] / df['Ativo Total']\n",
    "    # Ativo Total: BP\n",
    "    # Receita Total: DRE\n",
    "    # => O giro do ativo mede a eficiência da empresa em gerar receita a partir de seus ativos.\n",
    "\n",
    "    indices['Período Médio de Recebimento'] = df['Contas a Receber'] / df['Receita Total'] * 365\n",
    "    # Contas a Receber: BP\n",
    "    # Receita Total: DRE\n",
    "    # => O período médio de recebimento mede o tempo médio que a empresa leva para receber suas vendas.\n",
    "\n",
    "    indices['Período Médio de Pagamento'] = df['Contas a Pagar'] / df['Custos'] * 365\n",
    "    # Contas a Pagar: BP\n",
    "    # Custos: DRE\n",
    "    # => O período médio de pagamento mede o tempo médio que a empresa leva para pagar seus custos.\n",
    "\n",
    "    return pd.DataFrame(indices)\n",
    "\n"
   ]
  },
  {
   "cell_type": "code",
   "execution_count": 3,
   "metadata": {},
   "outputs": [],
   "source": [
    "# Função para categorizar escores consolidados\n",
    "def categorizar_escores_consolidados(escores):\n",
    "    categorias = []\n",
    "    for escore in escores:\n",
    "        if escore > 2:\n",
    "            categorias.append('Muito Abaixo do Risco')\n",
    "        elif 1 < escore <= 2:\n",
    "            categorias.append('Abaixo do Risco')\n",
    "        elif -1 <= escore <= 1:\n",
    "            categorias.append('Neutro')\n",
    "        elif -2 <= escore < -1:\n",
    "            categorias.append('Acima do Risco')\n",
    "        else:\n",
    "            categorias.append('Muito Acima do Risco')\n",
    "    return categorias"
   ]
  },
  {
   "cell_type": "markdown",
   "metadata": {},
   "source": [
    "**Passo 1**"
   ]
  },
  {
   "cell_type": "markdown",
   "metadata": {},
   "source": [
    "*Lançamento dos dados pelo funcionário (analista, economiário, escriturário)*"
   ]
  },
  {
   "cell_type": "markdown",
   "metadata": {},
   "source": [
    "##### 1. LANÇAMENTO DOS DADOS #####"
   ]
  },
  {
   "cell_type": "markdown",
   "metadata": {},
   "source": [
    "##### 1.1 Cliente"
   ]
  },
  {
   "cell_type": "code",
   "execution_count": 4,
   "metadata": {},
   "outputs": [],
   "source": [
    "cliente = 'GLOBAL AGRONEGOCIOS LTDA ME'"
   ]
  },
  {
   "cell_type": "markdown",
   "metadata": {},
   "source": [
    "##### 1.2 Período"
   ]
  },
  {
   "cell_type": "code",
   "execution_count": 5,
   "metadata": {},
   "outputs": [],
   "source": [
    "# Ano Inicial\n",
    "ano_inicial = 2021"
   ]
  },
  {
   "cell_type": "code",
   "execution_count": 6,
   "metadata": {},
   "outputs": [],
   "source": [
    "# Ano Final\n",
    "ano_final = 2023"
   ]
  },
  {
   "cell_type": "markdown",
   "metadata": {},
   "source": [
    "##### 1.3 Importação dos Dados Contábeis"
   ]
  },
  {
   "cell_type": "code",
   "execution_count": 7,
   "metadata": {},
   "outputs": [
    {
     "name": "stderr",
     "output_type": "stream",
     "text": [
      "<>:6: SyntaxWarning: invalid escape sequence '\\d'\n",
      "<>:6: SyntaxWarning: invalid escape sequence '\\d'\n",
      "C:\\Users\\ferna\\AppData\\Local\\Temp\\ipykernel_29300\\1523641070.py:6: SyntaxWarning: invalid escape sequence '\\d'\n",
      "  arquivo_dados_contabeis = 'BDs\\dados_contabeis_global.xlsx'\n"
     ]
    }
   ],
   "source": [
    "## Importar os dados do Excel\n",
    "# - Lance os dados no arquivo Excel\n",
    "# - Do mais recente para o mais antigo\n",
    "# - Confirme o nome do arquivo e atere-o se necessário\n",
    "\n",
    "arquivo_dados_contabeis = 'BDs\\dados_contabeis_global.xlsx'"
   ]
  },
  {
   "cell_type": "markdown",
   "metadata": {},
   "source": [
    "##### 1.4 Leitura dos Dados Contábeis"
   ]
  },
  {
   "cell_type": "code",
   "execution_count": 8,
   "metadata": {},
   "outputs": [
    {
     "name": "stdout",
     "output_type": "stream",
     "text": [
      "Dados Contabeis Importados:\n",
      "   Ano  Ativo Circulante  Passivo Circulante   Estoques  Lucro Líquido  \\\n",
      "0    1        2593954.47           727602.60  383912.38       39546.67   \n",
      "1    2        2877244.94          1301079.74  148715.61      455923.83   \n",
      "2    3         492603.10           262306.70  152802.05      495703.34   \n",
      "\n",
      "   Receita Total  Ativo Total  Patrimônio Líquido  Passivo Total       EBIT  \\\n",
      "0    42985389.70   3741944.68            172180.0     3569764.68  -98569.70   \n",
      "1    57707592.41   4477462.29             30000.0     4447462.29  296881.49   \n",
      "2    72929552.94   2251497.29            672808.5     1578688.79  495639.94   \n",
      "\n",
      "   Despesa de Juros  Contas a Receber  Contas a Pagar       Custos  \n",
      "0         508100.66        1840099.99        58045.98  39808852.31  \n",
      "1         151309.73        1387919.34      1170010.10  54454968.68  \n",
      "2         178001.66              0.00        35619.86  68254032.67  \n"
     ]
    }
   ],
   "source": [
    "\n",
    "df_dados_contabeis = pd.read_excel(arquivo_dados_contabeis)  # Insira o nome correto do arquivo\n",
    "print('Dados Contabeis Importados:')\n",
    "print(df_dados_contabeis)"
   ]
  },
  {
   "cell_type": "markdown",
   "metadata": {},
   "source": [
    "**Passo 2**"
   ]
  },
  {
   "cell_type": "markdown",
   "metadata": {},
   "source": [
    "*Cálculo do modelo Finscore 5A*"
   ]
  },
  {
   "cell_type": "markdown",
   "metadata": {},
   "source": [
    "##### 2. PROCESSAMENTO DO MODELO #####"
   ]
  },
  {
   "cell_type": "markdown",
   "metadata": {},
   "source": [
    "##### 2.1 Índices contábeis"
   ]
  },
  {
   "cell_type": "code",
   "execution_count": 9,
   "metadata": {},
   "outputs": [
    {
     "name": "stdout",
     "output_type": "stream",
     "text": [
      "\n",
      "Índices Contábeis Calculados:\n",
      "   Liquidez Corrente  Liquidez Seca  Margem Líquida   ROA    ROE  \\\n",
      "0               3.57           3.04            0.00  0.01   0.23   \n",
      "1               2.21           2.10            0.01  0.10  15.20   \n",
      "2               1.88           1.30            0.01  0.22   0.74   \n",
      "\n",
      "   Endividamento  Cobertura de Juros  Giro do Ativo  \\\n",
      "0           0.95               -0.19          11.49   \n",
      "1           0.99                1.96          12.89   \n",
      "2           0.70                2.78          32.39   \n",
      "\n",
      "   Período Médio de Recebimento  Período Médio de Pagamento  \n",
      "0                         15.62                        0.53  \n",
      "1                          8.78                        7.84  \n",
      "2                          0.00                        0.19  \n"
     ]
    }
   ],
   "source": [
    "df_indices = calcular_indices_contabeis(df_dados_contabeis).round(2)\n",
    "print('\\nÍndices Contábeis Calculados:')\n",
    "print(df_indices)"
   ]
  },
  {
   "cell_type": "markdown",
   "metadata": {},
   "source": [
    "##### 2.2 Padronização dos índices contábeis"
   ]
  },
  {
   "cell_type": "code",
   "execution_count": 10,
   "metadata": {},
   "outputs": [
    {
     "name": "stdout",
     "output_type": "stream",
     "text": [
      "\n",
      "Índices Escalados para PCA:\n",
      "[[ 1.39001579  1.25623773 -1.41421356 -1.16247639 -0.74353283  0.54550055\n",
      "  -1.36275321 -0.77921555  1.17103375 -0.65838504]\n",
      " [-0.46941517 -0.06562436  0.70710678 -0.11624764  1.41357695  0.85721515\n",
      "   0.35399644 -0.63245746  0.10114895  1.41311911]\n",
      " [-0.92060062 -1.19061337  0.70710678  1.27872403 -0.67004412 -1.4027157\n",
      "   1.00875677  1.41167301 -1.27218271 -0.75473407]]\n"
     ]
    }
   ],
   "source": [
    "# Escalar os índices contábeis para o PCA\n",
    "scaler = StandardScaler()\n",
    "indices_scaled = scaler.fit_transform(df_indices)\n",
    "print('\\nÍndices Escalados para PCA:')\n",
    "print(indices_scaled)"
   ]
  },
  {
   "cell_type": "markdown",
   "metadata": {},
   "source": [
    "##### 2.3 Cálculo do PCA"
   ]
  },
  {
   "cell_type": "code",
   "execution_count": 11,
   "metadata": {},
   "outputs": [
    {
     "name": "stdout",
     "output_type": "stream",
     "text": [
      "\n",
      "Componentes Principais (PCA):\n",
      "[[ 3.23533038e+00 -1.23034215e+00  2.22479935e-16]\n",
      " [ 9.22870602e-03  2.45021545e+00  2.22479935e-16]\n",
      " [-3.24455909e+00 -1.21987330e+00  2.22479935e-16]]\n"
     ]
    }
   ],
   "source": [
    "# Realizar o PCA\n",
    "pca = PCA()\n",
    "pca_result = pca.fit_transform(indices_scaled)\n",
    "print('\\nComponentes Principais (PCA):')\n",
    "print(pca_result)\n",
    "\n",
    "#relatório\n"
   ]
  },
  {
   "cell_type": "markdown",
   "metadata": {},
   "source": [
    "##### 2.4 Variância Explicada PCA"
   ]
  },
  {
   "cell_type": "code",
   "execution_count": 12,
   "metadata": {},
   "outputs": [
    {
     "name": "stdout",
     "output_type": "stream",
     "text": [
      "\n",
      "Variância Explicada por Componente:\n",
      "[6.99820385e-01 3.00179615e-01 4.94973217e-33]\n"
     ]
    }
   ],
   "source": [
    "# Variância explicada pelos componentes principais\n",
    "explained_variance_ratio = pca.explained_variance_ratio_\n",
    "print('\\nVariância Explicada por Componente:')\n",
    "print(explained_variance_ratio)\n",
    "\n",
    "#relatório"
   ]
  },
  {
   "cell_type": "markdown",
   "metadata": {},
   "source": [
    "##### 2.5 DataFrame PCA"
   ]
  },
  {
   "cell_type": "code",
   "execution_count": 13,
   "metadata": {},
   "outputs": [
    {
     "name": "stdout",
     "output_type": "stream",
     "text": [
      "\n",
      "Matriz de Componentes Principais:\n",
      "        PC1       PC2           PC3\n",
      "0  3.235330 -1.230342  2.224799e-16\n",
      "1  0.009229  2.450215  2.224799e-16\n",
      "2 -3.244559 -1.219873  2.224799e-16\n"
     ]
    }
   ],
   "source": [
    "# DataFrame com os componentes principais\n",
    "pca_df = pd.DataFrame(pca_result, columns=[f'PC{i+1}' for i in range(pca_result.shape[1])])\n",
    "print('\\nMatriz de Componentes Principais:')\n",
    "print(pca_df)\n",
    "\n",
    "#relatório"
   ]
  },
  {
   "cell_type": "markdown",
   "metadata": {},
   "source": [
    "##### 2.6 Matriz de cargas"
   ]
  },
  {
   "cell_type": "code",
   "execution_count": 14,
   "metadata": {},
   "outputs": [
    {
     "name": "stdout",
     "output_type": "stream",
     "text": [
      "Matriz de Cargas dos Componentes Principais:\n",
      "     Liquidez Corrente  Liquidez Seca  Margem Líquida       ROA       ROE  \\\n",
      "PC1           0.356271       0.377561       -0.326902 -0.376809 -0.010409   \n",
      "PC2          -0.192923      -0.028205        0.289821 -0.046025  0.576959   \n",
      "PC3           0.183608       0.785636        0.354464  0.147601 -0.103143   \n",
      "\n",
      "     Endividamento  Cobertura de Juros  Giro do Ativo  \\\n",
      "PC1       0.301219           -0.365744      -0.338521   \n",
      "PC2       0.348718            0.145853      -0.256848   \n",
      "PC3       0.098538            0.120692       0.360687   \n",
      "\n",
      "     Período Médio de Recebimento  Período Médio de Pagamento  \n",
      "PC1                      0.377110                    0.015801  \n",
      "PC2                      0.039861                    0.576673  \n",
      "PC3                     -0.150935                    0.117651  \n",
      "\n",
      "Índices mais significativos por componente:\n",
      "\n",
      "PC1:\n",
      "Liquidez Seca                   0.377561\n",
      "Período Médio de Recebimento    0.377110\n",
      "ROA                             0.376809\n",
      "Name: PC1, dtype: float64\n",
      "\n",
      "PC2:\n",
      "ROE                           0.576959\n",
      "Período Médio de Pagamento    0.576673\n",
      "Endividamento                 0.348718\n",
      "Name: PC2, dtype: float64\n",
      "\n",
      "PC3:\n",
      "Liquidez Seca     0.785636\n",
      "Giro do Ativo     0.360687\n",
      "Margem Líquida    0.354464\n",
      "Name: PC3, dtype: float64\n"
     ]
    }
   ],
   "source": [
    "# Obter a matriz de cargas\n",
    "loadings = pd.DataFrame(\n",
    "    pca.components_,\n",
    "    columns=df_indices.columns,\n",
    "    index=[f'PC{i+1}' for i in range(pca.components_.shape[0])]\n",
    ")\n",
    "\n",
    "print('Matriz de Cargas dos Componentes Principais:')\n",
    "print(loadings)\n",
    "\n",
    "# Identificar os índices mais significativos para cada PC\n",
    "print('\\nÍndices mais significativos por componente:')\n",
    "for pc in loadings.index:\n",
    "    print(f'\\n{pc}:')\n",
    "    print(loadings.loc[pc].abs().sort_values(ascending=False).head(3))  # Top 3 índices mais significativos\n",
    "\n",
    "#relatório"
   ]
  },
  {
   "cell_type": "markdown",
   "metadata": {},
   "source": [
    "##### 2.7 Escore final"
   ]
  },
  {
   "cell_type": "code",
   "execution_count": 15,
   "metadata": {},
   "outputs": [
    {
     "data": {
      "text/plain": [
       "0    1.894827\n",
       "1    0.741963\n",
       "2   -2.636790\n",
       "dtype: float64"
      ]
     },
     "execution_count": 15,
     "metadata": {},
     "output_type": "execute_result"
    }
   ],
   "source": [
    "pca_df.dot(explained_variance_ratio)"
   ]
  },
  {
   "cell_type": "markdown",
   "metadata": {},
   "source": [
    "##### 3. RESULTADOS #####"
   ]
  },
  {
   "cell_type": "markdown",
   "metadata": {},
   "source": [
    "##### 3.1 Valor do Escore Calculado"
   ]
  },
  {
   "cell_type": "code",
   "execution_count": 16,
   "metadata": {},
   "outputs": [
    {
     "name": "stdout",
     "output_type": "stream",
     "text": [
      "\n",
      "Escore Consolidado:\n",
      "0.64\n"
     ]
    }
   ],
   "source": [
    "# Calcular o escore consolidado com penalização do último ano\n",
    "# Do mais recente para o mais antigo: 0.5, 0.3, 0.2\n",
    "pesos = [0.5, 0.3, 0.2]  # Pesos para os três anos\n",
    "escores_consolidados = round((pca_df.dot(explained_variance_ratio) * pesos).sum(), 2)\n",
    "print('\\nEscore Consolidado:')\n",
    "print(escores_consolidados)"
   ]
  },
  {
   "cell_type": "markdown",
   "metadata": {},
   "source": [
    "##### 3.2 Classificação do Escore"
   ]
  },
  {
   "cell_type": "code",
   "execution_count": 17,
   "metadata": {},
   "outputs": [
    {
     "name": "stdout",
     "output_type": "stream",
     "text": [
      "\n",
      "Categoria Final:\n",
      "['Neutro']\n"
     ]
    }
   ],
   "source": [
    "# Categorizar os escores consolidados\n",
    "categoria = categorizar_escores_consolidados([escores_consolidados])\n",
    "print('\\nCategoria Final:')\n",
    "print(categoria)"
   ]
  },
  {
   "cell_type": "markdown",
   "metadata": {},
   "source": [
    "##### 3.3 Valores e Contas Contábeis"
   ]
  },
  {
   "cell_type": "code",
   "execution_count": 18,
   "metadata": {},
   "outputs": [
    {
     "data": {
      "text/html": [
       "<div>\n",
       "<style scoped>\n",
       "    .dataframe tbody tr th:only-of-type {\n",
       "        vertical-align: middle;\n",
       "    }\n",
       "\n",
       "    .dataframe tbody tr th {\n",
       "        vertical-align: top;\n",
       "    }\n",
       "\n",
       "    .dataframe thead th {\n",
       "        text-align: right;\n",
       "    }\n",
       "</style>\n",
       "<table border=\"1\" class=\"dataframe\">\n",
       "  <thead>\n",
       "    <tr style=\"text-align: right;\">\n",
       "      <th></th>\n",
       "      <th>Ano</th>\n",
       "      <th>Ativo Circulante</th>\n",
       "      <th>Passivo Circulante</th>\n",
       "      <th>Estoques</th>\n",
       "      <th>Lucro Líquido</th>\n",
       "      <th>Receita Total</th>\n",
       "      <th>Ativo Total</th>\n",
       "      <th>Patrimônio Líquido</th>\n",
       "      <th>Passivo Total</th>\n",
       "      <th>EBIT</th>\n",
       "      <th>Despesa de Juros</th>\n",
       "      <th>Contas a Receber</th>\n",
       "      <th>Contas a Pagar</th>\n",
       "      <th>Custos</th>\n",
       "    </tr>\n",
       "  </thead>\n",
       "  <tbody>\n",
       "    <tr>\n",
       "      <th>0</th>\n",
       "      <td>1</td>\n",
       "      <td>2593954.47</td>\n",
       "      <td>727602.60</td>\n",
       "      <td>383912.38</td>\n",
       "      <td>39546.67</td>\n",
       "      <td>42985389.70</td>\n",
       "      <td>3741944.68</td>\n",
       "      <td>172180.0</td>\n",
       "      <td>3569764.68</td>\n",
       "      <td>-98569.70</td>\n",
       "      <td>508100.66</td>\n",
       "      <td>1840099.99</td>\n",
       "      <td>58045.98</td>\n",
       "      <td>39808852.31</td>\n",
       "    </tr>\n",
       "    <tr>\n",
       "      <th>1</th>\n",
       "      <td>2</td>\n",
       "      <td>2877244.94</td>\n",
       "      <td>1301079.74</td>\n",
       "      <td>148715.61</td>\n",
       "      <td>455923.83</td>\n",
       "      <td>57707592.41</td>\n",
       "      <td>4477462.29</td>\n",
       "      <td>30000.0</td>\n",
       "      <td>4447462.29</td>\n",
       "      <td>296881.49</td>\n",
       "      <td>151309.73</td>\n",
       "      <td>1387919.34</td>\n",
       "      <td>1170010.10</td>\n",
       "      <td>54454968.68</td>\n",
       "    </tr>\n",
       "    <tr>\n",
       "      <th>2</th>\n",
       "      <td>3</td>\n",
       "      <td>492603.10</td>\n",
       "      <td>262306.70</td>\n",
       "      <td>152802.05</td>\n",
       "      <td>495703.34</td>\n",
       "      <td>72929552.94</td>\n",
       "      <td>2251497.29</td>\n",
       "      <td>672808.5</td>\n",
       "      <td>1578688.79</td>\n",
       "      <td>495639.94</td>\n",
       "      <td>178001.66</td>\n",
       "      <td>0.00</td>\n",
       "      <td>35619.86</td>\n",
       "      <td>68254032.67</td>\n",
       "    </tr>\n",
       "  </tbody>\n",
       "</table>\n",
       "</div>"
      ],
      "text/plain": [
       "   Ano  Ativo Circulante  Passivo Circulante   Estoques  Lucro Líquido  \\\n",
       "0    1        2593954.47           727602.60  383912.38       39546.67   \n",
       "1    2        2877244.94          1301079.74  148715.61      455923.83   \n",
       "2    3         492603.10           262306.70  152802.05      495703.34   \n",
       "\n",
       "   Receita Total  Ativo Total  Patrimônio Líquido  Passivo Total       EBIT  \\\n",
       "0    42985389.70   3741944.68            172180.0     3569764.68  -98569.70   \n",
       "1    57707592.41   4477462.29             30000.0     4447462.29  296881.49   \n",
       "2    72929552.94   2251497.29            672808.5     1578688.79  495639.94   \n",
       "\n",
       "   Despesa de Juros  Contas a Receber  Contas a Pagar       Custos  \n",
       "0         508100.66        1840099.99        58045.98  39808852.31  \n",
       "1         151309.73        1387919.34      1170010.10  54454968.68  \n",
       "2         178001.66              0.00        35619.86  68254032.67  "
      ]
     },
     "execution_count": 18,
     "metadata": {},
     "output_type": "execute_result"
    }
   ],
   "source": [
    "df_dados_contabeis"
   ]
  },
  {
   "cell_type": "markdown",
   "metadata": {},
   "source": [
    "##### 3.4 Índices contábeis"
   ]
  },
  {
   "cell_type": "code",
   "execution_count": 19,
   "metadata": {},
   "outputs": [
    {
     "name": "stdout",
     "output_type": "stream",
     "text": [
      "   Liquidez Corrente  Liquidez Seca  Margem Líquida   ROA    ROE  \\\n",
      "0               3.57           3.04            0.00  0.01   0.23   \n",
      "1               2.21           2.10            0.01  0.10  15.20   \n",
      "2               1.88           1.30            0.01  0.22   0.74   \n",
      "\n",
      "   Endividamento  Cobertura de Juros  Giro do Ativo  \\\n",
      "0           0.95               -0.19          11.49   \n",
      "1           0.99                1.96          12.89   \n",
      "2           0.70                2.78          32.39   \n",
      "\n",
      "   Período Médio de Recebimento  Período Médio de Pagamento  \n",
      "0                         15.62                        0.53  \n",
      "1                          8.78                        7.84  \n",
      "2                          0.00                        0.19  \n"
     ]
    }
   ],
   "source": [
    "print(df_indices)\n"
   ]
  },
  {
   "cell_type": "markdown",
   "metadata": {},
   "source": [
    "##### 4. APRESENTAÇÃO #####"
   ]
  },
  {
   "cell_type": "markdown",
   "metadata": {},
   "source": [
    "##### 4.1 Criação dos dfs"
   ]
  },
  {
   "cell_type": "code",
   "execution_count": 20,
   "metadata": {},
   "outputs": [
    {
     "data": {
      "text/html": [
       "<div>\n",
       "<style scoped>\n",
       "    .dataframe tbody tr th:only-of-type {\n",
       "        vertical-align: middle;\n",
       "    }\n",
       "\n",
       "    .dataframe tbody tr th {\n",
       "        vertical-align: top;\n",
       "    }\n",
       "\n",
       "    .dataframe thead th {\n",
       "        text-align: right;\n",
       "    }\n",
       "</style>\n",
       "<table border=\"1\" class=\"dataframe\">\n",
       "  <thead>\n",
       "    <tr style=\"text-align: right;\">\n",
       "      <th></th>\n",
       "      <th>Métrica</th>\n",
       "      <th>Valor</th>\n",
       "    </tr>\n",
       "  </thead>\n",
       "  <tbody>\n",
       "    <tr>\n",
       "      <th>0</th>\n",
       "      <td>Escore Consolidado</td>\n",
       "      <td>0.64</td>\n",
       "    </tr>\n",
       "    <tr>\n",
       "      <th>1</th>\n",
       "      <td>Categoria Final</td>\n",
       "      <td>Neutro</td>\n",
       "    </tr>\n",
       "  </tbody>\n",
       "</table>\n",
       "</div>"
      ],
      "text/plain": [
       "              Métrica   Valor\n",
       "0  Escore Consolidado    0.64\n",
       "1     Categoria Final  Neutro"
      ]
     },
     "execution_count": 20,
     "metadata": {},
     "output_type": "execute_result"
    }
   ],
   "source": [
    "# Df resultados principais\n",
    "resultados_df = pd.DataFrame({\n",
    "    'Métrica': ['Escore Consolidado', 'Categoria Final'],\n",
    "    'Valor': [escores_consolidados, categoria[0]]\n",
    "})\n",
    "resultados_df"
   ]
  },
  {
   "cell_type": "markdown",
   "metadata": {},
   "source": [
    "##### 4.2 Tabela Resumo"
   ]
  },
  {
   "cell_type": "code",
   "execution_count": 26,
   "metadata": {},
   "outputs": [
    {
     "data": {
      "image/png": "[encoded data removed]",
      "text/plain": [
       "<Figure size 1200x1000 with 3 Axes>"
      ]
     },
     "metadata": {},
     "output_type": "display_data"
    }
   ],
   "source": [
    "# Ajustando a tabela \"FinScore Calculado\" para que a primeira linha exiba o valor do FinScore\n",
    "resultados_df = pd.DataFrame({\n",
    "    \"FinScore Calculado\": [\"FinScore Consolidado\", \"Categoria Final\"],\n",
    "    \"Valor\": [0.63, \"Neutro\"]\n",
    "})\n",
    "\n",
    "# Criando a figura e os subplots para as tabelas\n",
    "fig, axs = plt.subplots(nrows=3, figsize=(12, 10))\n",
    "fig.suptitle(f\"CÁLCULO FINSCORE - {cliente} - Período base {ano_inicial} - {ano_final}\",\n",
    "             fontsize=14, fontweight=\"bold\")\n",
    "\n",
    "# Função para adicionar tabelas formatadas\n",
    "def add_table(ax, df, title):\n",
    "    ax.axis(\"tight\")\n",
    "    ax.axis(\"off\")\n",
    "    table = ax.table(cellText=df.values,\n",
    "                     colLabels=df.columns,\n",
    "                     cellLoc=\"center\", loc=\"center\")\n",
    "    table.auto_set_font_size(False)\n",
    "    table.set_fontsize(8)\n",
    "    table.scale(1.2, 1.2)\n",
    "    ax.set_title(title, fontsize=12, fontweight=\"bold\")\n",
    "\n",
    "# Adicionando cada tabela\n",
    "add_table(axs[0], resultados_df, \"FinScore Calculado\")\n",
    "add_table(axs[1], df_dados_contabeis_milhoes, \"Dados Contábeis (Em Milhões de R$)\")\n",
    "add_table(axs[2], df_indices, \"Índices Financeiros\")\n",
    "\n",
    "# Exibir as tabelas\n",
    "plt.show()\n"
   ]
  }
 ],
 "metadata": {
  "kernelspec": {
   "display_name": "base",
   "language": "python",
   "name": "python3"
  },
  "language_info": {
   "codemirror_mode": {
    "name": "ipython",
    "version": 3
   },
   "file_extension": ".py",
   "mimetype": "text/x-python",
   "name": "python",
   "nbconvert_exporter": "python",
   "pygments_lexer": "ipython3",
   "version": "3.12.7"
  }
 },
 "nbformat": 4,
 "nbformat_minor": 2
}
