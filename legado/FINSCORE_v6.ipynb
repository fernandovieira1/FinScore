{
  "cells": [
    {
      "cell_type": "markdown",
      "metadata": {
        "colab_type": "text",
        "id": "view-in-github"
      },
      "source": [
        "<a href=\"https://colab.research.google.com/github/fernandovieira1/FinScore/blob/main/FINSCORE.ipynb\" target=\"_parent\"><img src=\"https://colab.research.google.com/assets/colab-badge.svg\" alt=\"Open In Colab\"/></a>"
      ]
    },
    {
      "cell_type": "markdown",
      "metadata": {
        "id": "BVq3lZyIpi39"
      },
      "source": [
        "**# INTRUÇÕES**"
      ]
    },
    {
      "cell_type": "markdown",
      "metadata": {
        "id": "euGOG_rppxHj"
      },
      "source": [
        "* Antes de iniciar, certifique-se de estar logado na sua conta Google.\n",
        "\n",
        "* Um botão azul 'Fazer login', localizado no canto superior direito da tela, aparecerá, se não.\n",
        "\n",
        "* Feito isto, basta inserir os dados nas seções abaixo descritas:\n",
        "    - 1.1 Cliente\n",
        "    - 1.2 Período\n",
        "    - 1.3 Lançamento dos dados Contábeis\n",
        "\n",
        "* Cada uma das seções mencionadas possui anotações sobre como proceder.\n",
        "\n",
        "* Logo após, clique no menu \"Ambiente de execução\" e em \"Executar tudo\" (ou CTR + F9), nesta ordem."
      ]
    },
    {
      "cell_type": "markdown",
      "metadata": {
        "id": "TosDurA7ruV-"
      },
      "source": [
        "##### 1. LANÇAMENTO DOS DADOS #####"
      ]
    },
    {
      "cell_type": "markdown",
      "metadata": {
        "id": "KyKo-splruV-"
      },
      "source": [
        "##### 1.1 Cliente"
      ]
    },
    {
      "cell_type": "markdown",
      "metadata": {
        "id": "NeLktENAUyKk"
      },
      "source": [
        "*--> Insira o nome do cliente/empresa*"
      ]
    },
    {
      "cell_type": "code",
      "execution_count": 1,
      "metadata": {
        "id": "tr245FSAruV-"
      },
      "outputs": [],
      "source": [
        "# Cliente\n",
        "cliente = 'RESOLV HOSPITALAR'"
      ]
    },
    {
      "cell_type": "code",
      "execution_count": 2,
      "metadata": {},
      "outputs": [],
      "source": [
        "# Serasa\n",
        "serasa = 389"
      ]
    },
    {
      "cell_type": "markdown",
      "metadata": {
        "id": "MzNBw_9sruV-"
      },
      "source": [
        "##### 1.2 Período"
      ]
    },
    {
      "cell_type": "markdown",
      "metadata": {
        "id": "s6AuejMzU5kI"
      },
      "source": [
        "*--> Insira os anos inicial (a primeira) e final (da última) das demonstrações contábeis que serviram de base para a análise*"
      ]
    },
    {
      "cell_type": "code",
      "execution_count": 3,
      "metadata": {
        "id": "RxizYtcNruV-"
      },
      "outputs": [],
      "source": [
        "# Ano Inicial\n",
        "ano_inicial = 2021"
      ]
    },
    {
      "cell_type": "code",
      "execution_count": 4,
      "metadata": {
        "id": "jwMbaC1YruV-"
      },
      "outputs": [],
      "source": [
        "# Ano Final\n",
        "ano_final = 2023"
      ]
    },
    {
      "cell_type": "markdown",
      "metadata": {
        "id": "ltfWkSKBbXZW"
      },
      "source": [
        "##### 1.3 Lançamento dos dados Contábeis"
      ]
    },
    {
      "cell_type": "markdown",
      "metadata": {
        "id": "0H_oz1aijJdl"
      },
      "source": [
        "*--> Acesse a planilha abaixo (CTRL + click) e insira as informações nas linhas e colunas respectivas*"
      ]
    },
    {
      "cell_type": "code",
      "execution_count": 5,
      "metadata": {
        "colab": {
          "base_uri": "https://localhost:8080/",
          "height": 54
        },
        "id": "-U_sxpbibgzO",
        "outputId": "c1ea3dfa-c613-46a4-f27a-7944b798f37f"
      },
      "outputs": [
        {
          "data": {
            "text/plain": [
              "'https://docs.google.com/spreadsheets/d/1-BCv3gjwJ34HZqjWpOQxqXU1q_3s3r33/edit?gid=1575975872#gid=1575975872'"
            ]
          },
          "execution_count": 5,
          "metadata": {},
          "output_type": "execute_result"
        }
      ],
      "source": [
        "# Lance do ano mais recente para o mais antigo\n",
        "'https://docs.google.com/spreadsheets/d/1-BCv3gjwJ34HZqjWpOQxqXU1q_3s3r33/edit?gid=1575975872#gid=1575975872'"
      ]
    },
    {
      "cell_type": "markdown",
      "metadata": {
        "id": "Zq1LKEj8CaHh"
      },
      "source": [
        "*--> Agora basta clicar no menu \"Ambiente de execução\" e em \"Executar tudo\" (ou CTR + F9), nesta ordem.*"
      ]
    },
    {
      "cell_type": "markdown",
      "metadata": {
        "id": "cXq651E8ruV7"
      },
      "source": [
        "##### CONFIGURAÇÃO DO AMBIENTE"
      ]
    },
    {
      "cell_type": "markdown",
      "metadata": {
        "id": "olzDXEN7ruV8"
      },
      "source": [
        "##### Configuração do ambiente"
      ]
    },
    {
      "cell_type": "code",
      "execution_count": 6,
      "metadata": {
        "id": "ytzBO-d5ruV8"
      },
      "outputs": [],
      "source": [
        "import numpy as np\n",
        "import pandas as pd\n",
        "from sklearn.decomposition import PCA\n",
        "from sklearn.preprocessing import StandardScaler\n",
        "\n",
        "import pandas as pd\n",
        "import matplotlib.pyplot as plt\n",
        "import seaborn as sns\n",
        "import matplotlib.pyplot as plt\n",
        "\n",
        "import sys\n",
        "import subprocess\n",
        "import importlib.util\n"
      ]
    },
    {
      "cell_type": "code",
      "execution_count": 7,
      "metadata": {
        "id": "hDDDDbUCmTaR"
      },
      "outputs": [],
      "source": [
        "%%capture\n",
        "# Lista de pacotes necessários\n",
        "required_packages = [\"gspread\", \"pandas\", \"gspread_dataframe\", \"openpyxl\"]\n",
        "\n",
        "# Verificar e instalar pacotes que não estão instalados\n",
        "def install_missing_packages(packages):\n",
        "    for package in packages:\n",
        "        if importlib.util.find_spec(package) is None:\n",
        "            print(f\"⚠ Instalando {package}...\")\n",
        "            subprocess.check_call([sys.executable, \"-m\", \"pip\", \"install\", \"--upgrade\", package])\n",
        "        else:\n",
        "            print(f\"✔ {package} já está instalado\")\n",
        "\n",
        "install_missing_packages(required_packages)"
      ]
    },
    {
      "cell_type": "code",
      "execution_count": 8,
      "metadata": {
        "id": "ToAAKzWckBxH"
      },
      "outputs": [],
      "source": [
        "# Definir o ID da planilha e da aba (worksheet)\n",
        "sheet_id = \"1-BCv3gjwJ34HZqjWpOQxqXU1q_3s3r33\"\n",
        "gid = \"1575975872\"  # ID da aba específica\n",
        "\n",
        "# Construir a URL para baixar a planilha como um arquivo Excel (.xlsx)\n",
        "url = f\"https://docs.google.com/spreadsheets/d/{sheet_id}/export?format=xlsx&id={sheet_id}&gid={gid}\"\n",
        "\n",
        "# Ler a planilha diretamente no Pandas\n",
        "df_dados_contabeis = pd.read_excel(url, engine=\"openpyxl\")"
      ]
    },
    {
      "cell_type": "code",
      "execution_count": 9,
      "metadata": {
        "id": "5N9taplKruV9"
      },
      "outputs": [],
      "source": [
        "# Função para calcular os índices contábeis\n",
        "def calcular_indices_contabeis(df):\n",
        "    indices = {}\n",
        "\n",
        "    indices['Liquidez Corrente'] = df['Ativo Circulante'] / df['Passivo Circulante']\n",
        "    # Ativo Circulante: BP\n",
        "    # Passivo Circulante: BP\n",
        "    # => A liquidez corrente mede a capacidade da empresa de pagar suas obrigações de curto prazo.\n",
        "\n",
        "    indices['Liquidez Seca'] = (df['Ativo Circulante'] - df['Estoques']) / df['Passivo Circulante']\n",
        "    # Ativo Circulante: BP\n",
        "    # Estoque: BP\n",
        "    # Passivo Circulante: BP\n",
        "    # => A liquidez seca é uma medida de liquidez que desconsidera o estoque da empresa.\n",
        "\n",
        "    indices['Margem Líquida'] = df['Lucro Líquido'] / df['Receita Total']\n",
        "    # Lucro Líquido: DRE\n",
        "    # Receita Total: DRE\n",
        "    # => A margem líquida mede a porcentagem de lucro líquido que a empresa gera para cada real de receita.\n",
        "\n",
        "    indices['ROA'] = df['Lucro Líquido'] / df['Ativo Total']\n",
        "    # Lucro Líquido: DRE\n",
        "    # Ativo Total: BP\n",
        "    # => O retorno sobre ativos (ROA) mede a eficiência da empresa em gerar lucro a partir de seus ativos.\n",
        "\n",
        "    indices['ROE'] = df['Lucro Líquido'] / df['Patrimônio Líquido']\n",
        "    # Lucro Líquido: DRE\n",
        "    # Patrimônio Líquido: BP\n",
        "    # => O retorno sobre o patrimônio líquido (ROE) mede a eficiência da empresa em gerar lucro a partir de seu patrimônio líquido.\n",
        "\n",
        "    indices['Endividamento'] = df['Passivo Total'] / df['Ativo Total']\n",
        "    # Passivo Total: BP\n",
        "    # Ativo Total: BP\n",
        "    # => O endividamento mede a proporção de dívidas da empresa em relação ao total de ativos.\n",
        "\n",
        "    indices['Cobertura de Juros'] = df['EBIT'] / df['Despesa de Juros']\n",
        "    # EBIT: DRE (Lucro antes de juros e impostos)\n",
        "    # Despesa de Juros: DRE\n",
        "    # => A cobertura de juros mede a capacidade da empresa de pagar seus juros com seu lucro antes de juros e impostos.\n",
        "    # => Reflete a capacidade de gerar resultados com suas atividades principais\n",
        "\n",
        "    indices['Giro do Ativo'] = df['Receita Total'] / df['Ativo Total']\n",
        "    # Ativo Total: BP\n",
        "    # Receita Total: DRE\n",
        "    # => O giro do ativo mede a eficiência da empresa em gerar receita a partir de seus ativos.\n",
        "\n",
        "    indices['Período Médio de Recebimento'] = df['Contas a Receber'] / df['Receita Total'] * 365\n",
        "    # Contas a Receber: BP\n",
        "    # Receita Total: DRE\n",
        "    # => O período médio de recebimento mede o tempo médio que a empresa leva para receber suas vendas.\n",
        "\n",
        "    indices['Período Médio de Pagamento'] = df['Contas a Pagar'] / df['Custos'] * 365\n",
        "    # Contas a Pagar: BP\n",
        "    # Custos: DRE\n",
        "    # => O período médio de pagamento mede o tempo médio que a empresa leva para pagar seus custos.\n",
        "\n",
        "    return pd.DataFrame(indices)\n",
        "\n"
      ]
    },
    {
      "cell_type": "markdown",
      "metadata": {
        "id": "_p8hSremruV-"
      },
      "source": [
        "##### Importação dos Dados Contábeis"
      ]
    },
    {
      "cell_type": "code",
      "execution_count": 10,
      "metadata": {
        "id": "Lhk9GqNfruV-"
      },
      "outputs": [],
      "source": [
        "## Importar os dados\n",
        "# - Do mais recente para o mais antigo\n",
        "\n",
        "# arquivo_dados_contabeis = '/content/dados_contabeis_global.xlsx'\n",
        "arquivo_dados_contabeis = df_dados_contabeis"
      ]
    },
    {
      "cell_type": "code",
      "execution_count": 11,
      "metadata": {
        "colab": {
          "base_uri": "https://localhost:8080/",
          "height": 198
        },
        "id": "JUFBrnuBnb1X",
        "outputId": "2689913e-012e-4a65-cb0c-aff53c304a09"
      },
      "outputs": [
        {
          "data": {
            "text/html": [
              "<div>\n",
              "<style scoped>\n",
              "    .dataframe tbody tr th:only-of-type {\n",
              "        vertical-align: middle;\n",
              "    }\n",
              "\n",
              "    .dataframe tbody tr th {\n",
              "        vertical-align: top;\n",
              "    }\n",
              "\n",
              "    .dataframe thead th {\n",
              "        text-align: right;\n",
              "    }\n",
              "</style>\n",
              "<table border=\"1\" class=\"dataframe\">\n",
              "  <thead>\n",
              "    <tr style=\"text-align: right;\">\n",
              "      <th></th>\n",
              "      <th>Ano</th>\n",
              "      <th>Ativo Circulante</th>\n",
              "      <th>Passivo Circulante</th>\n",
              "      <th>Estoques</th>\n",
              "      <th>Lucro Líquido</th>\n",
              "      <th>Receita Total</th>\n",
              "      <th>Ativo Total</th>\n",
              "      <th>Patrimônio Líquido</th>\n",
              "      <th>Passivo Total</th>\n",
              "      <th>EBIT</th>\n",
              "      <th>Despesa de Juros</th>\n",
              "      <th>Contas a Receber</th>\n",
              "      <th>Contas a Pagar</th>\n",
              "      <th>Custos</th>\n",
              "    </tr>\n",
              "  </thead>\n",
              "  <tbody>\n",
              "    <tr>\n",
              "      <th>0</th>\n",
              "      <td>0</td>\n",
              "      <td>21460741.22</td>\n",
              "      <td>21949637.11</td>\n",
              "      <td>1382446.09</td>\n",
              "      <td>606035.48</td>\n",
              "      <td>22766391.83</td>\n",
              "      <td>39792738.77</td>\n",
              "      <td>2269527.90</td>\n",
              "      <td>37523210.87</td>\n",
              "      <td>1748747.67</td>\n",
              "      <td>1142712.19</td>\n",
              "      <td>10675776.98</td>\n",
              "      <td>2322178.40</td>\n",
              "      <td>22566635.56</td>\n",
              "    </tr>\n",
              "    <tr>\n",
              "      <th>1</th>\n",
              "      <td>1</td>\n",
              "      <td>22837434.77</td>\n",
              "      <td>16619458.73</td>\n",
              "      <td>1167040.22</td>\n",
              "      <td>942891.16</td>\n",
              "      <td>27654090.05</td>\n",
              "      <td>27597972.68</td>\n",
              "      <td>4570142.59</td>\n",
              "      <td>23027830.09</td>\n",
              "      <td>1158668.56</td>\n",
              "      <td>215777.40</td>\n",
              "      <td>15069084.73</td>\n",
              "      <td>3271110.74</td>\n",
              "      <td>26226216.84</td>\n",
              "    </tr>\n",
              "    <tr>\n",
              "      <th>2</th>\n",
              "      <td>2</td>\n",
              "      <td>17972277.48</td>\n",
              "      <td>11349351.49</td>\n",
              "      <td>1434835.78</td>\n",
              "      <td>2038769.22</td>\n",
              "      <td>78463249.51</td>\n",
              "      <td>22278928.99</td>\n",
              "      <td>3387043.28</td>\n",
              "      <td>18891885.71</td>\n",
              "      <td>2160654.23</td>\n",
              "      <td>121885.01</td>\n",
              "      <td>13432046.22</td>\n",
              "      <td>2277242.50</td>\n",
              "      <td>75490180.85</td>\n",
              "    </tr>\n",
              "  </tbody>\n",
              "</table>\n",
              "</div>"
            ],
            "text/plain": [
              "   Ano  Ativo Circulante  Passivo Circulante    Estoques  Lucro Líquido  \\\n",
              "0    0       21460741.22         21949637.11  1382446.09      606035.48   \n",
              "1    1       22837434.77         16619458.73  1167040.22      942891.16   \n",
              "2    2       17972277.48         11349351.49  1434835.78     2038769.22   \n",
              "\n",
              "   Receita Total  Ativo Total  Patrimônio Líquido  Passivo Total        EBIT  \\\n",
              "0    22766391.83  39792738.77          2269527.90    37523210.87  1748747.67   \n",
              "1    27654090.05  27597972.68          4570142.59    23027830.09  1158668.56   \n",
              "2    78463249.51  22278928.99          3387043.28    18891885.71  2160654.23   \n",
              "\n",
              "   Despesa de Juros  Contas a Receber  Contas a Pagar       Custos  \n",
              "0        1142712.19       10675776.98      2322178.40  22566635.56  \n",
              "1         215777.40       15069084.73      3271110.74  26226216.84  \n",
              "2         121885.01       13432046.22      2277242.50  75490180.85  "
            ]
          },
          "execution_count": 11,
          "metadata": {},
          "output_type": "execute_result"
        }
      ],
      "source": [
        "arquivo_dados_contabeis"
      ]
    },
    {
      "cell_type": "markdown",
      "metadata": {
        "id": "fHH5wcF4ruV_"
      },
      "source": [
        "##### Leitura dos Dados Contábeis"
      ]
    },
    {
      "cell_type": "code",
      "execution_count": 12,
      "metadata": {
        "colab": {
          "base_uri": "https://localhost:8080/"
        },
        "id": "VjzcTmKLruV_",
        "outputId": "d28636c8-52a4-44a9-d6f6-1a0862eb4bd3"
      },
      "outputs": [
        {
          "name": "stdout",
          "output_type": "stream",
          "text": [
            "Dados Contabeis Importados:\n",
            "   Ano  Ativo Circulante  Passivo Circulante    Estoques  Lucro Líquido  \\\n",
            "0    0       21460741.22         21949637.11  1382446.09      606035.48   \n",
            "1    1       22837434.77         16619458.73  1167040.22      942891.16   \n",
            "2    2       17972277.48         11349351.49  1434835.78     2038769.22   \n",
            "\n",
            "   Receita Total  Ativo Total  Patrimônio Líquido  Passivo Total        EBIT  \\\n",
            "0    22766391.83  39792738.77          2269527.90    37523210.87  1748747.67   \n",
            "1    27654090.05  27597972.68          4570142.59    23027830.09  1158668.56   \n",
            "2    78463249.51  22278928.99          3387043.28    18891885.71  2160654.23   \n",
            "\n",
            "   Despesa de Juros  Contas a Receber  Contas a Pagar       Custos  \n",
            "0        1142712.19       10675776.98      2322178.40  22566635.56  \n",
            "1         215777.40       15069084.73      3271110.74  26226216.84  \n",
            "2         121885.01       13432046.22      2277242.50  75490180.85  \n"
          ]
        }
      ],
      "source": [
        "df_dados_contabeis = arquivo_dados_contabeis\n",
        "print('Dados Contabeis Importados:')\n",
        "print(df_dados_contabeis)"
      ]
    },
    {
      "cell_type": "markdown",
      "metadata": {
        "id": "KhQE3FG1ruV_"
      },
      "source": [
        "##### 2. PROCESSAMENTO DO MODELO #####"
      ]
    },
    {
      "cell_type": "markdown",
      "metadata": {
        "id": "wQKCxENhruV_"
      },
      "source": [
        "##### 2.1 Índices contábeis"
      ]
    },
    {
      "cell_type": "code",
      "execution_count": 13,
      "metadata": {
        "colab": {
          "base_uri": "https://localhost:8080/"
        },
        "id": "vmq8UHOZruV_",
        "outputId": "cf6ff74b-034f-4ae7-ea82-66306ecd1da1"
      },
      "outputs": [
        {
          "name": "stdout",
          "output_type": "stream",
          "text": [
            "\n",
            "Índices Contábeis Calculados:\n"
          ]
        }
      ],
      "source": [
        "df_indices = calcular_indices_contabeis(df_dados_contabeis).round(2)\n",
        "print('\\nÍndices Contábeis Calculados:')"
      ]
    },
    {
      "cell_type": "code",
      "execution_count": 14,
      "metadata": {},
      "outputs": [],
      "source": [
        "if (df_dados_contabeis['Estoques'] == 0).all():\n",
        "        del df_indices['Liquidez Seca']"
      ]
    },
    {
      "cell_type": "code",
      "execution_count": 15,
      "metadata": {},
      "outputs": [
        {
          "name": "stdout",
          "output_type": "stream",
          "text": [
            "   Liquidez Corrente  Liquidez Seca  Margem Líquida   ROA   ROE  \\\n",
            "0               0.98           0.91            0.03  0.02  0.27   \n",
            "1               1.37           1.30            0.03  0.03  0.21   \n",
            "2               1.58           1.46            0.03  0.09  0.60   \n",
            "\n",
            "   Endividamento  Cobertura de Juros  Giro do Ativo  \\\n",
            "0           0.94                1.53           0.57   \n",
            "1           0.83                5.37           1.00   \n",
            "2           0.85               17.73           3.52   \n",
            "\n",
            "   Período Médio de Recebimento  Período Médio de Pagamento  \n",
            "0                        171.16                       37.56  \n",
            "1                        198.89                       45.53  \n",
            "2                         62.48                       11.01  \n"
          ]
        }
      ],
      "source": [
        "print(df_indices)"
      ]
    },
    {
      "cell_type": "markdown",
      "metadata": {
        "id": "eKbXhxBuruV_"
      },
      "source": [
        "##### 2.2 Padronização dos índices contábeis"
      ]
    },
    {
      "cell_type": "code",
      "execution_count": 16,
      "metadata": {
        "colab": {
          "base_uri": "https://localhost:8080/"
        },
        "id": "wPM-ryaKruWA",
        "outputId": "8ac2015b-15c1-4c0f-e181-73fc47d25a16"
      },
      "outputs": [
        {
          "name": "stdout",
          "output_type": "stream",
          "text": [
            "\n",
            "Índices Escalados para PCA:\n",
            "[[-1.32745468 -1.35649056  0.         -0.86266219 -0.52489066  1.39346603\n",
            "  -0.96646496 -0.86587573  0.45837741  0.41967366]\n",
            " [ 0.2413554   0.33190726  0.         -0.53916387 -0.87481777 -0.90575292\n",
            "  -0.41089229 -0.53540836  0.92943876  0.9597381 ]\n",
            " [ 1.08609928  1.0245833   0.          1.40182605  1.39970842 -0.48771311\n",
            "   1.37735725  1.40128409 -1.38781617 -1.37941176]]\n"
          ]
        }
      ],
      "source": [
        "# Escalar os índices contábeis para o PCA\n",
        "scaler = StandardScaler()\n",
        "indices_scaled = scaler.fit_transform(df_indices)\n",
        "print('\\nÍndices Escalados para PCA:')\n",
        "print(indices_scaled)"
      ]
    },
    {
      "cell_type": "markdown",
      "metadata": {
        "id": "pqUIqgEbruWA"
      },
      "source": [
        "##### 2.3 Cálculo do PCA"
      ]
    },
    {
      "cell_type": "code",
      "execution_count": 17,
      "metadata": {
        "colab": {
          "base_uri": "https://localhost:8080/"
        },
        "id": "EfRGM1e7ruWA",
        "outputId": "175669c5-5c42-479f-d891-53a6f37aed3c"
      },
      "outputs": [
        {
          "name": "stdout",
          "output_type": "stream",
          "text": [
            "\n",
            "Componentes Principais (PCA):\n",
            "[[-2.61910473e+00  1.33190387e+00  2.54453839e-16]\n",
            " [-1.11032723e+00 -1.74712011e+00  2.54453839e-16]\n",
            " [ 3.72943196e+00  4.15216238e-01  2.54453839e-16]]\n"
          ]
        }
      ],
      "source": [
        "# Realizar o PCA\n",
        "pca = PCA()\n",
        "pca_result = pca.fit_transform(indices_scaled)\n",
        "print('\\nComponentes Principais (PCA):')\n",
        "print(pca_result)\n",
        "\n",
        "#relatório\n"
      ]
    },
    {
      "cell_type": "markdown",
      "metadata": {
        "id": "Yx75wxXcruWA"
      },
      "source": [
        "##### 2.4 Variância Explicada PCA"
      ]
    },
    {
      "cell_type": "code",
      "execution_count": 18,
      "metadata": {
        "colab": {
          "base_uri": "https://localhost:8080/"
        },
        "id": "bWReshMkruWA",
        "outputId": "984a1f9f-9f93-43f2-f258-548921d36771"
      },
      "outputs": [
        {
          "name": "stdout",
          "output_type": "stream",
          "text": [
            "\n",
            "Variância Explicada por Componente:\n",
            "[8.14859217e-01 1.85140783e-01 7.19408403e-33]\n"
          ]
        }
      ],
      "source": [
        "# Variância explicada pelos componentes principais\n",
        "explained_variance_ratio = pca.explained_variance_ratio_\n",
        "print('\\nVariância Explicada por Componente:')\n",
        "print(explained_variance_ratio)\n",
        "\n",
        "#relatório"
      ]
    },
    {
      "cell_type": "markdown",
      "metadata": {
        "id": "LawCVNrvruWA"
      },
      "source": [
        "##### 2.5 DataFrame PCA"
      ]
    },
    {
      "cell_type": "code",
      "execution_count": 19,
      "metadata": {
        "colab": {
          "base_uri": "https://localhost:8080/"
        },
        "id": "CrGTgCGeruWA",
        "outputId": "adbe94cc-a547-46df-80d1-a9c785de802e"
      },
      "outputs": [
        {
          "name": "stdout",
          "output_type": "stream",
          "text": [
            "\n",
            "Matriz de Componentes Principais:\n",
            "        PC1       PC2           PC3\n",
            "0 -2.619105  1.331904  2.544538e-16\n",
            "1 -1.110327 -1.747120  2.544538e-16\n",
            "2  3.729432  0.415216  2.544538e-16\n"
          ]
        }
      ],
      "source": [
        "# DataFrame com os componentes principais\n",
        "pca_df = pd.DataFrame(pca_result, columns=[f'PC{i+1}' for i in range(pca_result.shape[1])])\n",
        "print('\\nMatriz de Componentes Principais:')\n",
        "print(pca_df)\n",
        "\n",
        "#relatório"
      ]
    },
    {
      "cell_type": "markdown",
      "metadata": {
        "id": "7SoXw22MruWA"
      },
      "source": [
        "##### 2.6 Matriz de cargas"
      ]
    },
    {
      "cell_type": "code",
      "execution_count": 20,
      "metadata": {
        "colab": {
          "base_uri": "https://localhost:8080/"
        },
        "id": "EK1KERu9ruWA",
        "outputId": "bb6a7a86-966f-4e8d-a914-00d93f145232"
      },
      "outputs": [
        {
          "name": "stdout",
          "output_type": "stream",
          "text": [
            "Matriz de Cargas dos Componentes Principais:\n",
            "     Liquidez Corrente  Liquidez Seca  Margem Líquida       ROA       ROE  \\\n",
            "PC1           0.329950       0.318409            -0.0  0.367528  0.343899   \n",
            "PC2          -0.347834      -0.392329             0.0  0.075030  0.282166   \n",
            "PC3           0.245132       0.610598             0.0  0.081168  0.141672   \n",
            "\n",
            "     Endividamento  Cobertura de Juros  Giro do Ativo  \\\n",
            "PC1      -0.202846            0.369264       0.367630   \n",
            "PC2       0.647338            0.000508       0.072817   \n",
            "PC3       0.646111           -0.038684      -0.226420   \n",
            "\n",
            "     Período Médio de Recebimento  Período Médio de Pagamento  \n",
            "PC1                     -0.336722                   -0.332219  \n",
            "PC2                     -0.317990                   -0.338194  \n",
            "PC3                      0.182835                    0.191756  \n",
            "\n",
            "Índices mais significativos por componente:\n",
            "\n",
            "PC1:\n",
            "Cobertura de Juros    0.369264\n",
            "Giro do Ativo         0.367630\n",
            "ROA                   0.367528\n",
            "Name: PC1, dtype: float64\n",
            "\n",
            "PC2:\n",
            "Endividamento        0.647338\n",
            "Liquidez Seca        0.392329\n",
            "Liquidez Corrente    0.347834\n",
            "Name: PC2, dtype: float64\n",
            "\n",
            "PC3:\n",
            "Endividamento        0.646111\n",
            "Liquidez Seca        0.610598\n",
            "Liquidez Corrente    0.245132\n",
            "Name: PC3, dtype: float64\n"
          ]
        }
      ],
      "source": [
        "# Obter a matriz de cargas\n",
        "loadings = pd.DataFrame(\n",
        "    pca.components_,\n",
        "    columns=df_indices.columns,\n",
        "    index=[f'PC{i+1}' for i in range(pca.components_.shape[0])]\n",
        ")\n",
        "\n",
        "print('Matriz de Cargas dos Componentes Principais:')\n",
        "print(loadings)\n",
        "\n",
        "# Identificar os índices mais significativos para cada PC\n",
        "print('\\nÍndices mais significativos por componente:')\n",
        "for pc in loadings.index:\n",
        "    print(f'\\n{pc}:')\n",
        "    print(loadings.loc[pc].abs().sort_values(ascending=False).head(3))  # Top 3 índices mais significativos\n",
        "\n",
        "#relatório"
      ]
    },
    {
      "cell_type": "markdown",
      "metadata": {
        "id": "e77SN51hruWB"
      },
      "source": [
        "##### 2.7 Escore final"
      ]
    },
    {
      "cell_type": "code",
      "execution_count": 21,
      "metadata": {
        "colab": {
          "base_uri": "https://localhost:8080/",
          "height": 178
        },
        "id": "KUoMhOd0ruWB",
        "outputId": "cceb0c9a-3844-4ff7-c64b-e55323f59a3a"
      },
      "outputs": [
        {
          "data": {
            "text/plain": [
              "0   -1.887612\n",
              "1   -1.228224\n",
              "2    3.115835\n",
              "dtype: float64"
            ]
          },
          "execution_count": 21,
          "metadata": {},
          "output_type": "execute_result"
        }
      ],
      "source": [
        "pca_df.dot(explained_variance_ratio)"
      ]
    },
    {
      "cell_type": "markdown",
      "metadata": {
        "id": "MOWTgmyaruWB"
      },
      "source": [
        "##### 3. RESULTADOS #####"
      ]
    },
    {
      "cell_type": "markdown",
      "metadata": {
        "id": "Te19Q490ruWB"
      },
      "source": [
        "##### 3.1A FINSCORE BRUTO"
      ]
    },
    {
      "cell_type": "code",
      "execution_count": 22,
      "metadata": {},
      "outputs": [],
      "source": [
        "# Função para categorizar escores consolidados com mais granularidade\n",
        "def categorias_finscore_bruto(escores):\n",
        "    categorias = []\n",
        "    for escore in escores:\n",
        "        if finscore_bruto > 1.5:\n",
        "            categorias.append('Muito Abaixo do Risco')\n",
        "        elif 1.0 < escore <= 1.5:\n",
        "            categorias.append('Levemente Abaixo do Risco')\n",
        "        elif -1.0 <= escore <= 1.0:\n",
        "            categorias.append('Neutro')\n",
        "        elif -1.5 < escore < -1.0:\n",
        "            categorias.append('Levemente Acima do Risco')\n",
        "        else:\n",
        "            categorias.append('Muito Acima do Risco')\n",
        "    return categorias\n",
        "\n",
        "# Tabela de Categorias:\n",
        "# -------------------------------------------------------\n",
        "# |   Intervalo do Escore   |      Categoria            |\n",
        "# -------------------------------------------------------\n",
        "# |  escore > 1.5           | Muito Abaixo do Risco     |\n",
        "# |  1.0 < escore ≤ 1.5     | Levemente Abaixo do Risco |\n",
        "# | -1.0 ≤ escore ≤ 1.0     | Neutro                    |\n",
        "# | -1.5 < escore < -1.0    | Levemente Acima do Risco  |\n",
        "# |  escore ≤ -1.5          | Muito Acima do Risco      |\n",
        "# -------------------------------------------------------"
      ]
    },
    {
      "cell_type": "code",
      "execution_count": 23,
      "metadata": {
        "colab": {
          "base_uri": "https://localhost:8080/"
        },
        "id": "GvWTD2_bruWB",
        "outputId": "c25ab70a-2539-4bff-ae70-a3f183c3a6ec"
      },
      "outputs": [
        {
          "name": "stdout",
          "output_type": "stream",
          "text": [
            "\n",
            "FINSCORE BRUTO:\n",
            "-0.97\n",
            "\n",
            "CLASSIFICAÇÃO FINSCORE BRUTO:\n",
            "Neutro\n"
          ]
        }
      ],
      "source": [
        "# Calcular o escore consolidado com penalização do último ano\n",
        "# Do mais recente para o mais antigo: 0.5, 0.3, 0.2\n",
        "pesos = [0.6, 0.25, 0.15]  # Pesos para os três anos\n",
        "finscore_bruto = round((pca_df.dot(explained_variance_ratio) * pesos).sum(), 2)\n",
        "print('\\nFINSCORE BRUTO:')\n",
        "print(finscore_bruto)\n",
        "print('\\nCLASSIFICAÇÃO FINSCORE BRUTO:')\n",
        "print(categorias_finscore_bruto([finscore_bruto])[0])\n"
      ]
    },
    {
      "cell_type": "markdown",
      "metadata": {
        "id": "Qd0mMdVyruWE"
      },
      "source": [
        "##### 3.1B FINSCORE AJUSTADO"
      ]
    },
    {
      "cell_type": "code",
      "execution_count": 24,
      "metadata": {},
      "outputs": [],
      "source": [
        "# Função para categorizar escores consolidados com mais granularidade\n",
        "def categorias_finscore_ajustado(escores):\n",
        "    categorias = []\n",
        "    for escore in escores:\n",
        "        if escore > 750:\n",
        "            categorias.append('Muito Abaixo do Risco')\n",
        "        elif 500 < escore <= 750:\n",
        "            categorias.append('Levemente Abaixo do Risco')\n",
        "        elif 250 <= escore <= 500:\n",
        "            categorias.append('Neutro')\n",
        "        elif 100 < escore < 250:\n",
        "            categorias.append('Levemente Acima do Risco')\n",
        "        else:\n",
        "            categorias.append('Muito Acima do Risco')\n",
        "    return categorias\n",
        "\n",
        "# Tabela de Categorias:\n",
        "# -------------------------------------------------------\n",
        "# |   Intervalo do Escore  |      Categoria            |\n",
        "# -------------------------------------------------------\n",
        "# |  escore > 750          | Muito Abaixo do Risco     |\n",
        "# |  500 < escore ≤ 750    | Levemente Abaixo do Risco |\n",
        "# | 250 ≤ escore ≤ 500     | Neutro                    |\n",
        "# | 100 < escore < 250     | Levemente Acima do Risco  |\n",
        "# |  escore ≤ 250          | Muito Acima do Risco      |\n",
        "# -------------------------------------------------------"
      ]
    },
    {
      "cell_type": "code",
      "execution_count": 25,
      "metadata": {},
      "outputs": [],
      "source": [
        "# Traduz a tendência em um escore de risco ajustado ao ponto de referência atual do cliente.\n",
        "escores_ajustados = ((finscore_bruto + 2)/4)*1000"
      ]
    },
    {
      "cell_type": "code",
      "execution_count": 26,
      "metadata": {
        "colab": {
          "base_uri": "https://localhost:8080/"
        },
        "id": "6FfhV8HtruWE",
        "outputId": "31196038-090e-496d-ad08-8fd00c51d23e"
      },
      "outputs": [
        {
          "name": "stdout",
          "output_type": "stream",
          "text": [
            "\n",
            "FINSCORE AJUSTADO:\n",
            "257.5\n",
            "\n",
            "CLASSIFICAÇÃO FINSCORE AJUSTADO:\n",
            "Neutro\n"
          ]
        }
      ],
      "source": [
        "print('\\nFINSCORE AJUSTADO:')\n",
        "print(escores_ajustados)\n",
        "print('\\nCLASSIFICAÇÃO FINSCORE AJUSTADO:')\n",
        "print(categorias_finscore_ajustado([escores_ajustados])[0])"
      ]
    },
    {
      "cell_type": "markdown",
      "metadata": {},
      "source": [
        "##### 3.1C FINSCORE"
      ]
    },
    {
      "cell_type": "code",
      "execution_count": 27,
      "metadata": {},
      "outputs": [],
      "source": [
        "# Função para categorizar escores consolidados com mais granularidade\n",
        "def categorias_finscore(escores):\n",
        "    categorias = []\n",
        "    for escore in escores:\n",
        "        if escore > 750:\n",
        "            categorias.append('Muito Abaixo do Risco')\n",
        "        elif 500 < escore <= 750:\n",
        "            categorias.append('Levemente Abaixo do Risco')\n",
        "        elif 250 <= escore <= 500:\n",
        "            categorias.append('Neutro')\n",
        "        elif 100 < escore < 250:\n",
        "            categorias.append('Levemente Acima do Risco')\n",
        "        else:\n",
        "            categorias.append('Muito Acima do Risco')\n",
        "    return categorias\n",
        "\n",
        "# Tabela de Categorias:\n",
        "# -------------------------------------------------------\n",
        "# |   Intervalo do Escore  |      Categoria            |\n",
        "# -------------------------------------------------------\n",
        "# |  escore > 750          | Muito Abaixo do Risco     |\n",
        "# |  500 < escore ≤ 750    | Levemente Abaixo do Risco |\n",
        "# | 250 ≤ escore ≤ 500     | Neutro                    |\n",
        "# | 100 < escore < 250     | Levemente Acima do Risco  |\n",
        "# |  escore ≤ 250          | Muito Acima do Risco      |\n",
        "# -------------------------------------------------------"
      ]
    },
    {
      "cell_type": "code",
      "execution_count": 28,
      "metadata": {},
      "outputs": [
        {
          "name": "stdout",
          "output_type": "stream",
          "text": [
            "\n",
            "FINSCORE:\n",
            "423.42\n",
            "\n",
            "CLASSIFICAÇÃO FINSCORE:\n",
            "Neutro\n"
          ]
        }
      ],
      "source": [
        "finscore = round(((serasa + escores_ajustados) / 2) + ((serasa * escores_ajustados)/1000), 2)\n",
        "print('\\nFINSCORE:')\n",
        "print(finscore)\n",
        "print('\\nCLASSIFICAÇÃO FINSCORE:')\n",
        "print(categorias_finscore([finscore])[0])\n"
      ]
    },
    {
      "cell_type": "markdown",
      "metadata": {},
      "source": [
        "##### 3.2 SERASA"
      ]
    },
    {
      "cell_type": "code",
      "execution_count": 29,
      "metadata": {},
      "outputs": [],
      "source": [
        "# Função para categorizar escores conforme a classificação do Serasa\n",
        "def categorias_serasa(escores):\n",
        "    categorias = []\n",
        "    for escore in escores:\n",
        "        if escore >= 701:\n",
        "            categorias.append('Excelente')\n",
        "        elif 501 <= escore <= 700:\n",
        "            categorias.append('Bom')\n",
        "        elif 301 <= escore <= 500:\n",
        "            categorias.append('Baixa')\n",
        "        else:\n",
        "            categorias.append('Muito Baixa')\n",
        "    return categorias\n",
        "\n",
        "# Tabela de Categorias:\n",
        "# ---------------------------------\n",
        "# |   Intervalo do Escore  | Categoria  |\n",
        "# ---------------------------------\n",
        "# |  701 a 1.000          | Excelente  |\n",
        "# |  501 a 700            | Bom        |\n",
        "# |  301 a 500            | Baixo      |\n",
        "# |  0 a 300              | Muito Baixo|\n",
        "# ---------------------------------"
      ]
    },
    {
      "cell_type": "code",
      "execution_count": 30,
      "metadata": {},
      "outputs": [
        {
          "name": "stdout",
          "output_type": "stream",
          "text": [
            "\n",
            "SERASA:\n",
            "389\n",
            "\n",
            "CLASSIFICAÇÃO SERASA:\n",
            "Baixa\n"
          ]
        }
      ],
      "source": [
        "print('\\nSERASA:')\n",
        "print(serasa)\n",
        "print('\\nCLASSIFICAÇÃO SERASA:')\n",
        "print(categorias_serasa([serasa])[0])"
      ]
    },
    {
      "cell_type": "markdown",
      "metadata": {
        "id": "n0VaQrgOruWE"
      },
      "source": [
        "##### 3.3 Valores e Contas Contábeis"
      ]
    },
    {
      "cell_type": "code",
      "execution_count": 31,
      "metadata": {
        "colab": {
          "base_uri": "https://localhost:8080/",
          "height": 198
        },
        "id": "mGlnSUpwruWF",
        "outputId": "d1e083f1-2133-4911-d1fd-6443f2380963"
      },
      "outputs": [
        {
          "data": {
            "text/html": [
              "<div>\n",
              "<style scoped>\n",
              "    .dataframe tbody tr th:only-of-type {\n",
              "        vertical-align: middle;\n",
              "    }\n",
              "\n",
              "    .dataframe tbody tr th {\n",
              "        vertical-align: top;\n",
              "    }\n",
              "\n",
              "    .dataframe thead th {\n",
              "        text-align: right;\n",
              "    }\n",
              "</style>\n",
              "<table border=\"1\" class=\"dataframe\">\n",
              "  <thead>\n",
              "    <tr style=\"text-align: right;\">\n",
              "      <th></th>\n",
              "      <th>Ano</th>\n",
              "      <th>Ativo Circulante</th>\n",
              "      <th>Passivo Circulante</th>\n",
              "      <th>Estoques</th>\n",
              "      <th>Lucro Líquido</th>\n",
              "      <th>Receita Total</th>\n",
              "      <th>Ativo Total</th>\n",
              "      <th>Patrimônio Líquido</th>\n",
              "      <th>Passivo Total</th>\n",
              "      <th>EBIT</th>\n",
              "      <th>Despesa de Juros</th>\n",
              "      <th>Contas a Receber</th>\n",
              "      <th>Contas a Pagar</th>\n",
              "      <th>Custos</th>\n",
              "    </tr>\n",
              "  </thead>\n",
              "  <tbody>\n",
              "    <tr>\n",
              "      <th>0</th>\n",
              "      <td>0</td>\n",
              "      <td>21460741.22</td>\n",
              "      <td>21949637.11</td>\n",
              "      <td>1382446.09</td>\n",
              "      <td>606035.48</td>\n",
              "      <td>22766391.83</td>\n",
              "      <td>39792738.77</td>\n",
              "      <td>2269527.90</td>\n",
              "      <td>37523210.87</td>\n",
              "      <td>1748747.67</td>\n",
              "      <td>1142712.19</td>\n",
              "      <td>10675776.98</td>\n",
              "      <td>2322178.40</td>\n",
              "      <td>22566635.56</td>\n",
              "    </tr>\n",
              "    <tr>\n",
              "      <th>1</th>\n",
              "      <td>1</td>\n",
              "      <td>22837434.77</td>\n",
              "      <td>16619458.73</td>\n",
              "      <td>1167040.22</td>\n",
              "      <td>942891.16</td>\n",
              "      <td>27654090.05</td>\n",
              "      <td>27597972.68</td>\n",
              "      <td>4570142.59</td>\n",
              "      <td>23027830.09</td>\n",
              "      <td>1158668.56</td>\n",
              "      <td>215777.40</td>\n",
              "      <td>15069084.73</td>\n",
              "      <td>3271110.74</td>\n",
              "      <td>26226216.84</td>\n",
              "    </tr>\n",
              "    <tr>\n",
              "      <th>2</th>\n",
              "      <td>2</td>\n",
              "      <td>17972277.48</td>\n",
              "      <td>11349351.49</td>\n",
              "      <td>1434835.78</td>\n",
              "      <td>2038769.22</td>\n",
              "      <td>78463249.51</td>\n",
              "      <td>22278928.99</td>\n",
              "      <td>3387043.28</td>\n",
              "      <td>18891885.71</td>\n",
              "      <td>2160654.23</td>\n",
              "      <td>121885.01</td>\n",
              "      <td>13432046.22</td>\n",
              "      <td>2277242.50</td>\n",
              "      <td>75490180.85</td>\n",
              "    </tr>\n",
              "  </tbody>\n",
              "</table>\n",
              "</div>"
            ],
            "text/plain": [
              "   Ano  Ativo Circulante  Passivo Circulante    Estoques  Lucro Líquido  \\\n",
              "0    0       21460741.22         21949637.11  1382446.09      606035.48   \n",
              "1    1       22837434.77         16619458.73  1167040.22      942891.16   \n",
              "2    2       17972277.48         11349351.49  1434835.78     2038769.22   \n",
              "\n",
              "   Receita Total  Ativo Total  Patrimônio Líquido  Passivo Total        EBIT  \\\n",
              "0    22766391.83  39792738.77          2269527.90    37523210.87  1748747.67   \n",
              "1    27654090.05  27597972.68          4570142.59    23027830.09  1158668.56   \n",
              "2    78463249.51  22278928.99          3387043.28    18891885.71  2160654.23   \n",
              "\n",
              "   Despesa de Juros  Contas a Receber  Contas a Pagar       Custos  \n",
              "0        1142712.19       10675776.98      2322178.40  22566635.56  \n",
              "1         215777.40       15069084.73      3271110.74  26226216.84  \n",
              "2         121885.01       13432046.22      2277242.50  75490180.85  "
            ]
          },
          "execution_count": 31,
          "metadata": {},
          "output_type": "execute_result"
        }
      ],
      "source": [
        "df_dados_contabeis\n",
        "# Sendo 0 o mais recente e 2 o mais antigo"
      ]
    },
    {
      "cell_type": "markdown",
      "metadata": {
        "id": "OggCqRbIruWF"
      },
      "source": [
        "##### 3.4 Índices contábeis"
      ]
    },
    {
      "cell_type": "code",
      "execution_count": 32,
      "metadata": {
        "colab": {
          "base_uri": "https://localhost:8080/"
        },
        "id": "VRwxA5mRruWF",
        "outputId": "40a07120-840b-4b59-d44e-a95cf4e2da84"
      },
      "outputs": [
        {
          "name": "stdout",
          "output_type": "stream",
          "text": [
            "   Liquidez Corrente  Liquidez Seca  Margem Líquida   ROA   ROE  \\\n",
            "0               0.98           0.91            0.03  0.02  0.27   \n",
            "1               1.37           1.30            0.03  0.03  0.21   \n",
            "2               1.58           1.46            0.03  0.09  0.60   \n",
            "\n",
            "   Endividamento  Cobertura de Juros  Giro do Ativo  \\\n",
            "0           0.94                1.53           0.57   \n",
            "1           0.83                5.37           1.00   \n",
            "2           0.85               17.73           3.52   \n",
            "\n",
            "   Período Médio de Recebimento  Período Médio de Pagamento  \n",
            "0                        171.16                       37.56  \n",
            "1                        198.89                       45.53  \n",
            "2                         62.48                       11.01  \n"
          ]
        }
      ],
      "source": [
        "print(df_indices)\n",
        "# Sendo 0 o mais recente e 2 o mais antigo\n"
      ]
    },
    {
      "cell_type": "markdown",
      "metadata": {
        "id": "Y97BrJOiruWF"
      },
      "source": [
        "##### 4. APRESENTAÇÃO #####"
      ]
    },
    {
      "cell_type": "markdown",
      "metadata": {
        "id": "lRFYtoiYruWF"
      },
      "source": [
        "##### 4.1 Criação dos dfs"
      ]
    },
    {
      "cell_type": "code",
      "execution_count": 33,
      "metadata": {},
      "outputs": [
        {
          "data": {
            "text/plain": [
              "'Baixa'"
            ]
          },
          "execution_count": 33,
          "metadata": {},
          "output_type": "execute_result"
        }
      ],
      "source": [
        " categorias_serasa([serasa])[0]"
      ]
    },
    {
      "cell_type": "code",
      "execution_count": 34,
      "metadata": {
        "colab": {
          "base_uri": "https://localhost:8080/",
          "height": 125
        },
        "id": "YnzoQ9MhruWF",
        "outputId": "e89e16a0-3497-4f86-c350-58a28db24a57"
      },
      "outputs": [
        {
          "data": {
            "text/html": [
              "<div>\n",
              "<style scoped>\n",
              "    .dataframe tbody tr th:only-of-type {\n",
              "        vertical-align: middle;\n",
              "    }\n",
              "\n",
              "    .dataframe tbody tr th {\n",
              "        vertical-align: top;\n",
              "    }\n",
              "\n",
              "    .dataframe thead th {\n",
              "        text-align: right;\n",
              "    }\n",
              "</style>\n",
              "<table border=\"1\" class=\"dataframe\">\n",
              "  <thead>\n",
              "    <tr style=\"text-align: right;\">\n",
              "      <th></th>\n",
              "      <th>Métrica</th>\n",
              "      <th>Valor</th>\n",
              "      <th>Cateegoria</th>\n",
              "    </tr>\n",
              "  </thead>\n",
              "  <tbody>\n",
              "    <tr>\n",
              "      <th>0</th>\n",
              "      <td>Finscore Bruto</td>\n",
              "      <td>-0.97</td>\n",
              "      <td>Neutro</td>\n",
              "    </tr>\n",
              "    <tr>\n",
              "      <th>1</th>\n",
              "      <td>Finscore Ajustado</td>\n",
              "      <td>257.50</td>\n",
              "      <td>Neutro</td>\n",
              "    </tr>\n",
              "    <tr>\n",
              "      <th>2</th>\n",
              "      <td>Finscore</td>\n",
              "      <td>423.42</td>\n",
              "      <td>Neutro</td>\n",
              "    </tr>\n",
              "    <tr>\n",
              "      <th>3</th>\n",
              "      <td>Serasa</td>\n",
              "      <td>389.00</td>\n",
              "      <td>Baixa</td>\n",
              "    </tr>\n",
              "  </tbody>\n",
              "</table>\n",
              "</div>"
            ],
            "text/plain": [
              "             Métrica   Valor Cateegoria\n",
              "0     Finscore Bruto   -0.97     Neutro\n",
              "1  Finscore Ajustado  257.50     Neutro\n",
              "2           Finscore  423.42     Neutro\n",
              "3             Serasa  389.00      Baixa"
            ]
          },
          "execution_count": 34,
          "metadata": {},
          "output_type": "execute_result"
        }
      ],
      "source": [
        "# Df resultados principais\n",
        "resultados_df = pd.DataFrame({\n",
        "    'Métrica': ['Finscore Bruto', 'Finscore Ajustado', 'Finscore', 'Serasa'],\n",
        "    'Valor': [finscore_bruto, escores_ajustados, finscore, serasa],\n",
        "    'Cateegoria': [categorias_finscore_bruto([finscore_bruto])[0], \n",
        "                   categorias_finscore_ajustado([escores_ajustados])[0], \n",
        "                   categorias_finscore([finscore])[0],\n",
        "                   categorias_serasa([serasa])[0]]\n",
        "                   \n",
        "})\n",
        "resultados_df"
      ]
    },
    {
      "cell_type": "markdown",
      "metadata": {
        "id": "cqIfVy3FruWF"
      },
      "source": [
        "##### 4.2 Tabela Resumo"
      ]
    },
    {
      "cell_type": "code",
      "execution_count": 35,
      "metadata": {
        "colab": {
          "base_uri": "https://localhost:8080/",
          "height": 394
        },
        "id": "a47AdyuGruWF",
        "outputId": "55b603ab-8d6e-4287-c3d7-c598fb610be9"
      },
      "outputs": [
        {
          "name": "stderr",
          "output_type": "stream",
          "text": [
            "C:\\Users\\ferna\\AppData\\Local\\Temp\\ipykernel_26228\\3834624939.py:16: FutureWarning: DataFrame.applymap has been deprecated. Use DataFrame.map instead.\n",
            "  df_dados_contabeis_milhoes = df_dados_contabeis_milhoes.applymap(\n"
          ]
        },
        {
          "data": {
            "image/png": "[encoded data removed]",
            "text/plain": [
              "<Figure size 1400x1200 with 3 Axes>"
            ]
          },
          "metadata": {},
          "output_type": "display_data"
        }
      ],
      "source": [
        "# --- Ajuste principal: inverter a ordem do df_indices se necessário ---\n",
        "df_indices = df_indices.iloc[::-1].reset_index(drop=True)\n",
        "\n",
        "## FORMATAR PADRÃO BR\n",
        "# Cópia do df original\n",
        "df_dados_contabeis_milhoes = df_dados_contabeis.copy()\n",
        "\n",
        "# Excluindo a coluna 'Ano' antes de realizar as transformações\n",
        "df_dados_contabeis_milhoes = df_dados_contabeis_milhoes.drop(columns=['Ano'])\n",
        "\n",
        "# Dividindo os valores das colunas numéricas por 1.000.000\n",
        "for col in df_dados_contabeis_milhoes.columns:\n",
        "    df_dados_contabeis_milhoes[col] = df_dados_contabeis_milhoes[col] / 1_000_000\n",
        "\n",
        "# Formatando os valores para o padrão brasileiro (R$ 1.000.000,00)\n",
        "df_dados_contabeis_milhoes = df_dados_contabeis_milhoes.applymap(\n",
        "    lambda x: f\"R$ {x:,.2f}\".replace(\",\", \"X\").replace(\".\", \",\").replace(\"X\", \".\")\n",
        "    if isinstance(x, (int, float)) else x\n",
        ")\n",
        "\n",
        "## INSERIR A COLUNA \"ANO\" NAS TABELAS \"Dados Contábeis\" e \"Índices Financeiros\"\n",
        "anos = [str(ano_inicial), str(ano_inicial + 1), str(ano_final)]  # Convertendo anos para string\n",
        "\n",
        "df_dados_contabeis_milhoes.insert(0, \"Ano\", anos)\n",
        "df_indices.insert(0, \"Ano\", anos)\n",
        "\n",
        "## DF RESULTADOS PRINCIPAIS\n",
        "resultados_df = pd.DataFrame({\n",
        "    'Métrica': ['Finscore Bruto', 'Finscore Ajustado', 'Finscore', 'Serasa'],\n",
        "    'Valor': [finscore_bruto, escores_ajustados, finscore, serasa],\n",
        "    'Categoria': [\n",
        "        categorias_finscore_bruto([finscore_bruto])[0],\n",
        "        categorias_finscore_ajustado([escores_ajustados])[0],\n",
        "        categorias_finscore([finscore])[0],\n",
        "        categorias_serasa([serasa])[0]\n",
        "    ]\n",
        "})\n",
        "\n",
        "## INSERINDO QUEBRA DE LINHA NOS CABEÇALHOS\n",
        "df_dados_contabeis_milhoes.columns = [col.replace(\" \", \"\\n\") for col in df_dados_contabeis_milhoes.columns]\n",
        "df_indices.columns = [col.replace(\" \", \"\\n\") for col in df_indices.columns]\n",
        "resultados_df.columns = [col.replace(\" \", \"\\n\") for col in resultados_df.columns]\n",
        "\n",
        "## CABEÇALHO\n",
        "fig, axs = plt.subplots(nrows=3, figsize=(14, 12))\n",
        "fig.suptitle(\n",
        "    f\"CÁLCULO FINSCORE - {cliente} - Período base {ano_inicial} - {ano_final}\",\n",
        "    fontsize=14, fontweight=\"bold\"\n",
        ")\n",
        "\n",
        "## TABELAS\n",
        "def add_table(ax, df, title):\n",
        "    ax.axis(\"tight\")\n",
        "    ax.axis(\"off\")\n",
        "    table = ax.table(\n",
        "        cellText=df.values,\n",
        "        colLabels=df.columns,\n",
        "        cellLoc=\"center\", loc=\"center\",\n",
        "        colWidths=[0.12] * len(df.columns)  # Ajustando largura das colunas\n",
        "    )\n",
        "    \n",
        "    table.auto_set_font_size(False)\n",
        "    table.set_fontsize(10)\n",
        "    table.scale(1.2, 1.2)  # Ajustando escala para melhor legibilidade\n",
        "    \n",
        "    # Aumentando a altura da linha do cabeçalho\n",
        "    for col in range(len(df.columns)):\n",
        "        table[(0, col)].set_height(0.3)\n",
        "    \n",
        "    # Destacando o cabeçalho com negrito\n",
        "    for key, cell in table._cells.items():\n",
        "        if key[0] == 0:  # Se for a primeira linha (cabeçalho)\n",
        "            cell.set_fontsize(10)\n",
        "            cell.set_text_props(weight='bold')\n",
        "    \n",
        "    ax.set_title(title, fontsize=12, fontweight=\"bold\", pad=2)\n",
        "    ax.title.set_y(0.9)\n",
        "\n",
        "# Adicionando cada tabela\n",
        "add_table(axs[0], resultados_df, \"FinScore Calculado\")\n",
        "add_table(axs[1], df_dados_contabeis_milhoes, \"Dados Contábeis\\n(Em Milhões de R$)\")\n",
        "add_table(axs[2], df_indices, \"Índices Financeiros\")\n",
        "\n",
        "plt.show()\n"
      ]
    },
    {
      "cell_type": "markdown",
      "metadata": {
        "id": "sG94dL8tyCBR"
      },
      "source": [
        "#### 5. Prompt IA"
      ]
    }
  ],
  "metadata": {
    "colab": {
      "include_colab_link": true,
      "provenance": [],
      "toc_visible": true
    },
    "kernelspec": {
      "display_name": "base",
      "language": "python",
      "name": "python3"
    },
    "language_info": {
      "codemirror_mode": {
        "name": "ipython",
        "version": 3
      },
      "file_extension": ".py",
      "mimetype": "text/x-python",
      "name": "python",
      "nbconvert_exporter": "python",
      "pygments_lexer": "ipython3",
      "version": "3.12.7"
    }
  },
  "nbformat": 4,
  "nbformat_minor": 0
}
