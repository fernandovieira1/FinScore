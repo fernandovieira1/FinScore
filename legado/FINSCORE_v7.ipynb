{
  "cells": [
    {
      "cell_type": "markdown",
      "metadata": {
        "colab_type": "text",
        "id": "view-in-github"
      },
      "source": [
        "<a href='https://colab.research.google.com/github/fernandovieira1/FinScore/blob/main/FINSCORE.ipynb' target='_parent'><img src='https://colab.research.google.com/assets/colab-badge.svg' alt='Open In Colab'/></a>"
      ]
    },
    {
      "cell_type": "code",
      "execution_count": 47,
      "metadata": {},
      "outputs": [
        {
          "name": "stdout",
          "output_type": "stream",
          "text": [
            "C:\\Users\\ferna\\AppData\\Local\\Programs\\Microsoft VS Code\n"
          ]
        }
      ],
      "source": [
        "import os\n",
        "print(os.getcwd())  # Mostra o diretório atual\n"
      ]
    },
    {
      "cell_type": "code",
      "execution_count": 44,
      "metadata": {},
      "outputs": [
        {
          "name": "stdout",
          "output_type": "stream",
          "text": [
            "Defaulting to user installation because normal site-packages is not writeable\n"
          ]
        },
        {
          "name": "stderr",
          "output_type": "stream",
          "text": [
            "ERROR: Could not open requirements file: [Errno 2] No such file or directory: 'requirements_colab.txt'\n"
          ]
        }
      ],
      "source": [
        "#v7\n",
        "!pip install -r requirements_colab.txt\n"
      ]
    },
    {
      "cell_type": "markdown",
      "metadata": {
        "id": "BVq3lZyIpi39"
      },
      "source": [
        "**# INTRUÇÕES**"
      ]
    },
    {
      "cell_type": "markdown",
      "metadata": {
        "id": "euGOG_rppxHj"
      },
      "source": [
        "* Antes de iniciar, certifique-se de estar logado na sua conta Google.\n",
        "\n",
        "* Um botão azul 'Fazer login', localizado no canto superior direito da tela, aparecerá, se não.\n",
        "\n",
        "* Feito isto, basta inserir os dados nas seções abaixo descritas:\n",
        "    - 1.1 Cliente\n",
        "    - 1.2 Período\n",
        "    - 1.3 Score Serasa\n",
        "    - 1.4 Lançamento dos dados Contábeis (na planilha indicada no link)\n",
        "\n",
        "* Cada uma das seções mencionadas possui anotações sobre como proceder.\n",
        "\n",
        "* Logo após, clique no menu 'Ambiente de execução' e em 'Executar tudo' (ou CTR + F9), nesta ordem."
      ]
    },
    {
      "cell_type": "markdown",
      "metadata": {
        "id": "TosDurA7ruV-"
      },
      "source": [
        "##### 1. LANÇAMENTO DOS DADOS #####"
      ]
    },
    {
      "cell_type": "markdown",
      "metadata": {
        "id": "KyKo-splruV-"
      },
      "source": [
        "##### 1.1 Cliente"
      ]
    },
    {
      "cell_type": "markdown",
      "metadata": {
        "id": "NeLktENAUyKk"
      },
      "source": [
        "*--> Insira o nome do cliente/empresa*"
      ]
    },
    {
      "cell_type": "code",
      "execution_count": 1,
      "metadata": {
        "id": "tr245FSAruV-"
      },
      "outputs": [],
      "source": [
        "# Cliente\n",
        "cliente = 'FinScore_Assertif_Empresas FEV-2025.xlsx'"
      ]
    },
    {
      "cell_type": "markdown",
      "metadata": {
        "id": "MzNBw_9sruV-"
      },
      "source": [
        "##### 1.2 Período"
      ]
    },
    {
      "cell_type": "markdown",
      "metadata": {
        "id": "s6AuejMzU5kI"
      },
      "source": [
        "*--> Insira os anos inicial (a primeira) e final (da última) das demonstrações contábeis que serviram de base para a análise*"
      ]
    },
    {
      "cell_type": "code",
      "execution_count": 2,
      "metadata": {
        "id": "RxizYtcNruV-"
      },
      "outputs": [],
      "source": [
        "# Ano Inicial\n",
        "ano_inicial = 2021"
      ]
    },
    {
      "cell_type": "code",
      "execution_count": 3,
      "metadata": {
        "id": "jwMbaC1YruV-"
      },
      "outputs": [],
      "source": [
        "# Ano Final\n",
        "ano_final = 2023"
      ]
    },
    {
      "cell_type": "markdown",
      "metadata": {},
      "source": [
        "##### 1.3 Score Serasa"
      ]
    },
    {
      "cell_type": "markdown",
      "metadata": {},
      "source": [
        "*--> Insira o score Serasa do cliente*"
      ]
    },
    {
      "cell_type": "code",
      "execution_count": 4,
      "metadata": {},
      "outputs": [],
      "source": [
        "# Serasa\n",
        "serasa = 389"
      ]
    },
    {
      "cell_type": "markdown",
      "metadata": {
        "id": "ltfWkSKBbXZW"
      },
      "source": [
        "##### 1.4 Lançamento dos dados Contábeis"
      ]
    },
    {
      "cell_type": "markdown",
      "metadata": {
        "id": "0H_oz1aijJdl"
      },
      "source": [
        "*--> Acesse a planilha abaixo (CTRL + click) e insira as informações nas linhas e colunas respectivas*"
      ]
    },
    {
      "cell_type": "code",
      "execution_count": 5,
      "metadata": {
        "colab": {
          "base_uri": "https://localhost:8080/",
          "height": 54
        },
        "id": "-U_sxpbibgzO",
        "outputId": "c1ea3dfa-c613-46a4-f27a-7944b798f37f"
      },
      "outputs": [
        {
          "data": {
            "text/plain": [
              "'https://docs.google.com/spreadsheets/d/1-BCv3gjwJ34HZqjWpOQxqXU1q_3s3r33/edit?gid=1575975872#gid=1575975872'"
            ]
          },
          "execution_count": 5,
          "metadata": {},
          "output_type": "execute_result"
        }
      ],
      "source": [
        "# Lance do ano mais recente para o mais antigo\n",
        "'https://docs.google.com/spreadsheets/d/1-BCv3gjwJ34HZqjWpOQxqXU1q_3s3r33/edit?gid=1575975872#gid=1575975872'"
      ]
    },
    {
      "cell_type": "markdown",
      "metadata": {
        "id": "Zq1LKEj8CaHh"
      },
      "source": [
        "*--> Agora basta clicar no menu 'Ambiente de execução' e em 'Executar tudo' (ou CTR + F9), nesta ordem.*"
      ]
    },
    {
      "cell_type": "markdown",
      "metadata": {
        "id": "cXq651E8ruV7"
      },
      "source": [
        "##### CONFIGURAÇÃO DO AMBIENTE"
      ]
    },
    {
      "cell_type": "markdown",
      "metadata": {
        "id": "olzDXEN7ruV8"
      },
      "source": [
        "##### Configuração do ambiente"
      ]
    },
    {
      "cell_type": "code",
      "execution_count": 6,
      "metadata": {
        "id": "ytzBO-d5ruV8"
      },
      "outputs": [],
      "source": [
        "import numpy as np\n",
        "import pandas as pd\n",
        "from sklearn.decomposition import PCA\n",
        "from sklearn.preprocessing import StandardScaler\n",
        "\n",
        "import pandas as pd\n",
        "import matplotlib.pyplot as plt\n",
        "import seaborn as sns\n",
        "import matplotlib.pyplot as plt\n",
        "\n",
        "import sys\n",
        "import subprocess\n",
        "import importlib.util\n"
      ]
    },
    {
      "cell_type": "code",
      "execution_count": 7,
      "metadata": {
        "id": "hDDDDbUCmTaR"
      },
      "outputs": [],
      "source": [
        "%%capture\n",
        "# Lista de pacotes necessários\n",
        "required_packages = ['gspread', 'pandas', 'gspread_dataframe', 'openpyxl']\n",
        "\n",
        "# Verificar e instalar pacotes que não estão instalados\n",
        "def install_missing_packages(packages):\n",
        "    for package in packages:\n",
        "        if importlib.util.find_spec(package) is None:\n",
        "            print(f'⚠ Instalando {package}...')\n",
        "            subprocess.check_call([sys.executable, '-m', 'pip', 'install', '--upgrade', package])\n",
        "        else:\n",
        "            print(f'✔ {package} já está instalado')\n",
        "\n",
        "install_missing_packages(required_packages)"
      ]
    },
    {
      "cell_type": "code",
      "execution_count": 8,
      "metadata": {
        "id": "ToAAKzWckBxH"
      },
      "outputs": [],
      "source": [
        "# Definir o ID da planilha e da aba (worksheet)\n",
        "sheet_id = '1-BCv3gjwJ34HZqjWpOQxqXU1q_3s3r33'\n",
        "gid = '1575975872'  # ID da aba específica\n",
        "\n",
        "# Construir a URL para baixar a planilha como um arquivo Excel (.xlsx)\n",
        "url = f'https://docs.google.com/spreadsheets/d/{sheet_id}/export?format=xlsx&id={sheet_id}&gid={gid}'\n",
        "\n",
        "# Ler a planilha diretamente no Pandas\n",
        "df_dados_contabeis = pd.read_excel(url, engine='openpyxl')"
      ]
    },
    {
      "cell_type": "code",
      "execution_count": 9,
      "metadata": {
        "id": "5N9taplKruV9"
      },
      "outputs": [],
      "source": [
        "# Função para calcular os índices contábeis\n",
        "def calcular_indices_contabeis(df):\n",
        "    indices = {}\n",
        "\n",
        "    indices['Liquidez Corrente'] = df['Ativo Circulante'] / df['Passivo Circulante']\n",
        "    # Ativo Circulante: BP\n",
        "    # Passivo Circulante: BP\n",
        "    # => A liquidez corrente mede a capacidade da empresa de pagar suas obrigações de curto prazo.\n",
        "\n",
        "    indices['Liquidez Seca'] = (df['Ativo Circulante'] - df['Estoques']) / df['Passivo Circulante']\n",
        "    # Ativo Circulante: BP\n",
        "    # Estoque: BP\n",
        "    # Passivo Circulante: BP\n",
        "    # => A liquidez seca é uma medida de liquidez que desconsidera o estoque da empresa.\n",
        "\n",
        "    indices['Margem Líquida'] = df['Lucro Líquido'] / df['Receita Total']\n",
        "    # Lucro Líquido: DRE\n",
        "    # Receita Total: DRE\n",
        "    # => A margem líquida mede a porcentagem de lucro líquido que a empresa gera para cada real de receita.\n",
        "\n",
        "    indices['ROA'] = df['Lucro Líquido'] / df['Ativo Total']\n",
        "    # Lucro Líquido: DRE\n",
        "    # Ativo Total: BP\n",
        "    # => O retorno sobre ativos (ROA) mede a eficiência da empresa em gerar lucro a partir de seus ativos.\n",
        "\n",
        "    indices['ROE'] = df['Lucro Líquido'] / df['Patrimônio Líquido']\n",
        "    # Lucro Líquido: DRE\n",
        "    # Patrimônio Líquido: BP\n",
        "    # => O retorno sobre o patrimônio líquido (ROE) mede a eficiência da empresa em gerar lucro a partir de seu patrimônio líquido.\n",
        "\n",
        "    indices['Endividamento'] = df['Passivo Total'] / df['Ativo Total']\n",
        "    # Passivo Total: BP\n",
        "    # Ativo Total: BP\n",
        "    # => O endividamento mede a proporção de dívidas da empresa em relação ao total de ativos.\n",
        "\n",
        "    indices['Cobertura de Juros'] = df['EBIT'] / df['Despesa de Juros']\n",
        "    # EBIT: DRE (Lucro antes de juros e impostos)\n",
        "    # Despesa de Juros: DRE\n",
        "    # => A cobertura de juros mede a capacidade da empresa de pagar seus juros com seu lucro antes de juros e impostos.\n",
        "    # => Reflete a capacidade de gerar resultados com suas atividades principais\n",
        "\n",
        "    indices['Giro do Ativo'] = df['Receita Total'] / df['Ativo Total']\n",
        "    # Ativo Total: BP\n",
        "    # Receita Total: DRE\n",
        "    # => O giro do ativo mede a eficiência da empresa em gerar receita a partir de seus ativos.\n",
        "\n",
        "    indices['Período Médio de Recebimento'] = df['Contas a Receber'] / df['Receita Total'] * 365\n",
        "    # Contas a Receber: BP\n",
        "    # Receita Total: DRE\n",
        "    # => O período médio de recebimento mede o tempo médio que a empresa leva para receber suas vendas.\n",
        "\n",
        "    indices['Período Médio de Pagamento'] = df['Contas a Pagar'] / df['Custos'] * 365\n",
        "    # Contas a Pagar: BP\n",
        "    # Custos: DRE\n",
        "    # => O período médio de pagamento mede o tempo médio que a empresa leva para pagar seus custos.\n",
        "\n",
        "    return pd.DataFrame(indices)\n",
        "\n"
      ]
    },
    {
      "cell_type": "markdown",
      "metadata": {
        "id": "_p8hSremruV-"
      },
      "source": [
        "##### Importação dos Dados Contábeis"
      ]
    },
    {
      "cell_type": "code",
      "execution_count": 10,
      "metadata": {
        "id": "Lhk9GqNfruV-"
      },
      "outputs": [],
      "source": [
        "## Importar os dados\n",
        "# - Do mais recente para o mais antigo\n",
        "\n",
        "# arquivo_dados_contabeis = '/content/dados_contabeis_global.xlsx'\n",
        "arquivo_dados_contabeis = df_dados_contabeis"
      ]
    },
    {
      "cell_type": "code",
      "execution_count": 11,
      "metadata": {
        "colab": {
          "base_uri": "https://localhost:8080/",
          "height": 198
        },
        "id": "JUFBrnuBnb1X",
        "outputId": "2689913e-012e-4a65-cb0c-aff53c304a09"
      },
      "outputs": [
        {
          "data": {
            "text/html": [
              "<div>\n",
              "<style scoped>\n",
              "    .dataframe tbody tr th:only-of-type {\n",
              "        vertical-align: middle;\n",
              "    }\n",
              "\n",
              "    .dataframe tbody tr th {\n",
              "        vertical-align: top;\n",
              "    }\n",
              "\n",
              "    .dataframe thead th {\n",
              "        text-align: right;\n",
              "    }\n",
              "</style>\n",
              "<table border=\"1\" class=\"dataframe\">\n",
              "  <thead>\n",
              "    <tr style=\"text-align: right;\">\n",
              "      <th></th>\n",
              "      <th>Ano</th>\n",
              "      <th>Ativo Circulante</th>\n",
              "      <th>Passivo Circulante</th>\n",
              "      <th>Estoques</th>\n",
              "      <th>Lucro Líquido</th>\n",
              "      <th>Receita Total</th>\n",
              "      <th>Ativo Total</th>\n",
              "      <th>Patrimônio Líquido</th>\n",
              "      <th>Passivo Total</th>\n",
              "      <th>EBIT</th>\n",
              "      <th>Despesa de Juros</th>\n",
              "      <th>Contas a Receber</th>\n",
              "      <th>Contas a Pagar</th>\n",
              "      <th>Custos</th>\n",
              "    </tr>\n",
              "  </thead>\n",
              "  <tbody>\n",
              "    <tr>\n",
              "      <th>0</th>\n",
              "      <td>0</td>\n",
              "      <td>97369173.64</td>\n",
              "      <td>60252830.01</td>\n",
              "      <td>62152223.21</td>\n",
              "      <td>8393965.79</td>\n",
              "      <td>1.048415e+08</td>\n",
              "      <td>1.017093e+08</td>\n",
              "      <td>41270424.62</td>\n",
              "      <td>60438884.67</td>\n",
              "      <td>12230341.96</td>\n",
              "      <td>3836376.17</td>\n",
              "      <td>29961276.83</td>\n",
              "      <td>15994921.21</td>\n",
              "      <td>96017991.50</td>\n",
              "    </tr>\n",
              "    <tr>\n",
              "      <th>1</th>\n",
              "      <td>1</td>\n",
              "      <td>76433172.07</td>\n",
              "      <td>44514525.38</td>\n",
              "      <td>52149084.57</td>\n",
              "      <td>9384502.93</td>\n",
              "      <td>9.877322e+07</td>\n",
              "      <td>7.992169e+07</td>\n",
              "      <td>35263817.92</td>\n",
              "      <td>44657868.91</td>\n",
              "      <td>10638475.31</td>\n",
              "      <td>1253972.38</td>\n",
              "      <td>20458540.88</td>\n",
              "      <td>8604560.65</td>\n",
              "      <td>87908310.69</td>\n",
              "    </tr>\n",
              "    <tr>\n",
              "      <th>2</th>\n",
              "      <td>2</td>\n",
              "      <td>58355615.56</td>\n",
              "      <td>33474062.26</td>\n",
              "      <td>38002758.30</td>\n",
              "      <td>16381789.91</td>\n",
              "      <td>9.396682e+07</td>\n",
              "      <td>6.247259e+07</td>\n",
              "      <td>29023034.37</td>\n",
              "      <td>33449556.81</td>\n",
              "      <td>12230341.96</td>\n",
              "      <td>983943.59</td>\n",
              "      <td>17562561.88</td>\n",
              "      <td>6470322.21</td>\n",
              "      <td>77619824.12</td>\n",
              "    </tr>\n",
              "  </tbody>\n",
              "</table>\n",
              "</div>"
            ],
            "text/plain": [
              "   Ano  Ativo Circulante  Passivo Circulante     Estoques  Lucro Líquido  \\\n",
              "0    0       97369173.64         60252830.01  62152223.21     8393965.79   \n",
              "1    1       76433172.07         44514525.38  52149084.57     9384502.93   \n",
              "2    2       58355615.56         33474062.26  38002758.30    16381789.91   \n",
              "\n",
              "   Receita Total   Ativo Total  Patrimônio Líquido  Passivo Total  \\\n",
              "0   1.048415e+08  1.017093e+08         41270424.62    60438884.67   \n",
              "1   9.877322e+07  7.992169e+07         35263817.92    44657868.91   \n",
              "2   9.396682e+07  6.247259e+07         29023034.37    33449556.81   \n",
              "\n",
              "          EBIT  Despesa de Juros  Contas a Receber  Contas a Pagar  \\\n",
              "0  12230341.96        3836376.17       29961276.83     15994921.21   \n",
              "1  10638475.31        1253972.38       20458540.88      8604560.65   \n",
              "2  12230341.96         983943.59       17562561.88      6470322.21   \n",
              "\n",
              "        Custos  \n",
              "0  96017991.50  \n",
              "1  87908310.69  \n",
              "2  77619824.12  "
            ]
          },
          "execution_count": 11,
          "metadata": {},
          "output_type": "execute_result"
        }
      ],
      "source": [
        "arquivo_dados_contabeis"
      ]
    },
    {
      "cell_type": "markdown",
      "metadata": {
        "id": "fHH5wcF4ruV_"
      },
      "source": [
        "##### Leitura dos Dados Contábeis"
      ]
    },
    {
      "cell_type": "code",
      "execution_count": 12,
      "metadata": {
        "colab": {
          "base_uri": "https://localhost:8080/"
        },
        "id": "VjzcTmKLruV_",
        "outputId": "d28636c8-52a4-44a9-d6f6-1a0862eb4bd3"
      },
      "outputs": [
        {
          "name": "stdout",
          "output_type": "stream",
          "text": [
            "Dados Contabeis Importados:\n",
            "   Ano  Ativo Circulante  Passivo Circulante     Estoques  Lucro Líquido  \\\n",
            "0    0       97369173.64         60252830.01  62152223.21     8393965.79   \n",
            "1    1       76433172.07         44514525.38  52149084.57     9384502.93   \n",
            "2    2       58355615.56         33474062.26  38002758.30    16381789.91   \n",
            "\n",
            "   Receita Total   Ativo Total  Patrimônio Líquido  Passivo Total  \\\n",
            "0   1.048415e+08  1.017093e+08         41270424.62    60438884.67   \n",
            "1   9.877322e+07  7.992169e+07         35263817.92    44657868.91   \n",
            "2   9.396682e+07  6.247259e+07         29023034.37    33449556.81   \n",
            "\n",
            "          EBIT  Despesa de Juros  Contas a Receber  Contas a Pagar  \\\n",
            "0  12230341.96        3836376.17       29961276.83     15994921.21   \n",
            "1  10638475.31        1253972.38       20458540.88      8604560.65   \n",
            "2  12230341.96         983943.59       17562561.88      6470322.21   \n",
            "\n",
            "        Custos  \n",
            "0  96017991.50  \n",
            "1  87908310.69  \n",
            "2  77619824.12  \n"
          ]
        }
      ],
      "source": [
        "df_dados_contabeis = arquivo_dados_contabeis\n",
        "print('Dados Contabeis Importados:')\n",
        "print(df_dados_contabeis)"
      ]
    },
    {
      "cell_type": "markdown",
      "metadata": {
        "id": "KhQE3FG1ruV_"
      },
      "source": [
        "##### 2. PROCESSAMENTO DO MODELO #####"
      ]
    },
    {
      "cell_type": "markdown",
      "metadata": {
        "id": "wQKCxENhruV_"
      },
      "source": [
        "##### 2.1 Índices contábeis"
      ]
    },
    {
      "cell_type": "code",
      "execution_count": 13,
      "metadata": {
        "colab": {
          "base_uri": "https://localhost:8080/"
        },
        "id": "vmq8UHOZruV_",
        "outputId": "cf6ff74b-034f-4ae7-ea82-66306ecd1da1"
      },
      "outputs": [
        {
          "name": "stdout",
          "output_type": "stream",
          "text": [
            "\n",
            "Índices Contábeis Calculados:\n"
          ]
        }
      ],
      "source": [
        "df_indices = calcular_indices_contabeis(df_dados_contabeis).round(2)\n",
        "print('\\nÍndices Contábeis Calculados:')"
      ]
    },
    {
      "cell_type": "code",
      "execution_count": 14,
      "metadata": {},
      "outputs": [],
      "source": [
        "if (df_dados_contabeis['Estoques'] == 0).all():\n",
        "        del df_indices['Liquidez Seca']"
      ]
    },
    {
      "cell_type": "code",
      "execution_count": 15,
      "metadata": {},
      "outputs": [
        {
          "name": "stdout",
          "output_type": "stream",
          "text": [
            "   Liquidez Corrente  Liquidez Seca  Margem Líquida   ROA   ROE  \\\n",
            "0               1.62           0.58            0.08  0.08  0.20   \n",
            "1               1.72           0.55            0.10  0.12  0.27   \n",
            "2               1.74           0.61            0.17  0.26  0.56   \n",
            "\n",
            "   Endividamento  Cobertura de Juros  Giro do Ativo  \\\n",
            "0           0.59                3.19           1.03   \n",
            "1           0.56                8.48           1.24   \n",
            "2           0.54               12.43           1.50   \n",
            "\n",
            "   Período Médio de Recebimento  Período Médio de Pagamento  \n",
            "0                        104.31                       60.80  \n",
            "1                         75.60                       35.73  \n",
            "2                         68.22                       30.43  \n"
          ]
        }
      ],
      "source": [
        "print(df_indices)"
      ]
    },
    {
      "cell_type": "markdown",
      "metadata": {
        "id": "eKbXhxBuruV_"
      },
      "source": [
        "##### 2.2 Padronização dos índices contábeis"
      ]
    },
    {
      "cell_type": "code",
      "execution_count": 16,
      "metadata": {
        "colab": {
          "base_uri": "https://localhost:8080/"
        },
        "id": "wPM-ryaKruWA",
        "outputId": "8ac2015b-15c1-4c0f-e181-73fc47d25a16"
      },
      "outputs": [
        {
          "name": "stdout",
          "output_type": "stream",
          "text": [
            "\n",
            "Índices Escalados para PCA:\n",
            "[[-1.3970014   0.         -0.95025527 -0.95025527 -0.91969405  1.29777137\n",
            "  -1.27947272 -1.17909226  1.38747641  1.39521628]\n",
            " [ 0.50800051 -1.22474487 -0.43193421 -0.43193421 -0.47054114 -0.16222142\n",
            "   0.1179968  -0.08669796 -0.45671099 -0.49753654]\n",
            " [ 0.88900089  1.22474487  1.38218948  1.38218948  1.39023519 -1.13554995\n",
            "   1.16147592  1.26579023 -0.93076543 -0.89767974]]\n"
          ]
        }
      ],
      "source": [
        "# Escalar os índices contábeis para o PCA\n",
        "scaler = StandardScaler()\n",
        "indices_scaled = scaler.fit_transform(df_indices)\n",
        "print('\\nÍndices Escalados para PCA:')\n",
        "print(indices_scaled)"
      ]
    },
    {
      "cell_type": "markdown",
      "metadata": {
        "id": "pqUIqgEbruWA"
      },
      "source": [
        "##### 2.3 Cálculo do PCA"
      ]
    },
    {
      "cell_type": "code",
      "execution_count": 17,
      "metadata": {
        "colab": {
          "base_uri": "https://localhost:8080/"
        },
        "id": "EfRGM1e7ruWA",
        "outputId": "175669c5-5c42-479f-d891-53a6f37aed3c"
      },
      "outputs": [
        {
          "name": "stdout",
          "output_type": "stream",
          "text": [
            "\n",
            "Componentes Principais (PCA):\n",
            "[[-3.52110015e+00  8.87982410e-01  5.33777076e-16]\n",
            " [-1.28733403e-01 -1.68520581e+00  5.33777076e-16]\n",
            " [ 3.64983355e+00  7.97223401e-01  5.33777076e-16]]\n"
          ]
        }
      ],
      "source": [
        "# Realizar o PCA\n",
        "pca = PCA()\n",
        "pca_result = pca.fit_transform(indices_scaled)\n",
        "print('\\nComponentes Principais (PCA):')\n",
        "print(pca_result)\n",
        "\n",
        "#relatório\n"
      ]
    },
    {
      "cell_type": "markdown",
      "metadata": {
        "id": "Yx75wxXcruWA"
      },
      "source": [
        "##### 2.4 Variância Explicada PCA"
      ]
    },
    {
      "cell_type": "code",
      "execution_count": 18,
      "metadata": {
        "colab": {
          "base_uri": "https://localhost:8080/"
        },
        "id": "bWReshMkruWA",
        "outputId": "984a1f9f-9f93-43f2-f258-548921d36771"
      },
      "outputs": [
        {
          "name": "stdout",
          "output_type": "stream",
          "text": [
            "\n",
            "Variância Explicada por Componente:\n",
            "[8.57866782e-01 1.42133218e-01 2.84917967e-32]\n"
          ]
        }
      ],
      "source": [
        "# Variância explicada pelos componentes principais\n",
        "explained_variance_ratio = pca.explained_variance_ratio_\n",
        "print('\\nVariância Explicada por Componente:')\n",
        "print(explained_variance_ratio)\n",
        "\n",
        "#relatório"
      ]
    },
    {
      "cell_type": "markdown",
      "metadata": {
        "id": "LawCVNrvruWA"
      },
      "source": [
        "##### 2.5 DataFrame PCA"
      ]
    },
    {
      "cell_type": "code",
      "execution_count": 19,
      "metadata": {
        "colab": {
          "base_uri": "https://localhost:8080/"
        },
        "id": "CrGTgCGeruWA",
        "outputId": "adbe94cc-a547-46df-80d1-a9c785de802e"
      },
      "outputs": [
        {
          "name": "stdout",
          "output_type": "stream",
          "text": [
            "\n",
            "Matriz de Componentes Principais:\n",
            "        PC1       PC2           PC3\n",
            "0 -3.521100  0.887982  5.337771e-16\n",
            "1 -0.128733 -1.685206  5.337771e-16\n",
            "2  3.649834  0.797223  5.337771e-16\n"
          ]
        }
      ],
      "source": [
        "# DataFrame com os componentes principais\n",
        "pca_df = pd.DataFrame(pca_result, columns=[f'PC{i+1}' for i in range(pca_result.shape[1])])\n",
        "print('\\nMatriz de Componentes Principais:')\n",
        "print(pca_df)\n",
        "\n",
        "#relatório"
      ]
    },
    {
      "cell_type": "markdown",
      "metadata": {
        "id": "7SoXw22MruWA"
      },
      "source": [
        "##### 2.6 Matriz de cargas"
      ]
    },
    {
      "cell_type": "code",
      "execution_count": 20,
      "metadata": {
        "colab": {
          "base_uri": "https://localhost:8080/"
        },
        "id": "EK1KERu9ruWA",
        "outputId": "bb6a7a86-966f-4e8d-a914-00d93f145232"
      },
      "outputs": [
        {
          "name": "stdout",
          "output_type": "stream",
          "text": [
            "Matriz de Cargas dos Componentes Principais:\n",
            "     Liquidez Corrente  Liquidez Seca  Margem Líquida       ROA       ROE  \\\n",
            "PC1           0.314668       0.179817        0.328190  0.328190  0.325343   \n",
            "PC2          -0.325485       0.713026        0.231239  0.231239  0.254366   \n",
            "PC3           0.867087       0.136543        0.001938  0.001938 -0.001736   \n",
            "\n",
            "     Endividamento  Cobertura de Juros  Giro do Ativo  \\\n",
            "PC1      -0.337786            0.339181       0.341265   \n",
            "PC2       0.122066           -0.095929       0.025377   \n",
            "PC3       0.026752           -0.138455      -0.194202   \n",
            "\n",
            "     Período Médio de Recebimento  Período Médio de Pagamento  \n",
            "PC1                     -0.319544                   -0.315707  \n",
            "PC2                      0.295422                    0.319355  \n",
            "PC3                      0.182383                    0.372348  \n",
            "\n",
            "Índices mais significativos por componente:\n",
            "\n",
            "PC1:\n",
            "Giro do Ativo         0.341265\n",
            "Cobertura de Juros    0.339181\n",
            "Endividamento         0.337786\n",
            "Name: PC1, dtype: float64\n",
            "\n",
            "PC2:\n",
            "Liquidez Seca                 0.713026\n",
            "Liquidez Corrente             0.325485\n",
            "Período Médio de Pagamento    0.319355\n",
            "Name: PC2, dtype: float64\n",
            "\n",
            "PC3:\n",
            "Liquidez Corrente             0.867087\n",
            "Período Médio de Pagamento    0.372348\n",
            "Giro do Ativo                 0.194202\n",
            "Name: PC3, dtype: float64\n"
          ]
        }
      ],
      "source": [
        "# Obter a matriz de cargas\n",
        "loadings = pd.DataFrame(\n",
        "    pca.components_,\n",
        "    columns=df_indices.columns,\n",
        "    index=[f'PC{i+1}' for i in range(pca.components_.shape[0])]\n",
        ")\n",
        "\n",
        "print('Matriz de Cargas dos Componentes Principais:')\n",
        "print(loadings)\n",
        "\n",
        "# Identificar os índices mais significativos para cada PC\n",
        "print('\\nÍndices mais significativos por componente:')\n",
        "for pc in loadings.index:\n",
        "    print(f'\\n{pc}:')\n",
        "    print(loadings.loc[pc].abs().sort_values(ascending=False).head(3))  # Top 3 índices mais significativos\n",
        "\n",
        "#relatório"
      ]
    },
    {
      "cell_type": "markdown",
      "metadata": {
        "id": "e77SN51hruWB"
      },
      "source": [
        "##### 2.7 Escore final"
      ]
    },
    {
      "cell_type": "code",
      "execution_count": 21,
      "metadata": {
        "colab": {
          "base_uri": "https://localhost:8080/",
          "height": 178
        },
        "id": "KUoMhOd0ruWB",
        "outputId": "cceb0c9a-3844-4ff7-c64b-e55323f59a3a"
      },
      "outputs": [
        {
          "data": {
            "text/plain": [
              "0   -2.894423\n",
              "1   -0.349960\n",
              "2    3.244383\n",
              "dtype: float64"
            ]
          },
          "execution_count": 21,
          "metadata": {},
          "output_type": "execute_result"
        }
      ],
      "source": [
        "pca_df.dot(explained_variance_ratio)"
      ]
    },
    {
      "cell_type": "markdown",
      "metadata": {
        "id": "MOWTgmyaruWB"
      },
      "source": [
        "##### 3. RESULTADOS #####"
      ]
    },
    {
      "cell_type": "markdown",
      "metadata": {
        "id": "Te19Q490ruWB"
      },
      "source": [
        "##### 3.1A FINSCORE BRUTO"
      ]
    },
    {
      "cell_type": "code",
      "execution_count": 22,
      "metadata": {},
      "outputs": [],
      "source": [
        "# Função para categorizar escores consolidados com mais granularidade\n",
        "def categorias_finscore_bruto(escores):\n",
        "    categorias = []\n",
        "    for escore in escores:\n",
        "        if finscore_bruto > 1.5:\n",
        "            categorias.append('Muito Abaixo do Risco')\n",
        "        elif 1.0 < escore <= 1.5:\n",
        "            categorias.append('Levemente Abaixo do Risco')\n",
        "        elif -1.0 <= escore <= 1.0:\n",
        "            categorias.append('Neutro')\n",
        "        elif -1.5 < escore < -1.0:\n",
        "            categorias.append('Levemente Acima do Risco')\n",
        "        else:\n",
        "            categorias.append('Muito Acima do Risco')\n",
        "    return categorias\n",
        "\n",
        "# Tabela de Categorias:\n",
        "# -------------------------------------------------------\n",
        "# |   Intervalo do Escore   |      Categoria            |\n",
        "# -------------------------------------------------------\n",
        "# |  escore > 1.5           | Muito Abaixo do Risco     |\n",
        "# |  1.0 < escore ≤ 1.5     | Levemente Abaixo do Risco |\n",
        "# | -1.0 ≤ escore ≤ 1.0     | Neutro                    |\n",
        "# | -1.5 < escore < -1.0    | Levemente Acima do Risco  |\n",
        "# |  escore ≤ -1.5          | Muito Acima do Risco      |\n",
        "# -------------------------------------------------------"
      ]
    },
    {
      "cell_type": "code",
      "execution_count": 23,
      "metadata": {
        "colab": {
          "base_uri": "https://localhost:8080/"
        },
        "id": "GvWTD2_bruWB",
        "outputId": "c25ab70a-2539-4bff-ae70-a3f183c3a6ec"
      },
      "outputs": [
        {
          "name": "stdout",
          "output_type": "stream",
          "text": [
            "\n",
            "FINSCORE BRUTO:\n",
            "-1.34\n",
            "\n",
            "CLASSIFICAÇÃO FINSCORE BRUTO:\n",
            "Levemente Acima do Risco\n"
          ]
        }
      ],
      "source": [
        "# Calcular o escore consolidado com penalização do último ano\n",
        "# Do mais recente para o mais antigo: 0.5, 0.3, 0.2\n",
        "pesos = [0.6, 0.25, 0.15]  # Pesos para os três anos\n",
        "finscore_bruto = round((pca_df.dot(explained_variance_ratio) * pesos).sum(), 2)\n",
        "print('\\nFINSCORE BRUTO:')\n",
        "print(finscore_bruto)\n",
        "print('\\nCLASSIFICAÇÃO FINSCORE BRUTO:')\n",
        "print(categorias_finscore_bruto([finscore_bruto])[0])\n"
      ]
    },
    {
      "cell_type": "markdown",
      "metadata": {
        "id": "Qd0mMdVyruWE"
      },
      "source": [
        "##### 3.1B FINSCORE AJUSTADO"
      ]
    },
    {
      "cell_type": "code",
      "execution_count": 24,
      "metadata": {},
      "outputs": [],
      "source": [
        "# Função para categorizar escores consolidados com mais granularidade\n",
        "def categorias_finscore_ajustado(escores):\n",
        "    categorias = []\n",
        "    for escore in escores:\n",
        "        if escore > 750:\n",
        "            categorias.append('Muito Abaixo do Risco')\n",
        "        elif 500 < escore <= 750:\n",
        "            categorias.append('Levemente Abaixo do Risco')\n",
        "        elif 250 <= escore <= 500:\n",
        "            categorias.append('Neutro')\n",
        "        elif 100 < escore < 250:\n",
        "            categorias.append('Levemente Acima do Risco')\n",
        "        else:\n",
        "            categorias.append('Muito Acima do Risco')\n",
        "    return categorias\n",
        "\n",
        "# Tabela de Categorias:\n",
        "# -------------------------------------------------------\n",
        "# |   Intervalo do Escore  |      Categoria            |\n",
        "# -------------------------------------------------------\n",
        "# |  escore > 750          | Muito Abaixo do Risco     |\n",
        "# |  500 < escore ≤ 750    | Levemente Abaixo do Risco |\n",
        "# | 250 ≤ escore ≤ 500     | Neutro                    |\n",
        "# | 100 < escore < 250     | Levemente Acima do Risco  |\n",
        "# |  escore ≤ 250          | Muito Acima do Risco      |\n",
        "# -------------------------------------------------------"
      ]
    },
    {
      "cell_type": "code",
      "execution_count": 25,
      "metadata": {},
      "outputs": [],
      "source": [
        "# Traduz a tendência em um escore de risco ajustado ao ponto de referência atual do cliente.\n",
        "escores_ajustados = round(min(((finscore_bruto + 2)/4)*1000, 1000), 2)"
      ]
    },
    {
      "cell_type": "code",
      "execution_count": 26,
      "metadata": {
        "colab": {
          "base_uri": "https://localhost:8080/"
        },
        "id": "6FfhV8HtruWE",
        "outputId": "31196038-090e-496d-ad08-8fd00c51d23e"
      },
      "outputs": [
        {
          "name": "stdout",
          "output_type": "stream",
          "text": [
            "\n",
            "FINSCORE AJUSTADO:\n",
            "165.0\n",
            "\n",
            "CLASSIFICAÇÃO FINSCORE AJUSTADO:\n",
            "Levemente Acima do Risco\n"
          ]
        }
      ],
      "source": [
        "print('\\nFINSCORE AJUSTADO:')\n",
        "print(escores_ajustados)\n",
        "print('\\nCLASSIFICAÇÃO FINSCORE AJUSTADO:')\n",
        "print(categorias_finscore_ajustado([escores_ajustados])[0])"
      ]
    },
    {
      "cell_type": "markdown",
      "metadata": {},
      "source": [
        "##### 3.1C FINSCORE"
      ]
    },
    {
      "cell_type": "code",
      "execution_count": 27,
      "metadata": {},
      "outputs": [],
      "source": [
        "# Função para categorizar escores consolidados com mais granularidade\n",
        "def categorias_finscore(escores):\n",
        "    categorias = []\n",
        "    for escore in escores:\n",
        "        if escore > 750:\n",
        "            categorias.append('Muito Abaixo do Risco')\n",
        "        elif 500 < escore <= 750:\n",
        "            categorias.append('Levemente Abaixo do Risco')\n",
        "        elif 250 <= escore <= 500:\n",
        "            categorias.append('Neutro')\n",
        "        elif 100 < escore < 250:\n",
        "            categorias.append('Levemente Acima do Risco')\n",
        "        else:\n",
        "            categorias.append('Muito Acima do Risco')\n",
        "    return categorias\n",
        "\n",
        "# Tabela de Categorias:\n",
        "# -------------------------------------------------------\n",
        "# |   Intervalo do Escore  |      Categoria            |\n",
        "# -------------------------------------------------------\n",
        "# |  escore > 750          | Muito Abaixo do Risco     |\n",
        "# |  500 < escore ≤ 750    | Levemente Abaixo do Risco |\n",
        "# | 250 ≤ escore ≤ 500     | Neutro                    |\n",
        "# | 100 < escore < 250     | Levemente Acima do Risco  |\n",
        "# |  escore ≤ 250          | Muito Acima do Risco      |\n",
        "# -------------------------------------------------------"
      ]
    },
    {
      "cell_type": "code",
      "execution_count": 28,
      "metadata": {},
      "outputs": [],
      "source": [
        "finscore = min(round(((serasa + escores_ajustados) / 2) + ((serasa * escores_ajustados)/1000), 2), 1000)\n"
      ]
    },
    {
      "cell_type": "code",
      "execution_count": 29,
      "metadata": {},
      "outputs": [
        {
          "name": "stdout",
          "output_type": "stream",
          "text": [
            "\n",
            "FINSCORE:\n",
            "341.18\n",
            "\n",
            "CLASSIFICAÇÃO FINSCORE:\n",
            "Neutro\n"
          ]
        }
      ],
      "source": [
        "print('\\nFINSCORE:')\n",
        "print(finscore)\n",
        "print('\\nCLASSIFICAÇÃO FINSCORE:')\n",
        "print(categorias_finscore([finscore])[0])\n"
      ]
    },
    {
      "cell_type": "markdown",
      "metadata": {},
      "source": [
        "##### 3.2 SERASA"
      ]
    },
    {
      "cell_type": "code",
      "execution_count": 30,
      "metadata": {},
      "outputs": [],
      "source": [
        "# Função para categorizar escores conforme a classificação do Serasa\n",
        "def categorias_serasa(escores):\n",
        "    categorias = []\n",
        "    for escore in escores:\n",
        "        if escore >= 701:\n",
        "            categorias.append('Excelente')\n",
        "        elif 501 <= escore <= 700:\n",
        "            categorias.append('Bom')\n",
        "        elif 301 <= escore <= 500:\n",
        "            categorias.append('Baixa')\n",
        "        else:\n",
        "            categorias.append('Muito Baixa')\n",
        "    return categorias\n",
        "\n",
        "# Tabela de Categorias:\n",
        "# ---------------------------------\n",
        "# |   Intervalo do Escore  | Categoria  |\n",
        "# ---------------------------------\n",
        "# |  701 a 1.000          | Excelente  |\n",
        "# |  501 a 700            | Bom        |\n",
        "# |  301 a 500            | Baixo      |\n",
        "# |  0 a 300              | Muito Baixo|\n",
        "# ---------------------------------"
      ]
    },
    {
      "cell_type": "code",
      "execution_count": 31,
      "metadata": {},
      "outputs": [
        {
          "name": "stdout",
          "output_type": "stream",
          "text": [
            "\n",
            "SERASA:\n",
            "389\n",
            "\n",
            "CLASSIFICAÇÃO SERASA:\n",
            "Baixa\n"
          ]
        }
      ],
      "source": [
        "print('\\nSERASA:')\n",
        "print(serasa)\n",
        "print('\\nCLASSIFICAÇÃO SERASA:')\n",
        "print(categorias_serasa([serasa])[0])"
      ]
    },
    {
      "cell_type": "markdown",
      "metadata": {
        "id": "n0VaQrgOruWE"
      },
      "source": [
        "##### 3.3 Valores e Contas Contábeis"
      ]
    },
    {
      "cell_type": "code",
      "execution_count": 32,
      "metadata": {
        "colab": {
          "base_uri": "https://localhost:8080/",
          "height": 198
        },
        "id": "mGlnSUpwruWF",
        "outputId": "d1e083f1-2133-4911-d1fd-6443f2380963"
      },
      "outputs": [
        {
          "data": {
            "text/html": [
              "<div>\n",
              "<style scoped>\n",
              "    .dataframe tbody tr th:only-of-type {\n",
              "        vertical-align: middle;\n",
              "    }\n",
              "\n",
              "    .dataframe tbody tr th {\n",
              "        vertical-align: top;\n",
              "    }\n",
              "\n",
              "    .dataframe thead th {\n",
              "        text-align: right;\n",
              "    }\n",
              "</style>\n",
              "<table border=\"1\" class=\"dataframe\">\n",
              "  <thead>\n",
              "    <tr style=\"text-align: right;\">\n",
              "      <th></th>\n",
              "      <th>Ano</th>\n",
              "      <th>Ativo Circulante</th>\n",
              "      <th>Passivo Circulante</th>\n",
              "      <th>Estoques</th>\n",
              "      <th>Lucro Líquido</th>\n",
              "      <th>Receita Total</th>\n",
              "      <th>Ativo Total</th>\n",
              "      <th>Patrimônio Líquido</th>\n",
              "      <th>Passivo Total</th>\n",
              "      <th>EBIT</th>\n",
              "      <th>Despesa de Juros</th>\n",
              "      <th>Contas a Receber</th>\n",
              "      <th>Contas a Pagar</th>\n",
              "      <th>Custos</th>\n",
              "    </tr>\n",
              "  </thead>\n",
              "  <tbody>\n",
              "    <tr>\n",
              "      <th>0</th>\n",
              "      <td>0</td>\n",
              "      <td>97369173.64</td>\n",
              "      <td>60252830.01</td>\n",
              "      <td>62152223.21</td>\n",
              "      <td>8393965.79</td>\n",
              "      <td>1.048415e+08</td>\n",
              "      <td>1.017093e+08</td>\n",
              "      <td>41270424.62</td>\n",
              "      <td>60438884.67</td>\n",
              "      <td>12230341.96</td>\n",
              "      <td>3836376.17</td>\n",
              "      <td>29961276.83</td>\n",
              "      <td>15994921.21</td>\n",
              "      <td>96017991.50</td>\n",
              "    </tr>\n",
              "    <tr>\n",
              "      <th>1</th>\n",
              "      <td>1</td>\n",
              "      <td>76433172.07</td>\n",
              "      <td>44514525.38</td>\n",
              "      <td>52149084.57</td>\n",
              "      <td>9384502.93</td>\n",
              "      <td>9.877322e+07</td>\n",
              "      <td>7.992169e+07</td>\n",
              "      <td>35263817.92</td>\n",
              "      <td>44657868.91</td>\n",
              "      <td>10638475.31</td>\n",
              "      <td>1253972.38</td>\n",
              "      <td>20458540.88</td>\n",
              "      <td>8604560.65</td>\n",
              "      <td>87908310.69</td>\n",
              "    </tr>\n",
              "    <tr>\n",
              "      <th>2</th>\n",
              "      <td>2</td>\n",
              "      <td>58355615.56</td>\n",
              "      <td>33474062.26</td>\n",
              "      <td>38002758.30</td>\n",
              "      <td>16381789.91</td>\n",
              "      <td>9.396682e+07</td>\n",
              "      <td>6.247259e+07</td>\n",
              "      <td>29023034.37</td>\n",
              "      <td>33449556.81</td>\n",
              "      <td>12230341.96</td>\n",
              "      <td>983943.59</td>\n",
              "      <td>17562561.88</td>\n",
              "      <td>6470322.21</td>\n",
              "      <td>77619824.12</td>\n",
              "    </tr>\n",
              "  </tbody>\n",
              "</table>\n",
              "</div>"
            ],
            "text/plain": [
              "   Ano  Ativo Circulante  Passivo Circulante     Estoques  Lucro Líquido  \\\n",
              "0    0       97369173.64         60252830.01  62152223.21     8393965.79   \n",
              "1    1       76433172.07         44514525.38  52149084.57     9384502.93   \n",
              "2    2       58355615.56         33474062.26  38002758.30    16381789.91   \n",
              "\n",
              "   Receita Total   Ativo Total  Patrimônio Líquido  Passivo Total  \\\n",
              "0   1.048415e+08  1.017093e+08         41270424.62    60438884.67   \n",
              "1   9.877322e+07  7.992169e+07         35263817.92    44657868.91   \n",
              "2   9.396682e+07  6.247259e+07         29023034.37    33449556.81   \n",
              "\n",
              "          EBIT  Despesa de Juros  Contas a Receber  Contas a Pagar  \\\n",
              "0  12230341.96        3836376.17       29961276.83     15994921.21   \n",
              "1  10638475.31        1253972.38       20458540.88      8604560.65   \n",
              "2  12230341.96         983943.59       17562561.88      6470322.21   \n",
              "\n",
              "        Custos  \n",
              "0  96017991.50  \n",
              "1  87908310.69  \n",
              "2  77619824.12  "
            ]
          },
          "execution_count": 32,
          "metadata": {},
          "output_type": "execute_result"
        }
      ],
      "source": [
        "df_dados_contabeis\n",
        "# Sendo 0 o mais recente e 2 o mais antigo"
      ]
    },
    {
      "cell_type": "markdown",
      "metadata": {
        "id": "OggCqRbIruWF"
      },
      "source": [
        "##### 3.4 Índices contábeis"
      ]
    },
    {
      "cell_type": "code",
      "execution_count": 33,
      "metadata": {
        "colab": {
          "base_uri": "https://localhost:8080/"
        },
        "id": "VRwxA5mRruWF",
        "outputId": "40a07120-840b-4b59-d44e-a95cf4e2da84"
      },
      "outputs": [
        {
          "name": "stdout",
          "output_type": "stream",
          "text": [
            "   Liquidez Corrente  Liquidez Seca  Margem Líquida   ROA   ROE  \\\n",
            "0               1.62           0.58            0.08  0.08  0.20   \n",
            "1               1.72           0.55            0.10  0.12  0.27   \n",
            "2               1.74           0.61            0.17  0.26  0.56   \n",
            "\n",
            "   Endividamento  Cobertura de Juros  Giro do Ativo  \\\n",
            "0           0.59                3.19           1.03   \n",
            "1           0.56                8.48           1.24   \n",
            "2           0.54               12.43           1.50   \n",
            "\n",
            "   Período Médio de Recebimento  Período Médio de Pagamento  \n",
            "0                        104.31                       60.80  \n",
            "1                         75.60                       35.73  \n",
            "2                         68.22                       30.43  \n"
          ]
        }
      ],
      "source": [
        "print(df_indices)\n",
        "# Sendo 0 o mais recente e 2 o mais antigo\n"
      ]
    },
    {
      "cell_type": "markdown",
      "metadata": {
        "id": "Y97BrJOiruWF"
      },
      "source": [
        "##### 4. APRESENTAÇÃO #####"
      ]
    },
    {
      "cell_type": "markdown",
      "metadata": {
        "id": "lRFYtoiYruWF"
      },
      "source": [
        "##### 4.1 Criação dos dfs"
      ]
    },
    {
      "cell_type": "code",
      "execution_count": 34,
      "metadata": {},
      "outputs": [
        {
          "data": {
            "text/plain": [
              "'Baixa'"
            ]
          },
          "execution_count": 34,
          "metadata": {},
          "output_type": "execute_result"
        }
      ],
      "source": [
        " categorias_serasa([serasa])[0]"
      ]
    },
    {
      "cell_type": "code",
      "execution_count": 35,
      "metadata": {
        "colab": {
          "base_uri": "https://localhost:8080/",
          "height": 125
        },
        "id": "YnzoQ9MhruWF",
        "outputId": "e89e16a0-3497-4f86-c350-58a28db24a57"
      },
      "outputs": [
        {
          "data": {
            "text/html": [
              "<div>\n",
              "<style scoped>\n",
              "    .dataframe tbody tr th:only-of-type {\n",
              "        vertical-align: middle;\n",
              "    }\n",
              "\n",
              "    .dataframe tbody tr th {\n",
              "        vertical-align: top;\n",
              "    }\n",
              "\n",
              "    .dataframe thead th {\n",
              "        text-align: right;\n",
              "    }\n",
              "</style>\n",
              "<table border=\"1\" class=\"dataframe\">\n",
              "  <thead>\n",
              "    <tr style=\"text-align: right;\">\n",
              "      <th></th>\n",
              "      <th>Métrica</th>\n",
              "      <th>Valor</th>\n",
              "      <th>Cateegoria</th>\n",
              "    </tr>\n",
              "  </thead>\n",
              "  <tbody>\n",
              "    <tr>\n",
              "      <th>0</th>\n",
              "      <td>Finscore Bruto</td>\n",
              "      <td>-1.34</td>\n",
              "      <td>Levemente Acima do Risco</td>\n",
              "    </tr>\n",
              "    <tr>\n",
              "      <th>1</th>\n",
              "      <td>Finscore Ajustado</td>\n",
              "      <td>165.00</td>\n",
              "      <td>Levemente Acima do Risco</td>\n",
              "    </tr>\n",
              "    <tr>\n",
              "      <th>2</th>\n",
              "      <td>Finscore</td>\n",
              "      <td>341.18</td>\n",
              "      <td>Neutro</td>\n",
              "    </tr>\n",
              "    <tr>\n",
              "      <th>3</th>\n",
              "      <td>Serasa</td>\n",
              "      <td>389.00</td>\n",
              "      <td>Baixa</td>\n",
              "    </tr>\n",
              "  </tbody>\n",
              "</table>\n",
              "</div>"
            ],
            "text/plain": [
              "             Métrica   Valor                Cateegoria\n",
              "0     Finscore Bruto   -1.34  Levemente Acima do Risco\n",
              "1  Finscore Ajustado  165.00  Levemente Acima do Risco\n",
              "2           Finscore  341.18                    Neutro\n",
              "3             Serasa  389.00                     Baixa"
            ]
          },
          "execution_count": 35,
          "metadata": {},
          "output_type": "execute_result"
        }
      ],
      "source": [
        "# Df resultados principais\n",
        "resultados_df = pd.DataFrame({\n",
        "    'Métrica': ['Finscore Bruto', 'Finscore Ajustado', 'Finscore', 'Serasa'],\n",
        "    'Valor': [finscore_bruto, escores_ajustados, finscore, serasa],\n",
        "    'Cateegoria': [categorias_finscore_bruto([finscore_bruto])[0], \n",
        "                   categorias_finscore_ajustado([escores_ajustados])[0], \n",
        "                   categorias_finscore([finscore])[0],\n",
        "                   categorias_serasa([serasa])[0]]\n",
        "                   \n",
        "})\n",
        "resultados_df"
      ]
    },
    {
      "cell_type": "markdown",
      "metadata": {
        "id": "cqIfVy3FruWF"
      },
      "source": [
        "##### 4.2 Tabela Resumo"
      ]
    },
    {
      "cell_type": "code",
      "execution_count": 36,
      "metadata": {},
      "outputs": [
        {
          "data": {
            "image/png": "[encoded data removed]",
            "text/plain": [
              "<Figure size 1400x1200 with 3 Axes>"
            ]
          },
          "metadata": {},
          "output_type": "display_data"
        }
      ],
      "source": [
        "\n",
        "# --- Ajuste principal: inverter a ordem do df_indices se necessário ---\n",
        "df_indices = df_indices.iloc[::-1].reset_index(drop=True)\n",
        "\n",
        "## FORMATAR PADRÃO BR\n",
        "# Cópia do df original\n",
        "df_dados_contabeis_milhoes = df_dados_contabeis.copy()\n",
        "\n",
        "# Excluindo a coluna 'Ano' antes de realizar as transformações\n",
        "df_dados_contabeis_milhoes = df_dados_contabeis_milhoes.drop(columns=['Ano'])\n",
        "\n",
        "# Dividindo os valores das colunas numéricas por 1.000.000\n",
        "for col in df_dados_contabeis_milhoes.select_dtypes(include=['float64', 'int64']).columns:\n",
        "    df_dados_contabeis_milhoes[col] = df_dados_contabeis_milhoes[col] / 1_000_000\n",
        "\n",
        "# Formatando os valores para o padrão brasileiro (R$ 1.000.000,00)\n",
        "df_dados_contabeis_milhoes = df_dados_contabeis_milhoes.map(\n",
        "    lambda x: f'R$ {x:,.2f}'.replace(',', 'X').replace('.', ',').replace('X', '.')\n",
        "    if isinstance(x, (int, float)) else x\n",
        ")\n",
        "\n",
        "## INSERIR A COLUNA 'ANO' NAS TABELAS 'Dados Contábeis' e 'Índices Financeiros'\n",
        "anos = list(map(str, range(ano_inicial, ano_final + 1)))  # Criando lista correta de anos\n",
        "\n",
        "# Ajustando tamanho das listas de anos conforme o número de linhas nos DataFrames\n",
        "df_dados_contabeis_milhoes.insert(0, 'Ano', anos[:len(df_dados_contabeis_milhoes)])\n",
        "df_indices.insert(0, 'Ano', anos[:len(df_indices)])\n",
        "\n",
        "## DF RESULTADOS PRINCIPAIS\n",
        "resultados_df = pd.DataFrame({\n",
        "    'Métrica': ['Finscore Bruto', 'Finscore Ajustado', 'Finscore', 'Serasa'],\n",
        "    'Valor': [finscore_bruto, escores_ajustados, finscore, serasa],\n",
        "    'Categoria': [\n",
        "        categorias_finscore_bruto([finscore_bruto])[0],\n",
        "        categorias_finscore_ajustado([escores_ajustados])[0],\n",
        "        categorias_finscore([finscore])[0],\n",
        "        categorias_serasa([serasa])[0]\n",
        "    ]\n",
        "})\n",
        "\n",
        "## INSERINDO QUEBRA DE LINHA NOS CABEÇALHOS\n",
        "df_dados_contabeis_milhoes.columns = [col.replace(' ', '\\n') for col in df_dados_contabeis_milhoes.columns]\n",
        "df_indices.columns = [col.replace(' ', '\\n') for col in df_indices.columns]\n",
        "resultados_df.columns = [col.replace(' ', '\\n') for col in resultados_df.columns]\n",
        "\n",
        "## CABEÇALHO\n",
        "fig, axs = plt.subplots(nrows=3, figsize=(14, 12))\n",
        "\n",
        "# Ajustando o espaçamento entre os subplots\n",
        "plt.subplots_adjust(hspace=1.2)  # Aumentando a separação entre as tabelas\n",
        "\n",
        "fig.suptitle(\n",
        "    f'CÁLCULO FINSCORE - {cliente} - Período base {ano_inicial} - {ano_final}',\n",
        "    fontsize=14, fontweight='bold'\n",
        ")\n",
        "\n",
        "## TABELAS\n",
        "def add_table(ax, df, title, top_padding=0.5):\n",
        "    ax.axis('tight')\n",
        "    ax.axis('off')\n",
        "\n",
        "    # Ajuste dinâmico da largura das colunas\n",
        "    num_cols = len(df.columns)\n",
        "    col_widths = [0.15] * num_cols  # Largura padrão\n",
        "    if 'Categoria' in df.columns:\n",
        "        col_widths[-1] = 0.5  # Maior largura para 'Categoria'\n",
        "\n",
        "    table = ax.table(\n",
        "        cellText=df.values,\n",
        "        colLabels=df.columns,\n",
        "        cellLoc='center', loc='center',\n",
        "        colWidths=col_widths\n",
        "    )\n",
        "    \n",
        "    table.auto_set_font_size(False)\n",
        "    table.set_fontsize(10)\n",
        "    table.scale(1.3, 1.3)  # Ajustando escala para melhor legibilidade\n",
        "    \n",
        "    # Aumentando a altura da linha do cabeçalho\n",
        "    for col in range(len(df.columns)):\n",
        "        table[(0, col)].set_height(0.3)\n",
        "    \n",
        "    # Destacando o cabeçalho com negrito\n",
        "    for key, cell in table._cells.items():\n",
        "        if key[0] == 0:  # Se for a primeira linha (cabeçalho)\n",
        "            cell.set_fontsize(10)\n",
        "            cell.set_text_props(weight='bold')\n",
        "        else:\n",
        "            cell.set_text_props(ha='center', va='center', wrap=True)  # Ajuste para quebras de linha\n",
        "            cell.set_height(0.2)  # Aumentando altura para melhor ajuste de texto\n",
        "\n",
        "    # Ajustar a posição do título para ficar mais centralizado\n",
        "    ax.set_title(title, fontsize=12, fontweight='bold', pad=top_padding)\n",
        "    ax.title.set_y(1.1)  # Levando o título um pouco para cima\n",
        "\n",
        "# Adicionando cada tabela com ajuste fino do título\n",
        "add_table(axs[0], resultados_df, 'FinScore Calculado', top_padding=1.0)\n",
        "add_table(axs[1], df_dados_contabeis_milhoes, 'Dados Contábeis\\n(Em Milhões de R$)', top_padding=1.5)\n",
        "add_table(axs[2], df_indices, 'Índices Financeiros', top_padding=1.5)\n",
        "\n",
        "plt.show()\n"
      ]
    },
    {
      "cell_type": "markdown",
      "metadata": {
        "id": "sG94dL8tyCBR"
      },
      "source": [
        "#### 5. Prompt IA"
      ]
    },
    {
      "cell_type": "code",
      "execution_count": 37,
      "metadata": {},
      "outputs": [
        {
          "name": "stdout",
          "output_type": "stream",
          "text": [
            "\n",
            "========================== INÍCIO ==========================\n",
            "- Gere um relatório detalhado de análise de crédito para o cliente abaixo, considerando sua situação financeira com base nos dados contábeis, índices financeiros e classificação final do FinScore.\n",
            "\n",
            "1️⃣ CLIENTE ANALISADO:\n",
            "--------------------------------------\n",
            "Nome: FinScore_Assertif_Empresas FEV-2025.xlsx\n",
            "Período da Análise: 2021 - 2023\n",
            "\n",
            "2️⃣ CONTEXTUALIZAÇÃO:\n",
            "--------------------------------------\n",
            "O relatório deve iniciar explicando o conceito do **FinScore**, um índice consolidado que sintetiza a **capacidade de pagamento, liquidez e resultados operacionais** da empresa.\n",
            "O FinScore é calculado a partir de demonstrações financeiras, índices contábeis e análise multivariada para fornecer uma **visão clara do risco financeiro** da empresa.\n",
            "O objetivo final é avaliar a **solidez financeira** da empresa e sua **capacidade de honrar compromissos financeiros**.\n",
            "\n",
            "3️⃣ ESCALAS DE CLASSIFICAÇÃO DO FINSCORE:\n",
            "--------------------------------------\n",
            "\n",
            "📌 **Finscore Bruto:**\n",
            "Mede a posição relativa da empresa no conjunto analisado, refletindo sua liquidez e estrutura financeira.\n",
            "🔍 **Tabela de Classificação:**\n",
            "-------------------------------------------------------\n",
            "|   Intervalo do Escore   |      Categoria            |\n",
            "-------------------------------------------------------\n",
            "|  escore > 1.5           | Muito Abaixo do Risco     |\n",
            "|  1.0 < escore ≤ 1.5     | Levemente Abaixo do Risco |\n",
            "| -1.0 ≤ escore ≤ 1.0     | Neutro                    |\n",
            "| -1.5 < escore < -1.0    | Levemente Acima do Risco  |\n",
            "|  escore ≤ -1.5          | Muito Acima do Risco      |\n",
            "-------------------------------------------------------\n",
            "\n",
            "📌 **Finscore Ajustado:**\n",
            "Versão ajustada do FinScore Bruto, considerando o contexto setorial e ajustando distorções estatísticas.\n",
            "🔍 **Tabela de Classificação:**\n",
            "-------------------------------------------------------\n",
            "|   Intervalo do Escore  |      Categoria            |\n",
            "-------------------------------------------------------\n",
            "|  escore > 750          | Muito Abaixo do Risco     |\n",
            "|  500 < escore ≤ 750    | Levemente Abaixo do Risco |\n",
            "| 250 ≤ escore ≤ 500     | Neutro                    |\n",
            "| 100 < escore < 250     | Levemente Acima do Risco  |\n",
            "|  escore ≤ 100          | Muito Acima do Risco      |\n",
            "-------------------------------------------------------\n",
            "\n",
            "📌 **Finscore Final:**\n",
            "Indicador consolidado, refletindo a **saúde financeira geral** da empresa.\n",
            "🔍 **Tabela de Classificação:**\n",
            "-------------------------------------------------------\n",
            "|   Intervalo do Escore  |      Categoria            |\n",
            "-------------------------------------------------------\n",
            "|  escore > 750          | Muito Abaixo do Risco     |\n",
            "|  500 < escore ≤ 750    | Levemente Abaixo do Risco |\n",
            "| 250 ≤ escore ≤ 500     | Neutro                    |\n",
            "| 100 < escore < 250     | Levemente Acima do Risco  |\n",
            "|  escore ≤ 100          | Muito Acima do Risco      |\n",
            "-------------------------------------------------------\n",
            "\n",
            "📌 **Serasa Score:**\n",
            "O Serasa Score é um indicador utilizado para avaliar o risco de inadimplência com base no histórico financeiro do cliente.\n",
            "O Serasa pode ser comparado ao **FinScore** para validar a análise de risco.\n",
            "🔍 **Tabela de Classificação:**\n",
            "---------------------------------\n",
            "|   Intervalo do Escore  | Categoria  |\n",
            "---------------------------------\n",
            "|  701 a 1.000          | Excelente  |\n",
            "|  501 a 700            | Bom        |\n",
            "|  301 a 500            | Baixa      |\n",
            "|  0 a 300              | Muito Baixa|\n",
            "---------------------------------\n",
            "\n",
            "4️⃣ DADOS CONTÁBEIS:\n",
            "--------------------------------------\n",
            "Os seguintes dados foram extraídos das demonstrações financeiras da empresa. Para cada um, explique seu significado e impacto na análise de crédito.\n",
            "   Ano  Ativo Circulante  Passivo Circulante     Estoques  Lucro Líquido  \\\n",
            "0    0       97369173.64         60252830.01  62152223.21     8393965.79   \n",
            "1    1       76433172.07         44514525.38  52149084.57     9384502.93   \n",
            "2    2       58355615.56         33474062.26  38002758.30    16381789.91   \n",
            "\n",
            "   Receita Total   Ativo Total  Patrimônio Líquido  Passivo Total  \\\n",
            "0   1.048415e+08  1.017093e+08         41270424.62    60438884.67   \n",
            "1   9.877322e+07  7.992169e+07         35263817.92    44657868.91   \n",
            "2   9.396682e+07  6.247259e+07         29023034.37    33449556.81   \n",
            "\n",
            "          EBIT  Despesa de Juros  Contas a Receber  Contas a Pagar  \\\n",
            "0  12230341.96        3836376.17       29961276.83     15994921.21   \n",
            "1  10638475.31        1253972.38       20458540.88      8604560.65   \n",
            "2  12230341.96         983943.59       17562561.88      6470322.21   \n",
            "\n",
            "        Custos  \n",
            "0  96017991.50  \n",
            "1  87908310.69  \n",
            "2  77619824.12  \n",
            "\n",
            "5️⃣ ÍNDICES FINANCEIROS:\n",
            "--------------------------------------\n",
            "Os índices abaixo avaliam **liquidez, rentabilidade e estrutura de capital** da empresa. Explique o significado de cada um e como afetam a análise de crédito.\n",
            "    Ano  Liquidez\\nCorrente  Liquidez\\nSeca  Margem\\nLíquida   ROA   ROE  \\\n",
            "0  2021                1.74            0.61             0.17  0.26  0.56   \n",
            "1  2022                1.72            0.55             0.10  0.12  0.27   \n",
            "2  2023                1.62            0.58             0.08  0.08  0.20   \n",
            "\n",
            "   Endividamento  Cobertura\\nde\\nJuros  Giro\\ndo\\nAtivo  \\\n",
            "0           0.54                 12.43             1.50   \n",
            "1           0.56                  8.48             1.24   \n",
            "2           0.59                  3.19             1.03   \n",
            "\n",
            "   Período\\nMédio\\nde\\nRecebimento  Período\\nMédio\\nde\\nPagamento  \n",
            "0                            68.22                          30.43  \n",
            "1                            75.60                          35.73  \n",
            "2                           104.31                          60.80  \n",
            "\n",
            "6️⃣ INTERPRETAÇÃO DOS RESULTADOS:\n",
            "--------------------------------------\n",
            "Analise os índices e explique:\n",
            "- A **capacidade de pagamento da empresa** com base nos índices de liquidez.\n",
            "- A **rentabilidade**, considerando os indicadores de margem líquida, ROA e ROE.\n",
            "- O nível de **endividamento** e sua relação com o capital próprio.\n",
            "- Se há sinais de **desequilíbrio financeiro** ou indicadores de solvência positiva.\n",
            "\n",
            "7️⃣ RESULTADOS DA ANÁLISE MULTIVARIADA (PCA):\n",
            "--------------------------------------\n",
            "Os cálculos do PCA foram utilizados para consolidar os índices financeiros e gerar uma **avaliação agregada do risco**.\n",
            "Evite termos técnicos e foque na interpretação dos componentes principais.\n",
            "\n",
            "8️⃣ CLASSIFICAÇÃO FINAL:\n",
            "--------------------------------------\n",
            "O **FinScore Final** reflete a posição da empresa no espectro de risco.\n",
            "\n",
            "🚨 **Finscore Final:** -1.34\n",
            "🛑 **Categoria:** Levemente Acima do Risco\n",
            "\n",
            "📌 **Serasa Score:** 389.0\n",
            "🔍 **Categoria Serasa:** Baixa\n",
            "\n",
            "📊 **Comparação entre FinScore e Serasa:**\n",
            "Analise se há coerência entre os dois scores. Caso o FinScore indique um risco alto e o Serasa indique um score positivo, justifique a divergência.\n",
            "Considere fatores como:\n",
            "- Volume de endividamento recente.\n",
            "- Histórico de crédito da empresa.\n",
            "- Setor de atuação e sazonalidade.\n",
            "\n",
            "9️⃣ CONCLUSÃO:\n",
            "--------------------------------------\n",
            "Finalizando, apresente uma conclusão sobre a empresa:\n",
            "- **Se o cliente representa um risco ou uma oportunidade de crédito.**\n",
            "- **Se a empresa está financeiramente saudável ou requer monitoramento.**\n",
            "- **Recomendações de mitigação de riscos (ex: garantias, limites de crédito, acompanhamento periódico).**\n",
            "\n",
            "========================== FIM ==========================\n"
          ]
        }
      ],
      "source": [
        "print('\\n========================== INÍCIO ==========================')\n",
        "\n",
        "print('- Gere um relatório detalhado de análise de crédito para o cliente abaixo, considerando sua situação financeira com base nos dados contábeis, índices financeiros e classificação final do FinScore.')\n",
        "\n",
        "# **Informações do Cliente**\n",
        "print('\\n1️⃣ CLIENTE ANALISADO:')\n",
        "print('--------------------------------------')\n",
        "print(f'Nome: {cliente}')\n",
        "print(f'Período da Análise: {ano_inicial} - {ano_final}')\n",
        "\n",
        "# **Descrição Conceitual**\n",
        "print('\\n2️⃣ CONTEXTUALIZAÇÃO:')\n",
        "print('--------------------------------------')\n",
        "print('O relatório deve iniciar explicando o conceito do **FinScore**, um índice consolidado que sintetiza a **capacidade de pagamento, liquidez e resultados operacionais** da empresa.')\n",
        "print('O FinScore é calculado a partir de demonstrações financeiras, índices contábeis e análise multivariada para fornecer uma **visão clara do risco financeiro** da empresa.')\n",
        "print('O objetivo final é avaliar a **solidez financeira** da empresa e sua **capacidade de honrar compromissos financeiros**.')\n",
        "\n",
        "# **Escalas de Classificação**\n",
        "print('\\n3️⃣ ESCALAS DE CLASSIFICAÇÃO DO FINSCORE:')\n",
        "print('--------------------------------------')\n",
        "\n",
        "# **Finscore Bruto**\n",
        "print('\\n📌 **Finscore Bruto:**')\n",
        "print('Mede a posição relativa da empresa no conjunto analisado, refletindo sua liquidez e estrutura financeira.')\n",
        "print('🔍 **Tabela de Classificação:**')\n",
        "print('-------------------------------------------------------')\n",
        "print('|   Intervalo do Escore   |      Categoria            |')\n",
        "print('-------------------------------------------------------')\n",
        "print('|  escore > 1.5           | Muito Abaixo do Risco     |')\n",
        "print('|  1.0 < escore ≤ 1.5     | Levemente Abaixo do Risco |')\n",
        "print('| -1.0 ≤ escore ≤ 1.0     | Neutro                    |')\n",
        "print('| -1.5 < escore < -1.0    | Levemente Acima do Risco  |')\n",
        "print('|  escore ≤ -1.5          | Muito Acima do Risco      |')\n",
        "print('-------------------------------------------------------')\n",
        "\n",
        "# **Finscore Ajustado**\n",
        "print('\\n📌 **Finscore Ajustado:**')\n",
        "print('Versão ajustada do FinScore Bruto, considerando o contexto setorial e ajustando distorções estatísticas.')\n",
        "print('🔍 **Tabela de Classificação:**')\n",
        "print('-------------------------------------------------------')\n",
        "print('|   Intervalo do Escore  |      Categoria            |')\n",
        "print('-------------------------------------------------------')\n",
        "print('|  escore > 750          | Muito Abaixo do Risco     |')\n",
        "print('|  500 < escore ≤ 750    | Levemente Abaixo do Risco |')\n",
        "print('| 250 ≤ escore ≤ 500     | Neutro                    |')\n",
        "print('| 100 < escore < 250     | Levemente Acima do Risco  |')\n",
        "print('|  escore ≤ 100          | Muito Acima do Risco      |')\n",
        "print('-------------------------------------------------------')\n",
        "\n",
        "# **Finscore Final**\n",
        "print('\\n📌 **Finscore Final:**')\n",
        "print('Indicador consolidado, refletindo a **saúde financeira geral** da empresa.')\n",
        "print('🔍 **Tabela de Classificação:**')\n",
        "print('-------------------------------------------------------')\n",
        "print('|   Intervalo do Escore  |      Categoria            |')\n",
        "print('-------------------------------------------------------')\n",
        "print('|  escore > 750          | Muito Abaixo do Risco     |')\n",
        "print('|  500 < escore ≤ 750    | Levemente Abaixo do Risco |')\n",
        "print('| 250 ≤ escore ≤ 500     | Neutro                    |')\n",
        "print('| 100 < escore < 250     | Levemente Acima do Risco  |')\n",
        "print('|  escore ≤ 100          | Muito Acima do Risco      |')\n",
        "print('-------------------------------------------------------')\n",
        "\n",
        "# **Serasa Score**\n",
        "print('\\n📌 **Serasa Score:**')\n",
        "print('O Serasa Score é um indicador utilizado para avaliar o risco de inadimplência com base no histórico financeiro do cliente.')\n",
        "print('O Serasa pode ser comparado ao **FinScore** para validar a análise de risco.')\n",
        "print('🔍 **Tabela de Classificação:**')\n",
        "print('---------------------------------')\n",
        "print('|   Intervalo do Escore  | Categoria  |')\n",
        "print('---------------------------------')\n",
        "print('|  701 a 1.000          | Excelente  |')\n",
        "print('|  501 a 700            | Bom        |')\n",
        "print('|  301 a 500            | Baixa      |')\n",
        "print('|  0 a 300              | Muito Baixa|')\n",
        "print('---------------------------------')\n",
        "\n",
        "# **Dados Contábeis**\n",
        "print('\\n4️⃣ DADOS CONTÁBEIS:')\n",
        "print('--------------------------------------')\n",
        "print('Os seguintes dados foram extraídos das demonstrações financeiras da empresa. Para cada um, explique seu significado e impacto na análise de crédito.')\n",
        "print(df_dados_contabeis)\n",
        "\n",
        "# **Índices Contábeis**\n",
        "print('\\n5️⃣ ÍNDICES FINANCEIROS:')\n",
        "print('--------------------------------------')\n",
        "print('Os índices abaixo avaliam **liquidez, rentabilidade e estrutura de capital** da empresa. Explique o significado de cada um e como afetam a análise de crédito.')\n",
        "print(df_indices)\n",
        "\n",
        "# **Análise da Situação da Empresa**\n",
        "print('\\n6️⃣ INTERPRETAÇÃO DOS RESULTADOS:')\n",
        "print('--------------------------------------')\n",
        "print('Analise os índices e explique:')\n",
        "print('- A **capacidade de pagamento da empresa** com base nos índices de liquidez.')\n",
        "print('- A **rentabilidade**, considerando os indicadores de margem líquida, ROA e ROE.')\n",
        "print('- O nível de **endividamento** e sua relação com o capital próprio.')\n",
        "print('- Se há sinais de **desequilíbrio financeiro** ou indicadores de solvência positiva.')\n",
        "\n",
        "# **Resultado do PCA**\n",
        "print('\\n7️⃣ RESULTADOS DA ANÁLISE MULTIVARIADA (PCA):')\n",
        "print('--------------------------------------')\n",
        "print('Os cálculos do PCA foram utilizados para consolidar os índices financeiros e gerar uma **avaliação agregada do risco**.')\n",
        "print('Evite termos técnicos e foque na interpretação dos componentes principais.')\n",
        "\n",
        "# **Classificação Final**\n",
        "print('\\n8️⃣ CLASSIFICAÇÃO FINAL:')\n",
        "print('--------------------------------------')\n",
        "print('O **FinScore Final** reflete a posição da empresa no espectro de risco.')\n",
        "print('\\n🚨 **Finscore Final:**', resultados_df.iloc[0, 1])\n",
        "print('🛑 **Categoria:**', resultados_df.iloc[0, 2])\n",
        "print('\\n📌 **Serasa Score:**', resultados_df.iloc[3, 1])\n",
        "print('🔍 **Categoria Serasa:**', resultados_df.iloc[3, 2])\n",
        "\n",
        "# **Comparação FinScore x Serasa**\n",
        "print('\\n📊 **Comparação entre FinScore e Serasa:**')\n",
        "print('Analise se há coerência entre os dois scores. Caso o FinScore indique um risco alto e o Serasa indique um score positivo, justifique a divergência.')\n",
        "print('Considere fatores como:')\n",
        "print('- Volume de endividamento recente.')\n",
        "print('- Histórico de crédito da empresa.')\n",
        "print('- Setor de atuação e sazonalidade.')\n",
        "\n",
        "# **Conclusão**\n",
        "print('\\n9️⃣ CONCLUSÃO:')\n",
        "print('--------------------------------------')\n",
        "print('Finalizando, apresente uma conclusão sobre a empresa:')\n",
        "print('- **Se o cliente representa um risco ou uma oportunidade de crédito.**')\n",
        "print('- **Se a empresa está financeiramente saudável ou requer monitoramento.**')\n",
        "print('- **Recomendações de mitigação de riscos (ex: garantias, limites de crédito, acompanhamento periódico).**')\n",
        "\n",
        "print('\\n========================== FIM ==========================')\n"
      ]
    },
    {
      "cell_type": "code",
      "execution_count": 38,
      "metadata": {},
      "outputs": [],
      "source": [
        "## Baseado na v5\n",
        "# Equalizar versões scikit-learn local e google colab\n",
        "# prompt IA"
      ]
    }
  ],
  "metadata": {
    "colab": {
      "include_colab_link": true,
      "provenance": [],
      "toc_visible": true
    },
    "kernelspec": {
      "display_name": "base",
      "language": "python",
      "name": "python3"
    },
    "language_info": {
      "codemirror_mode": {
        "name": "ipython",
        "version": 3
      },
      "file_extension": ".py",
      "mimetype": "text/x-python",
      "name": "python",
      "nbconvert_exporter": "python",
      "pygments_lexer": "ipython3",
      "version": "3.12.7"
    }
  },
  "nbformat": 4,
  "nbformat_minor": 0
}
